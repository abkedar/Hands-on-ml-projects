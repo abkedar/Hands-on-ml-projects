{
  "nbformat": 4,
  "nbformat_minor": 0,
  "metadata": {
    "kernelspec": {
      "display_name": "Python 3",
      "language": "python",
      "name": "python3"
    },
    "language_info": {
      "codemirror_mode": {
        "name": "ipython",
        "version": 3
      },
      "file_extension": ".py",
      "mimetype": "text/x-python",
      "name": "python",
      "nbconvert_exporter": "python",
      "pygments_lexer": "ipython3",
      "version": "3.7.6"
    },
    "colab": {
      "name": " Sentiment Analysis on Movie Reviews.ipynb",
      "provenance": [],
      "toc_visible": true
    }
  },
  "cells": [
    {
      "cell_type": "code",
      "metadata": {
        "id": "_pkbQ42qbxsj"
      },
      "source": [
        "# Import the Libraries\n",
        "from textblob import TextBlob\n",
        "from wordcloud import WordCloud \n",
        "import pandas as pd\n",
        "import numpy as np\n",
        "import re\n",
        "from sklearn.model_selection import train_test_split\n",
        "from sklearn.metrics import accuracy_score, classification_report\n",
        "from sklearn.discriminant_analysis import LinearDiscriminantAnalysis\n",
        "from sklearn.ensemble import RandomForestClassifier\n",
        "from sklearn.feature_extraction.text import TfidfVectorizer\n",
        "from sklearn.feature_extraction.text import CountVectorizer\n",
        "from sklearn.naive_bayes import MultinomialNB\n",
        "from scipy.sparse import hstack"
      ],
      "execution_count": 1,
      "outputs": []
    },
    {
      "cell_type": "code",
      "metadata": {
        "colab": {
          "base_uri": "https://localhost:8080/",
          "height": 195
        },
        "id": "ZdTbSDOMbxsr",
        "outputId": "16c6fbe3-a659-4f75-fac6-e295b4a3a9d3"
      },
      "source": [
        "df = pd.read_csv(\"/content/train.tsv\",sep='\\t')\n",
        "df.head()"
      ],
      "execution_count": 2,
      "outputs": [
        {
          "output_type": "execute_result",
          "data": {
            "text/html": [
              "<div>\n",
              "<style scoped>\n",
              "    .dataframe tbody tr th:only-of-type {\n",
              "        vertical-align: middle;\n",
              "    }\n",
              "\n",
              "    .dataframe tbody tr th {\n",
              "        vertical-align: top;\n",
              "    }\n",
              "\n",
              "    .dataframe thead th {\n",
              "        text-align: right;\n",
              "    }\n",
              "</style>\n",
              "<table border=\"1\" class=\"dataframe\">\n",
              "  <thead>\n",
              "    <tr style=\"text-align: right;\">\n",
              "      <th></th>\n",
              "      <th>PhraseId</th>\n",
              "      <th>SentenceId</th>\n",
              "      <th>Phrase</th>\n",
              "      <th>Sentiment</th>\n",
              "    </tr>\n",
              "  </thead>\n",
              "  <tbody>\n",
              "    <tr>\n",
              "      <th>0</th>\n",
              "      <td>1</td>\n",
              "      <td>1</td>\n",
              "      <td>A series of escapades demonstrating the adage ...</td>\n",
              "      <td>1</td>\n",
              "    </tr>\n",
              "    <tr>\n",
              "      <th>1</th>\n",
              "      <td>2</td>\n",
              "      <td>1</td>\n",
              "      <td>A series of escapades demonstrating the adage ...</td>\n",
              "      <td>2</td>\n",
              "    </tr>\n",
              "    <tr>\n",
              "      <th>2</th>\n",
              "      <td>3</td>\n",
              "      <td>1</td>\n",
              "      <td>A series</td>\n",
              "      <td>2</td>\n",
              "    </tr>\n",
              "    <tr>\n",
              "      <th>3</th>\n",
              "      <td>4</td>\n",
              "      <td>1</td>\n",
              "      <td>A</td>\n",
              "      <td>2</td>\n",
              "    </tr>\n",
              "    <tr>\n",
              "      <th>4</th>\n",
              "      <td>5</td>\n",
              "      <td>1</td>\n",
              "      <td>series</td>\n",
              "      <td>2</td>\n",
              "    </tr>\n",
              "  </tbody>\n",
              "</table>\n",
              "</div>"
            ],
            "text/plain": [
              "   PhraseId  ...  Sentiment\n",
              "0         1  ...          1\n",
              "1         2  ...          2\n",
              "2         3  ...          2\n",
              "3         4  ...          2\n",
              "4         5  ...          2\n",
              "\n",
              "[5 rows x 4 columns]"
            ]
          },
          "metadata": {
            "tags": []
          },
          "execution_count": 2
        }
      ]
    },
    {
      "cell_type": "markdown",
      "metadata": {
        "id": "5CvF2KbZbxst"
      },
      "source": [
        "### Data Description"
      ]
    },
    {
      "cell_type": "code",
      "metadata": {
        "colab": {
          "base_uri": "https://localhost:8080/"
        },
        "id": "GyApMwVhbxsu",
        "outputId": "3d134d6d-992c-4b4c-f65b-0d9ea830afba"
      },
      "source": [
        "df.shape"
      ],
      "execution_count": 3,
      "outputs": [
        {
          "output_type": "execute_result",
          "data": {
            "text/plain": [
              "(156060, 4)"
            ]
          },
          "metadata": {
            "tags": []
          },
          "execution_count": 3
        }
      ]
    },
    {
      "cell_type": "code",
      "metadata": {
        "colab": {
          "base_uri": "https://localhost:8080/"
        },
        "id": "e3luaRWybxsv",
        "outputId": "7f639513-b2ac-419c-800d-d397c6f89419"
      },
      "source": [
        "df.info()"
      ],
      "execution_count": 4,
      "outputs": [
        {
          "output_type": "stream",
          "text": [
            "<class 'pandas.core.frame.DataFrame'>\n",
            "RangeIndex: 156060 entries, 0 to 156059\n",
            "Data columns (total 4 columns):\n",
            " #   Column      Non-Null Count   Dtype \n",
            "---  ------      --------------   ----- \n",
            " 0   PhraseId    156060 non-null  int64 \n",
            " 1   SentenceId  156060 non-null  int64 \n",
            " 2   Phrase      156060 non-null  object\n",
            " 3   Sentiment   156060 non-null  int64 \n",
            "dtypes: int64(3), object(1)\n",
            "memory usage: 4.8+ MB\n"
          ],
          "name": "stdout"
        }
      ]
    },
    {
      "cell_type": "code",
      "metadata": {
        "colab": {
          "base_uri": "https://localhost:8080/",
          "height": 284
        },
        "id": "azq6Tvjqbxsv",
        "outputId": "3c1bb4fb-6598-42da-c437-7c59f4a4f033"
      },
      "source": [
        "df.describe()"
      ],
      "execution_count": 5,
      "outputs": [
        {
          "output_type": "execute_result",
          "data": {
            "text/html": [
              "<div>\n",
              "<style scoped>\n",
              "    .dataframe tbody tr th:only-of-type {\n",
              "        vertical-align: middle;\n",
              "    }\n",
              "\n",
              "    .dataframe tbody tr th {\n",
              "        vertical-align: top;\n",
              "    }\n",
              "\n",
              "    .dataframe thead th {\n",
              "        text-align: right;\n",
              "    }\n",
              "</style>\n",
              "<table border=\"1\" class=\"dataframe\">\n",
              "  <thead>\n",
              "    <tr style=\"text-align: right;\">\n",
              "      <th></th>\n",
              "      <th>PhraseId</th>\n",
              "      <th>SentenceId</th>\n",
              "      <th>Sentiment</th>\n",
              "    </tr>\n",
              "  </thead>\n",
              "  <tbody>\n",
              "    <tr>\n",
              "      <th>count</th>\n",
              "      <td>156060.000000</td>\n",
              "      <td>156060.000000</td>\n",
              "      <td>156060.000000</td>\n",
              "    </tr>\n",
              "    <tr>\n",
              "      <th>mean</th>\n",
              "      <td>78030.500000</td>\n",
              "      <td>4079.732744</td>\n",
              "      <td>2.063578</td>\n",
              "    </tr>\n",
              "    <tr>\n",
              "      <th>std</th>\n",
              "      <td>45050.785842</td>\n",
              "      <td>2502.764394</td>\n",
              "      <td>0.893832</td>\n",
              "    </tr>\n",
              "    <tr>\n",
              "      <th>min</th>\n",
              "      <td>1.000000</td>\n",
              "      <td>1.000000</td>\n",
              "      <td>0.000000</td>\n",
              "    </tr>\n",
              "    <tr>\n",
              "      <th>25%</th>\n",
              "      <td>39015.750000</td>\n",
              "      <td>1861.750000</td>\n",
              "      <td>2.000000</td>\n",
              "    </tr>\n",
              "    <tr>\n",
              "      <th>50%</th>\n",
              "      <td>78030.500000</td>\n",
              "      <td>4017.000000</td>\n",
              "      <td>2.000000</td>\n",
              "    </tr>\n",
              "    <tr>\n",
              "      <th>75%</th>\n",
              "      <td>117045.250000</td>\n",
              "      <td>6244.000000</td>\n",
              "      <td>3.000000</td>\n",
              "    </tr>\n",
              "    <tr>\n",
              "      <th>max</th>\n",
              "      <td>156060.000000</td>\n",
              "      <td>8544.000000</td>\n",
              "      <td>4.000000</td>\n",
              "    </tr>\n",
              "  </tbody>\n",
              "</table>\n",
              "</div>"
            ],
            "text/plain": [
              "            PhraseId     SentenceId      Sentiment\n",
              "count  156060.000000  156060.000000  156060.000000\n",
              "mean    78030.500000    4079.732744       2.063578\n",
              "std     45050.785842    2502.764394       0.893832\n",
              "min         1.000000       1.000000       0.000000\n",
              "25%     39015.750000    1861.750000       2.000000\n",
              "50%     78030.500000    4017.000000       2.000000\n",
              "75%    117045.250000    6244.000000       3.000000\n",
              "max    156060.000000    8544.000000       4.000000"
            ]
          },
          "metadata": {
            "tags": []
          },
          "execution_count": 5
        }
      ]
    },
    {
      "cell_type": "code",
      "metadata": {
        "colab": {
          "base_uri": "https://localhost:8080/"
        },
        "id": "irRXKV8Nbxsv",
        "outputId": "d9bb3cc5-71e7-4613-f6ac-79d4746abdfb"
      },
      "source": [
        "df['Sentiment'].value_counts()"
      ],
      "execution_count": 6,
      "outputs": [
        {
          "output_type": "execute_result",
          "data": {
            "text/plain": [
              "2    79582\n",
              "3    32927\n",
              "1    27273\n",
              "4     9206\n",
              "0     7072\n",
              "Name: Sentiment, dtype: int64"
            ]
          },
          "metadata": {
            "tags": []
          },
          "execution_count": 6
        }
      ]
    },
    {
      "cell_type": "code",
      "metadata": {
        "colab": {
          "base_uri": "https://localhost:8080/"
        },
        "id": "SPAcoLrPbxsw",
        "outputId": "f5899ab0-7a92-45fd-fd77-cced89eedd6f"
      },
      "source": [
        "df['SentenceId'].value_counts()"
      ],
      "execution_count": 7,
      "outputs": [
        {
          "output_type": "execute_result",
          "data": {
            "text/plain": [
              "1       63\n",
              "5555    63\n",
              "509     59\n",
              "625     58\n",
              "403     57\n",
              "        ..\n",
              "8451     1\n",
              "5718     1\n",
              "3560     1\n",
              "1666     1\n",
              "1178     1\n",
              "Name: SentenceId, Length: 8529, dtype: int64"
            ]
          },
          "metadata": {
            "tags": []
          },
          "execution_count": 7
        }
      ]
    },
    {
      "cell_type": "code",
      "metadata": {
        "colab": {
          "base_uri": "https://localhost:8080/"
        },
        "id": "uEJBUulhbxsw",
        "outputId": "57d65c08-00e4-43f5-9811-281d03af7603"
      },
      "source": [
        "df['PhraseId'].value_counts()"
      ],
      "execution_count": 8,
      "outputs": [
        {
          "output_type": "execute_result",
          "data": {
            "text/plain": [
              "2047     1\n",
              "38200    1\n",
              "44351    1\n",
              "42302    1\n",
              "48445    1\n",
              "        ..\n",
              "62155    1\n",
              "64202    1\n",
              "58057    1\n",
              "60104    1\n",
              "2049     1\n",
              "Name: PhraseId, Length: 156060, dtype: int64"
            ]
          },
          "metadata": {
            "tags": []
          },
          "execution_count": 8
        }
      ]
    },
    {
      "cell_type": "code",
      "metadata": {
        "colab": {
          "base_uri": "https://localhost:8080/"
        },
        "id": "U1DFkQA9bxsx",
        "outputId": "5b2c93c0-efa9-44a0-f57c-0a7c510789d1"
      },
      "source": [
        "df.index"
      ],
      "execution_count": 9,
      "outputs": [
        {
          "output_type": "execute_result",
          "data": {
            "text/plain": [
              "RangeIndex(start=0, stop=156060, step=1)"
            ]
          },
          "metadata": {
            "tags": []
          },
          "execution_count": 9
        }
      ]
    },
    {
      "cell_type": "code",
      "metadata": {
        "colab": {
          "base_uri": "https://localhost:8080/"
        },
        "id": "aKYbimzvbxsx",
        "outputId": "1b8dc106-69c1-4fa6-813c-fba0b126b4f2"
      },
      "source": [
        "df.loc[0:1, :]['Phrase']"
      ],
      "execution_count": 10,
      "outputs": [
        {
          "output_type": "execute_result",
          "data": {
            "text/plain": [
              "0    A series of escapades demonstrating the adage ...\n",
              "1    A series of escapades demonstrating the adage ...\n",
              "Name: Phrase, dtype: object"
            ]
          },
          "metadata": {
            "tags": []
          },
          "execution_count": 10
        }
      ]
    },
    {
      "cell_type": "code",
      "metadata": {
        "colab": {
          "base_uri": "https://localhost:8080/"
        },
        "id": "NDHIMUkgbxsx",
        "outputId": "64048e50-f30f-44d4-c3a2-6fcf745b5161"
      },
      "source": [
        "print(df['Phrase'][3])\n",
        "print(df['Phrase'][4])"
      ],
      "execution_count": 11,
      "outputs": [
        {
          "output_type": "stream",
          "text": [
            "A\n",
            "series\n"
          ],
          "name": "stdout"
        }
      ]
    },
    {
      "cell_type": "code",
      "metadata": {
        "colab": {
          "base_uri": "https://localhost:8080/"
        },
        "id": "BKKqzQr4bxsy",
        "outputId": "3b6348da-2db7-4f5f-c81d-4a8f3079ef1e"
      },
      "source": [
        "df.Phrase"
      ],
      "execution_count": 12,
      "outputs": [
        {
          "output_type": "execute_result",
          "data": {
            "text/plain": [
              "0         A series of escapades demonstrating the adage ...\n",
              "1         A series of escapades demonstrating the adage ...\n",
              "2                                                  A series\n",
              "3                                                         A\n",
              "4                                                    series\n",
              "                                ...                        \n",
              "156055                                            Hearst 's\n",
              "156056                            forced avuncular chortles\n",
              "156057                                   avuncular chortles\n",
              "156058                                            avuncular\n",
              "156059                                             chortles\n",
              "Name: Phrase, Length: 156060, dtype: object"
            ]
          },
          "metadata": {
            "tags": []
          },
          "execution_count": 12
        }
      ]
    },
    {
      "cell_type": "code",
      "metadata": {
        "id": "6EnlFsZJbxsy"
      },
      "source": [
        "pd.set_option('display.max_rows', 100)"
      ],
      "execution_count": 13,
      "outputs": []
    },
    {
      "cell_type": "code",
      "metadata": {
        "colab": {
          "base_uri": "https://localhost:8080/"
        },
        "id": "mvoVmcg6bxsy",
        "outputId": "b8ba3708-fc61-4c2e-96cd-084109d65c4f"
      },
      "source": [
        "df['SentenceId'].value_counts()"
      ],
      "execution_count": 14,
      "outputs": [
        {
          "output_type": "execute_result",
          "data": {
            "text/plain": [
              "1       63\n",
              "5555    63\n",
              "509     59\n",
              "625     58\n",
              "403     57\n",
              "        ..\n",
              "8451     1\n",
              "5718     1\n",
              "3560     1\n",
              "1666     1\n",
              "1178     1\n",
              "Name: SentenceId, Length: 8529, dtype: int64"
            ]
          },
          "metadata": {
            "tags": []
          },
          "execution_count": 14
        }
      ]
    },
    {
      "cell_type": "markdown",
      "metadata": {
        "id": "q_i7dWg1bxsz"
      },
      "source": [
        "## Exploratory Data Analysis"
      ]
    },
    {
      "cell_type": "code",
      "metadata": {
        "colab": {
          "base_uri": "https://localhost:8080/"
        },
        "id": "V659pbuObxsz",
        "outputId": "af97e71d-dffe-402e-b84e-afc34571df21"
      },
      "source": [
        "df['SentenceId'].value_counts().describe()"
      ],
      "execution_count": 15,
      "outputs": [
        {
          "output_type": "execute_result",
          "data": {
            "text/plain": [
              "count    8529.000000\n",
              "mean       18.297573\n",
              "std         9.950209\n",
              "min         1.000000\n",
              "25%        11.000000\n",
              "50%        17.000000\n",
              "75%        25.000000\n",
              "max        63.000000\n",
              "Name: SentenceId, dtype: float64"
            ]
          },
          "metadata": {
            "tags": []
          },
          "execution_count": 15
        }
      ]
    },
    {
      "cell_type": "code",
      "metadata": {
        "colab": {
          "base_uri": "https://localhost:8080/",
          "height": 1000
        },
        "id": "fg6lxEuYbxsz",
        "outputId": "bf25b486-d68c-46d5-e723-b868f8d32717"
      },
      "source": [
        "df[df['SentenceId'] == 625]"
      ],
      "execution_count": 16,
      "outputs": [
        {
          "output_type": "execute_result",
          "data": {
            "text/html": [
              "<div>\n",
              "<style scoped>\n",
              "    .dataframe tbody tr th:only-of-type {\n",
              "        vertical-align: middle;\n",
              "    }\n",
              "\n",
              "    .dataframe tbody tr th {\n",
              "        vertical-align: top;\n",
              "    }\n",
              "\n",
              "    .dataframe thead th {\n",
              "        text-align: right;\n",
              "    }\n",
              "</style>\n",
              "<table border=\"1\" class=\"dataframe\">\n",
              "  <thead>\n",
              "    <tr style=\"text-align: right;\">\n",
              "      <th></th>\n",
              "      <th>PhraseId</th>\n",
              "      <th>SentenceId</th>\n",
              "      <th>Phrase</th>\n",
              "      <th>Sentiment</th>\n",
              "    </tr>\n",
              "  </thead>\n",
              "  <tbody>\n",
              "    <tr>\n",
              "      <th>14483</th>\n",
              "      <td>14484</td>\n",
              "      <td>625</td>\n",
              "      <td>Better than the tepid Star Trek : Insurrection...</td>\n",
              "      <td>2</td>\n",
              "    </tr>\n",
              "    <tr>\n",
              "      <th>14484</th>\n",
              "      <td>14485</td>\n",
              "      <td>625</td>\n",
              "      <td>Better than the tepid Star Trek : Insurrection ;</td>\n",
              "      <td>3</td>\n",
              "    </tr>\n",
              "    <tr>\n",
              "      <th>14485</th>\n",
              "      <td>14486</td>\n",
              "      <td>625</td>\n",
              "      <td>Better than the tepid Star Trek : Insurrection</td>\n",
              "      <td>3</td>\n",
              "    </tr>\n",
              "    <tr>\n",
              "      <th>14486</th>\n",
              "      <td>14487</td>\n",
              "      <td>625</td>\n",
              "      <td>Better than the tepid Star Trek :</td>\n",
              "      <td>3</td>\n",
              "    </tr>\n",
              "    <tr>\n",
              "      <th>14487</th>\n",
              "      <td>14488</td>\n",
              "      <td>625</td>\n",
              "      <td>Better than the tepid Star Trek</td>\n",
              "      <td>3</td>\n",
              "    </tr>\n",
              "    <tr>\n",
              "      <th>14488</th>\n",
              "      <td>14489</td>\n",
              "      <td>625</td>\n",
              "      <td>than the tepid Star Trek</td>\n",
              "      <td>2</td>\n",
              "    </tr>\n",
              "    <tr>\n",
              "      <th>14489</th>\n",
              "      <td>14490</td>\n",
              "      <td>625</td>\n",
              "      <td>the tepid Star Trek</td>\n",
              "      <td>2</td>\n",
              "    </tr>\n",
              "    <tr>\n",
              "      <th>14490</th>\n",
              "      <td>14491</td>\n",
              "      <td>625</td>\n",
              "      <td>tepid Star Trek</td>\n",
              "      <td>1</td>\n",
              "    </tr>\n",
              "    <tr>\n",
              "      <th>14491</th>\n",
              "      <td>14492</td>\n",
              "      <td>625</td>\n",
              "      <td>tepid</td>\n",
              "      <td>1</td>\n",
              "    </tr>\n",
              "    <tr>\n",
              "      <th>14492</th>\n",
              "      <td>14493</td>\n",
              "      <td>625</td>\n",
              "      <td>Star Trek</td>\n",
              "      <td>2</td>\n",
              "    </tr>\n",
              "    <tr>\n",
              "      <th>14493</th>\n",
              "      <td>14494</td>\n",
              "      <td>625</td>\n",
              "      <td>Trek</td>\n",
              "      <td>2</td>\n",
              "    </tr>\n",
              "    <tr>\n",
              "      <th>14494</th>\n",
              "      <td>14495</td>\n",
              "      <td>625</td>\n",
              "      <td>Insurrection</td>\n",
              "      <td>2</td>\n",
              "    </tr>\n",
              "    <tr>\n",
              "      <th>14495</th>\n",
              "      <td>14496</td>\n",
              "      <td>625</td>\n",
              "      <td>falls short of First Contact because the villa...</td>\n",
              "      <td>1</td>\n",
              "    </tr>\n",
              "    <tr>\n",
              "      <th>14496</th>\n",
              "      <td>14497</td>\n",
              "      <td>625</td>\n",
              "      <td>falls short of First Contact because the villa...</td>\n",
              "      <td>1</td>\n",
              "    </tr>\n",
              "    <tr>\n",
              "      <th>14497</th>\n",
              "      <td>14498</td>\n",
              "      <td>625</td>\n",
              "      <td>falls short of First Contact</td>\n",
              "      <td>2</td>\n",
              "    </tr>\n",
              "    <tr>\n",
              "      <th>14498</th>\n",
              "      <td>14499</td>\n",
              "      <td>625</td>\n",
              "      <td>falls</td>\n",
              "      <td>1</td>\n",
              "    </tr>\n",
              "    <tr>\n",
              "      <th>14499</th>\n",
              "      <td>14500</td>\n",
              "      <td>625</td>\n",
              "      <td>short of First Contact</td>\n",
              "      <td>2</td>\n",
              "    </tr>\n",
              "    <tr>\n",
              "      <th>14500</th>\n",
              "      <td>14501</td>\n",
              "      <td>625</td>\n",
              "      <td>of First Contact</td>\n",
              "      <td>2</td>\n",
              "    </tr>\n",
              "    <tr>\n",
              "      <th>14501</th>\n",
              "      <td>14502</td>\n",
              "      <td>625</td>\n",
              "      <td>First Contact</td>\n",
              "      <td>2</td>\n",
              "    </tr>\n",
              "    <tr>\n",
              "      <th>14502</th>\n",
              "      <td>14503</td>\n",
              "      <td>625</td>\n",
              "      <td>because the villain could n't pick the lint of...</td>\n",
              "      <td>1</td>\n",
              "    </tr>\n",
              "    <tr>\n",
              "      <th>14503</th>\n",
              "      <td>14504</td>\n",
              "      <td>625</td>\n",
              "      <td>the villain could n't pick the lint off Borg Q...</td>\n",
              "      <td>2</td>\n",
              "    </tr>\n",
              "    <tr>\n",
              "      <th>14504</th>\n",
              "      <td>14505</td>\n",
              "      <td>625</td>\n",
              "      <td>the villain</td>\n",
              "      <td>2</td>\n",
              "    </tr>\n",
              "    <tr>\n",
              "      <th>14505</th>\n",
              "      <td>14506</td>\n",
              "      <td>625</td>\n",
              "      <td>villain</td>\n",
              "      <td>1</td>\n",
              "    </tr>\n",
              "    <tr>\n",
              "      <th>14506</th>\n",
              "      <td>14507</td>\n",
              "      <td>625</td>\n",
              "      <td>could n't pick the lint off Borg Queen Alice K...</td>\n",
              "      <td>2</td>\n",
              "    </tr>\n",
              "    <tr>\n",
              "      <th>14507</th>\n",
              "      <td>14508</td>\n",
              "      <td>625</td>\n",
              "      <td>could n't pick the lint off Borg Queen Alice K...</td>\n",
              "      <td>1</td>\n",
              "    </tr>\n",
              "    <tr>\n",
              "      <th>14508</th>\n",
              "      <td>14509</td>\n",
              "      <td>625</td>\n",
              "      <td>could n't pick the lint off Borg Queen Alice K...</td>\n",
              "      <td>1</td>\n",
              "    </tr>\n",
              "    <tr>\n",
              "      <th>14509</th>\n",
              "      <td>14510</td>\n",
              "      <td>625</td>\n",
              "      <td>could n't pick the lint off Borg Queen Alice K...</td>\n",
              "      <td>0</td>\n",
              "    </tr>\n",
              "    <tr>\n",
              "      <th>14510</th>\n",
              "      <td>14511</td>\n",
              "      <td>625</td>\n",
              "      <td>could n't</td>\n",
              "      <td>1</td>\n",
              "    </tr>\n",
              "    <tr>\n",
              "      <th>14511</th>\n",
              "      <td>14512</td>\n",
              "      <td>625</td>\n",
              "      <td>pick the lint off Borg Queen Alice Krige 's cape</td>\n",
              "      <td>2</td>\n",
              "    </tr>\n",
              "    <tr>\n",
              "      <th>14512</th>\n",
              "      <td>14513</td>\n",
              "      <td>625</td>\n",
              "      <td>pick the lint</td>\n",
              "      <td>2</td>\n",
              "    </tr>\n",
              "    <tr>\n",
              "      <th>14513</th>\n",
              "      <td>14514</td>\n",
              "      <td>625</td>\n",
              "      <td>pick</td>\n",
              "      <td>2</td>\n",
              "    </tr>\n",
              "    <tr>\n",
              "      <th>14514</th>\n",
              "      <td>14515</td>\n",
              "      <td>625</td>\n",
              "      <td>the lint</td>\n",
              "      <td>2</td>\n",
              "    </tr>\n",
              "    <tr>\n",
              "      <th>14515</th>\n",
              "      <td>14516</td>\n",
              "      <td>625</td>\n",
              "      <td>lint</td>\n",
              "      <td>2</td>\n",
              "    </tr>\n",
              "    <tr>\n",
              "      <th>14516</th>\n",
              "      <td>14517</td>\n",
              "      <td>625</td>\n",
              "      <td>off Borg Queen Alice Krige 's cape</td>\n",
              "      <td>2</td>\n",
              "    </tr>\n",
              "    <tr>\n",
              "      <th>14517</th>\n",
              "      <td>14518</td>\n",
              "      <td>625</td>\n",
              "      <td>Borg Queen Alice Krige 's cape</td>\n",
              "      <td>2</td>\n",
              "    </tr>\n",
              "    <tr>\n",
              "      <th>14518</th>\n",
              "      <td>14519</td>\n",
              "      <td>625</td>\n",
              "      <td>Borg Queen Alice Krige 's</td>\n",
              "      <td>2</td>\n",
              "    </tr>\n",
              "    <tr>\n",
              "      <th>14519</th>\n",
              "      <td>14520</td>\n",
              "      <td>625</td>\n",
              "      <td>Borg</td>\n",
              "      <td>1</td>\n",
              "    </tr>\n",
              "    <tr>\n",
              "      <th>14520</th>\n",
              "      <td>14521</td>\n",
              "      <td>625</td>\n",
              "      <td>Queen Alice Krige 's</td>\n",
              "      <td>2</td>\n",
              "    </tr>\n",
              "    <tr>\n",
              "      <th>14521</th>\n",
              "      <td>14522</td>\n",
              "      <td>625</td>\n",
              "      <td>Alice Krige 's</td>\n",
              "      <td>2</td>\n",
              "    </tr>\n",
              "    <tr>\n",
              "      <th>14522</th>\n",
              "      <td>14523</td>\n",
              "      <td>625</td>\n",
              "      <td>Alice</td>\n",
              "      <td>2</td>\n",
              "    </tr>\n",
              "    <tr>\n",
              "      <th>14523</th>\n",
              "      <td>14524</td>\n",
              "      <td>625</td>\n",
              "      <td>Krige 's</td>\n",
              "      <td>2</td>\n",
              "    </tr>\n",
              "    <tr>\n",
              "      <th>14524</th>\n",
              "      <td>14525</td>\n",
              "      <td>625</td>\n",
              "      <td>Krige</td>\n",
              "      <td>2</td>\n",
              "    </tr>\n",
              "    <tr>\n",
              "      <th>14525</th>\n",
              "      <td>14526</td>\n",
              "      <td>625</td>\n",
              "      <td>cape</td>\n",
              "      <td>2</td>\n",
              "    </tr>\n",
              "    <tr>\n",
              "      <th>14526</th>\n",
              "      <td>14527</td>\n",
              "      <td>625</td>\n",
              "      <td>finishes half a parsec -LRB- a nose -RRB- ahea...</td>\n",
              "      <td>2</td>\n",
              "    </tr>\n",
              "    <tr>\n",
              "      <th>14527</th>\n",
              "      <td>14528</td>\n",
              "      <td>625</td>\n",
              "      <td>finishes</td>\n",
              "      <td>2</td>\n",
              "    </tr>\n",
              "    <tr>\n",
              "      <th>14528</th>\n",
              "      <td>14529</td>\n",
              "      <td>625</td>\n",
              "      <td>half a parsec -LRB- a nose -RRB- ahead of Gene...</td>\n",
              "      <td>3</td>\n",
              "    </tr>\n",
              "    <tr>\n",
              "      <th>14529</th>\n",
              "      <td>14530</td>\n",
              "      <td>625</td>\n",
              "      <td>half a parsec -LRB- a nose -RRB-</td>\n",
              "      <td>2</td>\n",
              "    </tr>\n",
              "    <tr>\n",
              "      <th>14530</th>\n",
              "      <td>14531</td>\n",
              "      <td>625</td>\n",
              "      <td>half a parsec</td>\n",
              "      <td>2</td>\n",
              "    </tr>\n",
              "    <tr>\n",
              "      <th>14531</th>\n",
              "      <td>14532</td>\n",
              "      <td>625</td>\n",
              "      <td>a parsec</td>\n",
              "      <td>2</td>\n",
              "    </tr>\n",
              "    <tr>\n",
              "      <th>14532</th>\n",
              "      <td>14533</td>\n",
              "      <td>625</td>\n",
              "      <td>parsec</td>\n",
              "      <td>2</td>\n",
              "    </tr>\n",
              "    <tr>\n",
              "      <th>14533</th>\n",
              "      <td>14534</td>\n",
              "      <td>625</td>\n",
              "      <td>-LRB- a nose -RRB-</td>\n",
              "      <td>2</td>\n",
              "    </tr>\n",
              "    <tr>\n",
              "      <th>14534</th>\n",
              "      <td>14535</td>\n",
              "      <td>625</td>\n",
              "      <td>a nose -RRB-</td>\n",
              "      <td>2</td>\n",
              "    </tr>\n",
              "    <tr>\n",
              "      <th>14535</th>\n",
              "      <td>14536</td>\n",
              "      <td>625</td>\n",
              "      <td>a nose</td>\n",
              "      <td>2</td>\n",
              "    </tr>\n",
              "    <tr>\n",
              "      <th>14536</th>\n",
              "      <td>14537</td>\n",
              "      <td>625</td>\n",
              "      <td>nose</td>\n",
              "      <td>2</td>\n",
              "    </tr>\n",
              "    <tr>\n",
              "      <th>14537</th>\n",
              "      <td>14538</td>\n",
              "      <td>625</td>\n",
              "      <td>ahead of Generations</td>\n",
              "      <td>2</td>\n",
              "    </tr>\n",
              "    <tr>\n",
              "      <th>14538</th>\n",
              "      <td>14539</td>\n",
              "      <td>625</td>\n",
              "      <td>ahead</td>\n",
              "      <td>2</td>\n",
              "    </tr>\n",
              "    <tr>\n",
              "      <th>14539</th>\n",
              "      <td>14540</td>\n",
              "      <td>625</td>\n",
              "      <td>of Generations</td>\n",
              "      <td>2</td>\n",
              "    </tr>\n",
              "    <tr>\n",
              "      <th>14540</th>\n",
              "      <td>14541</td>\n",
              "      <td>625</td>\n",
              "      <td>Generations</td>\n",
              "      <td>2</td>\n",
              "    </tr>\n",
              "  </tbody>\n",
              "</table>\n",
              "</div>"
            ],
            "text/plain": [
              "       PhraseId  ...  Sentiment\n",
              "14483     14484  ...          2\n",
              "14484     14485  ...          3\n",
              "14485     14486  ...          3\n",
              "14486     14487  ...          3\n",
              "14487     14488  ...          3\n",
              "14488     14489  ...          2\n",
              "14489     14490  ...          2\n",
              "14490     14491  ...          1\n",
              "14491     14492  ...          1\n",
              "14492     14493  ...          2\n",
              "14493     14494  ...          2\n",
              "14494     14495  ...          2\n",
              "14495     14496  ...          1\n",
              "14496     14497  ...          1\n",
              "14497     14498  ...          2\n",
              "14498     14499  ...          1\n",
              "14499     14500  ...          2\n",
              "14500     14501  ...          2\n",
              "14501     14502  ...          2\n",
              "14502     14503  ...          1\n",
              "14503     14504  ...          2\n",
              "14504     14505  ...          2\n",
              "14505     14506  ...          1\n",
              "14506     14507  ...          2\n",
              "14507     14508  ...          1\n",
              "14508     14509  ...          1\n",
              "14509     14510  ...          0\n",
              "14510     14511  ...          1\n",
              "14511     14512  ...          2\n",
              "14512     14513  ...          2\n",
              "14513     14514  ...          2\n",
              "14514     14515  ...          2\n",
              "14515     14516  ...          2\n",
              "14516     14517  ...          2\n",
              "14517     14518  ...          2\n",
              "14518     14519  ...          2\n",
              "14519     14520  ...          1\n",
              "14520     14521  ...          2\n",
              "14521     14522  ...          2\n",
              "14522     14523  ...          2\n",
              "14523     14524  ...          2\n",
              "14524     14525  ...          2\n",
              "14525     14526  ...          2\n",
              "14526     14527  ...          2\n",
              "14527     14528  ...          2\n",
              "14528     14529  ...          3\n",
              "14529     14530  ...          2\n",
              "14530     14531  ...          2\n",
              "14531     14532  ...          2\n",
              "14532     14533  ...          2\n",
              "14533     14534  ...          2\n",
              "14534     14535  ...          2\n",
              "14535     14536  ...          2\n",
              "14536     14537  ...          2\n",
              "14537     14538  ...          2\n",
              "14538     14539  ...          2\n",
              "14539     14540  ...          2\n",
              "14540     14541  ...          2\n",
              "\n",
              "[58 rows x 4 columns]"
            ]
          },
          "metadata": {
            "tags": []
          },
          "execution_count": 16
        }
      ]
    },
    {
      "cell_type": "code",
      "metadata": {
        "colab": {
          "base_uri": "https://localhost:8080/"
        },
        "id": "6oPqLblqbxsz",
        "outputId": "5d9761a2-c384-45e3-9cb9-cd9ba670cc34"
      },
      "source": [
        "df.columns"
      ],
      "execution_count": 17,
      "outputs": [
        {
          "output_type": "execute_result",
          "data": {
            "text/plain": [
              "Index(['PhraseId', 'SentenceId', 'Phrase', 'Sentiment'], dtype='object')"
            ]
          },
          "metadata": {
            "tags": []
          },
          "execution_count": 17
        }
      ]
    },
    {
      "cell_type": "code",
      "metadata": {
        "colab": {
          "base_uri": "https://localhost:8080/",
          "height": 218
        },
        "id": "O1u0UC7Pbxs0",
        "outputId": "d6866fc3-7a5e-4302-b9b0-216a87981f63"
      },
      "source": [
        "display(df['SentenceId'].value_counts())"
      ],
      "execution_count": 18,
      "outputs": [
        {
          "output_type": "display_data",
          "data": {
            "text/plain": [
              "1       63\n",
              "5555    63\n",
              "509     59\n",
              "625     58\n",
              "403     57\n",
              "        ..\n",
              "8451     1\n",
              "5718     1\n",
              "3560     1\n",
              "1666     1\n",
              "1178     1\n",
              "Name: SentenceId, Length: 8529, dtype: int64"
            ]
          },
          "metadata": {
            "tags": []
          }
        }
      ]
    },
    {
      "cell_type": "code",
      "metadata": {
        "colab": {
          "base_uri": "https://localhost:8080/",
          "height": 168
        },
        "id": "mJ767gYUbxs0",
        "outputId": "1a250bd5-deaf-41dc-8d7f-c34f9182243e"
      },
      "source": [
        "# Number of Pharase have for each sentence\n",
        "temp=df.SentenceId.value_counts()\n",
        "# descriptive Analysis of the SentenceId\n",
        "display(temp.describe())"
      ],
      "execution_count": 19,
      "outputs": [
        {
          "output_type": "display_data",
          "data": {
            "text/plain": [
              "count    8529.000000\n",
              "mean       18.297573\n",
              "std         9.950209\n",
              "min         1.000000\n",
              "25%        11.000000\n",
              "50%        17.000000\n",
              "75%        25.000000\n",
              "max        63.000000\n",
              "Name: SentenceId, dtype: float64"
            ]
          },
          "metadata": {
            "tags": []
          }
        }
      ]
    },
    {
      "cell_type": "code",
      "metadata": {
        "colab": {
          "base_uri": "https://localhost:8080/",
          "height": 367
        },
        "id": "ba-a55_3bxs0",
        "outputId": "415ea601-6cec-4708-da49-fa959fdcfe28"
      },
      "source": [
        "import matplotlib.pyplot as plt\n",
        "import seaborn as sns\n",
        "\n",
        "plt.figure(figsize=(7,5))\n",
        "sns.kdeplot(temp,label=\"Number of Phrases\")\n",
        "plt.title(\"NUmber of Phrases for Each Sentence\")\n",
        "plt.xlabel(\"Sentence\")"
      ],
      "execution_count": 20,
      "outputs": [
        {
          "output_type": "execute_result",
          "data": {
            "text/plain": [
              "Text(0.5, 0, 'Sentence')"
            ]
          },
          "metadata": {
            "tags": []
          },
          "execution_count": 20
        },
        {
          "output_type": "display_data",
          "data": {
            "image/png": "[encoded data removed]",
            "text/plain": [
              "<Figure size 504x360 with 1 Axes>"
            ]
          },
          "metadata": {
            "tags": [],
            "needs_background": "light"
          }
        }
      ]
    },
    {
      "cell_type": "code",
      "metadata": {
        "colab": {
          "base_uri": "https://localhost:8080/",
          "height": 542
        },
        "id": "7_AaF0Oybxs1",
        "outputId": "66a4409c-4858-49a8-92db-3a8649230464"
      },
      "source": [
        "import plotly.figure_factory as ff\n",
        "import numpy as np\n",
        "\n",
        "x = temp\n",
        "hist_data = [x]\n",
        "group_labels = ['Sentence Distribution'] # name of the dataset\n",
        "\n",
        "fig = ff.create_distplot(hist_data, group_labels)\n",
        "fig.show()"
      ],
      "execution_count": 21,
      "outputs": [
        {
          "output_type": "display_data",
          "data": {
            "text/html": [
              "<html>\n",
              "<head><meta charset=\"utf-8\" /></head>\n",
              "<body>\n",
              "    <div>\n",
              "            <script src=\"https://cdnjs.cloudflare.com/ajax/libs/mathjax/2.7.5/MathJax.js?config=TeX-AMS-MML_SVG\"></script><script type=\"text/javascript\">if (window.MathJax) {MathJax.Hub.Config({SVG: {font: \"STIX-Web\"}});}</script>\n",
              "                <script type=\"text/javascript\">window.PlotlyConfig = {MathJaxConfig: 'local'};</script>\n",
              "        <script src=\"https://cdn.plot.ly/plotly-latest.min.js\"></script>    \n",
              "            <div id=\"87252681-c335-4210-898f-8fe741822f64\" class=\"plotly-graph-div\" style=\"height:525px; width:100%;\"></div>\n",
              "            <script type=\"text/javascript\">\n",
              "                \n",
              "                    window.PLOTLYENV=window.PLOTLYENV || {};\n",
              "                    \n",
              "                if (document.getElementById(\"87252681-c335-4210-898f-8fe741822f64\")) {\n",
              "                    Plotly.newPlot(\n",
              "                        '87252681-c335-4210-898f-8fe741822f64',\n",
              "                        [{\"autobinx\": false, \"histnorm\": \"probability density\", \"legendgroup\": \"Sentence Distribution\", \"marker\": {\"color\": \"rgb(31, 119, 180)\"}, \"name\": \"Sentence Distribution\", \"opacity\": 0.7, \"type\": \"histogram\", \"x\": [63, 63, 59, 58, 57, 56, 56, 55, 54, 54, 54, 53, 53, 53, 52, 52, 51, 51, 51, 51, 50, 50, 50, 50, 50, 49, 49, 49, 49, 49, 49, 49, 48, 48, 48, 48, 48, 48, 47, 47, 47, 47, 47, 47, 47, 47, 47, 47, 47, 47, 47, 46, 46, 46, 46, 46, 46, 46, 46, 46, 46, 46, 46, 46, 46, 46, 46, 46, 45, 45, 45, 45, 45, 45, 45, 45, 45, 45, 45, 45, 45, 45, 45, 45, 45, 45, 45, 45, 45, 45, 44, 44, 44, 44, 44, 44, 44, 44, 44, 44, 44, 44, 44, 44, 44, 44, 44, 44, 44, 44, 44, 44, 43, 43, 43, 43, 43, 43, 43, 43, 43, 43, 43, 43, 43, 43, 43, 43, 43, 43, 43, 43, 43, 43, 43, 43, 43, 43, 43, 43, 42, 42, 42, 42, 42, 42, 42, 42, 42, 42, 42, 42, 42, 42, 42, 42, 42, 42, 42, 42, 42, 42, 42, 42, 42, 42, 42, 42, 42, 42, 42, 42, 42, 42, 41, 41, 41, 41, 41, 41, 41, 41, 41, 41, 41, 41, 41, 41, 41, 41, 41, 41, 41, 41, 41, 41, 41, 41, 41, 41, 41, 41, 41, 41, 41, 41, 41, 41, 41, 41, 41, 41, 41, 41, 41, 41, 41, 41, 41, 41, 41, 41, 41, 40, 40, 40, 40, 40, 40, 40, 40, 40, 40, 40, 40, 40, 40, 40, 40, 40, 40, 40, 40, 40, 40, 40, 40, 40, 40, 40, 40, 40, 40, 40, 40, 40, 40, 40, 40, 40, 40, 40, 40, 40, 40, 40, 39, 39, 39, 39, 39, 39, 39, 39, 39, 39, 39, 39, 39, 39, 39, 39, 39, 39, 39, 39, 39, 39, 39, 39, 39, 39, 39, 39, 39, 39, 39, 39, 39, 39, 39, 39, 39, 39, 39, 39, 39, 39, 38, 38, 38, 38, 38, 38, 38, 38, 38, 38, 38, 38, 38, 38, 38, 38, 38, 38, 38, 38, 38, 38, 38, 38, 38, 38, 38, 38, 38, 38, 38, 38, 38, 38, 38, 38, 38, 38, 38, 38, 38, 38, 38, 38, 38, 38, 38, 38, 38, 38, 38, 37, 37, 37, 37, 37, 37, 37, 37, 37, 37, 37, 37, 37, 37, 37, 37, 37, 37, 37, 37, 37, 37, 37, 37, 37, 37, 37, 37, 37, 37, 37, 37, 37, 37, 37, 37, 37, 37, 37, 37, 37, 37, 37, 37, 37, 37, 37, 37, 37, 37, 37, 37, 37, 37, 37, 37, 37, 37, 37, 36, 36, 36, 36, 36, 36, 36, 36, 36, 36, 36, 36, 36, 36, 36, 36, 36, 36, 36, 36, 36, 36, 36, 36, 36, 36, 36, 36, 36, 36, 36, 36, 36, 36, 36, 36, 36, 36, 36, 36, 36, 36, 36, 36, 36, 36, 36, 36, 36, 36, 36, 36, 36, 36, 36, 36, 36, 36, 36, 36, 36, 36, 36, 36, 36, 36, 36, 36, 36, 36, 36, 35, 35, 35, 35, 35, 35, 35, 35, 35, 35, 35, 35, 35, 35, 35, 35, 35, 35, 35, 35, 35, 35, 35, 35, 35, 35, 35, 35, 35, 35, 35, 35, 35, 35, 35, 35, 35, 35, 35, 35, 35, 35, 35, 35, 35, 35, 35, 35, 35, 35, 35, 35, 35, 35, 35, 35, 35, 35, 35, 35, 35, 35, 35, 35, 35, 35, 35, 35, 35, 35, 35, 35, 35, 35, 35, 35, 35, 35, 35, 35, 35, 35, 35, 35, 35, 35, 35, 35, 35, 35, 35, 35, 35, 35, 35, 35, 35, 35, 34, 34, 34, 34, 34, 34, 34, 34, 34, 34, 34, 34, 34, 34, 34, 34, 34, 34, 34, 34, 34, 34, 34, 34, 34, 34, 34, 34, 34, 34, 34, 34, 34, 34, 34, 34, 34, 34, 34, 34, 34, 34, 34, 34, 34, 34, 34, 34, 34, 34, 34, 34, 34, 34, 34, 34, 34, 34, 34, 34, 34, 34, 34, 34, 34, 34, 34, 34, 34, 34, 34, 34, 34, 34, 34, 34, 34, 34, 34, 34, 34, 34, 34, 34, 34, 34, 34, 34, 34, 34, 34, 34, 34, 34, 34, 34, 34, 34, 34, 34, 34, 34, 33, 33, 33, 33, 33, 33, 33, 33, 33, 33, 33, 33, 33, 33, 33, 33, 33, 33, 33, 33, 33, 33, 33, 33, 33, 33, 33, 33, 33, 33, 33, 33, 33, 33, 33, 33, 33, 33, 33, 33, 33, 33, 33, 33, 33, 33, 33, 33, 33, 33, 33, 33, 33, 33, 33, 33, 33, 33, 33, 33, 33, 33, 33, 33, 33, 33, 33, 33, 33, 33, 33, 33, 33, 33, 33, 33, 33, 33, 33, 33, 33, 33, 33, 33, 33, 33, 33, 33, 33, 33, 33, 33, 33, 33, 33, 33, 33, 33, 33, 33, 33, 33, 33, 33, 33, 33, 33, 32, 32, 32, 32, 32, 32, 32, 32, 32, 32, 32, 32, 32, 32, 32, 32, 32, 32, 32, 32, 32, 32, 32, 32, 32, 32, 32, 32, 32, 32, 32, 32, 32, 32, 32, 32, 32, 32, 32, 32, 32, 32, 32, 32, 32, 32, 32, 32, 32, 32, 32, 32, 32, 32, 32, 32, 32, 32, 32, 32, 32, 32, 32, 32, 32, 32, 32, 32, 32, 32, 32, 32, 32, 32, 32, 32, 32, 32, 32, 32, 32, 32, 32, 32, 32, 32, 32, 32, 32, 32, 32, 32, 32, 32, 32, 32, 32, 32, 32, 32, 32, 32, 32, 32, 32, 32, 32, 32, 32, 32, 32, 32, 32, 32, 32, 32, 32, 32, 31, 31, 31, 31, 31, 31, 31, 31, 31, 31, 31, 31, 31, 31, 31, 31, 31, 31, 31, 31, 31, 31, 31, 31, 31, 31, 31, 31, 31, 31, 31, 31, 31, 31, 31, 31, 31, 31, 31, 31, 31, 31, 31, 31, 31, 31, 31, 31, 31, 31, 31, 31, 31, 31, 31, 31, 31, 31, 31, 31, 31, 31, 31, 31, 31, 31, 31, 31, 31, 31, 31, 31, 31, 31, 31, 31, 31, 31, 31, 31, 31, 31, 31, 31, 31, 31, 31, 31, 31, 31, 31, 31, 31, 31, 31, 31, 31, 31, 31, 31, 31, 31, 31, 31, 31, 31, 31, 31, 31, 31, 31, 31, 31, 31, 31, 31, 31, 31, 31, 31, 31, 31, 31, 31, 31, 31, 31, 31, 31, 31, 31, 31, 31, 31, 31, 31, 31, 31, 31, 31, 31, 31, 31, 30, 30, 30, 30, 30, 30, 30, 30, 30, 30, 30, 30, 30, 30, 30, 30, 30, 30, 30, 30, 30, 30, 30, 30, 30, 30, 30, 30, 30, 30, 30, 30, 30, 30, 30, 30, 30, 30, 30, 30, 30, 30, 30, 30, 30, 30, 30, 30, 30, 30, 30, 30, 30, 30, 30, 30, 30, 30, 30, 30, 30, 30, 30, 30, 30, 30, 30, 30, 30, 30, 30, 30, 30, 30, 30, 30, 30, 30, 30, 30, 30, 30, 30, 30, 30, 30, 30, 30, 30, 30, 30, 30, 30, 30, 30, 30, 30, 30, 30, 30, 30, 30, 30, 30, 30, 30, 30, 30, 30, 30, 30, 30, 30, 30, 30, 30, 30, 30, 30, 30, 30, 30, 30, 30, 30, 30, 30, 29, 29, 29, 29, 29, 29, 29, 29, 29, 29, 29, 29, 29, 29, 29, 29, 29, 29, 29, 29, 29, 29, 29, 29, 29, 29, 29, 29, 29, 29, 29, 29, 29, 29, 29, 29, 29, 29, 29, 29, 29, 29, 29, 29, 29, 29, 29, 29, 29, 29, 29, 29, 29, 29, 29, 29, 29, 29, 29, 29, 29, 29, 29, 29, 29, 29, 29, 29, 29, 29, 29, 29, 29, 29, 29, 29, 29, 29, 29, 29, 29, 29, 29, 29, 29, 29, 29, 29, 29, 29, 29, 29, 29, 29, 29, 29, 29, 29, 29, 29, 29, 29, 29, 29, 29, 29, 29, 29, 29, 29, 29, 29, 29, 29, 29, 29, 29, 29, 29, 29, 29, 29, 29, 29, 29, 29, 29, 29, 29, 29, 29, 29, 29, 29, 29, 29, 29, 29, 29, 29, 29, 29, 29, 29, 29, 29, 29, 29, 29, 29, 29, 29, 29, 29, 29, 28, 28, 28, 28, 28, 28, 28, 28, 28, 28, 28, 28, 28, 28, 28, 28, 28, 28, 28, 28, 28, 28, 28, 28, 28, 28, 28, 28, 28, 28, 28, 28, 28, 28, 28, 28, 28, 28, 28, 28, 28, 28, 28, 28, 28, 28, 28, 28, 28, 28, 28, 28, 28, 28, 28, 28, 28, 28, 28, 28, 28, 28, 28, 28, 28, 28, 28, 28, 28, 28, 28, 28, 28, 28, 28, 28, 28, 28, 28, 28, 28, 28, 28, 28, 28, 28, 28, 28, 28, 28, 28, 28, 28, 28, 28, 28, 28, 28, 28, 28, 28, 28, 28, 28, 28, 28, 28, 28, 28, 28, 28, 28, 28, 28, 28, 28, 28, 28, 28, 28, 28, 28, 28, 28, 28, 28, 28, 28, 28, 28, 28, 28, 28, 28, 28, 28, 28, 28, 28, 28, 28, 28, 28, 28, 28, 28, 28, 28, 28, 28, 28, 28, 28, 28, 28, 28, 28, 28, 28, 28, 28, 28, 28, 28, 28, 27, 27, 27, 27, 27, 27, 27, 27, 27, 27, 27, 27, 27, 27, 27, 27, 27, 27, 27, 27, 27, 27, 27, 27, 27, 27, 27, 27, 27, 27, 27, 27, 27, 27, 27, 27, 27, 27, 27, 27, 27, 27, 27, 27, 27, 27, 27, 27, 27, 27, 27, 27, 27, 27, 27, 27, 27, 27, 27, 27, 27, 27, 27, 27, 27, 27, 27, 27, 27, 27, 27, 27, 27, 27, 27, 27, 27, 27, 27, 27, 27, 27, 27, 27, 27, 27, 27, 27, 27, 27, 27, 27, 27, 27, 27, 27, 27, 27, 27, 27, 27, 27, 27, 27, 27, 27, 27, 27, 27, 27, 27, 27, 27, 27, 27, 27, 27, 27, 27, 27, 27, 27, 27, 27, 27, 27, 27, 27, 27, 27, 27, 27, 27, 27, 27, 27, 27, 27, 27, 27, 27, 27, 27, 27, 27, 27, 27, 27, 27, 27, 27, 27, 27, 27, 27, 27, 27, 27, 27, 27, 27, 27, 27, 27, 27, 27, 27, 27, 27, 27, 27, 27, 27, 27, 27, 27, 27, 27, 27, 27, 27, 27, 27, 27, 27, 27, 27, 27, 27, 27, 27, 27, 27, 27, 27, 27, 27, 27, 27, 27, 26, 26, 26, 26, 26, 26, 26, 26, 26, 26, 26, 26, 26, 26, 26, 26, 26, 26, 26, 26, 26, 26, 26, 26, 26, 26, 26, 26, 26, 26, 26, 26, 26, 26, 26, 26, 26, 26, 26, 26, 26, 26, 26, 26, 26, 26, 26, 26, 26, 26, 26, 26, 26, 26, 26, 26, 26, 26, 26, 26, 26, 26, 26, 26, 26, 26, 26, 26, 26, 26, 26, 26, 26, 26, 26, 26, 26, 26, 26, 26, 26, 26, 26, 26, 26, 26, 26, 26, 26, 26, 26, 26, 26, 26, 26, 26, 26, 26, 26, 26, 26, 26, 26, 26, 26, 26, 26, 26, 26, 26, 26, 26, 26, 26, 26, 26, 26, 26, 26, 26, 26, 26, 26, 26, 26, 26, 26, 26, 26, 26, 26, 26, 26, 26, 26, 26, 26, 26, 26, 26, 26, 26, 26, 26, 26, 26, 26, 26, 26, 26, 26, 26, 26, 26, 26, 26, 26, 26, 26, 26, 26, 26, 26, 26, 26, 26, 26, 26, 26, 26, 26, 26, 26, 26, 26, 26, 26, 26, 26, 26, 26, 26, 26, 26, 26, 26, 26, 26, 26, 26, 26, 26, 26, 26, 26, 26, 26, 26, 26, 26, 26, 26, 26, 26, 26, 26, 26, 26, 26, 26, 26, 26, 26, 26, 26, 26, 26, 26, 26, 26, 26, 26, 26, 26, 26, 26, 26, 26, 26, 26, 26, 26, 26, 26, 26, 26, 26, 26, 26, 26, 26, 25, 25, 25, 25, 25, 25, 25, 25, 25, 25, 25, 25, 25, 25, 25, 25, 25, 25, 25, 25, 25, 25, 25, 25, 25, 25, 25, 25, 25, 25, 25, 25, 25, 25, 25, 25, 25, 25, 25, 25, 25, 25, 25, 25, 25, 25, 25, 25, 25, 25, 25, 25, 25, 25, 25, 25, 25, 25, 25, 25, 25, 25, 25, 25, 25, 25, 25, 25, 25, 25, 25, 25, 25, 25, 25, 25, 25, 25, 25, 25, 25, 25, 25, 25, 25, 25, 25, 25, 25, 25, 25, 25, 25, 25, 25, 25, 25, 25, 25, 25, 25, 25, 25, 25, 25, 25, 25, 25, 25, 25, 25, 25, 25, 25, 25, 25, 25, 25, 25, 25, 25, 25, 25, 25, 25, 25, 25, 25, 25, 25, 25, 25, 25, 25, 25, 25, 25, 25, 25, 25, 25, 25, 25, 25, 25, 25, 25, 25, 25, 25, 25, 25, 25, 25, 25, 25, 25, 25, 25, 25, 25, 25, 25, 25, 25, 25, 25, 25, 25, 25, 25, 25, 25, 25, 25, 25, 25, 25, 25, 25, 25, 25, 25, 25, 25, 25, 25, 25, 25, 25, 25, 25, 25, 25, 25, 25, 25, 25, 25, 25, 25, 25, 25, 25, 25, 25, 25, 25, 25, 25, 25, 25, 25, 25, 25, 25, 25, 25, 25, 25, 25, 25, 25, 25, 25, 25, 25, 25, 25, 25, 25, 25, 25, 24, 24, 24, 24, 24, 24, 24, 24, 24, 24, 24, 24, 24, 24, 24, 24, 24, 24, 24, 24, 24, 24, 24, 24, 24, 24, 24, 24, 24, 24, 24, 24, 24, 24, 24, 24, 24, 24, 24, 24, 24, 24, 24, 24, 24, 24, 24, 24, 24, 24, 24, 24, 24, 24, 24, 24, 24, 24, 24, 24, 24, 24, 24, 24, 24, 24, 24, 24, 24, 24, 24, 24, 24, 24, 24, 24, 24, 24, 24, 24, 24, 24, 24, 24, 24, 24, 24, 24, 24, 24, 24, 24, 24, 24, 24, 24, 24, 24, 24, 24, 24, 24, 24, 24, 24, 24, 24, 24, 24, 24, 24, 24, 24, 24, 24, 24, 24, 24, 24, 24, 24, 24, 24, 24, 24, 24, 24, 24, 24, 24, 24, 24, 24, 24, 24, 24, 24, 24, 24, 24, 24, 24, 24, 24, 24, 24, 24, 24, 24, 24, 24, 24, 24, 24, 24, 24, 24, 24, 24, 24, 24, 24, 24, 24, 24, 24, 24, 24, 24, 24, 24, 24, 24, 24, 24, 24, 24, 24, 24, 24, 24, 24, 24, 24, 24, 24, 24, 24, 24, 24, 24, 24, 24, 24, 24, 24, 24, 24, 24, 24, 24, 24, 24, 24, 24, 24, 24, 24, 24, 24, 24, 24, 24, 24, 24, 24, 24, 24, 24, 24, 24, 24, 24, 24, 24, 24, 24, 24, 24, 24, 24, 24, 24, 23, 23, 23, 23, 23, 23, 23, 23, 23, 23, 23, 23, 23, 23, 23, 23, 23, 23, 23, 23, 23, 23, 23, 23, 23, 23, 23, 23, 23, 23, 23, 23, 23, 23, 23, 23, 23, 23, 23, 23, 23, 23, 23, 23, 23, 23, 23, 23, 23, 23, 23, 23, 23, 23, 23, 23, 23, 23, 23, 23, 23, 23, 23, 23, 23, 23, 23, 23, 23, 23, 23, 23, 23, 23, 23, 23, 23, 23, 23, 23, 23, 23, 23, 23, 23, 23, 23, 23, 23, 23, 23, 23, 23, 23, 23, 23, 23, 23, 23, 23, 23, 23, 23, 23, 23, 23, 23, 23, 23, 23, 23, 23, 23, 23, 23, 23, 23, 23, 23, 23, 23, 23, 23, 23, 23, 23, 23, 23, 23, 23, 23, 23, 23, 23, 23, 23, 23, 23, 23, 23, 23, 23, 23, 23, 23, 23, 23, 23, 23, 23, 23, 23, 23, 23, 23, 23, 23, 23, 23, 23, 23, 23, 23, 23, 23, 23, 23, 23, 23, 23, 23, 23, 23, 23, 23, 23, 23, 23, 23, 23, 23, 23, 23, 23, 23, 23, 23, 23, 23, 23, 23, 23, 23, 23, 23, 23, 23, 23, 23, 23, 23, 23, 23, 23, 23, 23, 23, 23, 23, 23, 23, 23, 23, 23, 23, 23, 23, 23, 23, 23, 23, 23, 23, 23, 23, 23, 23, 23, 23, 23, 23, 23, 23, 23, 23, 23, 23, 23, 23, 23, 23, 23, 23, 23, 23, 23, 23, 23, 23, 23, 23, 23, 23, 23, 23, 23, 23, 23, 23, 22, 22, 22, 22, 22, 22, 22, 22, 22, 22, 22, 22, 22, 22, 22, 22, 22, 22, 22, 22, 22, 22, 22, 22, 22, 22, 22, 22, 22, 22, 22, 22, 22, 22, 22, 22, 22, 22, 22, 22, 22, 22, 22, 22, 22, 22, 22, 22, 22, 22, 22, 22, 22, 22, 22, 22, 22, 22, 22, 22, 22, 22, 22, 22, 22, 22, 22, 22, 22, 22, 22, 22, 22, 22, 22, 22, 22, 22, 22, 22, 22, 22, 22, 22, 22, 22, 22, 22, 22, 22, 22, 22, 22, 22, 22, 22, 22, 22, 22, 22, 22, 22, 22, 22, 22, 22, 22, 22, 22, 22, 22, 22, 22, 22, 22, 22, 22, 22, 22, 22, 22, 22, 22, 22, 22, 22, 22, 22, 22, 22, 22, 22, 22, 22, 22, 22, 22, 22, 22, 22, 22, 22, 22, 22, 22, 22, 22, 22, 22, 22, 22, 22, 22, 22, 22, 22, 22, 22, 22, 22, 22, 22, 22, 22, 22, 22, 22, 22, 22, 22, 22, 22, 22, 22, 22, 22, 22, 22, 22, 22, 22, 22, 22, 22, 22, 22, 22, 22, 22, 22, 22, 22, 22, 22, 22, 22, 22, 22, 22, 22, 22, 22, 22, 22, 22, 22, 22, 22, 22, 22, 22, 22, 22, 22, 22, 22, 22, 22, 22, 22, 22, 22, 22, 22, 22, 22, 22, 22, 22, 22, 22, 22, 22, 22, 22, 22, 22, 22, 22, 22, 22, 22, 22, 22, 22, 22, 22, 22, 22, 22, 22, 22, 22, 22, 22, 22, 22, 22, 22, 21, 21, 21, 21, 21, 21, 21, 21, 21, 21, 21, 21, 21, 21, 21, 21, 21, 21, 21, 21, 21, 21, 21, 21, 21, 21, 21, 21, 21, 21, 21, 21, 21, 21, 21, 21, 21, 21, 21, 21, 21, 21, 21, 21, 21, 21, 21, 21, 21, 21, 21, 21, 21, 21, 21, 21, 21, 21, 21, 21, 21, 21, 21, 21, 21, 21, 21, 21, 21, 21, 21, 21, 21, 21, 21, 21, 21, 21, 21, 21, 21, 21, 21, 21, 21, 21, 21, 21, 21, 21, 21, 21, 21, 21, 21, 21, 21, 21, 21, 21, 21, 21, 21, 21, 21, 21, 21, 21, 21, 21, 21, 21, 21, 21, 21, 21, 21, 21, 21, 21, 21, 21, 21, 21, 21, 21, 21, 21, 21, 21, 21, 21, 21, 21, 21, 21, 21, 21, 21, 21, 21, 21, 21, 21, 21, 21, 21, 21, 21, 21, 21, 21, 21, 21, 21, 21, 21, 21, 21, 21, 21, 21, 21, 21, 21, 21, 21, 21, 21, 21, 21, 21, 21, 21, 21, 21, 21, 21, 21, 21, 21, 21, 21, 21, 21, 21, 21, 21, 21, 21, 21, 21, 21, 21, 21, 21, 21, 21, 21, 21, 21, 21, 21, 21, 21, 21, 21, 21, 21, 21, 21, 21, 21, 21, 21, 21, 21, 21, 21, 21, 21, 21, 21, 21, 21, 21, 21, 21, 21, 21, 21, 21, 21, 21, 21, 21, 21, 21, 21, 21, 21, 21, 21, 21, 21, 21, 21, 21, 21, 21, 21, 21, 21, 21, 21, 21, 21, 21, 21, 21, 21, 21, 21, 21, 21, 21, 21, 21, 21, 21, 21, 21, 21, 21, 21, 21, 21, 21, 21, 21, 21, 21, 21, 21, 21, 21, 21, 20, 20, 20, 20, 20, 20, 20, 20, 20, 20, 20, 20, 20, 20, 20, 20, 20, 20, 20, 20, 20, 20, 20, 20, 20, 20, 20, 20, 20, 20, 20, 20, 20, 20, 20, 20, 20, 20, 20, 20, 20, 20, 20, 20, 20, 20, 20, 20, 20, 20, 20, 20, 20, 20, 20, 20, 20, 20, 20, 20, 20, 20, 20, 20, 20, 20, 20, 20, 20, 20, 20, 20, 20, 20, 20, 20, 20, 20, 20, 20, 20, 20, 20, 20, 20, 20, 20, 20, 20, 20, 20, 20, 20, 20, 20, 20, 20, 20, 20, 20, 20, 20, 20, 20, 20, 20, 20, 20, 20, 20, 20, 20, 20, 20, 20, 20, 20, 20, 20, 20, 20, 20, 20, 20, 20, 20, 20, 20, 20, 20, 20, 20, 20, 20, 20, 20, 20, 20, 20, 20, 20, 20, 20, 20, 20, 20, 20, 20, 20, 20, 20, 20, 20, 20, 20, 20, 20, 20, 20, 20, 20, 20, 20, 20, 20, 20, 20, 20, 20, 20, 20, 20, 20, 20, 20, 20, 20, 20, 20, 20, 20, 20, 20, 20, 20, 20, 20, 20, 20, 20, 20, 20, 20, 20, 20, 20, 20, 20, 20, 20, 20, 20, 20, 20, 20, 20, 20, 20, 20, 20, 20, 20, 20, 20, 20, 20, 20, 20, 20, 20, 20, 20, 20, 20, 20, 20, 20, 20, 20, 20, 20, 20, 20, 20, 20, 20, 20, 20, 20, 20, 20, 20, 20, 20, 20, 20, 20, 20, 20, 20, 20, 20, 20, 20, 20, 20, 20, 20, 20, 20, 20, 20, 20, 20, 20, 20, 20, 20, 20, 20, 20, 20, 20, 20, 20, 20, 20, 20, 20, 20, 20, 20, 20, 20, 20, 20, 20, 20, 20, 20, 20, 20, 20, 20, 20, 20, 20, 20, 20, 20, 20, 20, 20, 20, 20, 20, 20, 20, 20, 20, 20, 20, 20, 19, 19, 19, 19, 19, 19, 19, 19, 19, 19, 19, 19, 19, 19, 19, 19, 19, 19, 19, 19, 19, 19, 19, 19, 19, 19, 19, 19, 19, 19, 19, 19, 19, 19, 19, 19, 19, 19, 19, 19, 19, 19, 19, 19, 19, 19, 19, 19, 19, 19, 19, 19, 19, 19, 19, 19, 19, 19, 19, 19, 19, 19, 19, 19, 19, 19, 19, 19, 19, 19, 19, 19, 19, 19, 19, 19, 19, 19, 19, 19, 19, 19, 19, 19, 19, 19, 19, 19, 19, 19, 19, 19, 19, 19, 19, 19, 19, 19, 19, 19, 19, 19, 19, 19, 19, 19, 19, 19, 19, 19, 19, 19, 19, 19, 19, 19, 19, 19, 19, 19, 19, 19, 19, 19, 19, 19, 19, 19, 19, 19, 19, 19, 19, 19, 19, 19, 19, 19, 19, 19, 19, 19, 19, 19, 19, 19, 19, 19, 19, 19, 19, 19, 19, 19, 19, 19, 19, 19, 19, 19, 19, 19, 19, 19, 19, 19, 19, 19, 19, 19, 19, 19, 19, 19, 19, 19, 19, 19, 19, 19, 19, 19, 19, 19, 19, 19, 19, 19, 19, 19, 19, 19, 19, 19, 19, 19, 19, 19, 19, 19, 19, 19, 19, 19, 19, 19, 19, 19, 19, 19, 19, 19, 19, 19, 19, 19, 19, 19, 19, 19, 19, 19, 19, 19, 19, 19, 19, 19, 19, 19, 19, 19, 19, 19, 19, 19, 19, 19, 19, 19, 19, 19, 19, 19, 19, 19, 19, 19, 19, 19, 19, 19, 19, 19, 19, 19, 19, 19, 19, 19, 19, 19, 19, 19, 19, 19, 19, 19, 19, 19, 19, 19, 19, 19, 19, 19, 19, 19, 19, 19, 19, 19, 19, 19, 19, 19, 19, 19, 19, 19, 19, 19, 19, 19, 19, 19, 19, 19, 19, 19, 19, 19, 19, 19, 19, 19, 19, 19, 19, 19, 19, 19, 19, 19, 19, 19, 19, 19, 19, 19, 19, 19, 19, 19, 19, 19, 19, 19, 19, 19, 19, 19, 19, 19, 19, 19, 19, 19, 19, 19, 18, 18, 18, 18, 18, 18, 18, 18, 18, 18, 18, 18, 18, 18, 18, 18, 18, 18, 18, 18, 18, 18, 18, 18, 18, 18, 18, 18, 18, 18, 18, 18, 18, 18, 18, 18, 18, 18, 18, 18, 18, 18, 18, 18, 18, 18, 18, 18, 18, 18, 18, 18, 18, 18, 18, 18, 18, 18, 18, 18, 18, 18, 18, 18, 18, 18, 18, 18, 18, 18, 18, 18, 18, 18, 18, 18, 18, 18, 18, 18, 18, 18, 18, 18, 18, 18, 18, 18, 18, 18, 18, 18, 18, 18, 18, 18, 18, 18, 18, 18, 18, 18, 18, 18, 18, 18, 18, 18, 18, 18, 18, 18, 18, 18, 18, 18, 18, 18, 18, 18, 18, 18, 18, 18, 18, 18, 18, 18, 18, 18, 18, 18, 18, 18, 18, 18, 18, 18, 18, 18, 18, 18, 18, 18, 18, 18, 18, 18, 18, 18, 18, 18, 18, 18, 18, 18, 18, 18, 18, 18, 18, 18, 18, 18, 18, 18, 18, 18, 18, 18, 18, 18, 18, 18, 18, 18, 18, 18, 18, 18, 18, 18, 18, 18, 18, 18, 18, 18, 18, 18, 18, 18, 18, 18, 18, 18, 18, 18, 18, 18, 18, 18, 18, 18, 18, 18, 18, 18, 18, 18, 18, 18, 18, 18, 18, 18, 18, 18, 18, 18, 18, 18, 18, 18, 18, 18, 18, 18, 18, 18, 18, 18, 18, 18, 18, 18, 18, 18, 18, 18, 18, 18, 18, 18, 18, 18, 18, 18, 18, 18, 18, 18, 18, 18, 18, 18, 18, 18, 18, 18, 18, 18, 18, 18, 18, 18, 18, 18, 18, 18, 18, 18, 18, 18, 18, 18, 18, 18, 18, 18, 18, 18, 18, 18, 18, 18, 18, 18, 18, 18, 18, 18, 18, 18, 18, 18, 18, 18, 18, 18, 18, 18, 18, 18, 18, 18, 18, 18, 18, 18, 18, 18, 18, 18, 18, 18, 18, 18, 18, 18, 18, 18, 18, 18, 18, 17, 17, 17, 17, 17, 17, 17, 17, 17, 17, 17, 17, 17, 17, 17, 17, 17, 17, 17, 17, 17, 17, 17, 17, 17, 17, 17, 17, 17, 17, 17, 17, 17, 17, 17, 17, 17, 17, 17, 17, 17, 17, 17, 17, 17, 17, 17, 17, 17, 17, 17, 17, 17, 17, 17, 17, 17, 17, 17, 17, 17, 17, 17, 17, 17, 17, 17, 17, 17, 17, 17, 17, 17, 17, 17, 17, 17, 17, 17, 17, 17, 17, 17, 17, 17, 17, 17, 17, 17, 17, 17, 17, 17, 17, 17, 17, 17, 17, 17, 17, 17, 17, 17, 17, 17, 17, 17, 17, 17, 17, 17, 17, 17, 17, 17, 17, 17, 17, 17, 17, 17, 17, 17, 17, 17, 17, 17, 17, 17, 17, 17, 17, 17, 17, 17, 17, 17, 17, 17, 17, 17, 17, 17, 17, 17, 17, 17, 17, 17, 17, 17, 17, 17, 17, 17, 17, 17, 17, 17, 17, 17, 17, 17, 17, 17, 17, 17, 17, 17, 17, 17, 17, 17, 17, 17, 17, 17, 17, 17, 17, 17, 17, 17, 17, 17, 17, 17, 17, 17, 17, 17, 17, 17, 17, 17, 17, 17, 17, 17, 17, 17, 17, 17, 17, 17, 17, 17, 17, 17, 17, 17, 17, 17, 17, 17, 17, 17, 17, 17, 17, 17, 17, 17, 17, 17, 17, 17, 17, 17, 17, 17, 17, 17, 17, 17, 17, 17, 17, 17, 17, 17, 17, 17, 17, 17, 17, 17, 17, 17, 17, 17, 17, 17, 17, 17, 17, 17, 17, 17, 17, 17, 17, 17, 17, 17, 17, 17, 17, 17, 17, 17, 17, 17, 17, 17, 17, 17, 17, 17, 17, 17, 17, 17, 17, 17, 17, 17, 17, 17, 17, 17, 17, 17, 17, 17, 17, 17, 17, 17, 17, 17, 17, 17, 17, 17, 17, 17, 17, 17, 17, 17, 17, 17, 17, 17, 17, 17, 16, 16, 16, 16, 16, 16, 16, 16, 16, 16, 16, 16, 16, 16, 16, 16, 16, 16, 16, 16, 16, 16, 16, 16, 16, 16, 16, 16, 16, 16, 16, 16, 16, 16, 16, 16, 16, 16, 16, 16, 16, 16, 16, 16, 16, 16, 16, 16, 16, 16, 16, 16, 16, 16, 16, 16, 16, 16, 16, 16, 16, 16, 16, 16, 16, 16, 16, 16, 16, 16, 16, 16, 16, 16, 16, 16, 16, 16, 16, 16, 16, 16, 16, 16, 16, 16, 16, 16, 16, 16, 16, 16, 16, 16, 16, 16, 16, 16, 16, 16, 16, 16, 16, 16, 16, 16, 16, 16, 16, 16, 16, 16, 16, 16, 16, 16, 16, 16, 16, 16, 16, 16, 16, 16, 16, 16, 16, 16, 16, 16, 16, 16, 16, 16, 16, 16, 16, 16, 16, 16, 16, 16, 16, 16, 16, 16, 16, 16, 16, 16, 16, 16, 16, 16, 16, 16, 16, 16, 16, 16, 16, 16, 16, 16, 16, 16, 16, 16, 16, 16, 16, 16, 16, 16, 16, 16, 16, 16, 16, 16, 16, 16, 16, 16, 16, 16, 16, 16, 16, 16, 16, 16, 16, 16, 16, 16, 16, 16, 16, 16, 16, 16, 16, 16, 16, 16, 16, 16, 16, 16, 16, 16, 16, 16, 16, 16, 16, 16, 16, 16, 16, 16, 16, 16, 16, 16, 16, 16, 16, 16, 16, 16, 16, 16, 16, 16, 16, 16, 16, 16, 16, 16, 16, 16, 16, 16, 16, 16, 16, 16, 16, 16, 16, 16, 16, 16, 16, 16, 16, 16, 16, 16, 16, 16, 16, 16, 16, 16, 16, 16, 16, 16, 16, 16, 16, 16, 16, 16, 16, 16, 16, 16, 16, 16, 16, 16, 16, 16, 16, 16, 16, 16, 16, 16, 16, 16, 16, 16, 16, 16, 16, 16, 16, 16, 16, 16, 16, 16, 16, 16, 16, 16, 16, 16, 16, 16, 16, 16, 16, 16, 16, 16, 16, 16, 16, 16, 16, 16, 15, 15, 15, 15, 15, 15, 15, 15, 15, 15, 15, 15, 15, 15, 15, 15, 15, 15, 15, 15, 15, 15, 15, 15, 15, 15, 15, 15, 15, 15, 15, 15, 15, 15, 15, 15, 15, 15, 15, 15, 15, 15, 15, 15, 15, 15, 15, 15, 15, 15, 15, 15, 15, 15, 15, 15, 15, 15, 15, 15, 15, 15, 15, 15, 15, 15, 15, 15, 15, 15, 15, 15, 15, 15, 15, 15, 15, 15, 15, 15, 15, 15, 15, 15, 15, 15, 15, 15, 15, 15, 15, 15, 15, 15, 15, 15, 15, 15, 15, 15, 15, 15, 15, 15, 15, 15, 15, 15, 15, 15, 15, 15, 15, 15, 15, 15, 15, 15, 15, 15, 15, 15, 15, 15, 15, 15, 15, 15, 15, 15, 15, 15, 15, 15, 15, 15, 15, 15, 15, 15, 15, 15, 15, 15, 15, 15, 15, 15, 15, 15, 15, 15, 15, 15, 15, 15, 15, 15, 15, 15, 15, 15, 15, 15, 15, 15, 15, 15, 15, 15, 15, 15, 15, 15, 15, 15, 15, 15, 15, 15, 15, 15, 15, 15, 15, 15, 15, 15, 15, 15, 15, 15, 15, 15, 15, 15, 15, 15, 15, 15, 15, 15, 15, 15, 15, 15, 15, 15, 15, 15, 15, 15, 15, 15, 15, 15, 15, 15, 15, 15, 15, 15, 15, 15, 15, 15, 15, 15, 15, 15, 15, 15, 15, 15, 15, 15, 15, 15, 15, 15, 15, 15, 15, 15, 15, 15, 15, 15, 15, 15, 15, 15, 15, 15, 15, 15, 15, 15, 15, 15, 15, 15, 15, 15, 15, 15, 15, 15, 15, 15, 15, 15, 15, 15, 15, 15, 15, 15, 15, 15, 15, 15, 15, 15, 15, 15, 15, 15, 15, 15, 15, 15, 15, 15, 15, 15, 15, 15, 15, 15, 15, 15, 15, 15, 15, 15, 15, 15, 15, 15, 15, 15, 15, 15, 15, 15, 15, 15, 15, 15, 15, 15, 15, 15, 15, 15, 15, 15, 15, 15, 15, 15, 15, 15, 15, 14, 14, 14, 14, 14, 14, 14, 14, 14, 14, 14, 14, 14, 14, 14, 14, 14, 14, 14, 14, 14, 14, 14, 14, 14, 14, 14, 14, 14, 14, 14, 14, 14, 14, 14, 14, 14, 14, 14, 14, 14, 14, 14, 14, 14, 14, 14, 14, 14, 14, 14, 14, 14, 14, 14, 14, 14, 14, 14, 14, 14, 14, 14, 14, 14, 14, 14, 14, 14, 14, 14, 14, 14, 14, 14, 14, 14, 14, 14, 14, 14, 14, 14, 14, 14, 14, 14, 14, 14, 14, 14, 14, 14, 14, 14, 14, 14, 14, 14, 14, 14, 14, 14, 14, 14, 14, 14, 14, 14, 14, 14, 14, 14, 14, 14, 14, 14, 14, 14, 14, 14, 14, 14, 14, 14, 14, 14, 14, 14, 14, 14, 14, 14, 14, 14, 14, 14, 14, 14, 14, 14, 14, 14, 14, 14, 14, 14, 14, 14, 14, 14, 14, 14, 14, 14, 14, 14, 14, 14, 14, 14, 14, 14, 14, 14, 14, 14, 14, 14, 14, 14, 14, 14, 14, 14, 14, 14, 14, 14, 14, 14, 14, 14, 14, 14, 14, 14, 14, 14, 14, 14, 14, 14, 14, 14, 14, 14, 14, 14, 14, 14, 14, 14, 14, 14, 14, 14, 14, 14, 14, 14, 14, 14, 14, 14, 14, 14, 14, 14, 14, 14, 14, 14, 14, 14, 14, 14, 14, 14, 14, 14, 14, 14, 14, 14, 14, 14, 14, 14, 14, 14, 14, 14, 14, 14, 14, 14, 14, 14, 14, 14, 14, 14, 14, 14, 14, 14, 14, 14, 14, 14, 14, 14, 14, 14, 14, 14, 14, 14, 14, 14, 14, 14, 14, 14, 14, 14, 14, 14, 14, 14, 14, 14, 14, 14, 14, 14, 14, 14, 14, 14, 14, 14, 14, 14, 14, 14, 14, 14, 14, 14, 14, 14, 14, 14, 14, 14, 14, 14, 14, 14, 14, 14, 14, 14, 14, 14, 14, 14, 14, 14, 14, 14, 14, 14, 14, 14, 14, 14, 14, 14, 14, 14, 14, 14, 14, 14, 14, 14, 14, 14, 14, 14, 14, 14, 14, 14, 14, 14, 14, 14, 14, 14, 14, 14, 14, 14, 14, 14, 14, 14, 14, 14, 14, 14, 14, 14, 14, 14, 14, 14, 14, 14, 14, 14, 13, 13, 13, 13, 13, 13, 13, 13, 13, 13, 13, 13, 13, 13, 13, 13, 13, 13, 13, 13, 13, 13, 13, 13, 13, 13, 13, 13, 13, 13, 13, 13, 13, 13, 13, 13, 13, 13, 13, 13, 13, 13, 13, 13, 13, 13, 13, 13, 13, 13, 13, 13, 13, 13, 13, 13, 13, 13, 13, 13, 13, 13, 13, 13, 13, 13, 13, 13, 13, 13, 13, 13, 13, 13, 13, 13, 13, 13, 13, 13, 13, 13, 13, 13, 13, 13, 13, 13, 13, 13, 13, 13, 13, 13, 13, 13, 13, 13, 13, 13, 13, 13, 13, 13, 13, 13, 13, 13, 13, 13, 13, 13, 13, 13, 13, 13, 13, 13, 13, 13, 13, 13, 13, 13, 13, 13, 13, 13, 13, 13, 13, 13, 13, 13, 13, 13, 13, 13, 13, 13, 13, 13, 13, 13, 13, 13, 13, 13, 13, 13, 13, 13, 13, 13, 13, 13, 13, 13, 13, 13, 13, 13, 13, 13, 13, 13, 13, 13, 13, 13, 13, 13, 13, 13, 13, 13, 13, 13, 13, 13, 13, 13, 13, 13, 13, 13, 13, 13, 13, 13, 13, 13, 13, 13, 13, 13, 13, 13, 13, 13, 13, 13, 13, 13, 13, 13, 13, 13, 13, 13, 13, 13, 13, 13, 13, 13, 13, 13, 13, 13, 13, 13, 13, 13, 13, 13, 13, 13, 13, 13, 13, 13, 13, 13, 13, 13, 13, 13, 13, 13, 13, 13, 13, 13, 13, 13, 13, 13, 13, 13, 13, 13, 13, 13, 13, 13, 13, 13, 13, 13, 13, 13, 13, 13, 13, 13, 13, 13, 13, 13, 13, 13, 13, 13, 13, 13, 13, 13, 13, 13, 13, 13, 12, 12, 12, 12, 12, 12, 12, 12, 12, 12, 12, 12, 12, 12, 12, 12, 12, 12, 12, 12, 12, 12, 12, 12, 12, 12, 12, 12, 12, 12, 12, 12, 12, 12, 12, 12, 12, 12, 12, 12, 12, 12, 12, 12, 12, 12, 12, 12, 12, 12, 12, 12, 12, 12, 12, 12, 12, 12, 12, 12, 12, 12, 12, 12, 12, 12, 12, 12, 12, 12, 12, 12, 12, 12, 12, 12, 12, 12, 12, 12, 12, 12, 12, 12, 12, 12, 12, 12, 12, 12, 12, 12, 12, 12, 12, 12, 12, 12, 12, 12, 12, 12, 12, 12, 12, 12, 12, 12, 12, 12, 12, 12, 12, 12, 12, 12, 12, 12, 12, 12, 12, 12, 12, 12, 12, 12, 12, 12, 12, 12, 12, 12, 12, 12, 12, 12, 12, 12, 12, 12, 12, 12, 12, 12, 12, 12, 12, 12, 12, 12, 12, 12, 12, 12, 12, 12, 12, 12, 12, 12, 12, 12, 12, 12, 12, 12, 12, 12, 12, 12, 12, 12, 12, 12, 12, 12, 12, 12, 12, 12, 12, 12, 12, 12, 12, 12, 12, 12, 12, 12, 12, 12, 12, 12, 12, 12, 12, 12, 12, 12, 12, 12, 12, 12, 12, 12, 12, 12, 12, 12, 12, 12, 12, 12, 12, 12, 12, 12, 12, 12, 12, 12, 12, 12, 12, 12, 12, 12, 12, 12, 12, 12, 12, 12, 12, 12, 12, 12, 12, 12, 12, 12, 12, 12, 12, 12, 12, 12, 12, 12, 12, 12, 12, 12, 12, 12, 12, 12, 12, 12, 12, 12, 12, 12, 12, 12, 12, 12, 12, 12, 12, 12, 12, 12, 12, 12, 12, 12, 12, 11, 11, 11, 11, 11, 11, 11, 11, 11, 11, 11, 11, 11, 11, 11, 11, 11, 11, 11, 11, 11, 11, 11, 11, 11, 11, 11, 11, 11, 11, 11, 11, 11, 11, 11, 11, 11, 11, 11, 11, 11, 11, 11, 11, 11, 11, 11, 11, 11, 11, 11, 11, 11, 11, 11, 11, 11, 11, 11, 11, 11, 11, 11, 11, 11, 11, 11, 11, 11, 11, 11, 11, 11, 11, 11, 11, 11, 11, 11, 11, 11, 11, 11, 11, 11, 11, 11, 11, 11, 11, 11, 11, 11, 11, 11, 11, 11, 11, 11, 11, 11, 11, 11, 11, 11, 11, 11, 11, 11, 11, 11, 11, 11, 11, 11, 11, 11, 11, 11, 11, 11, 11, 11, 11, 11, 11, 11, 11, 11, 11, 11, 11, 11, 11, 11, 11, 11, 11, 11, 11, 11, 11, 11, 11, 11, 11, 11, 11, 11, 11, 11, 11, 11, 11, 11, 11, 11, 11, 11, 11, 11, 11, 11, 11, 11, 11, 11, 11, 11, 11, 11, 11, 11, 11, 11, 11, 11, 11, 11, 11, 11, 11, 11, 11, 11, 11, 11, 11, 11, 11, 11, 11, 11, 11, 11, 11, 11, 11, 11, 11, 11, 11, 11, 11, 11, 11, 11, 11, 11, 11, 11, 11, 11, 11, 11, 11, 11, 11, 11, 11, 11, 11, 11, 11, 11, 11, 11, 11, 11, 11, 11, 11, 11, 11, 11, 11, 11, 11, 11, 11, 11, 11, 11, 11, 11, 11, 11, 11, 11, 11, 11, 11, 11, 11, 11, 11, 11, 11, 11, 11, 11, 11, 11, 11, 11, 11, 11, 11, 11, 11, 11, 11, 11, 11, 11, 11, 11, 11, 11, 11, 11, 11, 11, 11, 11, 11, 11, 11, 11, 11, 11, 11, 11, 11, 11, 11, 10, 10, 10, 10, 10, 10, 10, 10, 10, 10, 10, 10, 10, 10, 10, 10, 10, 10, 10, 10, 10, 10, 10, 10, 10, 10, 10, 10, 10, 10, 10, 10, 10, 10, 10, 10, 10, 10, 10, 10, 10, 10, 10, 10, 10, 10, 10, 10, 10, 10, 10, 10, 10, 10, 10, 10, 10, 10, 10, 10, 10, 10, 10, 10, 10, 10, 10, 10, 10, 10, 10, 10, 10, 10, 10, 10, 10, 10, 10, 10, 10, 10, 10, 10, 10, 10, 10, 10, 10, 10, 10, 10, 10, 10, 10, 10, 10, 10, 10, 10, 10, 10, 10, 10, 10, 10, 10, 10, 10, 10, 10, 10, 10, 10, 10, 10, 10, 10, 10, 10, 10, 10, 10, 10, 10, 10, 10, 10, 10, 10, 10, 10, 10, 10, 10, 10, 10, 10, 10, 10, 10, 10, 10, 10, 10, 10, 10, 10, 10, 10, 10, 10, 10, 10, 10, 10, 10, 10, 10, 10, 10, 10, 10, 10, 10, 10, 10, 10, 10, 10, 10, 10, 10, 10, 10, 10, 10, 10, 10, 10, 10, 10, 10, 10, 10, 10, 10, 10, 10, 10, 10, 10, 10, 10, 10, 10, 10, 10, 10, 10, 10, 10, 10, 10, 10, 10, 10, 10, 10, 10, 10, 10, 10, 10, 10, 10, 10, 10, 10, 10, 10, 10, 10, 10, 10, 10, 10, 10, 10, 10, 10, 10, 10, 10, 10, 10, 10, 10, 10, 10, 10, 10, 10, 10, 10, 10, 10, 10, 10, 10, 10, 10, 10, 10, 10, 10, 10, 10, 10, 10, 10, 10, 10, 10, 10, 10, 10, 10, 10, 10, 10, 10, 10, 10, 10, 10, 10, 10, 10, 10, 10, 10, 10, 10, 10, 10, 10, 10, 10, 10, 10, 10, 10, 10, 10, 10, 10, 10, 9, 9, 9, 9, 9, 9, 9, 9, 9, 9, 9, 9, 9, 9, 9, 9, 9, 9, 9, 9, 9, 9, 9, 9, 9, 9, 9, 9, 9, 9, 9, 9, 9, 9, 9, 9, 9, 9, 9, 9, 9, 9, 9, 9, 9, 9, 9, 9, 9, 9, 9, 9, 9, 9, 9, 9, 9, 9, 9, 9, 9, 9, 9, 9, 9, 9, 9, 9, 9, 9, 9, 9, 9, 9, 9, 9, 9, 9, 9, 9, 9, 9, 9, 9, 9, 9, 9, 9, 9, 9, 9, 9, 9, 9, 9, 9, 9, 9, 9, 9, 9, 9, 9, 9, 9, 9, 9, 9, 9, 9, 9, 9, 9, 9, 9, 9, 9, 9, 9, 9, 9, 9, 9, 9, 9, 9, 9, 9, 9, 9, 9, 9, 9, 9, 9, 9, 9, 9, 9, 9, 9, 9, 9, 9, 9, 9, 9, 9, 9, 9, 9, 9, 9, 9, 9, 9, 9, 9, 9, 9, 9, 9, 9, 9, 9, 9, 9, 9, 9, 9, 9, 9, 9, 9, 9, 9, 9, 9, 9, 9, 9, 9, 9, 9, 9, 9, 9, 9, 9, 9, 9, 9, 9, 9, 9, 9, 9, 9, 9, 9, 9, 9, 9, 9, 9, 9, 9, 9, 9, 9, 9, 9, 9, 9, 9, 9, 9, 9, 9, 9, 9, 9, 9, 9, 9, 9, 9, 9, 9, 9, 9, 9, 9, 9, 9, 9, 9, 9, 9, 9, 9, 9, 9, 9, 9, 9, 9, 9, 9, 9, 9, 9, 9, 9, 9, 9, 9, 9, 9, 9, 9, 9, 9, 9, 9, 9, 9, 9, 9, 9, 9, 9, 9, 9, 9, 9, 9, 9, 9, 9, 9, 9, 9, 9, 9, 9, 9, 9, 9, 9, 9, 9, 9, 9, 9, 9, 9, 9, 9, 9, 9, 9, 9, 9, 9, 9, 9, 9, 9, 9, 9, 9, 9, 8, 8, 8, 8, 8, 8, 8, 8, 8, 8, 8, 8, 8, 8, 8, 8, 8, 8, 8, 8, 8, 8, 8, 8, 8, 8, 8, 8, 8, 8, 8, 8, 8, 8, 8, 8, 8, 8, 8, 8, 8, 8, 8, 8, 8, 8, 8, 8, 8, 8, 8, 8, 8, 8, 8, 8, 8, 8, 8, 8, 8, 8, 8, 8, 8, 8, 8, 8, 8, 8, 8, 8, 8, 8, 8, 8, 8, 8, 8, 8, 8, 8, 8, 8, 8, 8, 8, 8, 8, 8, 8, 8, 8, 8, 8, 8, 8, 8, 8, 8, 8, 8, 8, 8, 8, 8, 8, 8, 8, 8, 8, 8, 8, 8, 8, 8, 8, 8, 8, 8, 8, 8, 8, 8, 8, 8, 8, 8, 8, 8, 8, 8, 8, 8, 8, 8, 8, 8, 8, 8, 8, 8, 8, 8, 8, 8, 8, 8, 8, 8, 8, 8, 8, 8, 8, 8, 8, 8, 8, 8, 8, 8, 8, 8, 8, 8, 8, 8, 8, 8, 8, 8, 8, 8, 8, 8, 8, 8, 8, 8, 8, 8, 8, 8, 8, 8, 8, 8, 8, 8, 8, 8, 8, 8, 8, 8, 8, 8, 8, 8, 8, 8, 8, 8, 8, 8, 8, 8, 8, 8, 8, 8, 8, 8, 8, 8, 8, 8, 8, 8, 8, 8, 8, 8, 8, 8, 8, 8, 8, 8, 8, 8, 8, 8, 8, 8, 8, 8, 8, 8, 8, 8, 8, 8, 8, 8, 8, 8, 8, 8, 8, 8, 8, 8, 8, 8, 8, 8, 8, 8, 8, 8, 8, 8, 8, 8, 8, 8, 8, 8, 8, 8, 8, 8, 8, 8, 8, 8, 8, 8, 8, 8, 8, 8, 8, 8, 8, 8, 8, 8, 8, 8, 7, 7, 7, 7, 7, 7, 7, 7, 7, 7, 7, 7, 7, 7, 7, 7, 7, 7, 7, 7, 7, 7, 7, 7, 7, 7, 7, 7, 7, 7, 7, 7, 7, 7, 7, 7, 7, 7, 7, 7, 7, 7, 7, 7, 7, 7, 7, 7, 7, 7, 7, 7, 7, 7, 7, 7, 7, 7, 7, 7, 7, 7, 7, 7, 7, 7, 7, 7, 7, 7, 7, 7, 7, 7, 7, 7, 7, 7, 7, 7, 7, 7, 7, 7, 7, 7, 7, 7, 7, 7, 7, 7, 7, 7, 7, 7, 7, 7, 7, 7, 7, 7, 7, 7, 7, 7, 7, 7, 7, 7, 7, 7, 7, 7, 7, 7, 7, 7, 7, 7, 7, 7, 7, 7, 7, 7, 7, 7, 7, 7, 7, 7, 7, 7, 7, 7, 7, 7, 7, 7, 7, 7, 7, 7, 7, 7, 7, 7, 7, 7, 7, 7, 7, 7, 7, 7, 7, 7, 7, 7, 7, 7, 7, 7, 7, 7, 7, 7, 7, 7, 7, 7, 7, 7, 7, 7, 7, 7, 7, 7, 7, 7, 7, 7, 7, 7, 7, 7, 7, 7, 7, 7, 7, 7, 7, 7, 7, 7, 7, 7, 7, 7, 7, 7, 7, 7, 7, 7, 7, 7, 7, 7, 7, 7, 7, 7, 7, 7, 7, 7, 7, 7, 7, 7, 7, 7, 7, 7, 7, 7, 7, 7, 7, 7, 7, 7, 7, 7, 7, 7, 7, 7, 7, 7, 7, 7, 7, 7, 7, 7, 7, 7, 7, 7, 7, 7, 7, 7, 7, 7, 7, 7, 7, 7, 7, 7, 7, 7, 7, 7, 7, 7, 7, 7, 7, 7, 7, 7, 7, 6, 6, 6, 6, 6, 6, 6, 6, 6, 6, 6, 6, 6, 6, 6, 6, 6, 6, 6, 6, 6, 6, 6, 6, 6, 6, 6, 6, 6, 6, 6, 6, 6, 6, 6, 6, 6, 6, 6, 6, 6, 6, 6, 6, 6, 6, 6, 6, 6, 6, 6, 6, 6, 6, 6, 6, 6, 6, 6, 6, 6, 6, 6, 6, 6, 6, 6, 6, 6, 6, 6, 6, 6, 6, 6, 6, 6, 6, 6, 6, 6, 6, 6, 6, 6, 6, 6, 6, 6, 6, 6, 6, 6, 6, 6, 6, 6, 6, 6, 6, 6, 6, 6, 6, 6, 6, 6, 6, 6, 6, 6, 6, 6, 6, 6, 6, 6, 6, 6, 6, 6, 6, 6, 6, 6, 6, 6, 6, 6, 6, 6, 6, 6, 6, 6, 6, 6, 6, 6, 6, 6, 6, 6, 6, 6, 6, 6, 6, 6, 6, 6, 6, 6, 6, 6, 6, 6, 6, 6, 6, 6, 6, 6, 6, 6, 6, 6, 6, 6, 6, 6, 6, 6, 6, 6, 6, 6, 6, 6, 6, 6, 6, 6, 6, 6, 6, 6, 6, 6, 6, 6, 6, 6, 6, 6, 6, 6, 6, 6, 6, 6, 6, 6, 6, 6, 6, 6, 6, 6, 6, 6, 6, 6, 6, 6, 6, 6, 6, 6, 6, 6, 6, 6, 6, 6, 6, 6, 5, 5, 5, 5, 5, 5, 5, 5, 5, 5, 5, 5, 5, 5, 5, 5, 5, 5, 5, 5, 5, 5, 5, 5, 5, 5, 5, 5, 5, 5, 5, 5, 5, 5, 5, 5, 5, 5, 5, 5, 5, 5, 5, 5, 5, 5, 5, 5, 5, 5, 5, 5, 5, 5, 5, 5, 5, 5, 5, 5, 5, 5, 5, 5, 5, 5, 5, 5, 5, 5, 5, 5, 5, 5, 5, 5, 5, 5, 5, 5, 5, 5, 5, 5, 5, 5, 5, 5, 5, 5, 5, 5, 5, 5, 5, 5, 5, 5, 5, 5, 5, 5, 5, 5, 5, 5, 5, 5, 5, 5, 5, 5, 5, 5, 5, 5, 5, 5, 5, 5, 5, 5, 5, 5, 5, 5, 5, 5, 5, 5, 5, 5, 5, 5, 5, 5, 5, 5, 5, 5, 5, 5, 5, 5, 5, 5, 5, 5, 5, 5, 5, 5, 5, 5, 5, 5, 5, 5, 5, 5, 5, 5, 5, 5, 5, 5, 5, 5, 5, 5, 5, 5, 5, 5, 5, 5, 5, 5, 5, 5, 5, 5, 5, 5, 5, 5, 5, 5, 5, 5, 5, 5, 5, 5, 5, 5, 5, 5, 5, 5, 5, 5, 5, 5, 5, 5, 5, 5, 4, 4, 4, 4, 4, 4, 4, 4, 4, 4, 4, 4, 4, 4, 4, 4, 4, 4, 4, 4, 4, 4, 4, 4, 4, 4, 4, 4, 4, 4, 4, 4, 4, 4, 4, 4, 4, 4, 4, 4, 4, 4, 4, 4, 4, 4, 4, 4, 4, 4, 4, 4, 4, 4, 4, 4, 4, 4, 4, 4, 4, 4, 4, 4, 4, 4, 4, 4, 4, 4, 4, 4, 4, 4, 4, 4, 4, 4, 4, 4, 4, 4, 4, 4, 4, 4, 4, 4, 4, 4, 4, 4, 4, 4, 4, 4, 4, 4, 4, 4, 4, 4, 4, 4, 4, 4, 4, 4, 4, 4, 4, 4, 4, 4, 4, 4, 4, 4, 4, 4, 4, 4, 4, 4, 4, 4, 4, 4, 4, 4, 4, 4, 4, 4, 4, 4, 4, 4, 4, 4, 4, 4, 4, 4, 4, 4, 4, 4, 4, 4, 4, 4, 4, 4, 4, 4, 4, 4, 4, 4, 4, 4, 4, 4, 4, 4, 4, 4, 4, 4, 4, 4, 4, 4, 4, 4, 4, 4, 4, 4, 4, 4, 4, 4, 4, 3, 3, 3, 3, 3, 3, 3, 3, 3, 3, 3, 3, 3, 3, 3, 3, 3, 3, 3, 3, 3, 3, 3, 3, 3, 3, 3, 3, 3, 3, 3, 3, 3, 3, 3, 3, 3, 3, 3, 3, 3, 3, 3, 3, 3, 3, 3, 3, 3, 3, 3, 3, 3, 3, 3, 3, 3, 3, 3, 3, 3, 3, 3, 3, 3, 3, 3, 3, 3, 3, 3, 3, 3, 3, 3, 3, 3, 3, 3, 3, 3, 3, 3, 3, 3, 3, 3, 3, 3, 3, 3, 3, 3, 3, 3, 3, 3, 3, 3, 3, 3, 3, 3, 3, 3, 3, 3, 3, 3, 3, 3, 3, 3, 3, 3, 3, 3, 3, 3, 3, 3, 3, 3, 3, 3, 3, 3, 3, 3, 3, 3, 3, 3, 3, 3, 3, 3, 3, 3, 3, 3, 3, 3, 3, 3, 3, 3, 3, 3, 3, 3, 3, 3, 3, 3, 2, 2, 2, 2, 2, 2, 2, 2, 2, 2, 2, 2, 2, 2, 2, 2, 2, 2, 2, 2, 2, 2, 2, 2, 2, 2, 2, 2, 2, 2, 2, 2, 2, 2, 2, 2, 2, 2, 2, 2, 2, 2, 2, 2, 2, 2, 2, 2, 2, 2, 2, 2, 2, 2, 2, 2, 2, 2, 2, 2, 2, 2, 2, 2, 2, 2, 2, 2, 2, 2, 2, 2, 2, 2, 2, 2, 2, 2, 2, 2, 2, 2, 2, 2, 2, 2, 2, 2, 2, 2, 2, 2, 2, 2, 2, 2, 2, 2, 2, 2, 2, 2, 2, 2, 2, 2, 2, 2, 2, 2, 2, 2, 2, 2, 2, 2, 2, 1, 1, 1, 1, 1, 1, 1, 1, 1, 1, 1, 1, 1, 1, 1, 1, 1, 1, 1, 1, 1, 1, 1, 1, 1, 1, 1, 1, 1, 1, 1, 1, 1, 1, 1, 1, 1, 1, 1, 1, 1, 1, 1, 1, 1, 1, 1, 1, 1], \"xaxis\": \"x\", \"xbins\": {\"end\": 63.0, \"size\": 1.0, \"start\": 1.0}, \"yaxis\": \"y\"}, {\"legendgroup\": \"Sentence Distribution\", \"marker\": {\"color\": \"rgb(31, 119, 180)\"}, \"mode\": \"lines\", \"name\": \"Sentence Distribution\", \"showlegend\": false, \"type\": \"scatter\", \"x\": [1.0, 1.124, 1.248, 1.3719999999999999, 1.496, 1.62, 1.744, 1.8679999999999999, 1.992, 2.116, 2.24, 2.364, 2.488, 2.612, 2.7359999999999998, 2.8600000000000003, 2.984, 3.108, 3.232, 3.356, 3.48, 3.604, 3.728, 3.852, 3.976, 4.1, 4.224, 4.348, 4.4719999999999995, 4.596, 4.720000000000001, 4.843999999999999, 4.968, 5.092, 5.216, 5.34, 5.464, 5.588, 5.712, 5.836, 5.96, 6.084, 6.208, 6.332, 6.456, 6.58, 6.704, 6.828, 6.952, 7.076, 7.2, 7.324, 7.448, 7.572, 7.696, 7.82, 7.944, 8.068, 8.192, 8.315999999999999, 8.440000000000001, 8.564, 8.687999999999999, 8.812000000000001, 8.936, 9.06, 9.184, 9.308, 9.432, 9.556, 9.68, 9.804, 9.928, 10.052, 10.176, 10.3, 10.424, 10.548, 10.672, 10.796, 10.92, 11.044, 11.168, 11.292, 11.416, 11.54, 11.664, 11.788, 11.912, 12.036, 12.16, 12.284, 12.408, 12.532, 12.656, 12.78, 12.904, 13.028, 13.152, 13.276, 13.4, 13.524, 13.648, 13.772, 13.896, 14.02, 14.144, 14.268, 14.392, 14.516, 14.64, 14.764, 14.888, 15.012, 15.136, 15.26, 15.384, 15.508, 15.632, 15.756, 15.88, 16.003999999999998, 16.128, 16.252000000000002, 16.375999999999998, 16.5, 16.624000000000002, 16.747999999999998, 16.872, 16.996000000000002, 17.12, 17.244, 17.368, 17.492, 17.616, 17.74, 17.864, 17.988, 18.112, 18.236, 18.36, 18.484, 18.608, 18.732, 18.856, 18.98, 19.104, 19.228, 19.352, 19.476, 19.6, 19.724, 19.848, 19.972, 20.096, 20.22, 20.344, 20.468, 20.592, 20.716, 20.84, 20.964, 21.088, 21.212, 21.336, 21.46, 21.584, 21.708, 21.832, 21.956, 22.08, 22.204, 22.328, 22.452, 22.576, 22.7, 22.824, 22.948, 23.072, 23.196, 23.32, 23.444, 23.568, 23.692, 23.816, 23.94, 24.064, 24.188, 24.312, 24.436, 24.56, 24.684, 24.808, 24.932, 25.056, 25.18, 25.304, 25.428, 25.552, 25.676, 25.8, 25.924, 26.048, 26.172, 26.296, 26.42, 26.544, 26.668, 26.792, 26.916, 27.04, 27.164, 27.288, 27.412, 27.536, 27.66, 27.784, 27.908, 28.032, 28.156, 28.28, 28.404, 28.528, 28.652, 28.776, 28.9, 29.024, 29.148, 29.272, 29.396, 29.52, 29.644, 29.768, 29.892, 30.016, 30.14, 30.264, 30.388, 30.512, 30.636, 30.76, 30.884, 31.008, 31.132, 31.256, 31.38, 31.504, 31.628, 31.752, 31.876, 32.0, 32.123999999999995, 32.248000000000005, 32.372, 32.495999999999995, 32.620000000000005, 32.744, 32.867999999999995, 32.992000000000004, 33.116, 33.24, 33.364, 33.488, 33.612, 33.736, 33.86, 33.984, 34.108, 34.232, 34.356, 34.48, 34.604, 34.728, 34.852, 34.976, 35.1, 35.224, 35.348, 35.472, 35.596, 35.72, 35.844, 35.968, 36.092, 36.216, 36.34, 36.464, 36.588, 36.712, 36.836, 36.96, 37.084, 37.208, 37.332, 37.456, 37.58, 37.704, 37.828, 37.952, 38.076, 38.2, 38.324, 38.448, 38.572, 38.696, 38.82, 38.944, 39.068, 39.192, 39.316, 39.44, 39.564, 39.688, 39.812, 39.936, 40.06, 40.184, 40.308, 40.432, 40.556, 40.68, 40.804, 40.928, 41.052, 41.176, 41.3, 41.424, 41.548, 41.672, 41.796, 41.92, 42.044, 42.168, 42.292, 42.416, 42.54, 42.664, 42.788, 42.912, 43.036, 43.16, 43.284, 43.408, 43.532, 43.656, 43.78, 43.904, 44.028, 44.152, 44.276, 44.4, 44.524, 44.648, 44.772, 44.896, 45.02, 45.144, 45.268, 45.392, 45.516, 45.64, 45.764, 45.888, 46.012, 46.136, 46.26, 46.384, 46.508, 46.632, 46.756, 46.88, 47.004, 47.128, 47.252, 47.376, 47.5, 47.624, 47.748, 47.872, 47.996, 48.12, 48.244, 48.368, 48.492, 48.616, 48.74, 48.864, 48.988, 49.112, 49.236, 49.36, 49.484, 49.608, 49.732, 49.856, 49.98, 50.104, 50.228, 50.352, 50.476, 50.6, 50.724, 50.848, 50.972, 51.096, 51.22, 51.344, 51.468, 51.592, 51.716, 51.84, 51.964, 52.088, 52.212, 52.336, 52.46, 52.584, 52.708, 52.832, 52.956, 53.08, 53.204, 53.328, 53.452, 53.576, 53.7, 53.824, 53.948, 54.072, 54.196, 54.32, 54.444, 54.568, 54.692, 54.816, 54.94, 55.064, 55.188, 55.312, 55.436, 55.56, 55.684, 55.808, 55.932, 56.056, 56.18, 56.304, 56.428, 56.552, 56.676, 56.8, 56.924, 57.048, 57.172, 57.296, 57.42, 57.544, 57.668, 57.792, 57.916, 58.04, 58.164, 58.288, 58.412, 58.536, 58.66, 58.784, 58.908, 59.032, 59.156, 59.28, 59.404, 59.528, 59.652, 59.776, 59.9, 60.024, 60.148, 60.272, 60.396, 60.52, 60.644, 60.768, 60.892, 61.016, 61.14, 61.264, 61.388, 61.512, 61.636, 61.76, 61.884, 62.008, 62.132, 62.256, 62.38, 62.504, 62.628, 62.752, 62.876], \"xaxis\": \"x\", \"y\": [0.007618850564299004, 0.008159255268176074, 0.008711528584402493, 0.00927385575213645, 0.009844382563385812, 0.010421242731356339, 0.011002585013895078, 0.011586599479077626, 0.012171542341146719, 0.012755758852093292, 0.013337703804092394, 0.01391595927729799, 0.014489249352526615, 0.015056451595526295, 0.015616605205481174, 0.01616891580220181, 0.016712756901699623, 0.017247668196778237, 0.017773350816801804, 0.01828965978848877, 0.018796593957595257, 0.019294283660360893, 0.01978297645462632, 0.020263021234846468, 0.020734851064131764, 0.021198965061178944, 0.021655909681520782, 0.02210625973163712, 0.022550599451472766, 0.022989503995766, 0.023423521636924693, 0.023853157001339536, 0.024278855636166347, 0.024700990183871663, 0.025119848416434876, 0.025535623349480195, 0.025948405618556297, 0.02635817825550034, 0.02676481395300274, 0.027168074851293363, 0.027567614823905046, 0.027962984181693674, 0.028353636657898695, 0.028738938484297115, 0.02911817932164741, 0.029490584768621087, 0.02985533014389113, 0.0302115552171131, 0.030558379556756145, 0.030894918166080074, 0.03122029709238046, 0.031533668717772745, 0.031834226470648985, 0.032121218733576734, 0.032393961763686904, 0.03265185148332704, 0.03289437403982027, 0.03312111507164114, 0.03333176765254281, 0.03352613891383013, 0.03370415536712356, 0.03386586696503192, 0.034011449944948334, 0.034141208501845086, 0.03425557532992426, 0.03435511106102456, 0.03444050261078359, 0.03451256042295369, 0.034572214579431014, 0.03462050972016658, 0.03465859869506452, 0.034687734851284194, 0.03470926284621312, 0.03472460787096793, 0.03473526317373933, 0.03474277578854522, 0.034748730404536944, 0.03475473135491123, 0.034762382762971854, 0.03477326695532391, 0.03478892133690493, 0.034810814016800376, 0.03484031857369748, 0.03487868845052694, 0.034927031563619586, 0.03498628579629105, 0.035057196113668615, 0.03514029407850244, 0.035235880561016515, 0.035344012415022594, 0.035464493834553225, 0.03559687300907119, 0.0357404445619479, 0.03589425808971741, 0.03605713292421142, 0.036227679023739204, 0.036404323672397015, 0.03658534343901313, 0.03676890063043273, 0.036953083279059384, 0.03713594754228991, 0.03731556127078498, 0.03749004743046253, 0.037657626044239896, 0.037816653355616646, 0.03796565700596562, 0.03810336615677741, 0.03822873567034764, 0.0383409636785722, 0.03843950210906704, 0.03852405998924011, 0.03859459960046278, 0.03865132579482442, 0.03869466900593185, 0.03872526267430756, 0.038743915960675064, 0.03875158273261454, 0.038749327879905496, 0.03873829204178697, 0.0387196558178256, 0.038694604487219855, 0.03866429418455118, 0.038629820379348825, 0.038592189388786516, 0.0385522935236674, 0.038510890333373377, 0.03846858628069536, 0.03842582504653187, 0.03838288054046695, 0.03833985457837543, 0.03829667908376336, 0.038253122576153195, 0.03820880062759269, 0.03816318989713248, 0.038115645292605194, 0.03806541975900959, 0.038011686153170604, 0.03795356063521695, 0.03789012698909405, 0.037820461277259375, 0.037743656239391944, 0.037658844861834795, 0.03756522257385109, 0.03746206756858945, 0.03734875880051786, 0.03722479127613522, 0.03708978832966602, 0.03694351065836806, 0.03678586198079414, 0.03661689127326126, 0.03643679163206632, 0.036245895898714006, 0.03604466926966939, 0.035833699188153656, 0.03561368288077387, 0.03538541295420593, 0.035149761505088556, 0.03490766321861669, 0.034660097937492355, 0.034408073172938265, 0.03415260700401369, 0.03389471177167408, 0.03363537892158466, 0.033375565286803466, 0.03311618103067058, 0.03285807939448143, 0.03260204831691842, 0.032348803916030594, 0.03209898575305237, 0.03185315373367457, 0.03161178644939599, 0.03137528072174251, 0.031143952087341577, 0.03091803595330062, 0.030697689160484643, 0.030482991716686225, 0.030273948501006474, 0.030070490792814243, 0.029872477540420165, 0.029679696352410863, 0.029491864264257945, 0.029308628399892133, 0.029129566707942936, 0.0289541890010682, 0.02878193856054535, 0.02861219458415701, 0.028444275751465797, 0.028277445156087547, 0.0281109168100389, 0.02794386386242677, 0.02777542859663337, 0.02760473418075571, 0.027430898050236407, 0.027253046704775942, 0.027070331609374103, 0.026881945807212933, 0.02668714078510889, 0.026485243084677073, 0.026275670127363926, 0.02605794472104107, 0.025831707740447764, 0.025596728522521605, 0.025352912588288985, 0.025100306391983553, 0.02483909890089219, 0.02456961992083431, 0.02429233519650497, 0.024007838427447515, 0.0237168404437683, 0.023420155876085615, 0.02311868772774568, 0.022813410311278818, 0.022505351043883202, 0.022195571608174626, 0.0218851489755181, 0.021575156762054515, 0.02126664734504404, 0.0209606351129987, 0.020658081161239916, 0.02035987967901225, 0.020066846208872037, 0.019779707897004756, 0.019499095796954417, 0.0192255392406737, 0.01895946225063446, 0.018701181934911864, 0.018450908782843892, 0.01820874876064117, 0.01797470709236247, 0.017748693600015245, 0.017530529465320556, 0.01731995526335408, 0.01711664010380276, 0.01692019169856049, 0.01673016715512167, 0.01654608427469605, 0.016367433113736327, 0.01619368754966134, 0.01602431657824106, 0.015858795063673974, 0.015696613664903967, 0.015537287674822221, 0.015380364533679771, 0.015225429814526523, 0.015072111526178074, 0.014920082636625618, 0.01476906178469722, 0.014618812217245288, 0.014469139059797844, 0.014319885096843314, 0.014170925300080758, 0.014022160395654222, 0.013873509801647824, 0.0137249042926425, 0.01357627875740773, 0.013427565408187996, 0.013278687775816882, 0.013129555785214254, 0.01298006215266293, 0.012830080282269311, 0.012679463767366375, 0.012528047526834863, 0.012375650530064793, 0.012222079991180895, 0.012067136846603927, 0.01191062227302237, 0.011752344957879232, 0.011592128803376808, 0.01142982072890334, 0.01126529823607733, 0.011098476414937376, 0.010929314098118263, 0.010757818910447262, 0.010584051012025612, 0.010408125390862397, 0.010230212623549765, 0.010050538086223861, 0.009869379660084814, 0.009687064033162988, 0.009503961750253736, 0.009320481203880342, 0.009137061789213686, 0.008954166464128721, 0.008772273961721254, 0.008591870897009588, 0.00841344399319553, 0.008237472627295846, 0.008064421862168152, 0.007894736094250714, 0.007728833406197132, 0.007567100673523014, 0.0074098894367684845, 0.007257512517628478, 0.007110241330731992, 0.006968303823494342, 0.006831882965410022, 0.006701115705408718, 0.00657609232100769, 0.006456856094983521, 0.006343403272735177, 0.006235683274654577, 0.006133599160681315, 0.00603700836673115, 0.005945723752844691, 0.005859515018882927, 0.005778110553887226, 0.005701199788714379, 0.005628436117623039, 0.005559440443014567, 0.005493805378933807, 0.005431100124129085, 0.005370875985815138, 0.005312672502493789, 0.005256024080231948, 0.005200467023767054, 0.005145546813793, 0.005090825456723961, 0.005035888714829414, 0.004980353014205543, 0.0049238718264729186, 0.004866141327744322, 0.00480690515514351, 0.004745958106317953, 0.004683148659851993, 0.004618380232731586, 0.004551611133218011, 0.004482853211648984, 0.004412169255727098, 0.004339669218756558, 0.004265505407196888, 0.004189866786227302, 0.004112972587511055, 0.004035065421162069, 0.003956404103612001, 0.0038772564146348485, 0.0037978919905782703, 0.003718575547583704, 0.0036395606092323686, 0.003561083888811471, 0.0034833604485498175, 0.003406579728060283, 0.0033309025031493782, 0.003256458805318339, 0.0031833468027502093, 0.0031116326162425197, 0.00304135101910193, 0.002972506948964983, 0.0029050777421589713, 0.002839015987707405, 0.002774252888406925, 0.0027107020104255846, 0.002648263300372827, 0.002586827249478869, 0.0025262790880625024, 0.0024665028995075624, 0.0024073855511492236, 0.0023488203494380893, 0.002290710338164397, 0.002232971171067023, 0.0021755335035240496, 0.0021183448619463397, 0.0020613709637138143, 0.0020045964747615725, 0.0019480252060067936, 0.0018916797634805993, 0.0018356006800672746, 0.0017798450689325426, 0.0017244848498164493, 0.0016696046091480797, 0.0016152991631840964, 0.001561670899864405, 0.001508826979616384, 0.00145687647775191, 0.0014059275512570031, 0.0013560847105939919, 0.0013074462726088065, 0.001260102063827122, 0.001214131434483313, 0.0011696016327959193, 0.0011265665766087875, 0.001085066045964283, 0.0010451253059354342, 0.0010067551546344945, 0.0009699523772766876, 0.0009347005740464913, 0.0009009713177949703, 0.0008687255877387791, 0.0008379154177018646, 0.0008084856923064771, 0.0007803760220353901, 0.0007535226282872778, 0.0007278601723483347, 0.0007033234674112089, 0.0006798490200953371, 0.0006573763569892541, 0.0006358491021161656, 0.0006152157824542416, 0.0005954303502453785, 0.0005764524223322232, 0.0005582472477326126, 0.0005407854246959298, 0.000524042397245853, 0.0005079977684213951, 0.0004926344728750401, 0.00047793785503772254, 0.0004638947006517529, 0.00045049226911194, 0.000437717371817104, 0.00042555553775785126, 0.0004139903020496465, 0.00040300264631318175, 0.00039257061200261657, 0.0003826690993185627, 0.0003732698555745633, 0.00036434164818459325, 0.0003558506091754732, 0.00034776073065663325, 0.00034003448432309277, 0.00033263353310054747, 0.00032551949967613535, 0.0003186547550315736, 0.00031200319025922535, 0.00030553093685898957, 0.00029920700425782555, 0.0002930038082529395, 0.0002868975701691919, 0.0002808685733978163, 0.0002749012712653518, 0.00026898424747082763, 0.0002631100372358178, 0.0002572748234775842, 0.00025147802743517357, 0.0002457218170184805, 0.00024001055856232926, 0.00023435023859508721, 0.00022874788171097762, 0.00022321098879145383, 0.00021774701685416773, 0.0002123629179779013, 0.00020706475035708435, 0.00020185736989506038, 0.00019674420615947502, 0.00019172712227624817, 0.00018680635466399457, 0.00018198052558123794, 0.00017724671937750864, 0.00017260061213698153, 0.0001680366440406176, 0.00016354822414925627, 0.00015912795827608718, 0.00015476789198970656, 0.0001504597623701297, 0.00014619525373327417, 0.00014196625396677384, 0.00013776510923624953, 0.00013358487552390222, 0.00012941956569726526, 0.000125264390572855, 0.00012111599178327272, 0.0001169726632651572, 0.00011283455698000881, 0.00010870386720209297, 0.00010458498650792953, 0.00010048462562698657, 9.641188869465952e-05, 9.237829529317751e-05, 8.839774104869627e-05, 8.448638951207669e-05, 8.066248958730803e-05, 7.6946114848918e-05, 7.335882363781463e-05, 6.992324174475105e-05, 6.666257266022685e-05, 6.360004365120941e-05, 6.075829917150273e-05, 5.81587561741945e-05, 5.582093862516645e-05, 5.376181077874209e-05, 5.1995130446516944e-05, 5.053084446249681e-05, 4.9374548737731115e-05, 4.852703464678585e-05, 4.798394196615303e-05, 4.773553619188587e-05, 4.776662483519935e-05, 4.805662330111391e-05, 4.8579776303797846e-05, 4.930553560670345e-05, 5.019908937343324e-05, 5.122203278360563e-05, 5.233316403667765e-05, 5.3489384679294755e-05, 5.4646678594332295e-05, 5.5761140218124015e-05, 5.679001981804636e-05, 5.769275213939685e-05, 5.843193454146681e-05, 5.89742219496286e-05, 5.9291108546080644e-05, 5.935957002714069e-05], \"yaxis\": \"y\"}, {\"legendgroup\": \"Sentence Distribution\", \"marker\": {\"color\": \"rgb(31, 119, 180)\", \"symbol\": \"line-ns-open\"}, \"mode\": \"markers\", \"name\": \"Sentence Distribution\", \"showlegend\": false, \"type\": \"scatter\", \"x\": [63, 63, 59, 58, 57, 56, 56, 55, 54, 54, 54, 53, 53, 53, 52, 52, 51, 51, 51, 51, 50, 50, 50, 50, 50, 49, 49, 49, 49, 49, 49, 49, 48, 48, 48, 48, 48, 48, 47, 47, 47, 47, 47, 47, 47, 47, 47, 47, 47, 47, 47, 46, 46, 46, 46, 46, 46, 46, 46, 46, 46, 46, 46, 46, 46, 46, 46, 46, 45, 45, 45, 45, 45, 45, 45, 45, 45, 45, 45, 45, 45, 45, 45, 45, 45, 45, 45, 45, 45, 45, 44, 44, 44, 44, 44, 44, 44, 44, 44, 44, 44, 44, 44, 44, 44, 44, 44, 44, 44, 44, 44, 44, 43, 43, 43, 43, 43, 43, 43, 43, 43, 43, 43, 43, 43, 43, 43, 43, 43, 43, 43, 43, 43, 43, 43, 43, 43, 43, 43, 43, 42, 42, 42, 42, 42, 42, 42, 42, 42, 42, 42, 42, 42, 42, 42, 42, 42, 42, 42, 42, 42, 42, 42, 42, 42, 42, 42, 42, 42, 42, 42, 42, 42, 42, 41, 41, 41, 41, 41, 41, 41, 41, 41, 41, 41, 41, 41, 41, 41, 41, 41, 41, 41, 41, 41, 41, 41, 41, 41, 41, 41, 41, 41, 41, 41, 41, 41, 41, 41, 41, 41, 41, 41, 41, 41, 41, 41, 41, 41, 41, 41, 41, 41, 40, 40, 40, 40, 40, 40, 40, 40, 40, 40, 40, 40, 40, 40, 40, 40, 40, 40, 40, 40, 40, 40, 40, 40, 40, 40, 40, 40, 40, 40, 40, 40, 40, 40, 40, 40, 40, 40, 40, 40, 40, 40, 40, 39, 39, 39, 39, 39, 39, 39, 39, 39, 39, 39, 39, 39, 39, 39, 39, 39, 39, 39, 39, 39, 39, 39, 39, 39, 39, 39, 39, 39, 39, 39, 39, 39, 39, 39, 39, 39, 39, 39, 39, 39, 39, 38, 38, 38, 38, 38, 38, 38, 38, 38, 38, 38, 38, 38, 38, 38, 38, 38, 38, 38, 38, 38, 38, 38, 38, 38, 38, 38, 38, 38, 38, 38, 38, 38, 38, 38, 38, 38, 38, 38, 38, 38, 38, 38, 38, 38, 38, 38, 38, 38, 38, 38, 37, 37, 37, 37, 37, 37, 37, 37, 37, 37, 37, 37, 37, 37, 37, 37, 37, 37, 37, 37, 37, 37, 37, 37, 37, 37, 37, 37, 37, 37, 37, 37, 37, 37, 37, 37, 37, 37, 37, 37, 37, 37, 37, 37, 37, 37, 37, 37, 37, 37, 37, 37, 37, 37, 37, 37, 37, 37, 37, 36, 36, 36, 36, 36, 36, 36, 36, 36, 36, 36, 36, 36, 36, 36, 36, 36, 36, 36, 36, 36, 36, 36, 36, 36, 36, 36, 36, 36, 36, 36, 36, 36, 36, 36, 36, 36, 36, 36, 36, 36, 36, 36, 36, 36, 36, 36, 36, 36, 36, 36, 36, 36, 36, 36, 36, 36, 36, 36, 36, 36, 36, 36, 36, 36, 36, 36, 36, 36, 36, 36, 35, 35, 35, 35, 35, 35, 35, 35, 35, 35, 35, 35, 35, 35, 35, 35, 35, 35, 35, 35, 35, 35, 35, 35, 35, 35, 35, 35, 35, 35, 35, 35, 35, 35, 35, 35, 35, 35, 35, 35, 35, 35, 35, 35, 35, 35, 35, 35, 35, 35, 35, 35, 35, 35, 35, 35, 35, 35, 35, 35, 35, 35, 35, 35, 35, 35, 35, 35, 35, 35, 35, 35, 35, 35, 35, 35, 35, 35, 35, 35, 35, 35, 35, 35, 35, 35, 35, 35, 35, 35, 35, 35, 35, 35, 35, 35, 35, 35, 34, 34, 34, 34, 34, 34, 34, 34, 34, 34, 34, 34, 34, 34, 34, 34, 34, 34, 34, 34, 34, 34, 34, 34, 34, 34, 34, 34, 34, 34, 34, 34, 34, 34, 34, 34, 34, 34, 34, 34, 34, 34, 34, 34, 34, 34, 34, 34, 34, 34, 34, 34, 34, 34, 34, 34, 34, 34, 34, 34, 34, 34, 34, 34, 34, 34, 34, 34, 34, 34, 34, 34, 34, 34, 34, 34, 34, 34, 34, 34, 34, 34, 34, 34, 34, 34, 34, 34, 34, 34, 34, 34, 34, 34, 34, 34, 34, 34, 34, 34, 34, 34, 33, 33, 33, 33, 33, 33, 33, 33, 33, 33, 33, 33, 33, 33, 33, 33, 33, 33, 33, 33, 33, 33, 33, 33, 33, 33, 33, 33, 33, 33, 33, 33, 33, 33, 33, 33, 33, 33, 33, 33, 33, 33, 33, 33, 33, 33, 33, 33, 33, 33, 33, 33, 33, 33, 33, 33, 33, 33, 33, 33, 33, 33, 33, 33, 33, 33, 33, 33, 33, 33, 33, 33, 33, 33, 33, 33, 33, 33, 33, 33, 33, 33, 33, 33, 33, 33, 33, 33, 33, 33, 33, 33, 33, 33, 33, 33, 33, 33, 33, 33, 33, 33, 33, 33, 33, 33, 33, 32, 32, 32, 32, 32, 32, 32, 32, 32, 32, 32, 32, 32, 32, 32, 32, 32, 32, 32, 32, 32, 32, 32, 32, 32, 32, 32, 32, 32, 32, 32, 32, 32, 32, 32, 32, 32, 32, 32, 32, 32, 32, 32, 32, 32, 32, 32, 32, 32, 32, 32, 32, 32, 32, 32, 32, 32, 32, 32, 32, 32, 32, 32, 32, 32, 32, 32, 32, 32, 32, 32, 32, 32, 32, 32, 32, 32, 32, 32, 32, 32, 32, 32, 32, 32, 32, 32, 32, 32, 32, 32, 32, 32, 32, 32, 32, 32, 32, 32, 32, 32, 32, 32, 32, 32, 32, 32, 32, 32, 32, 32, 32, 32, 32, 32, 32, 32, 32, 31, 31, 31, 31, 31, 31, 31, 31, 31, 31, 31, 31, 31, 31, 31, 31, 31, 31, 31, 31, 31, 31, 31, 31, 31, 31, 31, 31, 31, 31, 31, 31, 31, 31, 31, 31, 31, 31, 31, 31, 31, 31, 31, 31, 31, 31, 31, 31, 31, 31, 31, 31, 31, 31, 31, 31, 31, 31, 31, 31, 31, 31, 31, 31, 31, 31, 31, 31, 31, 31, 31, 31, 31, 31, 31, 31, 31, 31, 31, 31, 31, 31, 31, 31, 31, 31, 31, 31, 31, 31, 31, 31, 31, 31, 31, 31, 31, 31, 31, 31, 31, 31, 31, 31, 31, 31, 31, 31, 31, 31, 31, 31, 31, 31, 31, 31, 31, 31, 31, 31, 31, 31, 31, 31, 31, 31, 31, 31, 31, 31, 31, 31, 31, 31, 31, 31, 31, 31, 31, 31, 31, 31, 31, 30, 30, 30, 30, 30, 30, 30, 30, 30, 30, 30, 30, 30, 30, 30, 30, 30, 30, 30, 30, 30, 30, 30, 30, 30, 30, 30, 30, 30, 30, 30, 30, 30, 30, 30, 30, 30, 30, 30, 30, 30, 30, 30, 30, 30, 30, 30, 30, 30, 30, 30, 30, 30, 30, 30, 30, 30, 30, 30, 30, 30, 30, 30, 30, 30, 30, 30, 30, 30, 30, 30, 30, 30, 30, 30, 30, 30, 30, 30, 30, 30, 30, 30, 30, 30, 30, 30, 30, 30, 30, 30, 30, 30, 30, 30, 30, 30, 30, 30, 30, 30, 30, 30, 30, 30, 30, 30, 30, 30, 30, 30, 30, 30, 30, 30, 30, 30, 30, 30, 30, 30, 30, 30, 30, 30, 30, 30, 29, 29, 29, 29, 29, 29, 29, 29, 29, 29, 29, 29, 29, 29, 29, 29, 29, 29, 29, 29, 29, 29, 29, 29, 29, 29, 29, 29, 29, 29, 29, 29, 29, 29, 29, 29, 29, 29, 29, 29, 29, 29, 29, 29, 29, 29, 29, 29, 29, 29, 29, 29, 29, 29, 29, 29, 29, 29, 29, 29, 29, 29, 29, 29, 29, 29, 29, 29, 29, 29, 29, 29, 29, 29, 29, 29, 29, 29, 29, 29, 29, 29, 29, 29, 29, 29, 29, 29, 29, 29, 29, 29, 29, 29, 29, 29, 29, 29, 29, 29, 29, 29, 29, 29, 29, 29, 29, 29, 29, 29, 29, 29, 29, 29, 29, 29, 29, 29, 29, 29, 29, 29, 29, 29, 29, 29, 29, 29, 29, 29, 29, 29, 29, 29, 29, 29, 29, 29, 29, 29, 29, 29, 29, 29, 29, 29, 29, 29, 29, 29, 29, 29, 29, 29, 29, 28, 28, 28, 28, 28, 28, 28, 28, 28, 28, 28, 28, 28, 28, 28, 28, 28, 28, 28, 28, 28, 28, 28, 28, 28, 28, 28, 28, 28, 28, 28, 28, 28, 28, 28, 28, 28, 28, 28, 28, 28, 28, 28, 28, 28, 28, 28, 28, 28, 28, 28, 28, 28, 28, 28, 28, 28, 28, 28, 28, 28, 28, 28, 28, 28, 28, 28, 28, 28, 28, 28, 28, 28, 28, 28, 28, 28, 28, 28, 28, 28, 28, 28, 28, 28, 28, 28, 28, 28, 28, 28, 28, 28, 28, 28, 28, 28, 28, 28, 28, 28, 28, 28, 28, 28, 28, 28, 28, 28, 28, 28, 28, 28, 28, 28, 28, 28, 28, 28, 28, 28, 28, 28, 28, 28, 28, 28, 28, 28, 28, 28, 28, 28, 28, 28, 28, 28, 28, 28, 28, 28, 28, 28, 28, 28, 28, 28, 28, 28, 28, 28, 28, 28, 28, 28, 28, 28, 28, 28, 28, 28, 28, 28, 28, 28, 27, 27, 27, 27, 27, 27, 27, 27, 27, 27, 27, 27, 27, 27, 27, 27, 27, 27, 27, 27, 27, 27, 27, 27, 27, 27, 27, 27, 27, 27, 27, 27, 27, 27, 27, 27, 27, 27, 27, 27, 27, 27, 27, 27, 27, 27, 27, 27, 27, 27, 27, 27, 27, 27, 27, 27, 27, 27, 27, 27, 27, 27, 27, 27, 27, 27, 27, 27, 27, 27, 27, 27, 27, 27, 27, 27, 27, 27, 27, 27, 27, 27, 27, 27, 27, 27, 27, 27, 27, 27, 27, 27, 27, 27, 27, 27, 27, 27, 27, 27, 27, 27, 27, 27, 27, 27, 27, 27, 27, 27, 27, 27, 27, 27, 27, 27, 27, 27, 27, 27, 27, 27, 27, 27, 27, 27, 27, 27, 27, 27, 27, 27, 27, 27, 27, 27, 27, 27, 27, 27, 27, 27, 27, 27, 27, 27, 27, 27, 27, 27, 27, 27, 27, 27, 27, 27, 27, 27, 27, 27, 27, 27, 27, 27, 27, 27, 27, 27, 27, 27, 27, 27, 27, 27, 27, 27, 27, 27, 27, 27, 27, 27, 27, 27, 27, 27, 27, 27, 27, 27, 27, 27, 27, 27, 27, 27, 27, 27, 27, 27, 26, 26, 26, 26, 26, 26, 26, 26, 26, 26, 26, 26, 26, 26, 26, 26, 26, 26, 26, 26, 26, 26, 26, 26, 26, 26, 26, 26, 26, 26, 26, 26, 26, 26, 26, 26, 26, 26, 26, 26, 26, 26, 26, 26, 26, 26, 26, 26, 26, 26, 26, 26, 26, 26, 26, 26, 26, 26, 26, 26, 26, 26, 26, 26, 26, 26, 26, 26, 26, 26, 26, 26, 26, 26, 26, 26, 26, 26, 26, 26, 26, 26, 26, 26, 26, 26, 26, 26, 26, 26, 26, 26, 26, 26, 26, 26, 26, 26, 26, 26, 26, 26, 26, 26, 26, 26, 26, 26, 26, 26, 26, 26, 26, 26, 26, 26, 26, 26, 26, 26, 26, 26, 26, 26, 26, 26, 26, 26, 26, 26, 26, 26, 26, 26, 26, 26, 26, 26, 26, 26, 26, 26, 26, 26, 26, 26, 26, 26, 26, 26, 26, 26, 26, 26, 26, 26, 26, 26, 26, 26, 26, 26, 26, 26, 26, 26, 26, 26, 26, 26, 26, 26, 26, 26, 26, 26, 26, 26, 26, 26, 26, 26, 26, 26, 26, 26, 26, 26, 26, 26, 26, 26, 26, 26, 26, 26, 26, 26, 26, 26, 26, 26, 26, 26, 26, 26, 26, 26, 26, 26, 26, 26, 26, 26, 26, 26, 26, 26, 26, 26, 26, 26, 26, 26, 26, 26, 26, 26, 26, 26, 26, 26, 26, 26, 26, 26, 26, 26, 26, 26, 26, 25, 25, 25, 25, 25, 25, 25, 25, 25, 25, 25, 25, 25, 25, 25, 25, 25, 25, 25, 25, 25, 25, 25, 25, 25, 25, 25, 25, 25, 25, 25, 25, 25, 25, 25, 25, 25, 25, 25, 25, 25, 25, 25, 25, 25, 25, 25, 25, 25, 25, 25, 25, 25, 25, 25, 25, 25, 25, 25, 25, 25, 25, 25, 25, 25, 25, 25, 25, 25, 25, 25, 25, 25, 25, 25, 25, 25, 25, 25, 25, 25, 25, 25, 25, 25, 25, 25, 25, 25, 25, 25, 25, 25, 25, 25, 25, 25, 25, 25, 25, 25, 25, 25, 25, 25, 25, 25, 25, 25, 25, 25, 25, 25, 25, 25, 25, 25, 25, 25, 25, 25, 25, 25, 25, 25, 25, 25, 25, 25, 25, 25, 25, 25, 25, 25, 25, 25, 25, 25, 25, 25, 25, 25, 25, 25, 25, 25, 25, 25, 25, 25, 25, 25, 25, 25, 25, 25, 25, 25, 25, 25, 25, 25, 25, 25, 25, 25, 25, 25, 25, 25, 25, 25, 25, 25, 25, 25, 25, 25, 25, 25, 25, 25, 25, 25, 25, 25, 25, 25, 25, 25, 25, 25, 25, 25, 25, 25, 25, 25, 25, 25, 25, 25, 25, 25, 25, 25, 25, 25, 25, 25, 25, 25, 25, 25, 25, 25, 25, 25, 25, 25, 25, 25, 25, 25, 25, 25, 25, 25, 25, 25, 25, 25, 24, 24, 24, 24, 24, 24, 24, 24, 24, 24, 24, 24, 24, 24, 24, 24, 24, 24, 24, 24, 24, 24, 24, 24, 24, 24, 24, 24, 24, 24, 24, 24, 24, 24, 24, 24, 24, 24, 24, 24, 24, 24, 24, 24, 24, 24, 24, 24, 24, 24, 24, 24, 24, 24, 24, 24, 24, 24, 24, 24, 24, 24, 24, 24, 24, 24, 24, 24, 24, 24, 24, 24, 24, 24, 24, 24, 24, 24, 24, 24, 24, 24, 24, 24, 24, 24, 24, 24, 24, 24, 24, 24, 24, 24, 24, 24, 24, 24, 24, 24, 24, 24, 24, 24, 24, 24, 24, 24, 24, 24, 24, 24, 24, 24, 24, 24, 24, 24, 24, 24, 24, 24, 24, 24, 24, 24, 24, 24, 24, 24, 24, 24, 24, 24, 24, 24, 24, 24, 24, 24, 24, 24, 24, 24, 24, 24, 24, 24, 24, 24, 24, 24, 24, 24, 24, 24, 24, 24, 24, 24, 24, 24, 24, 24, 24, 24, 24, 24, 24, 24, 24, 24, 24, 24, 24, 24, 24, 24, 24, 24, 24, 24, 24, 24, 24, 24, 24, 24, 24, 24, 24, 24, 24, 24, 24, 24, 24, 24, 24, 24, 24, 24, 24, 24, 24, 24, 24, 24, 24, 24, 24, 24, 24, 24, 24, 24, 24, 24, 24, 24, 24, 24, 24, 24, 24, 24, 24, 24, 24, 24, 24, 24, 24, 23, 23, 23, 23, 23, 23, 23, 23, 23, 23, 23, 23, 23, 23, 23, 23, 23, 23, 23, 23, 23, 23, 23, 23, 23, 23, 23, 23, 23, 23, 23, 23, 23, 23, 23, 23, 23, 23, 23, 23, 23, 23, 23, 23, 23, 23, 23, 23, 23, 23, 23, 23, 23, 23, 23, 23, 23, 23, 23, 23, 23, 23, 23, 23, 23, 23, 23, 23, 23, 23, 23, 23, 23, 23, 23, 23, 23, 23, 23, 23, 23, 23, 23, 23, 23, 23, 23, 23, 23, 23, 23, 23, 23, 23, 23, 23, 23, 23, 23, 23, 23, 23, 23, 23, 23, 23, 23, 23, 23, 23, 23, 23, 23, 23, 23, 23, 23, 23, 23, 23, 23, 23, 23, 23, 23, 23, 23, 23, 23, 23, 23, 23, 23, 23, 23, 23, 23, 23, 23, 23, 23, 23, 23, 23, 23, 23, 23, 23, 23, 23, 23, 23, 23, 23, 23, 23, 23, 23, 23, 23, 23, 23, 23, 23, 23, 23, 23, 23, 23, 23, 23, 23, 23, 23, 23, 23, 23, 23, 23, 23, 23, 23, 23, 23, 23, 23, 23, 23, 23, 23, 23, 23, 23, 23, 23, 23, 23, 23, 23, 23, 23, 23, 23, 23, 23, 23, 23, 23, 23, 23, 23, 23, 23, 23, 23, 23, 23, 23, 23, 23, 23, 23, 23, 23, 23, 23, 23, 23, 23, 23, 23, 23, 23, 23, 23, 23, 23, 23, 23, 23, 23, 23, 23, 23, 23, 23, 23, 23, 23, 23, 23, 23, 23, 23, 23, 23, 23, 23, 23, 22, 22, 22, 22, 22, 22, 22, 22, 22, 22, 22, 22, 22, 22, 22, 22, 22, 22, 22, 22, 22, 22, 22, 22, 22, 22, 22, 22, 22, 22, 22, 22, 22, 22, 22, 22, 22, 22, 22, 22, 22, 22, 22, 22, 22, 22, 22, 22, 22, 22, 22, 22, 22, 22, 22, 22, 22, 22, 22, 22, 22, 22, 22, 22, 22, 22, 22, 22, 22, 22, 22, 22, 22, 22, 22, 22, 22, 22, 22, 22, 22, 22, 22, 22, 22, 22, 22, 22, 22, 22, 22, 22, 22, 22, 22, 22, 22, 22, 22, 22, 22, 22, 22, 22, 22, 22, 22, 22, 22, 22, 22, 22, 22, 22, 22, 22, 22, 22, 22, 22, 22, 22, 22, 22, 22, 22, 22, 22, 22, 22, 22, 22, 22, 22, 22, 22, 22, 22, 22, 22, 22, 22, 22, 22, 22, 22, 22, 22, 22, 22, 22, 22, 22, 22, 22, 22, 22, 22, 22, 22, 22, 22, 22, 22, 22, 22, 22, 22, 22, 22, 22, 22, 22, 22, 22, 22, 22, 22, 22, 22, 22, 22, 22, 22, 22, 22, 22, 22, 22, 22, 22, 22, 22, 22, 22, 22, 22, 22, 22, 22, 22, 22, 22, 22, 22, 22, 22, 22, 22, 22, 22, 22, 22, 22, 22, 22, 22, 22, 22, 22, 22, 22, 22, 22, 22, 22, 22, 22, 22, 22, 22, 22, 22, 22, 22, 22, 22, 22, 22, 22, 22, 22, 22, 22, 22, 22, 22, 22, 22, 22, 22, 22, 22, 22, 22, 22, 22, 22, 22, 21, 21, 21, 21, 21, 21, 21, 21, 21, 21, 21, 21, 21, 21, 21, 21, 21, 21, 21, 21, 21, 21, 21, 21, 21, 21, 21, 21, 21, 21, 21, 21, 21, 21, 21, 21, 21, 21, 21, 21, 21, 21, 21, 21, 21, 21, 21, 21, 21, 21, 21, 21, 21, 21, 21, 21, 21, 21, 21, 21, 21, 21, 21, 21, 21, 21, 21, 21, 21, 21, 21, 21, 21, 21, 21, 21, 21, 21, 21, 21, 21, 21, 21, 21, 21, 21, 21, 21, 21, 21, 21, 21, 21, 21, 21, 21, 21, 21, 21, 21, 21, 21, 21, 21, 21, 21, 21, 21, 21, 21, 21, 21, 21, 21, 21, 21, 21, 21, 21, 21, 21, 21, 21, 21, 21, 21, 21, 21, 21, 21, 21, 21, 21, 21, 21, 21, 21, 21, 21, 21, 21, 21, 21, 21, 21, 21, 21, 21, 21, 21, 21, 21, 21, 21, 21, 21, 21, 21, 21, 21, 21, 21, 21, 21, 21, 21, 21, 21, 21, 21, 21, 21, 21, 21, 21, 21, 21, 21, 21, 21, 21, 21, 21, 21, 21, 21, 21, 21, 21, 21, 21, 21, 21, 21, 21, 21, 21, 21, 21, 21, 21, 21, 21, 21, 21, 21, 21, 21, 21, 21, 21, 21, 21, 21, 21, 21, 21, 21, 21, 21, 21, 21, 21, 21, 21, 21, 21, 21, 21, 21, 21, 21, 21, 21, 21, 21, 21, 21, 21, 21, 21, 21, 21, 21, 21, 21, 21, 21, 21, 21, 21, 21, 21, 21, 21, 21, 21, 21, 21, 21, 21, 21, 21, 21, 21, 21, 21, 21, 21, 21, 21, 21, 21, 21, 21, 21, 21, 21, 21, 21, 21, 21, 21, 21, 21, 21, 21, 20, 20, 20, 20, 20, 20, 20, 20, 20, 20, 20, 20, 20, 20, 20, 20, 20, 20, 20, 20, 20, 20, 20, 20, 20, 20, 20, 20, 20, 20, 20, 20, 20, 20, 20, 20, 20, 20, 20, 20, 20, 20, 20, 20, 20, 20, 20, 20, 20, 20, 20, 20, 20, 20, 20, 20, 20, 20, 20, 20, 20, 20, 20, 20, 20, 20, 20, 20, 20, 20, 20, 20, 20, 20, 20, 20, 20, 20, 20, 20, 20, 20, 20, 20, 20, 20, 20, 20, 20, 20, 20, 20, 20, 20, 20, 20, 20, 20, 20, 20, 20, 20, 20, 20, 20, 20, 20, 20, 20, 20, 20, 20, 20, 20, 20, 20, 20, 20, 20, 20, 20, 20, 20, 20, 20, 20, 20, 20, 20, 20, 20, 20, 20, 20, 20, 20, 20, 20, 20, 20, 20, 20, 20, 20, 20, 20, 20, 20, 20, 20, 20, 20, 20, 20, 20, 20, 20, 20, 20, 20, 20, 20, 20, 20, 20, 20, 20, 20, 20, 20, 20, 20, 20, 20, 20, 20, 20, 20, 20, 20, 20, 20, 20, 20, 20, 20, 20, 20, 20, 20, 20, 20, 20, 20, 20, 20, 20, 20, 20, 20, 20, 20, 20, 20, 20, 20, 20, 20, 20, 20, 20, 20, 20, 20, 20, 20, 20, 20, 20, 20, 20, 20, 20, 20, 20, 20, 20, 20, 20, 20, 20, 20, 20, 20, 20, 20, 20, 20, 20, 20, 20, 20, 20, 20, 20, 20, 20, 20, 20, 20, 20, 20, 20, 20, 20, 20, 20, 20, 20, 20, 20, 20, 20, 20, 20, 20, 20, 20, 20, 20, 20, 20, 20, 20, 20, 20, 20, 20, 20, 20, 20, 20, 20, 20, 20, 20, 20, 20, 20, 20, 20, 20, 20, 20, 20, 20, 20, 20, 20, 20, 20, 20, 20, 20, 20, 20, 20, 20, 20, 20, 20, 20, 20, 19, 19, 19, 19, 19, 19, 19, 19, 19, 19, 19, 19, 19, 19, 19, 19, 19, 19, 19, 19, 19, 19, 19, 19, 19, 19, 19, 19, 19, 19, 19, 19, 19, 19, 19, 19, 19, 19, 19, 19, 19, 19, 19, 19, 19, 19, 19, 19, 19, 19, 19, 19, 19, 19, 19, 19, 19, 19, 19, 19, 19, 19, 19, 19, 19, 19, 19, 19, 19, 19, 19, 19, 19, 19, 19, 19, 19, 19, 19, 19, 19, 19, 19, 19, 19, 19, 19, 19, 19, 19, 19, 19, 19, 19, 19, 19, 19, 19, 19, 19, 19, 19, 19, 19, 19, 19, 19, 19, 19, 19, 19, 19, 19, 19, 19, 19, 19, 19, 19, 19, 19, 19, 19, 19, 19, 19, 19, 19, 19, 19, 19, 19, 19, 19, 19, 19, 19, 19, 19, 19, 19, 19, 19, 19, 19, 19, 19, 19, 19, 19, 19, 19, 19, 19, 19, 19, 19, 19, 19, 19, 19, 19, 19, 19, 19, 19, 19, 19, 19, 19, 19, 19, 19, 19, 19, 19, 19, 19, 19, 19, 19, 19, 19, 19, 19, 19, 19, 19, 19, 19, 19, 19, 19, 19, 19, 19, 19, 19, 19, 19, 19, 19, 19, 19, 19, 19, 19, 19, 19, 19, 19, 19, 19, 19, 19, 19, 19, 19, 19, 19, 19, 19, 19, 19, 19, 19, 19, 19, 19, 19, 19, 19, 19, 19, 19, 19, 19, 19, 19, 19, 19, 19, 19, 19, 19, 19, 19, 19, 19, 19, 19, 19, 19, 19, 19, 19, 19, 19, 19, 19, 19, 19, 19, 19, 19, 19, 19, 19, 19, 19, 19, 19, 19, 19, 19, 19, 19, 19, 19, 19, 19, 19, 19, 19, 19, 19, 19, 19, 19, 19, 19, 19, 19, 19, 19, 19, 19, 19, 19, 19, 19, 19, 19, 19, 19, 19, 19, 19, 19, 19, 19, 19, 19, 19, 19, 19, 19, 19, 19, 19, 19, 19, 19, 19, 19, 19, 19, 19, 19, 19, 19, 19, 19, 19, 19, 19, 19, 19, 19, 19, 18, 18, 18, 18, 18, 18, 18, 18, 18, 18, 18, 18, 18, 18, 18, 18, 18, 18, 18, 18, 18, 18, 18, 18, 18, 18, 18, 18, 18, 18, 18, 18, 18, 18, 18, 18, 18, 18, 18, 18, 18, 18, 18, 18, 18, 18, 18, 18, 18, 18, 18, 18, 18, 18, 18, 18, 18, 18, 18, 18, 18, 18, 18, 18, 18, 18, 18, 18, 18, 18, 18, 18, 18, 18, 18, 18, 18, 18, 18, 18, 18, 18, 18, 18, 18, 18, 18, 18, 18, 18, 18, 18, 18, 18, 18, 18, 18, 18, 18, 18, 18, 18, 18, 18, 18, 18, 18, 18, 18, 18, 18, 18, 18, 18, 18, 18, 18, 18, 18, 18, 18, 18, 18, 18, 18, 18, 18, 18, 18, 18, 18, 18, 18, 18, 18, 18, 18, 18, 18, 18, 18, 18, 18, 18, 18, 18, 18, 18, 18, 18, 18, 18, 18, 18, 18, 18, 18, 18, 18, 18, 18, 18, 18, 18, 18, 18, 18, 18, 18, 18, 18, 18, 18, 18, 18, 18, 18, 18, 18, 18, 18, 18, 18, 18, 18, 18, 18, 18, 18, 18, 18, 18, 18, 18, 18, 18, 18, 18, 18, 18, 18, 18, 18, 18, 18, 18, 18, 18, 18, 18, 18, 18, 18, 18, 18, 18, 18, 18, 18, 18, 18, 18, 18, 18, 18, 18, 18, 18, 18, 18, 18, 18, 18, 18, 18, 18, 18, 18, 18, 18, 18, 18, 18, 18, 18, 18, 18, 18, 18, 18, 18, 18, 18, 18, 18, 18, 18, 18, 18, 18, 18, 18, 18, 18, 18, 18, 18, 18, 18, 18, 18, 18, 18, 18, 18, 18, 18, 18, 18, 18, 18, 18, 18, 18, 18, 18, 18, 18, 18, 18, 18, 18, 18, 18, 18, 18, 18, 18, 18, 18, 18, 18, 18, 18, 18, 18, 18, 18, 18, 18, 18, 18, 18, 18, 18, 18, 18, 18, 18, 18, 18, 18, 18, 18, 18, 17, 17, 17, 17, 17, 17, 17, 17, 17, 17, 17, 17, 17, 17, 17, 17, 17, 17, 17, 17, 17, 17, 17, 17, 17, 17, 17, 17, 17, 17, 17, 17, 17, 17, 17, 17, 17, 17, 17, 17, 17, 17, 17, 17, 17, 17, 17, 17, 17, 17, 17, 17, 17, 17, 17, 17, 17, 17, 17, 17, 17, 17, 17, 17, 17, 17, 17, 17, 17, 17, 17, 17, 17, 17, 17, 17, 17, 17, 17, 17, 17, 17, 17, 17, 17, 17, 17, 17, 17, 17, 17, 17, 17, 17, 17, 17, 17, 17, 17, 17, 17, 17, 17, 17, 17, 17, 17, 17, 17, 17, 17, 17, 17, 17, 17, 17, 17, 17, 17, 17, 17, 17, 17, 17, 17, 17, 17, 17, 17, 17, 17, 17, 17, 17, 17, 17, 17, 17, 17, 17, 17, 17, 17, 17, 17, 17, 17, 17, 17, 17, 17, 17, 17, 17, 17, 17, 17, 17, 17, 17, 17, 17, 17, 17, 17, 17, 17, 17, 17, 17, 17, 17, 17, 17, 17, 17, 17, 17, 17, 17, 17, 17, 17, 17, 17, 17, 17, 17, 17, 17, 17, 17, 17, 17, 17, 17, 17, 17, 17, 17, 17, 17, 17, 17, 17, 17, 17, 17, 17, 17, 17, 17, 17, 17, 17, 17, 17, 17, 17, 17, 17, 17, 17, 17, 17, 17, 17, 17, 17, 17, 17, 17, 17, 17, 17, 17, 17, 17, 17, 17, 17, 17, 17, 17, 17, 17, 17, 17, 17, 17, 17, 17, 17, 17, 17, 17, 17, 17, 17, 17, 17, 17, 17, 17, 17, 17, 17, 17, 17, 17, 17, 17, 17, 17, 17, 17, 17, 17, 17, 17, 17, 17, 17, 17, 17, 17, 17, 17, 17, 17, 17, 17, 17, 17, 17, 17, 17, 17, 17, 17, 17, 17, 17, 17, 17, 17, 17, 17, 17, 17, 17, 17, 17, 17, 17, 17, 17, 16, 16, 16, 16, 16, 16, 16, 16, 16, 16, 16, 16, 16, 16, 16, 16, 16, 16, 16, 16, 16, 16, 16, 16, 16, 16, 16, 16, 16, 16, 16, 16, 16, 16, 16, 16, 16, 16, 16, 16, 16, 16, 16, 16, 16, 16, 16, 16, 16, 16, 16, 16, 16, 16, 16, 16, 16, 16, 16, 16, 16, 16, 16, 16, 16, 16, 16, 16, 16, 16, 16, 16, 16, 16, 16, 16, 16, 16, 16, 16, 16, 16, 16, 16, 16, 16, 16, 16, 16, 16, 16, 16, 16, 16, 16, 16, 16, 16, 16, 16, 16, 16, 16, 16, 16, 16, 16, 16, 16, 16, 16, 16, 16, 16, 16, 16, 16, 16, 16, 16, 16, 16, 16, 16, 16, 16, 16, 16, 16, 16, 16, 16, 16, 16, 16, 16, 16, 16, 16, 16, 16, 16, 16, 16, 16, 16, 16, 16, 16, 16, 16, 16, 16, 16, 16, 16, 16, 16, 16, 16, 16, 16, 16, 16, 16, 16, 16, 16, 16, 16, 16, 16, 16, 16, 16, 16, 16, 16, 16, 16, 16, 16, 16, 16, 16, 16, 16, 16, 16, 16, 16, 16, 16, 16, 16, 16, 16, 16, 16, 16, 16, 16, 16, 16, 16, 16, 16, 16, 16, 16, 16, 16, 16, 16, 16, 16, 16, 16, 16, 16, 16, 16, 16, 16, 16, 16, 16, 16, 16, 16, 16, 16, 16, 16, 16, 16, 16, 16, 16, 16, 16, 16, 16, 16, 16, 16, 16, 16, 16, 16, 16, 16, 16, 16, 16, 16, 16, 16, 16, 16, 16, 16, 16, 16, 16, 16, 16, 16, 16, 16, 16, 16, 16, 16, 16, 16, 16, 16, 16, 16, 16, 16, 16, 16, 16, 16, 16, 16, 16, 16, 16, 16, 16, 16, 16, 16, 16, 16, 16, 16, 16, 16, 16, 16, 16, 16, 16, 16, 16, 16, 16, 16, 16, 16, 16, 16, 16, 16, 16, 16, 16, 16, 16, 16, 16, 16, 16, 16, 15, 15, 15, 15, 15, 15, 15, 15, 15, 15, 15, 15, 15, 15, 15, 15, 15, 15, 15, 15, 15, 15, 15, 15, 15, 15, 15, 15, 15, 15, 15, 15, 15, 15, 15, 15, 15, 15, 15, 15, 15, 15, 15, 15, 15, 15, 15, 15, 15, 15, 15, 15, 15, 15, 15, 15, 15, 15, 15, 15, 15, 15, 15, 15, 15, 15, 15, 15, 15, 15, 15, 15, 15, 15, 15, 15, 15, 15, 15, 15, 15, 15, 15, 15, 15, 15, 15, 15, 15, 15, 15, 15, 15, 15, 15, 15, 15, 15, 15, 15, 15, 15, 15, 15, 15, 15, 15, 15, 15, 15, 15, 15, 15, 15, 15, 15, 15, 15, 15, 15, 15, 15, 15, 15, 15, 15, 15, 15, 15, 15, 15, 15, 15, 15, 15, 15, 15, 15, 15, 15, 15, 15, 15, 15, 15, 15, 15, 15, 15, 15, 15, 15, 15, 15, 15, 15, 15, 15, 15, 15, 15, 15, 15, 15, 15, 15, 15, 15, 15, 15, 15, 15, 15, 15, 15, 15, 15, 15, 15, 15, 15, 15, 15, 15, 15, 15, 15, 15, 15, 15, 15, 15, 15, 15, 15, 15, 15, 15, 15, 15, 15, 15, 15, 15, 15, 15, 15, 15, 15, 15, 15, 15, 15, 15, 15, 15, 15, 15, 15, 15, 15, 15, 15, 15, 15, 15, 15, 15, 15, 15, 15, 15, 15, 15, 15, 15, 15, 15, 15, 15, 15, 15, 15, 15, 15, 15, 15, 15, 15, 15, 15, 15, 15, 15, 15, 15, 15, 15, 15, 15, 15, 15, 15, 15, 15, 15, 15, 15, 15, 15, 15, 15, 15, 15, 15, 15, 15, 15, 15, 15, 15, 15, 15, 15, 15, 15, 15, 15, 15, 15, 15, 15, 15, 15, 15, 15, 15, 15, 15, 15, 15, 15, 15, 15, 15, 15, 15, 15, 15, 15, 15, 15, 15, 15, 15, 15, 15, 15, 15, 15, 15, 15, 15, 15, 15, 15, 15, 15, 15, 15, 15, 15, 15, 15, 15, 14, 14, 14, 14, 14, 14, 14, 14, 14, 14, 14, 14, 14, 14, 14, 14, 14, 14, 14, 14, 14, 14, 14, 14, 14, 14, 14, 14, 14, 14, 14, 14, 14, 14, 14, 14, 14, 14, 14, 14, 14, 14, 14, 14, 14, 14, 14, 14, 14, 14, 14, 14, 14, 14, 14, 14, 14, 14, 14, 14, 14, 14, 14, 14, 14, 14, 14, 14, 14, 14, 14, 14, 14, 14, 14, 14, 14, 14, 14, 14, 14, 14, 14, 14, 14, 14, 14, 14, 14, 14, 14, 14, 14, 14, 14, 14, 14, 14, 14, 14, 14, 14, 14, 14, 14, 14, 14, 14, 14, 14, 14, 14, 14, 14, 14, 14, 14, 14, 14, 14, 14, 14, 14, 14, 14, 14, 14, 14, 14, 14, 14, 14, 14, 14, 14, 14, 14, 14, 14, 14, 14, 14, 14, 14, 14, 14, 14, 14, 14, 14, 14, 14, 14, 14, 14, 14, 14, 14, 14, 14, 14, 14, 14, 14, 14, 14, 14, 14, 14, 14, 14, 14, 14, 14, 14, 14, 14, 14, 14, 14, 14, 14, 14, 14, 14, 14, 14, 14, 14, 14, 14, 14, 14, 14, 14, 14, 14, 14, 14, 14, 14, 14, 14, 14, 14, 14, 14, 14, 14, 14, 14, 14, 14, 14, 14, 14, 14, 14, 14, 14, 14, 14, 14, 14, 14, 14, 14, 14, 14, 14, 14, 14, 14, 14, 14, 14, 14, 14, 14, 14, 14, 14, 14, 14, 14, 14, 14, 14, 14, 14, 14, 14, 14, 14, 14, 14, 14, 14, 14, 14, 14, 14, 14, 14, 14, 14, 14, 14, 14, 14, 14, 14, 14, 14, 14, 14, 14, 14, 14, 14, 14, 14, 14, 14, 14, 14, 14, 14, 14, 14, 14, 14, 14, 14, 14, 14, 14, 14, 14, 14, 14, 14, 14, 14, 14, 14, 14, 14, 14, 14, 14, 14, 14, 14, 14, 14, 14, 14, 14, 14, 14, 14, 14, 14, 14, 14, 14, 14, 14, 14, 14, 14, 14, 14, 14, 14, 14, 14, 14, 14, 14, 14, 14, 14, 14, 14, 14, 14, 14, 14, 14, 14, 14, 14, 14, 14, 14, 14, 14, 14, 14, 14, 14, 14, 14, 14, 14, 14, 14, 14, 14, 14, 14, 14, 14, 13, 13, 13, 13, 13, 13, 13, 13, 13, 13, 13, 13, 13, 13, 13, 13, 13, 13, 13, 13, 13, 13, 13, 13, 13, 13, 13, 13, 13, 13, 13, 13, 13, 13, 13, 13, 13, 13, 13, 13, 13, 13, 13, 13, 13, 13, 13, 13, 13, 13, 13, 13, 13, 13, 13, 13, 13, 13, 13, 13, 13, 13, 13, 13, 13, 13, 13, 13, 13, 13, 13, 13, 13, 13, 13, 13, 13, 13, 13, 13, 13, 13, 13, 13, 13, 13, 13, 13, 13, 13, 13, 13, 13, 13, 13, 13, 13, 13, 13, 13, 13, 13, 13, 13, 13, 13, 13, 13, 13, 13, 13, 13, 13, 13, 13, 13, 13, 13, 13, 13, 13, 13, 13, 13, 13, 13, 13, 13, 13, 13, 13, 13, 13, 13, 13, 13, 13, 13, 13, 13, 13, 13, 13, 13, 13, 13, 13, 13, 13, 13, 13, 13, 13, 13, 13, 13, 13, 13, 13, 13, 13, 13, 13, 13, 13, 13, 13, 13, 13, 13, 13, 13, 13, 13, 13, 13, 13, 13, 13, 13, 13, 13, 13, 13, 13, 13, 13, 13, 13, 13, 13, 13, 13, 13, 13, 13, 13, 13, 13, 13, 13, 13, 13, 13, 13, 13, 13, 13, 13, 13, 13, 13, 13, 13, 13, 13, 13, 13, 13, 13, 13, 13, 13, 13, 13, 13, 13, 13, 13, 13, 13, 13, 13, 13, 13, 13, 13, 13, 13, 13, 13, 13, 13, 13, 13, 13, 13, 13, 13, 13, 13, 13, 13, 13, 13, 13, 13, 13, 13, 13, 13, 13, 13, 13, 13, 13, 13, 13, 13, 13, 13, 13, 13, 13, 13, 13, 13, 13, 13, 13, 13, 13, 12, 12, 12, 12, 12, 12, 12, 12, 12, 12, 12, 12, 12, 12, 12, 12, 12, 12, 12, 12, 12, 12, 12, 12, 12, 12, 12, 12, 12, 12, 12, 12, 12, 12, 12, 12, 12, 12, 12, 12, 12, 12, 12, 12, 12, 12, 12, 12, 12, 12, 12, 12, 12, 12, 12, 12, 12, 12, 12, 12, 12, 12, 12, 12, 12, 12, 12, 12, 12, 12, 12, 12, 12, 12, 12, 12, 12, 12, 12, 12, 12, 12, 12, 12, 12, 12, 12, 12, 12, 12, 12, 12, 12, 12, 12, 12, 12, 12, 12, 12, 12, 12, 12, 12, 12, 12, 12, 12, 12, 12, 12, 12, 12, 12, 12, 12, 12, 12, 12, 12, 12, 12, 12, 12, 12, 12, 12, 12, 12, 12, 12, 12, 12, 12, 12, 12, 12, 12, 12, 12, 12, 12, 12, 12, 12, 12, 12, 12, 12, 12, 12, 12, 12, 12, 12, 12, 12, 12, 12, 12, 12, 12, 12, 12, 12, 12, 12, 12, 12, 12, 12, 12, 12, 12, 12, 12, 12, 12, 12, 12, 12, 12, 12, 12, 12, 12, 12, 12, 12, 12, 12, 12, 12, 12, 12, 12, 12, 12, 12, 12, 12, 12, 12, 12, 12, 12, 12, 12, 12, 12, 12, 12, 12, 12, 12, 12, 12, 12, 12, 12, 12, 12, 12, 12, 12, 12, 12, 12, 12, 12, 12, 12, 12, 12, 12, 12, 12, 12, 12, 12, 12, 12, 12, 12, 12, 12, 12, 12, 12, 12, 12, 12, 12, 12, 12, 12, 12, 12, 12, 12, 12, 12, 12, 12, 12, 12, 12, 12, 12, 12, 12, 12, 12, 12, 12, 12, 12, 12, 12, 11, 11, 11, 11, 11, 11, 11, 11, 11, 11, 11, 11, 11, 11, 11, 11, 11, 11, 11, 11, 11, 11, 11, 11, 11, 11, 11, 11, 11, 11, 11, 11, 11, 11, 11, 11, 11, 11, 11, 11, 11, 11, 11, 11, 11, 11, 11, 11, 11, 11, 11, 11, 11, 11, 11, 11, 11, 11, 11, 11, 11, 11, 11, 11, 11, 11, 11, 11, 11, 11, 11, 11, 11, 11, 11, 11, 11, 11, 11, 11, 11, 11, 11, 11, 11, 11, 11, 11, 11, 11, 11, 11, 11, 11, 11, 11, 11, 11, 11, 11, 11, 11, 11, 11, 11, 11, 11, 11, 11, 11, 11, 11, 11, 11, 11, 11, 11, 11, 11, 11, 11, 11, 11, 11, 11, 11, 11, 11, 11, 11, 11, 11, 11, 11, 11, 11, 11, 11, 11, 11, 11, 11, 11, 11, 11, 11, 11, 11, 11, 11, 11, 11, 11, 11, 11, 11, 11, 11, 11, 11, 11, 11, 11, 11, 11, 11, 11, 11, 11, 11, 11, 11, 11, 11, 11, 11, 11, 11, 11, 11, 11, 11, 11, 11, 11, 11, 11, 11, 11, 11, 11, 11, 11, 11, 11, 11, 11, 11, 11, 11, 11, 11, 11, 11, 11, 11, 11, 11, 11, 11, 11, 11, 11, 11, 11, 11, 11, 11, 11, 11, 11, 11, 11, 11, 11, 11, 11, 11, 11, 11, 11, 11, 11, 11, 11, 11, 11, 11, 11, 11, 11, 11, 11, 11, 11, 11, 11, 11, 11, 11, 11, 11, 11, 11, 11, 11, 11, 11, 11, 11, 11, 11, 11, 11, 11, 11, 11, 11, 11, 11, 11, 11, 11, 11, 11, 11, 11, 11, 11, 11, 11, 11, 11, 11, 11, 11, 11, 11, 11, 11, 11, 11, 11, 11, 11, 11, 10, 10, 10, 10, 10, 10, 10, 10, 10, 10, 10, 10, 10, 10, 10, 10, 10, 10, 10, 10, 10, 10, 10, 10, 10, 10, 10, 10, 10, 10, 10, 10, 10, 10, 10, 10, 10, 10, 10, 10, 10, 10, 10, 10, 10, 10, 10, 10, 10, 10, 10, 10, 10, 10, 10, 10, 10, 10, 10, 10, 10, 10, 10, 10, 10, 10, 10, 10, 10, 10, 10, 10, 10, 10, 10, 10, 10, 10, 10, 10, 10, 10, 10, 10, 10, 10, 10, 10, 10, 10, 10, 10, 10, 10, 10, 10, 10, 10, 10, 10, 10, 10, 10, 10, 10, 10, 10, 10, 10, 10, 10, 10, 10, 10, 10, 10, 10, 10, 10, 10, 10, 10, 10, 10, 10, 10, 10, 10, 10, 10, 10, 10, 10, 10, 10, 10, 10, 10, 10, 10, 10, 10, 10, 10, 10, 10, 10, 10, 10, 10, 10, 10, 10, 10, 10, 10, 10, 10, 10, 10, 10, 10, 10, 10, 10, 10, 10, 10, 10, 10, 10, 10, 10, 10, 10, 10, 10, 10, 10, 10, 10, 10, 10, 10, 10, 10, 10, 10, 10, 10, 10, 10, 10, 10, 10, 10, 10, 10, 10, 10, 10, 10, 10, 10, 10, 10, 10, 10, 10, 10, 10, 10, 10, 10, 10, 10, 10, 10, 10, 10, 10, 10, 10, 10, 10, 10, 10, 10, 10, 10, 10, 10, 10, 10, 10, 10, 10, 10, 10, 10, 10, 10, 10, 10, 10, 10, 10, 10, 10, 10, 10, 10, 10, 10, 10, 10, 10, 10, 10, 10, 10, 10, 10, 10, 10, 10, 10, 10, 10, 10, 10, 10, 10, 10, 10, 10, 10, 10, 10, 10, 10, 10, 10, 10, 10, 10, 10, 10, 10, 10, 10, 10, 10, 10, 10, 10, 10, 10, 9, 9, 9, 9, 9, 9, 9, 9, 9, 9, 9, 9, 9, 9, 9, 9, 9, 9, 9, 9, 9, 9, 9, 9, 9, 9, 9, 9, 9, 9, 9, 9, 9, 9, 9, 9, 9, 9, 9, 9, 9, 9, 9, 9, 9, 9, 9, 9, 9, 9, 9, 9, 9, 9, 9, 9, 9, 9, 9, 9, 9, 9, 9, 9, 9, 9, 9, 9, 9, 9, 9, 9, 9, 9, 9, 9, 9, 9, 9, 9, 9, 9, 9, 9, 9, 9, 9, 9, 9, 9, 9, 9, 9, 9, 9, 9, 9, 9, 9, 9, 9, 9, 9, 9, 9, 9, 9, 9, 9, 9, 9, 9, 9, 9, 9, 9, 9, 9, 9, 9, 9, 9, 9, 9, 9, 9, 9, 9, 9, 9, 9, 9, 9, 9, 9, 9, 9, 9, 9, 9, 9, 9, 9, 9, 9, 9, 9, 9, 9, 9, 9, 9, 9, 9, 9, 9, 9, 9, 9, 9, 9, 9, 9, 9, 9, 9, 9, 9, 9, 9, 9, 9, 9, 9, 9, 9, 9, 9, 9, 9, 9, 9, 9, 9, 9, 9, 9, 9, 9, 9, 9, 9, 9, 9, 9, 9, 9, 9, 9, 9, 9, 9, 9, 9, 9, 9, 9, 9, 9, 9, 9, 9, 9, 9, 9, 9, 9, 9, 9, 9, 9, 9, 9, 9, 9, 9, 9, 9, 9, 9, 9, 9, 9, 9, 9, 9, 9, 9, 9, 9, 9, 9, 9, 9, 9, 9, 9, 9, 9, 9, 9, 9, 9, 9, 9, 9, 9, 9, 9, 9, 9, 9, 9, 9, 9, 9, 9, 9, 9, 9, 9, 9, 9, 9, 9, 9, 9, 9, 9, 9, 9, 9, 9, 9, 9, 9, 9, 9, 9, 9, 9, 9, 9, 9, 9, 9, 9, 9, 9, 9, 9, 9, 9, 9, 9, 9, 9, 9, 9, 9, 9, 9, 9, 8, 8, 8, 8, 8, 8, 8, 8, 8, 8, 8, 8, 8, 8, 8, 8, 8, 8, 8, 8, 8, 8, 8, 8, 8, 8, 8, 8, 8, 8, 8, 8, 8, 8, 8, 8, 8, 8, 8, 8, 8, 8, 8, 8, 8, 8, 8, 8, 8, 8, 8, 8, 8, 8, 8, 8, 8, 8, 8, 8, 8, 8, 8, 8, 8, 8, 8, 8, 8, 8, 8, 8, 8, 8, 8, 8, 8, 8, 8, 8, 8, 8, 8, 8, 8, 8, 8, 8, 8, 8, 8, 8, 8, 8, 8, 8, 8, 8, 8, 8, 8, 8, 8, 8, 8, 8, 8, 8, 8, 8, 8, 8, 8, 8, 8, 8, 8, 8, 8, 8, 8, 8, 8, 8, 8, 8, 8, 8, 8, 8, 8, 8, 8, 8, 8, 8, 8, 8, 8, 8, 8, 8, 8, 8, 8, 8, 8, 8, 8, 8, 8, 8, 8, 8, 8, 8, 8, 8, 8, 8, 8, 8, 8, 8, 8, 8, 8, 8, 8, 8, 8, 8, 8, 8, 8, 8, 8, 8, 8, 8, 8, 8, 8, 8, 8, 8, 8, 8, 8, 8, 8, 8, 8, 8, 8, 8, 8, 8, 8, 8, 8, 8, 8, 8, 8, 8, 8, 8, 8, 8, 8, 8, 8, 8, 8, 8, 8, 8, 8, 8, 8, 8, 8, 8, 8, 8, 8, 8, 8, 8, 8, 8, 8, 8, 8, 8, 8, 8, 8, 8, 8, 8, 8, 8, 8, 8, 8, 8, 8, 8, 8, 8, 8, 8, 8, 8, 8, 8, 8, 8, 8, 8, 8, 8, 8, 8, 8, 8, 8, 8, 8, 8, 8, 8, 8, 8, 8, 8, 8, 8, 8, 8, 8, 8, 8, 8, 8, 8, 8, 8, 8, 8, 7, 7, 7, 7, 7, 7, 7, 7, 7, 7, 7, 7, 7, 7, 7, 7, 7, 7, 7, 7, 7, 7, 7, 7, 7, 7, 7, 7, 7, 7, 7, 7, 7, 7, 7, 7, 7, 7, 7, 7, 7, 7, 7, 7, 7, 7, 7, 7, 7, 7, 7, 7, 7, 7, 7, 7, 7, 7, 7, 7, 7, 7, 7, 7, 7, 7, 7, 7, 7, 7, 7, 7, 7, 7, 7, 7, 7, 7, 7, 7, 7, 7, 7, 7, 7, 7, 7, 7, 7, 7, 7, 7, 7, 7, 7, 7, 7, 7, 7, 7, 7, 7, 7, 7, 7, 7, 7, 7, 7, 7, 7, 7, 7, 7, 7, 7, 7, 7, 7, 7, 7, 7, 7, 7, 7, 7, 7, 7, 7, 7, 7, 7, 7, 7, 7, 7, 7, 7, 7, 7, 7, 7, 7, 7, 7, 7, 7, 7, 7, 7, 7, 7, 7, 7, 7, 7, 7, 7, 7, 7, 7, 7, 7, 7, 7, 7, 7, 7, 7, 7, 7, 7, 7, 7, 7, 7, 7, 7, 7, 7, 7, 7, 7, 7, 7, 7, 7, 7, 7, 7, 7, 7, 7, 7, 7, 7, 7, 7, 7, 7, 7, 7, 7, 7, 7, 7, 7, 7, 7, 7, 7, 7, 7, 7, 7, 7, 7, 7, 7, 7, 7, 7, 7, 7, 7, 7, 7, 7, 7, 7, 7, 7, 7, 7, 7, 7, 7, 7, 7, 7, 7, 7, 7, 7, 7, 7, 7, 7, 7, 7, 7, 7, 7, 7, 7, 7, 7, 7, 7, 7, 7, 7, 7, 7, 7, 7, 7, 7, 7, 7, 7, 7, 7, 7, 7, 7, 7, 7, 7, 6, 6, 6, 6, 6, 6, 6, 6, 6, 6, 6, 6, 6, 6, 6, 6, 6, 6, 6, 6, 6, 6, 6, 6, 6, 6, 6, 6, 6, 6, 6, 6, 6, 6, 6, 6, 6, 6, 6, 6, 6, 6, 6, 6, 6, 6, 6, 6, 6, 6, 6, 6, 6, 6, 6, 6, 6, 6, 6, 6, 6, 6, 6, 6, 6, 6, 6, 6, 6, 6, 6, 6, 6, 6, 6, 6, 6, 6, 6, 6, 6, 6, 6, 6, 6, 6, 6, 6, 6, 6, 6, 6, 6, 6, 6, 6, 6, 6, 6, 6, 6, 6, 6, 6, 6, 6, 6, 6, 6, 6, 6, 6, 6, 6, 6, 6, 6, 6, 6, 6, 6, 6, 6, 6, 6, 6, 6, 6, 6, 6, 6, 6, 6, 6, 6, 6, 6, 6, 6, 6, 6, 6, 6, 6, 6, 6, 6, 6, 6, 6, 6, 6, 6, 6, 6, 6, 6, 6, 6, 6, 6, 6, 6, 6, 6, 6, 6, 6, 6, 6, 6, 6, 6, 6, 6, 6, 6, 6, 6, 6, 6, 6, 6, 6, 6, 6, 6, 6, 6, 6, 6, 6, 6, 6, 6, 6, 6, 6, 6, 6, 6, 6, 6, 6, 6, 6, 6, 6, 6, 6, 6, 6, 6, 6, 6, 6, 6, 6, 6, 6, 6, 6, 6, 6, 6, 6, 6, 5, 5, 5, 5, 5, 5, 5, 5, 5, 5, 5, 5, 5, 5, 5, 5, 5, 5, 5, 5, 5, 5, 5, 5, 5, 5, 5, 5, 5, 5, 5, 5, 5, 5, 5, 5, 5, 5, 5, 5, 5, 5, 5, 5, 5, 5, 5, 5, 5, 5, 5, 5, 5, 5, 5, 5, 5, 5, 5, 5, 5, 5, 5, 5, 5, 5, 5, 5, 5, 5, 5, 5, 5, 5, 5, 5, 5, 5, 5, 5, 5, 5, 5, 5, 5, 5, 5, 5, 5, 5, 5, 5, 5, 5, 5, 5, 5, 5, 5, 5, 5, 5, 5, 5, 5, 5, 5, 5, 5, 5, 5, 5, 5, 5, 5, 5, 5, 5, 5, 5, 5, 5, 5, 5, 5, 5, 5, 5, 5, 5, 5, 5, 5, 5, 5, 5, 5, 5, 5, 5, 5, 5, 5, 5, 5, 5, 5, 5, 5, 5, 5, 5, 5, 5, 5, 5, 5, 5, 5, 5, 5, 5, 5, 5, 5, 5, 5, 5, 5, 5, 5, 5, 5, 5, 5, 5, 5, 5, 5, 5, 5, 5, 5, 5, 5, 5, 5, 5, 5, 5, 5, 5, 5, 5, 5, 5, 5, 5, 5, 5, 5, 5, 5, 5, 5, 5, 5, 5, 4, 4, 4, 4, 4, 4, 4, 4, 4, 4, 4, 4, 4, 4, 4, 4, 4, 4, 4, 4, 4, 4, 4, 4, 4, 4, 4, 4, 4, 4, 4, 4, 4, 4, 4, 4, 4, 4, 4, 4, 4, 4, 4, 4, 4, 4, 4, 4, 4, 4, 4, 4, 4, 4, 4, 4, 4, 4, 4, 4, 4, 4, 4, 4, 4, 4, 4, 4, 4, 4, 4, 4, 4, 4, 4, 4, 4, 4, 4, 4, 4, 4, 4, 4, 4, 4, 4, 4, 4, 4, 4, 4, 4, 4, 4, 4, 4, 4, 4, 4, 4, 4, 4, 4, 4, 4, 4, 4, 4, 4, 4, 4, 4, 4, 4, 4, 4, 4, 4, 4, 4, 4, 4, 4, 4, 4, 4, 4, 4, 4, 4, 4, 4, 4, 4, 4, 4, 4, 4, 4, 4, 4, 4, 4, 4, 4, 4, 4, 4, 4, 4, 4, 4, 4, 4, 4, 4, 4, 4, 4, 4, 4, 4, 4, 4, 4, 4, 4, 4, 4, 4, 4, 4, 4, 4, 4, 4, 4, 4, 4, 4, 4, 4, 4, 4, 3, 3, 3, 3, 3, 3, 3, 3, 3, 3, 3, 3, 3, 3, 3, 3, 3, 3, 3, 3, 3, 3, 3, 3, 3, 3, 3, 3, 3, 3, 3, 3, 3, 3, 3, 3, 3, 3, 3, 3, 3, 3, 3, 3, 3, 3, 3, 3, 3, 3, 3, 3, 3, 3, 3, 3, 3, 3, 3, 3, 3, 3, 3, 3, 3, 3, 3, 3, 3, 3, 3, 3, 3, 3, 3, 3, 3, 3, 3, 3, 3, 3, 3, 3, 3, 3, 3, 3, 3, 3, 3, 3, 3, 3, 3, 3, 3, 3, 3, 3, 3, 3, 3, 3, 3, 3, 3, 3, 3, 3, 3, 3, 3, 3, 3, 3, 3, 3, 3, 3, 3, 3, 3, 3, 3, 3, 3, 3, 3, 3, 3, 3, 3, 3, 3, 3, 3, 3, 3, 3, 3, 3, 3, 3, 3, 3, 3, 3, 3, 3, 3, 3, 3, 3, 3, 2, 2, 2, 2, 2, 2, 2, 2, 2, 2, 2, 2, 2, 2, 2, 2, 2, 2, 2, 2, 2, 2, 2, 2, 2, 2, 2, 2, 2, 2, 2, 2, 2, 2, 2, 2, 2, 2, 2, 2, 2, 2, 2, 2, 2, 2, 2, 2, 2, 2, 2, 2, 2, 2, 2, 2, 2, 2, 2, 2, 2, 2, 2, 2, 2, 2, 2, 2, 2, 2, 2, 2, 2, 2, 2, 2, 2, 2, 2, 2, 2, 2, 2, 2, 2, 2, 2, 2, 2, 2, 2, 2, 2, 2, 2, 2, 2, 2, 2, 2, 2, 2, 2, 2, 2, 2, 2, 2, 2, 2, 2, 2, 2, 2, 2, 2, 2, 1, 1, 1, 1, 1, 1, 1, 1, 1, 1, 1, 1, 1, 1, 1, 1, 1, 1, 1, 1, 1, 1, 1, 1, 1, 1, 1, 1, 1, 1, 1, 1, 1, 1, 1, 1, 1, 1, 1, 1, 1, 1, 1, 1, 1, 1, 1, 1, 1], \"xaxis\": \"x\", \"y\": [\"Sentence Distribution\", \"Sentence Distribution\", \"Sentence Distribution\", \"Sentence Distribution\", \"Sentence Distribution\", \"Sentence Distribution\", \"Sentence Distribution\", \"Sentence Distribution\", \"Sentence Distribution\", \"Sentence Distribution\", \"Sentence Distribution\", \"Sentence Distribution\", \"Sentence Distribution\", \"Sentence Distribution\", \"Sentence Distribution\", \"Sentence Distribution\", \"Sentence Distribution\", \"Sentence Distribution\", \"Sentence Distribution\", \"Sentence Distribution\", \"Sentence Distribution\", \"Sentence Distribution\", \"Sentence Distribution\", \"Sentence Distribution\", \"Sentence Distribution\", \"Sentence Distribution\", \"Sentence Distribution\", \"Sentence Distribution\", \"Sentence Distribution\", \"Sentence Distribution\", \"Sentence Distribution\", \"Sentence Distribution\", \"Sentence Distribution\", \"Sentence Distribution\", \"Sentence Distribution\", \"Sentence Distribution\", \"Sentence Distribution\", \"Sentence Distribution\", \"Sentence Distribution\", \"Sentence Distribution\", \"Sentence Distribution\", \"Sentence Distribution\", \"Sentence Distribution\", \"Sentence Distribution\", \"Sentence Distribution\", \"Sentence Distribution\", \"Sentence Distribution\", \"Sentence Distribution\", \"Sentence Distribution\", \"Sentence Distribution\", \"Sentence Distribution\", \"Sentence Distribution\", \"Sentence Distribution\", \"Sentence Distribution\", \"Sentence Distribution\", \"Sentence Distribution\", \"Sentence Distribution\", \"Sentence Distribution\", \"Sentence Distribution\", \"Sentence Distribution\", \"Sentence Distribution\", \"Sentence Distribution\", \"Sentence Distribution\", \"Sentence Distribution\", \"Sentence Distribution\", \"Sentence Distribution\", \"Sentence Distribution\", \"Sentence Distribution\", \"Sentence Distribution\", \"Sentence Distribution\", \"Sentence Distribution\", \"Sentence Distribution\", \"Sentence Distribution\", \"Sentence Distribution\", \"Sentence Distribution\", \"Sentence Distribution\", \"Sentence Distribution\", \"Sentence Distribution\", \"Sentence Distribution\", \"Sentence Distribution\", \"Sentence Distribution\", \"Sentence Distribution\", \"Sentence Distribution\", \"Sentence Distribution\", \"Sentence Distribution\", \"Sentence Distribution\", \"Sentence Distribution\", \"Sentence Distribution\", \"Sentence Distribution\", \"Sentence Distribution\", \"Sentence Distribution\", \"Sentence Distribution\", \"Sentence Distribution\", \"Sentence Distribution\", \"Sentence Distribution\", \"Sentence Distribution\", \"Sentence Distribution\", \"Sentence Distribution\", \"Sentence Distribution\", \"Sentence Distribution\", \"Sentence Distribution\", \"Sentence Distribution\", \"Sentence Distribution\", \"Sentence Distribution\", \"Sentence Distribution\", \"Sentence Distribution\", \"Sentence Distribution\", \"Sentence Distribution\", \"Sentence Distribution\", \"Sentence Distribution\", \"Sentence Distribution\", \"Sentence Distribution\", \"Sentence Distribution\", \"Sentence Distribution\", \"Sentence Distribution\", \"Sentence Distribution\", \"Sentence Distribution\", \"Sentence Distribution\", \"Sentence Distribution\", \"Sentence Distribution\", \"Sentence Distribution\", \"Sentence Distribution\", \"Sentence Distribution\", \"Sentence Distribution\", \"Sentence Distribution\", \"Sentence Distribution\", \"Sentence Distribution\", \"Sentence Distribution\", \"Sentence Distribution\", \"Sentence Distribution\", \"Sentence Distribution\", \"Sentence Distribution\", \"Sentence Distribution\", \"Sentence Distribution\", \"Sentence Distribution\", \"Sentence Distribution\", \"Sentence Distribution\", \"Sentence Distribution\", \"Sentence Distribution\", \"Sentence Distribution\", \"Sentence Distribution\", \"Sentence Distribution\", \"Sentence Distribution\", \"Sentence Distribution\", \"Sentence Distribution\", \"Sentence Distribution\", \"Sentence Distribution\", \"Sentence Distribution\", \"Sentence Distribution\", \"Sentence Distribution\", \"Sentence Distribution\", \"Sentence Distribution\", \"Sentence Distribution\", \"Sentence Distribution\", \"Sentence Distribution\", \"Sentence Distribution\", \"Sentence Distribution\", \"Sentence Distribution\", \"Sentence Distribution\", \"Sentence Distribution\", \"Sentence Distribution\", \"Sentence Distribution\", \"Sentence Distribution\", \"Sentence Distribution\", \"Sentence Distribution\", \"Sentence Distribution\", \"Sentence Distribution\", \"Sentence Distribution\", \"Sentence Distribution\", \"Sentence Distribution\", \"Sentence Distribution\", \"Sentence Distribution\", \"Sentence Distribution\", \"Sentence Distribution\", \"Sentence Distribution\", \"Sentence Distribution\", \"Sentence Distribution\", \"Sentence Distribution\", \"Sentence Distribution\", \"Sentence Distribution\", \"Sentence Distribution\", \"Sentence Distribution\", \"Sentence Distribution\", \"Sentence Distribution\", \"Sentence Distribution\", \"Sentence Distribution\", \"Sentence Distribution\", \"Sentence Distribution\", \"Sentence Distribution\", \"Sentence Distribution\", \"Sentence Distribution\", \"Sentence Distribution\", \"Sentence Distribution\", \"Sentence Distribution\", \"Sentence Distribution\", \"Sentence Distribution\", \"Sentence Distribution\", \"Sentence Distribution\", \"Sentence Distribution\", \"Sentence Distribution\", \"Sentence Distribution\", \"Sentence Distribution\", \"Sentence Distribution\", \"Sentence Distribution\", \"Sentence Distribution\", \"Sentence Distribution\", \"Sentence Distribution\", \"Sentence Distribution\", \"Sentence Distribution\", \"Sentence Distribution\", \"Sentence Distribution\", \"Sentence Distribution\", \"Sentence Distribution\", \"Sentence Distribution\", \"Sentence Distribution\", \"Sentence Distribution\", \"Sentence Distribution\", \"Sentence Distribution\", \"Sentence Distribution\", \"Sentence Distribution\", \"Sentence Distribution\", \"Sentence Distribution\", \"Sentence Distribution\", \"Sentence Distribution\", \"Sentence Distribution\", \"Sentence Distribution\", \"Sentence Distribution\", \"Sentence Distribution\", \"Sentence Distribution\", \"Sentence Distribution\", \"Sentence Distribution\", \"Sentence Distribution\", \"Sentence Distribution\", \"Sentence Distribution\", \"Sentence Distribution\", \"Sentence Distribution\", \"Sentence Distribution\", \"Sentence Distribution\", \"Sentence Distribution\", \"Sentence Distribution\", \"Sentence Distribution\", \"Sentence Distribution\", \"Sentence Distribution\", \"Sentence Distribution\", \"Sentence Distribution\", \"Sentence Distribution\", \"Sentence Distribution\", \"Sentence Distribution\", \"Sentence Distribution\", \"Sentence Distribution\", \"Sentence Distribution\", \"Sentence Distribution\", \"Sentence Distribution\", \"Sentence Distribution\", \"Sentence Distribution\", \"Sentence Distribution\", \"Sentence Distribution\", \"Sentence Distribution\", \"Sentence Distribution\", \"Sentence Distribution\", \"Sentence Distribution\", \"Sentence Distribution\", \"Sentence Distribution\", \"Sentence Distribution\", \"Sentence Distribution\", \"Sentence Distribution\", \"Sentence Distribution\", \"Sentence Distribution\", \"Sentence Distribution\", \"Sentence Distribution\", \"Sentence Distribution\", \"Sentence Distribution\", \"Sentence Distribution\", \"Sentence Distribution\", \"Sentence Distribution\", \"Sentence Distribution\", \"Sentence Distribution\", \"Sentence Distribution\", \"Sentence Distribution\", \"Sentence Distribution\", \"Sentence Distribution\", \"Sentence Distribution\", \"Sentence Distribution\", \"Sentence Distribution\", \"Sentence Distribution\", \"Sentence Distribution\", \"Sentence Distribution\", \"Sentence Distribution\", \"Sentence Distribution\", \"Sentence Distribution\", \"Sentence Distribution\", \"Sentence Distribution\", \"Sentence Distribution\", \"Sentence Distribution\", \"Sentence Distribution\", \"Sentence Distribution\", \"Sentence Distribution\", \"Sentence Distribution\", \"Sentence Distribution\", \"Sentence Distribution\", \"Sentence Distribution\", \"Sentence Distribution\", \"Sentence Distribution\", \"Sentence Distribution\", \"Sentence Distribution\", \"Sentence Distribution\", \"Sentence Distribution\", \"Sentence Distribution\", \"Sentence Distribution\", \"Sentence Distribution\", \"Sentence Distribution\", \"Sentence Distribution\", \"Sentence Distribution\", \"Sentence Distribution\", \"Sentence Distribution\", \"Sentence Distribution\", \"Sentence Distribution\", \"Sentence Distribution\", \"Sentence Distribution\", \"Sentence Distribution\", \"Sentence Distribution\", \"Sentence Distribution\", \"Sentence Distribution\", \"Sentence Distribution\", \"Sentence Distribution\", \"Sentence Distribution\", \"Sentence Distribution\", \"Sentence Distribution\", \"Sentence Distribution\", \"Sentence Distribution\", \"Sentence Distribution\", \"Sentence Distribution\", \"Sentence Distribution\", \"Sentence Distribution\", \"Sentence Distribution\", \"Sentence Distribution\", \"Sentence Distribution\", \"Sentence Distribution\", \"Sentence Distribution\", \"Sentence Distribution\", \"Sentence Distribution\", \"Sentence Distribution\", \"Sentence Distribution\", \"Sentence Distribution\", \"Sentence Distribution\", \"Sentence Distribution\", \"Sentence Distribution\", \"Sentence Distribution\", \"Sentence Distribution\", \"Sentence Distribution\", \"Sentence Distribution\", \"Sentence Distribution\", \"Sentence Distribution\", \"Sentence Distribution\", \"Sentence Distribution\", \"Sentence Distribution\", \"Sentence Distribution\", \"Sentence Distribution\", \"Sentence Distribution\", \"Sentence Distribution\", \"Sentence Distribution\", \"Sentence Distribution\", \"Sentence Distribution\", \"Sentence Distribution\", \"Sentence Distribution\", \"Sentence Distribution\", \"Sentence Distribution\", \"Sentence Distribution\", \"Sentence Distribution\", \"Sentence Distribution\", \"Sentence Distribution\", \"Sentence Distribution\", \"Sentence Distribution\", \"Sentence Distribution\", \"Sentence Distribution\", \"Sentence Distribution\", \"Sentence Distribution\", \"Sentence Distribution\", \"Sentence Distribution\", \"Sentence Distribution\", \"Sentence Distribution\", \"Sentence Distribution\", \"Sentence Distribution\", \"Sentence Distribution\", \"Sentence Distribution\", \"Sentence Distribution\", \"Sentence Distribution\", \"Sentence Distribution\", \"Sentence Distribution\", \"Sentence Distribution\", \"Sentence Distribution\", \"Sentence Distribution\", \"Sentence Distribution\", \"Sentence Distribution\", \"Sentence Distribution\", \"Sentence Distribution\", \"Sentence Distribution\", \"Sentence Distribution\", \"Sentence Distribution\", \"Sentence Distribution\", \"Sentence Distribution\", \"Sentence Distribution\", \"Sentence Distribution\", \"Sentence Distribution\", \"Sentence Distribution\", \"Sentence Distribution\", \"Sentence Distribution\", \"Sentence Distribution\", \"Sentence Distribution\", \"Sentence Distribution\", \"Sentence Distribution\", \"Sentence Distribution\", \"Sentence Distribution\", \"Sentence Distribution\", \"Sentence Distribution\", \"Sentence Distribution\", \"Sentence Distribution\", \"Sentence Distribution\", \"Sentence Distribution\", \"Sentence Distribution\", \"Sentence Distribution\", \"Sentence Distribution\", \"Sentence Distribution\", \"Sentence Distribution\", \"Sentence Distribution\", \"Sentence Distribution\", \"Sentence Distribution\", \"Sentence Distribution\", \"Sentence Distribution\", \"Sentence Distribution\", \"Sentence Distribution\", \"Sentence Distribution\", \"Sentence Distribution\", \"Sentence Distribution\", \"Sentence Distribution\", \"Sentence Distribution\", \"Sentence Distribution\", \"Sentence Distribution\", \"Sentence Distribution\", \"Sentence Distribution\", \"Sentence Distribution\", \"Sentence Distribution\", \"Sentence Distribution\", \"Sentence Distribution\", \"Sentence Distribution\", \"Sentence Distribution\", \"Sentence Distribution\", \"Sentence Distribution\", \"Sentence Distribution\", \"Sentence Distribution\", \"Sentence Distribution\", \"Sentence Distribution\", \"Sentence Distribution\", \"Sentence Distribution\", \"Sentence Distribution\", \"Sentence Distribution\", \"Sentence Distribution\", \"Sentence Distribution\", \"Sentence Distribution\", \"Sentence Distribution\", \"Sentence Distribution\", \"Sentence Distribution\", \"Sentence Distribution\", \"Sentence Distribution\", \"Sentence Distribution\", \"Sentence Distribution\", \"Sentence Distribution\", \"Sentence Distribution\", \"Sentence Distribution\", \"Sentence Distribution\", \"Sentence Distribution\", \"Sentence Distribution\", \"Sentence Distribution\", \"Sentence Distribution\", \"Sentence Distribution\", \"Sentence Distribution\", \"Sentence Distribution\", \"Sentence Distribution\", \"Sentence Distribution\", \"Sentence Distribution\", \"Sentence Distribution\", \"Sentence Distribution\", \"Sentence Distribution\", \"Sentence Distribution\", \"Sentence Distribution\", \"Sentence Distribution\", \"Sentence Distribution\", \"Sentence Distribution\", \"Sentence Distribution\", \"Sentence Distribution\", \"Sentence Distribution\", \"Sentence Distribution\", \"Sentence Distribution\", \"Sentence Distribution\", \"Sentence Distribution\", \"Sentence Distribution\", \"Sentence Distribution\", \"Sentence Distribution\", \"Sentence Distribution\", \"Sentence Distribution\", \"Sentence Distribution\", \"Sentence Distribution\", \"Sentence Distribution\", \"Sentence Distribution\", \"Sentence Distribution\", \"Sentence Distribution\", \"Sentence Distribution\", \"Sentence Distribution\", \"Sentence Distribution\", \"Sentence Distribution\", \"Sentence Distribution\", \"Sentence Distribution\", \"Sentence Distribution\", \"Sentence Distribution\", \"Sentence Distribution\", \"Sentence Distribution\", \"Sentence Distribution\", \"Sentence Distribution\", \"Sentence Distribution\", \"Sentence Distribution\", \"Sentence Distribution\", \"Sentence Distribution\", \"Sentence Distribution\", \"Sentence Distribution\", \"Sentence Distribution\", \"Sentence Distribution\", \"Sentence Distribution\", \"Sentence Distribution\", \"Sentence Distribution\", \"Sentence Distribution\", \"Sentence Distribution\", \"Sentence Distribution\", \"Sentence Distribution\", \"Sentence Distribution\", \"Sentence Distribution\", \"Sentence Distribution\", \"Sentence Distribution\", \"Sentence Distribution\", \"Sentence Distribution\", \"Sentence Distribution\", \"Sentence Distribution\", \"Sentence Distribution\", \"Sentence Distribution\", \"Sentence Distribution\", \"Sentence Distribution\", \"Sentence Distribution\", \"Sentence Distribution\", \"Sentence Distribution\", \"Sentence Distribution\", \"Sentence Distribution\", \"Sentence Distribution\", \"Sentence Distribution\", \"Sentence Distribution\", \"Sentence Distribution\", \"Sentence Distribution\", \"Sentence Distribution\", \"Sentence Distribution\", \"Sentence Distribution\", \"Sentence Distribution\", \"Sentence Distribution\", \"Sentence Distribution\", \"Sentence Distribution\", \"Sentence Distribution\", \"Sentence Distribution\", \"Sentence Distribution\", \"Sentence Distribution\", \"Sentence Distribution\", \"Sentence Distribution\", \"Sentence Distribution\", \"Sentence Distribution\", \"Sentence Distribution\", \"Sentence Distribution\", \"Sentence Distribution\", \"Sentence Distribution\", \"Sentence Distribution\", \"Sentence Distribution\", \"Sentence Distribution\", \"Sentence Distribution\", \"Sentence Distribution\", \"Sentence Distribution\", \"Sentence Distribution\", \"Sentence Distribution\", \"Sentence Distribution\", \"Sentence Distribution\", \"Sentence Distribution\", \"Sentence Distribution\", \"Sentence Distribution\", \"Sentence Distribution\", \"Sentence Distribution\", \"Sentence Distribution\", \"Sentence Distribution\", \"Sentence Distribution\", \"Sentence Distribution\", \"Sentence Distribution\", \"Sentence Distribution\", \"Sentence Distribution\", \"Sentence Distribution\", \"Sentence Distribution\", \"Sentence Distribution\", \"Sentence Distribution\", \"Sentence Distribution\", \"Sentence Distribution\", \"Sentence Distribution\", \"Sentence Distribution\", \"Sentence Distribution\", \"Sentence Distribution\", \"Sentence Distribution\", \"Sentence Distribution\", \"Sentence Distribution\", \"Sentence Distribution\", \"Sentence Distribution\", \"Sentence Distribution\", \"Sentence Distribution\", \"Sentence Distribution\", \"Sentence Distribution\", \"Sentence Distribution\", \"Sentence Distribution\", \"Sentence Distribution\", \"Sentence Distribution\", \"Sentence Distribution\", \"Sentence Distribution\", \"Sentence Distribution\", \"Sentence Distribution\", \"Sentence Distribution\", \"Sentence Distribution\", \"Sentence Distribution\", \"Sentence Distribution\", \"Sentence Distribution\", \"Sentence Distribution\", \"Sentence Distribution\", \"Sentence Distribution\", \"Sentence Distribution\", \"Sentence Distribution\", \"Sentence Distribution\", \"Sentence Distribution\", \"Sentence Distribution\", \"Sentence Distribution\", \"Sentence Distribution\", \"Sentence Distribution\", \"Sentence Distribution\", \"Sentence Distribution\", \"Sentence Distribution\", \"Sentence Distribution\", \"Sentence Distribution\", \"Sentence Distribution\", \"Sentence Distribution\", \"Sentence Distribution\", \"Sentence Distribution\", \"Sentence Distribution\", \"Sentence Distribution\", \"Sentence Distribution\", \"Sentence Distribution\", \"Sentence Distribution\", \"Sentence Distribution\", \"Sentence Distribution\", \"Sentence Distribution\", \"Sentence Distribution\", \"Sentence Distribution\", \"Sentence Distribution\", \"Sentence Distribution\", \"Sentence Distribution\", \"Sentence Distribution\", \"Sentence Distribution\", \"Sentence Distribution\", \"Sentence Distribution\", \"Sentence Distribution\", \"Sentence Distribution\", \"Sentence Distribution\", \"Sentence Distribution\", \"Sentence Distribution\", \"Sentence Distribution\", \"Sentence Distribution\", \"Sentence Distribution\", \"Sentence Distribution\", \"Sentence Distribution\", \"Sentence Distribution\", \"Sentence Distribution\", \"Sentence Distribution\", \"Sentence Distribution\", \"Sentence Distribution\", \"Sentence Distribution\", \"Sentence Distribution\", \"Sentence Distribution\", \"Sentence Distribution\", \"Sentence Distribution\", \"Sentence Distribution\", \"Sentence Distribution\", \"Sentence Distribution\", \"Sentence Distribution\", \"Sentence Distribution\", \"Sentence Distribution\", \"Sentence Distribution\", \"Sentence Distribution\", \"Sentence Distribution\", \"Sentence Distribution\", \"Sentence Distribution\", \"Sentence Distribution\", \"Sentence Distribution\", \"Sentence Distribution\", \"Sentence Distribution\", \"Sentence Distribution\", \"Sentence Distribution\", \"Sentence Distribution\", \"Sentence Distribution\", \"Sentence Distribution\", \"Sentence Distribution\", \"Sentence Distribution\", \"Sentence Distribution\", \"Sentence Distribution\", \"Sentence Distribution\", \"Sentence Distribution\", \"Sentence Distribution\", \"Sentence Distribution\", \"Sentence Distribution\", \"Sentence Distribution\", \"Sentence Distribution\", \"Sentence Distribution\", \"Sentence Distribution\", \"Sentence Distribution\", \"Sentence Distribution\", \"Sentence Distribution\", \"Sentence Distribution\", \"Sentence Distribution\", \"Sentence Distribution\", \"Sentence Distribution\", \"Sentence Distribution\", \"Sentence Distribution\", \"Sentence Distribution\", \"Sentence Distribution\", \"Sentence Distribution\", \"Sentence Distribution\", \"Sentence Distribution\", \"Sentence Distribution\", \"Sentence Distribution\", \"Sentence Distribution\", \"Sentence Distribution\", \"Sentence Distribution\", \"Sentence Distribution\", \"Sentence Distribution\", \"Sentence Distribution\", \"Sentence Distribution\", \"Sentence Distribution\", \"Sentence Distribution\", \"Sentence Distribution\", \"Sentence Distribution\", \"Sentence Distribution\", \"Sentence Distribution\", \"Sentence Distribution\", \"Sentence Distribution\", \"Sentence Distribution\", \"Sentence Distribution\", \"Sentence Distribution\", \"Sentence Distribution\", \"Sentence Distribution\", \"Sentence Distribution\", \"Sentence Distribution\", \"Sentence Distribution\", \"Sentence Distribution\", \"Sentence Distribution\", \"Sentence Distribution\", \"Sentence Distribution\", \"Sentence Distribution\", \"Sentence Distribution\", \"Sentence Distribution\", \"Sentence Distribution\", \"Sentence Distribution\", \"Sentence Distribution\", \"Sentence Distribution\", \"Sentence Distribution\", \"Sentence Distribution\", \"Sentence Distribution\", \"Sentence Distribution\", \"Sentence Distribution\", \"Sentence Distribution\", \"Sentence Distribution\", \"Sentence Distribution\", \"Sentence Distribution\", \"Sentence Distribution\", \"Sentence Distribution\", \"Sentence Distribution\", \"Sentence Distribution\", \"Sentence Distribution\", \"Sentence Distribution\", \"Sentence Distribution\", \"Sentence Distribution\", \"Sentence Distribution\", \"Sentence Distribution\", \"Sentence Distribution\", \"Sentence Distribution\", \"Sentence Distribution\", \"Sentence Distribution\", \"Sentence Distribution\", \"Sentence Distribution\", \"Sentence Distribution\", \"Sentence Distribution\", \"Sentence Distribution\", \"Sentence Distribution\", \"Sentence Distribution\", \"Sentence Distribution\", \"Sentence Distribution\", \"Sentence Distribution\", \"Sentence Distribution\", \"Sentence Distribution\", \"Sentence Distribution\", \"Sentence Distribution\", \"Sentence Distribution\", \"Sentence Distribution\", \"Sentence Distribution\", \"Sentence Distribution\", \"Sentence Distribution\", \"Sentence Distribution\", \"Sentence Distribution\", \"Sentence Distribution\", \"Sentence Distribution\", \"Sentence Distribution\", \"Sentence Distribution\", \"Sentence Distribution\", \"Sentence Distribution\", \"Sentence Distribution\", \"Sentence Distribution\", \"Sentence Distribution\", \"Sentence Distribution\", \"Sentence Distribution\", \"Sentence Distribution\", \"Sentence Distribution\", \"Sentence Distribution\", \"Sentence Distribution\", \"Sentence Distribution\", \"Sentence Distribution\", \"Sentence Distribution\", \"Sentence Distribution\", \"Sentence Distribution\", \"Sentence Distribution\", \"Sentence Distribution\", \"Sentence Distribution\", \"Sentence Distribution\", \"Sentence Distribution\", \"Sentence Distribution\", \"Sentence Distribution\", \"Sentence Distribution\", \"Sentence Distribution\", \"Sentence Distribution\", \"Sentence Distribution\", \"Sentence Distribution\", \"Sentence Distribution\", \"Sentence Distribution\", \"Sentence Distribution\", \"Sentence Distribution\", \"Sentence Distribution\", \"Sentence Distribution\", \"Sentence Distribution\", \"Sentence Distribution\", \"Sentence Distribution\", \"Sentence Distribution\", \"Sentence Distribution\", \"Sentence Distribution\", \"Sentence Distribution\", \"Sentence Distribution\", \"Sentence Distribution\", \"Sentence Distribution\", \"Sentence Distribution\", \"Sentence Distribution\", \"Sentence Distribution\", \"Sentence Distribution\", \"Sentence Distribution\", \"Sentence Distribution\", \"Sentence Distribution\", \"Sentence Distribution\", \"Sentence Distribution\", \"Sentence Distribution\", \"Sentence Distribution\", \"Sentence Distribution\", \"Sentence Distribution\", \"Sentence Distribution\", \"Sentence Distribution\", \"Sentence Distribution\", \"Sentence Distribution\", \"Sentence Distribution\", \"Sentence Distribution\", \"Sentence Distribution\", \"Sentence Distribution\", \"Sentence Distribution\", \"Sentence Distribution\", \"Sentence Distribution\", \"Sentence Distribution\", \"Sentence Distribution\", \"Sentence Distribution\", \"Sentence Distribution\", \"Sentence Distribution\", \"Sentence Distribution\", \"Sentence Distribution\", \"Sentence Distribution\", \"Sentence Distribution\", \"Sentence Distribution\", \"Sentence Distribution\", \"Sentence Distribution\", \"Sentence Distribution\", \"Sentence Distribution\", \"Sentence Distribution\", \"Sentence Distribution\", \"Sentence Distribution\", \"Sentence Distribution\", \"Sentence Distribution\", \"Sentence Distribution\", \"Sentence Distribution\", \"Sentence Distribution\", \"Sentence Distribution\", \"Sentence Distribution\", \"Sentence Distribution\", \"Sentence Distribution\", \"Sentence Distribution\", \"Sentence Distribution\", \"Sentence Distribution\", \"Sentence Distribution\", \"Sentence Distribution\", \"Sentence Distribution\", \"Sentence Distribution\", \"Sentence Distribution\", \"Sentence Distribution\", \"Sentence Distribution\", \"Sentence Distribution\", \"Sentence Distribution\", \"Sentence Distribution\", \"Sentence Distribution\", \"Sentence Distribution\", \"Sentence Distribution\", \"Sentence Distribution\", \"Sentence Distribution\", \"Sentence Distribution\", \"Sentence Distribution\", \"Sentence Distribution\", \"Sentence Distribution\", \"Sentence Distribution\", \"Sentence Distribution\", \"Sentence Distribution\", \"Sentence Distribution\", \"Sentence Distribution\", \"Sentence Distribution\", \"Sentence Distribution\", \"Sentence Distribution\", \"Sentence Distribution\", \"Sentence Distribution\", \"Sentence Distribution\", \"Sentence Distribution\", \"Sentence Distribution\", \"Sentence Distribution\", \"Sentence Distribution\", \"Sentence Distribution\", \"Sentence Distribution\", \"Sentence Distribution\", \"Sentence Distribution\", \"Sentence Distribution\", \"Sentence Distribution\", \"Sentence Distribution\", \"Sentence Distribution\", \"Sentence Distribution\", \"Sentence Distribution\", \"Sentence Distribution\", \"Sentence Distribution\", \"Sentence Distribution\", \"Sentence Distribution\", \"Sentence Distribution\", \"Sentence Distribution\", \"Sentence Distribution\", \"Sentence Distribution\", \"Sentence Distribution\", \"Sentence Distribution\", \"Sentence Distribution\", \"Sentence Distribution\", \"Sentence Distribution\", \"Sentence Distribution\", \"Sentence Distribution\", \"Sentence Distribution\", \"Sentence Distribution\", \"Sentence Distribution\", \"Sentence Distribution\", \"Sentence Distribution\", \"Sentence Distribution\", \"Sentence Distribution\", \"Sentence Distribution\", \"Sentence Distribution\", \"Sentence Distribution\", \"Sentence Distribution\", \"Sentence Distribution\", \"Sentence Distribution\", \"Sentence Distribution\", \"Sentence Distribution\", \"Sentence Distribution\", \"Sentence Distribution\", \"Sentence Distribution\", \"Sentence Distribution\", \"Sentence Distribution\", \"Sentence Distribution\", \"Sentence Distribution\", \"Sentence Distribution\", \"Sentence Distribution\", \"Sentence Distribution\", \"Sentence Distribution\", \"Sentence Distribution\", \"Sentence Distribution\", \"Sentence Distribution\", \"Sentence Distribution\", \"Sentence Distribution\", \"Sentence Distribution\", \"Sentence Distribution\", \"Sentence Distribution\", \"Sentence Distribution\", \"Sentence Distribution\", \"Sentence Distribution\", \"Sentence Distribution\", \"Sentence Distribution\", \"Sentence Distribution\", \"Sentence Distribution\", \"Sentence Distribution\", \"Sentence Distribution\", \"Sentence Distribution\", \"Sentence Distribution\", \"Sentence Distribution\", \"Sentence Distribution\", \"Sentence Distribution\", \"Sentence Distribution\", \"Sentence Distribution\", \"Sentence Distribution\", \"Sentence Distribution\", \"Sentence Distribution\", \"Sentence Distribution\", \"Sentence Distribution\", \"Sentence Distribution\", \"Sentence Distribution\", \"Sentence Distribution\", \"Sentence Distribution\", \"Sentence Distribution\", \"Sentence Distribution\", \"Sentence Distribution\", \"Sentence Distribution\", \"Sentence Distribution\", \"Sentence Distribution\", \"Sentence Distribution\", \"Sentence Distribution\", \"Sentence Distribution\", \"Sentence Distribution\", \"Sentence Distribution\", \"Sentence Distribution\", \"Sentence Distribution\", \"Sentence Distribution\", \"Sentence Distribution\", \"Sentence Distribution\", \"Sentence Distribution\", \"Sentence Distribution\", \"Sentence Distribution\", \"Sentence Distribution\", \"Sentence Distribution\", \"Sentence Distribution\", \"Sentence Distribution\", \"Sentence Distribution\", \"Sentence Distribution\", \"Sentence Distribution\", \"Sentence Distribution\", \"Sentence Distribution\", \"Sentence Distribution\", \"Sentence Distribution\", \"Sentence Distribution\", \"Sentence Distribution\", \"Sentence Distribution\", \"Sentence Distribution\", \"Sentence Distribution\", \"Sentence Distribution\", \"Sentence Distribution\", \"Sentence Distribution\", \"Sentence Distribution\", \"Sentence Distribution\", \"Sentence Distribution\", \"Sentence Distribution\", \"Sentence Distribution\", \"Sentence Distribution\", \"Sentence Distribution\", \"Sentence Distribution\", \"Sentence Distribution\", \"Sentence Distribution\", \"Sentence Distribution\", \"Sentence Distribution\", \"Sentence Distribution\", \"Sentence Distribution\", \"Sentence Distribution\", \"Sentence Distribution\", \"Sentence Distribution\", \"Sentence Distribution\", \"Sentence Distribution\", \"Sentence Distribution\", \"Sentence Distribution\", \"Sentence Distribution\", \"Sentence Distribution\", \"Sentence Distribution\", \"Sentence Distribution\", \"Sentence Distribution\", \"Sentence Distribution\", \"Sentence Distribution\", \"Sentence Distribution\", \"Sentence Distribution\", \"Sentence Distribution\", \"Sentence Distribution\", \"Sentence Distribution\", \"Sentence Distribution\", \"Sentence Distribution\", \"Sentence Distribution\", \"Sentence Distribution\", \"Sentence Distribution\", \"Sentence Distribution\", \"Sentence Distribution\", \"Sentence Distribution\", \"Sentence Distribution\", \"Sentence Distribution\", \"Sentence Distribution\", \"Sentence Distribution\", \"Sentence Distribution\", \"Sentence Distribution\", \"Sentence Distribution\", \"Sentence Distribution\", \"Sentence Distribution\", \"Sentence Distribution\", \"Sentence Distribution\", \"Sentence Distribution\", \"Sentence Distribution\", \"Sentence Distribution\", \"Sentence Distribution\", \"Sentence Distribution\", \"Sentence Distribution\", \"Sentence Distribution\", \"Sentence Distribution\", \"Sentence Distribution\", \"Sentence Distribution\", \"Sentence Distribution\", \"Sentence Distribution\", \"Sentence Distribution\", \"Sentence Distribution\", \"Sentence Distribution\", \"Sentence Distribution\", \"Sentence Distribution\", \"Sentence Distribution\", \"Sentence Distribution\", \"Sentence Distribution\", \"Sentence Distribution\", \"Sentence Distribution\", \"Sentence Distribution\", \"Sentence Distribution\", \"Sentence Distribution\", \"Sentence Distribution\", \"Sentence Distribution\", \"Sentence Distribution\", \"Sentence Distribution\", \"Sentence Distribution\", \"Sentence Distribution\", \"Sentence Distribution\", \"Sentence Distribution\", \"Sentence Distribution\", \"Sentence Distribution\", \"Sentence Distribution\", \"Sentence Distribution\", \"Sentence Distribution\", \"Sentence Distribution\", \"Sentence Distribution\", \"Sentence Distribution\", \"Sentence Distribution\", \"Sentence Distribution\", \"Sentence Distribution\", \"Sentence Distribution\", \"Sentence Distribution\", \"Sentence Distribution\", \"Sentence Distribution\", \"Sentence Distribution\", \"Sentence Distribution\", \"Sentence Distribution\", \"Sentence Distribution\", \"Sentence Distribution\", \"Sentence Distribution\", \"Sentence Distribution\", \"Sentence Distribution\", \"Sentence Distribution\", \"Sentence Distribution\", \"Sentence Distribution\", \"Sentence Distribution\", \"Sentence Distribution\", \"Sentence Distribution\", \"Sentence Distribution\", \"Sentence Distribution\", \"Sentence Distribution\", \"Sentence Distribution\", \"Sentence Distribution\", \"Sentence Distribution\", \"Sentence Distribution\", \"Sentence Distribution\", \"Sentence Distribution\", \"Sentence Distribution\", \"Sentence Distribution\", \"Sentence Distribution\", \"Sentence Distribution\", \"Sentence Distribution\", \"Sentence Distribution\", \"Sentence Distribution\", \"Sentence Distribution\", \"Sentence Distribution\", \"Sentence Distribution\", \"Sentence Distribution\", \"Sentence Distribution\", \"Sentence Distribution\", \"Sentence Distribution\", \"Sentence Distribution\", \"Sentence Distribution\", \"Sentence Distribution\", \"Sentence Distribution\", \"Sentence Distribution\", \"Sentence Distribution\", \"Sentence Distribution\", \"Sentence Distribution\", \"Sentence Distribution\", \"Sentence Distribution\", \"Sentence Distribution\", \"Sentence Distribution\", \"Sentence Distribution\", \"Sentence Distribution\", \"Sentence Distribution\", \"Sentence Distribution\", \"Sentence Distribution\", \"Sentence Distribution\", \"Sentence Distribution\", \"Sentence Distribution\", \"Sentence Distribution\", \"Sentence Distribution\", \"Sentence Distribution\", \"Sentence Distribution\", \"Sentence Distribution\", \"Sentence Distribution\", \"Sentence Distribution\", \"Sentence Distribution\", \"Sentence Distribution\", \"Sentence Distribution\", \"Sentence Distribution\", \"Sentence Distribution\", \"Sentence Distribution\", \"Sentence Distribution\", \"Sentence Distribution\", \"Sentence Distribution\", \"Sentence Distribution\", \"Sentence Distribution\", \"Sentence Distribution\", \"Sentence Distribution\", \"Sentence Distribution\", \"Sentence Distribution\", \"Sentence Distribution\", \"Sentence Distribution\", \"Sentence Distribution\", \"Sentence Distribution\", \"Sentence Distribution\", \"Sentence Distribution\", \"Sentence Distribution\", \"Sentence Distribution\", \"Sentence Distribution\", \"Sentence Distribution\", \"Sentence Distribution\", \"Sentence Distribution\", \"Sentence Distribution\", \"Sentence Distribution\", \"Sentence Distribution\", \"Sentence Distribution\", \"Sentence Distribution\", \"Sentence Distribution\", \"Sentence Distribution\", \"Sentence Distribution\", \"Sentence Distribution\", \"Sentence Distribution\", \"Sentence Distribution\", \"Sentence Distribution\", \"Sentence Distribution\", \"Sentence Distribution\", \"Sentence Distribution\", \"Sentence Distribution\", \"Sentence Distribution\", \"Sentence Distribution\", \"Sentence Distribution\", \"Sentence Distribution\", \"Sentence Distribution\", \"Sentence Distribution\", \"Sentence Distribution\", \"Sentence Distribution\", \"Sentence Distribution\", \"Sentence Distribution\", \"Sentence Distribution\", \"Sentence Distribution\", \"Sentence Distribution\", \"Sentence Distribution\", \"Sentence Distribution\", \"Sentence Distribution\", \"Sentence Distribution\", \"Sentence Distribution\", \"Sentence Distribution\", \"Sentence Distribution\", \"Sentence Distribution\", \"Sentence Distribution\", \"Sentence Distribution\", \"Sentence Distribution\", \"Sentence Distribution\", \"Sentence Distribution\", \"Sentence Distribution\", \"Sentence Distribution\", \"Sentence Distribution\", \"Sentence Distribution\", \"Sentence Distribution\", \"Sentence Distribution\", \"Sentence Distribution\", \"Sentence Distribution\", \"Sentence Distribution\", \"Sentence Distribution\", \"Sentence Distribution\", \"Sentence Distribution\", \"Sentence Distribution\", \"Sentence Distribution\", \"Sentence Distribution\", \"Sentence Distribution\", \"Sentence Distribution\", \"Sentence Distribution\", \"Sentence Distribution\", \"Sentence Distribution\", \"Sentence Distribution\", \"Sentence Distribution\", \"Sentence Distribution\", \"Sentence Distribution\", \"Sentence Distribution\", \"Sentence Distribution\", \"Sentence Distribution\", \"Sentence Distribution\", \"Sentence Distribution\", \"Sentence Distribution\", \"Sentence Distribution\", \"Sentence Distribution\", \"Sentence Distribution\", \"Sentence Distribution\", \"Sentence Distribution\", \"Sentence Distribution\", \"Sentence Distribution\", \"Sentence Distribution\", \"Sentence Distribution\", \"Sentence Distribution\", \"Sentence Distribution\", \"Sentence Distribution\", \"Sentence Distribution\", \"Sentence Distribution\", \"Sentence Distribution\", \"Sentence Distribution\", \"Sentence Distribution\", \"Sentence Distribution\", \"Sentence Distribution\", \"Sentence Distribution\", \"Sentence Distribution\", \"Sentence Distribution\", \"Sentence Distribution\", \"Sentence Distribution\", \"Sentence Distribution\", \"Sentence Distribution\", \"Sentence Distribution\", \"Sentence Distribution\", \"Sentence Distribution\", \"Sentence Distribution\", \"Sentence Distribution\", \"Sentence Distribution\", \"Sentence Distribution\", \"Sentence Distribution\", \"Sentence Distribution\", \"Sentence Distribution\", \"Sentence Distribution\", \"Sentence Distribution\", \"Sentence Distribution\", \"Sentence Distribution\", \"Sentence Distribution\", \"Sentence Distribution\", \"Sentence Distribution\", \"Sentence Distribution\", \"Sentence Distribution\", \"Sentence Distribution\", \"Sentence Distribution\", \"Sentence Distribution\", \"Sentence Distribution\", \"Sentence Distribution\", \"Sentence Distribution\", \"Sentence Distribution\", \"Sentence Distribution\", \"Sentence Distribution\", \"Sentence Distribution\", \"Sentence Distribution\", \"Sentence Distribution\", \"Sentence Distribution\", \"Sentence Distribution\", \"Sentence Distribution\", \"Sentence Distribution\", \"Sentence Distribution\", \"Sentence Distribution\", \"Sentence Distribution\", \"Sentence Distribution\", \"Sentence Distribution\", \"Sentence Distribution\", \"Sentence Distribution\", \"Sentence Distribution\", \"Sentence Distribution\", \"Sentence Distribution\", \"Sentence Distribution\", \"Sentence Distribution\", \"Sentence Distribution\", \"Sentence Distribution\", \"Sentence Distribution\", \"Sentence Distribution\", \"Sentence Distribution\", \"Sentence Distribution\", \"Sentence Distribution\", \"Sentence Distribution\", \"Sentence Distribution\", \"Sentence Distribution\", \"Sentence Distribution\", \"Sentence Distribution\", \"Sentence Distribution\", \"Sentence Distribution\", \"Sentence Distribution\", \"Sentence Distribution\", \"Sentence Distribution\", \"Sentence Distribution\", \"Sentence Distribution\", \"Sentence Distribution\", \"Sentence Distribution\", \"Sentence Distribution\", \"Sentence Distribution\", \"Sentence Distribution\", \"Sentence Distribution\", \"Sentence Distribution\", \"Sentence Distribution\", \"Sentence Distribution\", \"Sentence Distribution\", \"Sentence Distribution\", \"Sentence Distribution\", \"Sentence Distribution\", \"Sentence Distribution\", \"Sentence Distribution\", \"Sentence Distribution\", \"Sentence Distribution\", \"Sentence Distribution\", \"Sentence Distribution\", \"Sentence Distribution\", \"Sentence Distribution\", \"Sentence Distribution\", \"Sentence Distribution\", \"Sentence Distribution\", \"Sentence Distribution\", \"Sentence Distribution\", \"Sentence Distribution\", \"Sentence Distribution\", \"Sentence Distribution\", \"Sentence Distribution\", \"Sentence Distribution\", \"Sentence Distribution\", \"Sentence Distribution\", \"Sentence Distribution\", \"Sentence Distribution\", \"Sentence Distribution\", \"Sentence Distribution\", \"Sentence Distribution\", \"Sentence Distribution\", \"Sentence Distribution\", \"Sentence Distribution\", \"Sentence Distribution\", \"Sentence Distribution\", \"Sentence Distribution\", \"Sentence Distribution\", \"Sentence Distribution\", \"Sentence Distribution\", \"Sentence Distribution\", \"Sentence Distribution\", \"Sentence Distribution\", \"Sentence Distribution\", \"Sentence Distribution\", \"Sentence Distribution\", \"Sentence Distribution\", \"Sentence Distribution\", \"Sentence Distribution\", \"Sentence Distribution\", \"Sentence Distribution\", \"Sentence Distribution\", \"Sentence Distribution\", \"Sentence Distribution\", \"Sentence Distribution\", \"Sentence Distribution\", \"Sentence Distribution\", \"Sentence Distribution\", \"Sentence Distribution\", \"Sentence Distribution\", \"Sentence Distribution\", \"Sentence Distribution\", \"Sentence Distribution\", \"Sentence Distribution\", \"Sentence Distribution\", \"Sentence Distribution\", \"Sentence Distribution\", \"Sentence Distribution\", \"Sentence Distribution\", \"Sentence Distribution\", \"Sentence Distribution\", \"Sentence Distribution\", \"Sentence Distribution\", \"Sentence Distribution\", \"Sentence Distribution\", \"Sentence Distribution\", \"Sentence Distribution\", \"Sentence Distribution\", \"Sentence Distribution\", \"Sentence Distribution\", \"Sentence Distribution\", \"Sentence Distribution\", \"Sentence Distribution\", \"Sentence Distribution\", \"Sentence Distribution\", \"Sentence Distribution\", \"Sentence Distribution\", \"Sentence Distribution\", \"Sentence Distribution\", \"Sentence Distribution\", \"Sentence Distribution\", \"Sentence Distribution\", \"Sentence Distribution\", \"Sentence Distribution\", \"Sentence Distribution\", \"Sentence Distribution\", \"Sentence Distribution\", \"Sentence Distribution\", \"Sentence Distribution\", \"Sentence Distribution\", \"Sentence Distribution\", \"Sentence Distribution\", \"Sentence Distribution\", \"Sentence Distribution\", \"Sentence Distribution\", \"Sentence Distribution\", \"Sentence Distribution\", \"Sentence Distribution\", \"Sentence Distribution\", \"Sentence Distribution\", \"Sentence Distribution\", \"Sentence Distribution\", \"Sentence Distribution\", \"Sentence Distribution\", \"Sentence Distribution\", \"Sentence Distribution\", \"Sentence Distribution\", \"Sentence Distribution\", \"Sentence Distribution\", \"Sentence Distribution\", \"Sentence Distribution\", \"Sentence Distribution\", \"Sentence Distribution\", \"Sentence Distribution\", \"Sentence Distribution\", \"Sentence Distribution\", \"Sentence Distribution\", \"Sentence Distribution\", \"Sentence Distribution\", \"Sentence Distribution\", \"Sentence Distribution\", \"Sentence Distribution\", \"Sentence Distribution\", \"Sentence Distribution\", \"Sentence Distribution\", \"Sentence Distribution\", \"Sentence Distribution\", \"Sentence Distribution\", \"Sentence Distribution\", \"Sentence Distribution\", \"Sentence Distribution\", \"Sentence Distribution\", \"Sentence Distribution\", \"Sentence Distribution\", \"Sentence Distribution\", \"Sentence Distribution\", \"Sentence Distribution\", \"Sentence Distribution\", \"Sentence Distribution\", \"Sentence Distribution\", \"Sentence Distribution\", \"Sentence Distribution\", \"Sentence Distribution\", \"Sentence Distribution\", \"Sentence Distribution\", \"Sentence Distribution\", \"Sentence Distribution\", \"Sentence Distribution\", \"Sentence Distribution\", \"Sentence Distribution\", \"Sentence Distribution\", \"Sentence Distribution\", \"Sentence Distribution\", \"Sentence Distribution\", \"Sentence Distribution\", \"Sentence Distribution\", \"Sentence Distribution\", \"Sentence Distribution\", \"Sentence Distribution\", \"Sentence Distribution\", \"Sentence Distribution\", \"Sentence Distribution\", \"Sentence Distribution\", \"Sentence Distribution\", \"Sentence Distribution\", \"Sentence Distribution\", \"Sentence Distribution\", \"Sentence Distribution\", \"Sentence Distribution\", \"Sentence Distribution\", \"Sentence Distribution\", \"Sentence Distribution\", \"Sentence Distribution\", \"Sentence Distribution\", \"Sentence Distribution\", \"Sentence Distribution\", \"Sentence Distribution\", \"Sentence Distribution\", \"Sentence Distribution\", \"Sentence Distribution\", \"Sentence Distribution\", \"Sentence Distribution\", \"Sentence Distribution\", \"Sentence Distribution\", \"Sentence Distribution\", \"Sentence Distribution\", \"Sentence Distribution\", \"Sentence Distribution\", \"Sentence Distribution\", \"Sentence Distribution\", \"Sentence Distribution\", \"Sentence Distribution\", \"Sentence Distribution\", \"Sentence Distribution\", \"Sentence Distribution\", \"Sentence Distribution\", \"Sentence Distribution\", \"Sentence Distribution\", \"Sentence Distribution\", \"Sentence Distribution\", \"Sentence Distribution\", \"Sentence Distribution\", \"Sentence Distribution\", \"Sentence Distribution\", \"Sentence Distribution\", \"Sentence Distribution\", \"Sentence Distribution\", \"Sentence Distribution\", \"Sentence Distribution\", \"Sentence Distribution\", \"Sentence Distribution\", \"Sentence Distribution\", \"Sentence Distribution\", \"Sentence Distribution\", \"Sentence Distribution\", \"Sentence Distribution\", \"Sentence Distribution\", \"Sentence Distribution\", \"Sentence Distribution\", \"Sentence Distribution\", \"Sentence Distribution\", \"Sentence Distribution\", \"Sentence Distribution\", \"Sentence Distribution\", \"Sentence Distribution\", \"Sentence Distribution\", \"Sentence Distribution\", \"Sentence Distribution\", \"Sentence Distribution\", \"Sentence Distribution\", \"Sentence Distribution\", \"Sentence Distribution\", \"Sentence Distribution\", \"Sentence Distribution\", \"Sentence Distribution\", \"Sentence Distribution\", \"Sentence Distribution\", \"Sentence Distribution\", \"Sentence Distribution\", \"Sentence Distribution\", \"Sentence Distribution\", \"Sentence Distribution\", \"Sentence Distribution\", \"Sentence Distribution\", \"Sentence Distribution\", \"Sentence Distribution\", \"Sentence Distribution\", \"Sentence Distribution\", \"Sentence Distribution\", \"Sentence Distribution\", \"Sentence Distribution\", \"Sentence Distribution\", \"Sentence Distribution\", \"Sentence Distribution\", \"Sentence Distribution\", \"Sentence Distribution\", \"Sentence Distribution\", \"Sentence Distribution\", \"Sentence Distribution\", \"Sentence Distribution\", \"Sentence Distribution\", \"Sentence Distribution\", \"Sentence Distribution\", \"Sentence Distribution\", \"Sentence Distribution\", \"Sentence Distribution\", \"Sentence Distribution\", \"Sentence Distribution\", \"Sentence Distribution\", \"Sentence Distribution\", \"Sentence Distribution\", \"Sentence Distribution\", \"Sentence Distribution\", \"Sentence Distribution\", \"Sentence Distribution\", \"Sentence Distribution\", \"Sentence Distribution\", \"Sentence Distribution\", \"Sentence Distribution\", \"Sentence Distribution\", \"Sentence Distribution\", \"Sentence Distribution\", \"Sentence Distribution\", \"Sentence Distribution\", \"Sentence Distribution\", \"Sentence Distribution\", \"Sentence Distribution\", \"Sentence Distribution\", \"Sentence Distribution\", \"Sentence Distribution\", \"Sentence Distribution\", \"Sentence Distribution\", \"Sentence Distribution\", \"Sentence Distribution\", \"Sentence Distribution\", \"Sentence Distribution\", \"Sentence Distribution\", \"Sentence Distribution\", \"Sentence Distribution\", \"Sentence Distribution\", \"Sentence Distribution\", \"Sentence Distribution\", \"Sentence Distribution\", \"Sentence Distribution\", \"Sentence Distribution\", \"Sentence Distribution\", \"Sentence Distribution\", \"Sentence Distribution\", \"Sentence Distribution\", \"Sentence Distribution\", \"Sentence Distribution\", \"Sentence Distribution\", \"Sentence Distribution\", \"Sentence Distribution\", \"Sentence Distribution\", \"Sentence Distribution\", \"Sentence Distribution\", \"Sentence Distribution\", \"Sentence Distribution\", \"Sentence Distribution\", \"Sentence Distribution\", \"Sentence Distribution\", \"Sentence Distribution\", \"Sentence Distribution\", \"Sentence Distribution\", \"Sentence Distribution\", \"Sentence Distribution\", \"Sentence Distribution\", \"Sentence Distribution\", \"Sentence Distribution\", \"Sentence Distribution\", \"Sentence Distribution\", \"Sentence Distribution\", \"Sentence Distribution\", \"Sentence Distribution\", \"Sentence Distribution\", \"Sentence Distribution\", \"Sentence Distribution\", \"Sentence Distribution\", \"Sentence Distribution\", \"Sentence Distribution\", \"Sentence Distribution\", \"Sentence Distribution\", \"Sentence Distribution\", \"Sentence Distribution\", \"Sentence Distribution\", \"Sentence Distribution\", \"Sentence Distribution\", \"Sentence Distribution\", \"Sentence Distribution\", \"Sentence Distribution\", \"Sentence Distribution\", \"Sentence Distribution\", \"Sentence Distribution\", \"Sentence Distribution\", \"Sentence Distribution\", \"Sentence Distribution\", \"Sentence Distribution\", \"Sentence Distribution\", \"Sentence Distribution\", \"Sentence Distribution\", \"Sentence Distribution\", \"Sentence Distribution\", \"Sentence Distribution\", \"Sentence Distribution\", \"Sentence Distribution\", \"Sentence Distribution\", \"Sentence Distribution\", \"Sentence Distribution\", \"Sentence Distribution\", \"Sentence Distribution\", \"Sentence Distribution\", \"Sentence Distribution\", \"Sentence Distribution\", \"Sentence Distribution\", \"Sentence Distribution\", \"Sentence Distribution\", \"Sentence Distribution\", \"Sentence Distribution\", \"Sentence Distribution\", \"Sentence Distribution\", \"Sentence Distribution\", \"Sentence Distribution\", \"Sentence Distribution\", \"Sentence Distribution\", \"Sentence Distribution\", \"Sentence Distribution\", \"Sentence Distribution\", \"Sentence Distribution\", \"Sentence Distribution\", \"Sentence Distribution\", \"Sentence Distribution\", \"Sentence Distribution\", \"Sentence Distribution\", \"Sentence Distribution\", \"Sentence Distribution\", \"Sentence Distribution\", \"Sentence Distribution\", \"Sentence Distribution\", \"Sentence Distribution\", \"Sentence Distribution\", \"Sentence Distribution\", \"Sentence Distribution\", \"Sentence Distribution\", \"Sentence Distribution\", \"Sentence Distribution\", \"Sentence Distribution\", \"Sentence Distribution\", \"Sentence Distribution\", \"Sentence Distribution\", \"Sentence Distribution\", \"Sentence Distribution\", \"Sentence Distribution\", \"Sentence Distribution\", \"Sentence Distribution\", \"Sentence Distribution\", \"Sentence Distribution\", \"Sentence Distribution\", \"Sentence Distribution\", \"Sentence Distribution\", \"Sentence Distribution\", \"Sentence Distribution\", \"Sentence Distribution\", \"Sentence Distribution\", \"Sentence Distribution\", \"Sentence Distribution\", \"Sentence Distribution\", \"Sentence Distribution\", \"Sentence Distribution\", \"Sentence Distribution\", \"Sentence Distribution\", \"Sentence Distribution\", \"Sentence Distribution\", \"Sentence Distribution\", \"Sentence Distribution\", \"Sentence Distribution\", \"Sentence Distribution\", \"Sentence Distribution\", \"Sentence Distribution\", \"Sentence Distribution\", \"Sentence Distribution\", \"Sentence Distribution\", \"Sentence Distribution\", \"Sentence Distribution\", \"Sentence Distribution\", \"Sentence Distribution\", \"Sentence Distribution\", \"Sentence Distribution\", \"Sentence Distribution\", \"Sentence Distribution\", \"Sentence Distribution\", \"Sentence Distribution\", \"Sentence Distribution\", \"Sentence Distribution\", \"Sentence Distribution\", \"Sentence Distribution\", \"Sentence Distribution\", \"Sentence Distribution\", \"Sentence Distribution\", \"Sentence Distribution\", \"Sentence Distribution\", \"Sentence Distribution\", \"Sentence Distribution\", \"Sentence Distribution\", \"Sentence Distribution\", \"Sentence Distribution\", \"Sentence Distribution\", \"Sentence Distribution\", \"Sentence Distribution\", \"Sentence Distribution\", \"Sentence Distribution\", \"Sentence Distribution\", \"Sentence Distribution\", \"Sentence Distribution\", \"Sentence Distribution\", \"Sentence Distribution\", \"Sentence Distribution\", \"Sentence Distribution\", \"Sentence Distribution\", \"Sentence Distribution\", \"Sentence Distribution\", \"Sentence Distribution\", \"Sentence Distribution\", \"Sentence Distribution\", \"Sentence Distribution\", \"Sentence Distribution\", \"Sentence Distribution\", \"Sentence Distribution\", \"Sentence Distribution\", \"Sentence Distribution\", \"Sentence Distribution\", \"Sentence Distribution\", \"Sentence Distribution\", \"Sentence Distribution\", \"Sentence Distribution\", \"Sentence Distribution\", \"Sentence Distribution\", \"Sentence Distribution\", \"Sentence Distribution\", \"Sentence Distribution\", \"Sentence Distribution\", \"Sentence Distribution\", \"Sentence Distribution\", \"Sentence Distribution\", \"Sentence Distribution\", \"Sentence Distribution\", \"Sentence Distribution\", \"Sentence Distribution\", \"Sentence Distribution\", \"Sentence Distribution\", \"Sentence Distribution\", \"Sentence Distribution\", \"Sentence Distribution\", \"Sentence Distribution\", \"Sentence Distribution\", \"Sentence Distribution\", \"Sentence Distribution\", \"Sentence Distribution\", \"Sentence Distribution\", \"Sentence Distribution\", \"Sentence Distribution\", \"Sentence Distribution\", \"Sentence Distribution\", \"Sentence Distribution\", \"Sentence Distribution\", \"Sentence Distribution\", \"Sentence Distribution\", \"Sentence Distribution\", \"Sentence Distribution\", \"Sentence Distribution\", \"Sentence Distribution\", \"Sentence Distribution\", \"Sentence Distribution\", \"Sentence Distribution\", \"Sentence Distribution\", \"Sentence Distribution\", \"Sentence Distribution\", \"Sentence Distribution\", \"Sentence Distribution\", \"Sentence Distribution\", \"Sentence Distribution\", \"Sentence Distribution\", \"Sentence Distribution\", \"Sentence Distribution\", \"Sentence Distribution\", \"Sentence Distribution\", \"Sentence Distribution\", \"Sentence Distribution\", \"Sentence Distribution\", \"Sentence Distribution\", \"Sentence Distribution\", \"Sentence Distribution\", \"Sentence Distribution\", \"Sentence Distribution\", \"Sentence Distribution\", \"Sentence Distribution\", \"Sentence Distribution\", \"Sentence Distribution\", \"Sentence Distribution\", \"Sentence Distribution\", \"Sentence Distribution\", \"Sentence Distribution\", \"Sentence Distribution\", \"Sentence Distribution\", \"Sentence Distribution\", \"Sentence Distribution\", \"Sentence Distribution\", \"Sentence Distribution\", \"Sentence Distribution\", \"Sentence Distribution\", \"Sentence Distribution\", \"Sentence Distribution\", \"Sentence Distribution\", \"Sentence Distribution\", \"Sentence Distribution\", \"Sentence Distribution\", \"Sentence Distribution\", \"Sentence Distribution\", \"Sentence Distribution\", \"Sentence Distribution\", \"Sentence Distribution\", \"Sentence Distribution\", \"Sentence Distribution\", \"Sentence Distribution\", \"Sentence Distribution\", \"Sentence Distribution\", \"Sentence Distribution\", \"Sentence Distribution\", \"Sentence Distribution\", \"Sentence Distribution\", \"Sentence Distribution\", \"Sentence Distribution\", \"Sentence Distribution\", \"Sentence Distribution\", \"Sentence Distribution\", \"Sentence Distribution\", \"Sentence Distribution\", \"Sentence Distribution\", \"Sentence Distribution\", \"Sentence Distribution\", \"Sentence Distribution\", \"Sentence Distribution\", \"Sentence Distribution\", \"Sentence Distribution\", \"Sentence Distribution\", \"Sentence Distribution\", \"Sentence Distribution\", \"Sentence Distribution\", \"Sentence Distribution\", \"Sentence Distribution\", \"Sentence Distribution\", \"Sentence Distribution\", \"Sentence Distribution\", \"Sentence Distribution\", \"Sentence Distribution\", \"Sentence Distribution\", \"Sentence Distribution\", \"Sentence Distribution\", \"Sentence Distribution\", \"Sentence Distribution\", \"Sentence Distribution\", \"Sentence Distribution\", \"Sentence Distribution\", \"Sentence Distribution\", \"Sentence Distribution\", \"Sentence Distribution\", \"Sentence Distribution\", \"Sentence Distribution\", \"Sentence Distribution\", \"Sentence Distribution\", \"Sentence Distribution\", \"Sentence Distribution\", \"Sentence Distribution\", \"Sentence Distribution\", \"Sentence Distribution\", \"Sentence Distribution\", \"Sentence Distribution\", \"Sentence Distribution\", \"Sentence Distribution\", \"Sentence Distribution\", \"Sentence Distribution\", \"Sentence Distribution\", \"Sentence Distribution\", \"Sentence Distribution\", \"Sentence Distribution\", \"Sentence Distribution\", \"Sentence Distribution\", \"Sentence Distribution\", \"Sentence Distribution\", \"Sentence Distribution\", \"Sentence Distribution\", \"Sentence Distribution\", \"Sentence Distribution\", \"Sentence Distribution\", \"Sentence Distribution\", \"Sentence Distribution\", \"Sentence Distribution\", \"Sentence Distribution\", \"Sentence Distribution\", \"Sentence Distribution\", \"Sentence Distribution\", \"Sentence Distribution\", \"Sentence Distribution\", \"Sentence Distribution\", \"Sentence Distribution\", \"Sentence Distribution\", \"Sentence Distribution\", \"Sentence Distribution\", \"Sentence Distribution\", \"Sentence Distribution\", \"Sentence Distribution\", \"Sentence Distribution\", \"Sentence Distribution\", \"Sentence Distribution\", \"Sentence Distribution\", \"Sentence Distribution\", \"Sentence Distribution\", \"Sentence Distribution\", \"Sentence Distribution\", \"Sentence Distribution\", \"Sentence Distribution\", \"Sentence Distribution\", \"Sentence Distribution\", \"Sentence Distribution\", \"Sentence Distribution\", \"Sentence Distribution\", \"Sentence Distribution\", \"Sentence Distribution\", \"Sentence Distribution\", \"Sentence Distribution\", \"Sentence Distribution\", \"Sentence Distribution\", \"Sentence Distribution\", \"Sentence Distribution\", \"Sentence Distribution\", \"Sentence Distribution\", \"Sentence Distribution\", \"Sentence Distribution\", \"Sentence Distribution\", \"Sentence Distribution\", \"Sentence Distribution\", \"Sentence Distribution\", \"Sentence Distribution\", \"Sentence Distribution\", \"Sentence Distribution\", \"Sentence Distribution\", \"Sentence Distribution\", \"Sentence Distribution\", \"Sentence Distribution\", \"Sentence Distribution\", \"Sentence Distribution\", \"Sentence Distribution\", \"Sentence Distribution\", \"Sentence Distribution\", \"Sentence Distribution\", \"Sentence Distribution\", \"Sentence Distribution\", \"Sentence Distribution\", \"Sentence Distribution\", \"Sentence Distribution\", \"Sentence Distribution\", \"Sentence Distribution\", \"Sentence Distribution\", \"Sentence Distribution\", \"Sentence Distribution\", \"Sentence Distribution\", \"Sentence Distribution\", \"Sentence Distribution\", \"Sentence Distribution\", \"Sentence Distribution\", \"Sentence Distribution\", \"Sentence Distribution\", \"Sentence Distribution\", \"Sentence Distribution\", \"Sentence Distribution\", \"Sentence Distribution\", \"Sentence Distribution\", \"Sentence Distribution\", \"Sentence Distribution\", \"Sentence Distribution\", \"Sentence Distribution\", \"Sentence Distribution\", \"Sentence Distribution\", \"Sentence Distribution\", \"Sentence Distribution\", \"Sentence Distribution\", \"Sentence Distribution\", \"Sentence Distribution\", \"Sentence Distribution\", \"Sentence Distribution\", \"Sentence Distribution\", \"Sentence Distribution\", \"Sentence Distribution\", \"Sentence Distribution\", \"Sentence Distribution\", \"Sentence Distribution\", \"Sentence Distribution\", \"Sentence Distribution\", \"Sentence Distribution\", \"Sentence Distribution\", \"Sentence Distribution\", \"Sentence Distribution\", \"Sentence Distribution\", \"Sentence Distribution\", \"Sentence Distribution\", \"Sentence Distribution\", \"Sentence Distribution\", \"Sentence Distribution\", \"Sentence Distribution\", \"Sentence Distribution\", \"Sentence Distribution\", \"Sentence Distribution\", \"Sentence Distribution\", \"Sentence Distribution\", \"Sentence Distribution\", \"Sentence Distribution\", \"Sentence Distribution\", \"Sentence Distribution\", \"Sentence Distribution\", \"Sentence Distribution\", \"Sentence Distribution\", \"Sentence Distribution\", \"Sentence Distribution\", \"Sentence Distribution\", \"Sentence Distribution\", \"Sentence Distribution\", \"Sentence Distribution\", \"Sentence Distribution\", \"Sentence Distribution\", \"Sentence Distribution\", \"Sentence Distribution\", \"Sentence Distribution\", \"Sentence Distribution\", \"Sentence Distribution\", \"Sentence Distribution\", \"Sentence Distribution\", \"Sentence Distribution\", \"Sentence Distribution\", \"Sentence Distribution\", \"Sentence Distribution\", \"Sentence Distribution\", \"Sentence Distribution\", \"Sentence Distribution\", \"Sentence Distribution\", \"Sentence Distribution\", \"Sentence Distribution\", \"Sentence Distribution\", \"Sentence Distribution\", \"Sentence Distribution\", \"Sentence Distribution\", \"Sentence Distribution\", \"Sentence Distribution\", \"Sentence Distribution\", \"Sentence Distribution\", \"Sentence Distribution\", \"Sentence Distribution\", \"Sentence Distribution\", \"Sentence Distribution\", \"Sentence Distribution\", \"Sentence Distribution\", \"Sentence Distribution\", \"Sentence Distribution\", \"Sentence Distribution\", \"Sentence Distribution\", \"Sentence Distribution\", \"Sentence Distribution\", \"Sentence Distribution\", \"Sentence Distribution\", \"Sentence Distribution\", \"Sentence Distribution\", \"Sentence Distribution\", \"Sentence Distribution\", \"Sentence Distribution\", \"Sentence Distribution\", \"Sentence Distribution\", \"Sentence Distribution\", \"Sentence Distribution\", \"Sentence Distribution\", \"Sentence Distribution\", \"Sentence Distribution\", \"Sentence Distribution\", \"Sentence Distribution\", \"Sentence Distribution\", \"Sentence Distribution\", \"Sentence Distribution\", \"Sentence Distribution\", \"Sentence Distribution\", \"Sentence Distribution\", \"Sentence Distribution\", \"Sentence Distribution\", \"Sentence Distribution\", \"Sentence Distribution\", \"Sentence Distribution\", \"Sentence Distribution\", \"Sentence Distribution\", \"Sentence Distribution\", \"Sentence Distribution\", \"Sentence Distribution\", \"Sentence Distribution\", \"Sentence Distribution\", \"Sentence Distribution\", \"Sentence Distribution\", \"Sentence Distribution\", \"Sentence Distribution\", \"Sentence Distribution\", \"Sentence Distribution\", \"Sentence Distribution\", \"Sentence Distribution\", \"Sentence Distribution\", \"Sentence Distribution\", \"Sentence Distribution\", \"Sentence Distribution\", \"Sentence Distribution\", \"Sentence Distribution\", \"Sentence Distribution\", \"Sentence Distribution\", \"Sentence Distribution\", \"Sentence Distribution\", \"Sentence Distribution\", \"Sentence Distribution\", \"Sentence Distribution\", \"Sentence Distribution\", \"Sentence Distribution\", \"Sentence Distribution\", \"Sentence Distribution\", \"Sentence Distribution\", \"Sentence Distribution\", \"Sentence Distribution\", \"Sentence Distribution\", \"Sentence Distribution\", \"Sentence Distribution\", \"Sentence Distribution\", \"Sentence Distribution\", \"Sentence Distribution\", \"Sentence Distribution\", \"Sentence Distribution\", \"Sentence Distribution\", \"Sentence Distribution\", \"Sentence Distribution\", \"Sentence Distribution\", \"Sentence Distribution\", \"Sentence Distribution\", \"Sentence Distribution\", \"Sentence Distribution\", \"Sentence Distribution\", \"Sentence Distribution\", \"Sentence Distribution\", \"Sentence Distribution\", \"Sentence Distribution\", \"Sentence Distribution\", \"Sentence Distribution\", \"Sentence Distribution\", \"Sentence Distribution\", \"Sentence Distribution\", \"Sentence Distribution\", \"Sentence Distribution\", \"Sentence Distribution\", \"Sentence Distribution\", \"Sentence Distribution\", \"Sentence Distribution\", \"Sentence Distribution\", \"Sentence Distribution\", \"Sentence Distribution\", \"Sentence Distribution\", \"Sentence Distribution\", \"Sentence Distribution\", \"Sentence Distribution\", \"Sentence Distribution\", \"Sentence Distribution\", \"Sentence Distribution\", \"Sentence Distribution\", \"Sentence Distribution\", \"Sentence Distribution\", \"Sentence Distribution\", \"Sentence Distribution\", \"Sentence Distribution\", \"Sentence Distribution\", \"Sentence Distribution\", \"Sentence Distribution\", \"Sentence Distribution\", \"Sentence Distribution\", \"Sentence Distribution\", \"Sentence Distribution\", \"Sentence Distribution\", \"Sentence Distribution\", \"Sentence Distribution\", \"Sentence Distribution\", \"Sentence Distribution\", \"Sentence Distribution\", \"Sentence Distribution\", \"Sentence Distribution\", \"Sentence Distribution\", \"Sentence Distribution\", \"Sentence Distribution\", \"Sentence Distribution\", \"Sentence Distribution\", \"Sentence Distribution\", \"Sentence Distribution\", \"Sentence Distribution\", \"Sentence Distribution\", \"Sentence Distribution\", \"Sentence Distribution\", \"Sentence Distribution\", \"Sentence Distribution\", \"Sentence Distribution\", \"Sentence Distribution\", \"Sentence Distribution\", \"Sentence Distribution\", \"Sentence Distribution\", \"Sentence Distribution\", \"Sentence Distribution\", \"Sentence Distribution\", \"Sentence Distribution\", \"Sentence Distribution\", \"Sentence Distribution\", \"Sentence Distribution\", \"Sentence Distribution\", \"Sentence Distribution\", \"Sentence Distribution\", \"Sentence Distribution\", \"Sentence Distribution\", \"Sentence Distribution\", \"Sentence Distribution\", \"Sentence Distribution\", \"Sentence Distribution\", \"Sentence Distribution\", \"Sentence Distribution\", \"Sentence Distribution\", \"Sentence Distribution\", \"Sentence Distribution\", \"Sentence Distribution\", \"Sentence Distribution\", \"Sentence Distribution\", \"Sentence Distribution\", \"Sentence Distribution\", \"Sentence Distribution\", \"Sentence Distribution\", \"Sentence Distribution\", \"Sentence Distribution\", \"Sentence Distribution\", \"Sentence Distribution\", \"Sentence Distribution\", \"Sentence Distribution\", \"Sentence Distribution\", \"Sentence Distribution\", \"Sentence Distribution\", \"Sentence Distribution\", \"Sentence Distribution\", \"Sentence Distribution\", \"Sentence Distribution\", \"Sentence Distribution\", \"Sentence Distribution\", \"Sentence Distribution\", \"Sentence Distribution\", \"Sentence Distribution\", \"Sentence Distribution\", \"Sentence Distribution\", \"Sentence Distribution\", \"Sentence Distribution\", \"Sentence Distribution\", \"Sentence Distribution\", \"Sentence Distribution\", \"Sentence Distribution\", \"Sentence Distribution\", \"Sentence Distribution\", \"Sentence Distribution\", \"Sentence Distribution\", \"Sentence Distribution\", \"Sentence Distribution\", \"Sentence Distribution\", \"Sentence Distribution\", \"Sentence Distribution\", \"Sentence Distribution\", \"Sentence Distribution\", \"Sentence Distribution\", \"Sentence Distribution\", \"Sentence Distribution\", \"Sentence Distribution\", \"Sentence Distribution\", \"Sentence Distribution\", \"Sentence Distribution\", \"Sentence Distribution\", \"Sentence Distribution\", \"Sentence Distribution\", \"Sentence Distribution\", \"Sentence Distribution\", \"Sentence Distribution\", \"Sentence Distribution\", \"Sentence Distribution\", \"Sentence Distribution\", \"Sentence Distribution\", \"Sentence Distribution\", \"Sentence Distribution\", \"Sentence Distribution\", \"Sentence Distribution\", \"Sentence Distribution\", \"Sentence Distribution\", \"Sentence Distribution\", \"Sentence Distribution\", \"Sentence Distribution\", \"Sentence Distribution\", \"Sentence Distribution\", \"Sentence Distribution\", \"Sentence Distribution\", \"Sentence Distribution\", \"Sentence Distribution\", \"Sentence Distribution\", \"Sentence Distribution\", \"Sentence Distribution\", \"Sentence Distribution\", \"Sentence Distribution\", \"Sentence Distribution\", \"Sentence Distribution\", \"Sentence Distribution\", \"Sentence Distribution\", \"Sentence Distribution\", \"Sentence Distribution\", \"Sentence Distribution\", \"Sentence Distribution\", \"Sentence Distribution\", \"Sentence Distribution\", \"Sentence Distribution\", \"Sentence Distribution\", \"Sentence Distribution\", \"Sentence Distribution\", \"Sentence Distribution\", \"Sentence Distribution\", \"Sentence Distribution\", \"Sentence Distribution\", \"Sentence Distribution\", \"Sentence Distribution\", \"Sentence Distribution\", \"Sentence Distribution\", \"Sentence Distribution\", \"Sentence Distribution\", \"Sentence Distribution\", \"Sentence Distribution\", \"Sentence Distribution\", \"Sentence Distribution\", \"Sentence Distribution\", \"Sentence Distribution\", \"Sentence Distribution\", \"Sentence Distribution\", \"Sentence Distribution\", \"Sentence Distribution\", \"Sentence Distribution\", \"Sentence Distribution\", \"Sentence Distribution\", \"Sentence Distribution\", \"Sentence Distribution\", \"Sentence Distribution\", \"Sentence Distribution\", \"Sentence Distribution\", \"Sentence Distribution\", \"Sentence Distribution\", \"Sentence Distribution\", \"Sentence Distribution\", \"Sentence Distribution\", \"Sentence Distribution\", \"Sentence Distribution\", \"Sentence Distribution\", \"Sentence Distribution\", \"Sentence Distribution\", \"Sentence Distribution\", \"Sentence Distribution\", \"Sentence Distribution\", \"Sentence Distribution\", \"Sentence Distribution\", \"Sentence Distribution\", \"Sentence Distribution\", \"Sentence Distribution\", \"Sentence Distribution\", \"Sentence Distribution\", \"Sentence Distribution\", \"Sentence Distribution\", \"Sentence Distribution\", \"Sentence Distribution\", \"Sentence Distribution\", \"Sentence Distribution\", \"Sentence Distribution\", \"Sentence Distribution\", \"Sentence Distribution\", \"Sentence Distribution\", \"Sentence Distribution\", \"Sentence Distribution\", \"Sentence Distribution\", \"Sentence Distribution\", \"Sentence Distribution\", \"Sentence Distribution\", \"Sentence Distribution\", \"Sentence Distribution\", \"Sentence Distribution\", \"Sentence Distribution\", \"Sentence Distribution\", \"Sentence Distribution\", \"Sentence Distribution\", \"Sentence Distribution\", \"Sentence Distribution\", \"Sentence Distribution\", \"Sentence Distribution\", \"Sentence Distribution\", \"Sentence Distribution\", \"Sentence Distribution\", \"Sentence Distribution\", \"Sentence Distribution\", \"Sentence Distribution\", \"Sentence Distribution\", \"Sentence Distribution\", \"Sentence Distribution\", \"Sentence Distribution\", \"Sentence Distribution\", \"Sentence Distribution\", \"Sentence Distribution\", \"Sentence Distribution\", \"Sentence Distribution\", \"Sentence Distribution\", \"Sentence Distribution\", \"Sentence Distribution\", \"Sentence Distribution\", \"Sentence Distribution\", \"Sentence Distribution\", \"Sentence Distribution\", \"Sentence Distribution\", \"Sentence Distribution\", \"Sentence Distribution\", \"Sentence Distribution\", \"Sentence Distribution\", \"Sentence Distribution\", \"Sentence Distribution\", \"Sentence Distribution\", \"Sentence Distribution\", \"Sentence Distribution\", \"Sentence Distribution\", \"Sentence Distribution\", \"Sentence Distribution\", \"Sentence Distribution\", \"Sentence Distribution\", \"Sentence Distribution\", \"Sentence Distribution\", \"Sentence Distribution\", \"Sentence Distribution\", \"Sentence Distribution\", \"Sentence Distribution\", \"Sentence Distribution\", \"Sentence Distribution\", \"Sentence Distribution\", \"Sentence Distribution\", \"Sentence Distribution\", \"Sentence Distribution\", \"Sentence Distribution\", \"Sentence Distribution\", \"Sentence Distribution\", \"Sentence Distribution\", \"Sentence Distribution\", \"Sentence Distribution\", \"Sentence Distribution\", \"Sentence Distribution\", \"Sentence Distribution\", \"Sentence Distribution\", \"Sentence Distribution\", \"Sentence Distribution\", \"Sentence Distribution\", \"Sentence Distribution\", \"Sentence Distribution\", \"Sentence Distribution\", \"Sentence Distribution\", \"Sentence Distribution\", \"Sentence Distribution\", \"Sentence Distribution\", \"Sentence Distribution\", \"Sentence Distribution\", \"Sentence Distribution\", \"Sentence Distribution\", \"Sentence Distribution\", \"Sentence Distribution\", \"Sentence Distribution\", \"Sentence Distribution\", \"Sentence Distribution\", \"Sentence Distribution\", \"Sentence Distribution\", \"Sentence Distribution\", \"Sentence Distribution\", \"Sentence Distribution\", \"Sentence Distribution\", \"Sentence Distribution\", \"Sentence Distribution\", \"Sentence Distribution\", \"Sentence Distribution\", \"Sentence Distribution\", \"Sentence Distribution\", \"Sentence Distribution\", \"Sentence Distribution\", \"Sentence Distribution\", \"Sentence Distribution\", \"Sentence Distribution\", \"Sentence Distribution\", \"Sentence Distribution\", \"Sentence Distribution\", \"Sentence Distribution\", \"Sentence Distribution\", \"Sentence Distribution\", \"Sentence Distribution\", \"Sentence Distribution\", \"Sentence Distribution\", \"Sentence Distribution\", \"Sentence Distribution\", \"Sentence Distribution\", \"Sentence Distribution\", \"Sentence Distribution\", \"Sentence Distribution\", \"Sentence Distribution\", \"Sentence Distribution\", \"Sentence Distribution\", \"Sentence Distribution\", \"Sentence Distribution\", \"Sentence Distribution\", \"Sentence Distribution\", \"Sentence Distribution\", \"Sentence Distribution\", \"Sentence Distribution\", \"Sentence Distribution\", \"Sentence Distribution\", \"Sentence Distribution\", \"Sentence Distribution\", \"Sentence Distribution\", \"Sentence Distribution\", \"Sentence Distribution\", \"Sentence Distribution\", \"Sentence Distribution\", \"Sentence Distribution\", \"Sentence Distribution\", \"Sentence Distribution\", \"Sentence Distribution\", \"Sentence Distribution\", \"Sentence Distribution\", \"Sentence Distribution\", \"Sentence Distribution\", \"Sentence Distribution\", \"Sentence Distribution\", \"Sentence Distribution\", \"Sentence Distribution\", \"Sentence Distribution\", \"Sentence Distribution\", \"Sentence Distribution\", \"Sentence Distribution\", \"Sentence Distribution\", \"Sentence Distribution\", \"Sentence Distribution\", \"Sentence Distribution\", \"Sentence Distribution\", \"Sentence Distribution\", \"Sentence Distribution\", \"Sentence Distribution\", \"Sentence Distribution\", \"Sentence Distribution\", \"Sentence Distribution\", \"Sentence Distribution\", \"Sentence Distribution\", \"Sentence Distribution\", \"Sentence Distribution\", \"Sentence Distribution\", \"Sentence Distribution\", \"Sentence Distribution\", \"Sentence Distribution\", \"Sentence Distribution\", \"Sentence Distribution\", \"Sentence Distribution\", \"Sentence Distribution\", \"Sentence Distribution\", \"Sentence Distribution\", \"Sentence Distribution\", \"Sentence Distribution\", \"Sentence Distribution\", \"Sentence Distribution\", \"Sentence Distribution\", \"Sentence Distribution\", \"Sentence Distribution\", \"Sentence Distribution\", \"Sentence Distribution\", \"Sentence Distribution\", \"Sentence Distribution\", \"Sentence Distribution\", \"Sentence Distribution\", \"Sentence Distribution\", \"Sentence Distribution\", \"Sentence Distribution\", \"Sentence Distribution\", \"Sentence Distribution\", \"Sentence Distribution\", \"Sentence Distribution\", \"Sentence Distribution\", \"Sentence Distribution\", \"Sentence Distribution\", \"Sentence Distribution\", \"Sentence Distribution\", \"Sentence Distribution\", \"Sentence Distribution\", \"Sentence Distribution\", \"Sentence Distribution\", \"Sentence Distribution\", \"Sentence Distribution\", \"Sentence Distribution\", \"Sentence Distribution\", \"Sentence Distribution\", \"Sentence Distribution\", \"Sentence Distribution\", \"Sentence Distribution\", \"Sentence Distribution\", \"Sentence Distribution\", \"Sentence Distribution\", \"Sentence Distribution\", \"Sentence Distribution\", \"Sentence Distribution\", \"Sentence Distribution\", \"Sentence Distribution\", \"Sentence Distribution\", \"Sentence Distribution\", \"Sentence Distribution\", \"Sentence Distribution\", \"Sentence Distribution\", \"Sentence Distribution\", \"Sentence Distribution\", \"Sentence Distribution\", \"Sentence Distribution\", \"Sentence Distribution\", \"Sentence Distribution\", \"Sentence Distribution\", \"Sentence Distribution\", \"Sentence Distribution\", \"Sentence Distribution\", \"Sentence Distribution\", \"Sentence Distribution\", \"Sentence Distribution\", \"Sentence Distribution\", \"Sentence Distribution\", \"Sentence Distribution\", \"Sentence Distribution\", \"Sentence Distribution\", \"Sentence Distribution\", \"Sentence Distribution\", \"Sentence Distribution\", \"Sentence Distribution\", \"Sentence Distribution\", \"Sentence Distribution\", \"Sentence Distribution\", \"Sentence Distribution\", \"Sentence Distribution\", \"Sentence Distribution\", \"Sentence Distribution\", \"Sentence Distribution\", \"Sentence Distribution\", \"Sentence Distribution\", \"Sentence Distribution\", \"Sentence Distribution\", \"Sentence Distribution\", \"Sentence Distribution\", \"Sentence Distribution\", \"Sentence Distribution\", \"Sentence Distribution\", \"Sentence Distribution\", \"Sentence Distribution\", \"Sentence Distribution\", \"Sentence Distribution\", \"Sentence Distribution\", \"Sentence Distribution\", \"Sentence Distribution\", \"Sentence Distribution\", \"Sentence Distribution\", \"Sentence Distribution\", \"Sentence Distribution\", \"Sentence Distribution\", \"Sentence Distribution\", \"Sentence Distribution\", \"Sentence Distribution\", \"Sentence Distribution\", \"Sentence Distribution\", \"Sentence Distribution\", \"Sentence Distribution\", \"Sentence Distribution\", \"Sentence Distribution\", \"Sentence Distribution\", \"Sentence Distribution\", \"Sentence Distribution\", \"Sentence Distribution\", \"Sentence Distribution\", \"Sentence Distribution\", \"Sentence Distribution\", \"Sentence Distribution\", \"Sentence Distribution\", \"Sentence Distribution\", \"Sentence Distribution\", \"Sentence Distribution\", \"Sentence Distribution\", \"Sentence Distribution\", \"Sentence Distribution\", \"Sentence Distribution\", \"Sentence Distribution\", \"Sentence Distribution\", \"Sentence Distribution\", \"Sentence Distribution\", \"Sentence Distribution\", \"Sentence Distribution\", \"Sentence Distribution\", \"Sentence Distribution\", \"Sentence Distribution\", \"Sentence Distribution\", \"Sentence Distribution\", \"Sentence Distribution\", \"Sentence Distribution\", \"Sentence Distribution\", \"Sentence Distribution\", \"Sentence Distribution\", \"Sentence Distribution\", \"Sentence Distribution\", \"Sentence Distribution\", \"Sentence Distribution\", \"Sentence Distribution\", \"Sentence Distribution\", \"Sentence Distribution\", \"Sentence Distribution\", \"Sentence Distribution\", \"Sentence Distribution\", \"Sentence Distribution\", \"Sentence Distribution\", \"Sentence Distribution\", \"Sentence Distribution\", \"Sentence Distribution\", \"Sentence Distribution\", \"Sentence Distribution\", \"Sentence Distribution\", \"Sentence Distribution\", \"Sentence Distribution\", \"Sentence Distribution\", \"Sentence Distribution\", \"Sentence Distribution\", \"Sentence Distribution\", \"Sentence Distribution\", \"Sentence Distribution\", \"Sentence Distribution\", \"Sentence Distribution\", \"Sentence Distribution\", \"Sentence Distribution\", \"Sentence Distribution\", \"Sentence Distribution\", \"Sentence Distribution\", \"Sentence Distribution\", \"Sentence Distribution\", \"Sentence Distribution\", \"Sentence Distribution\", \"Sentence Distribution\", \"Sentence Distribution\", \"Sentence Distribution\", \"Sentence Distribution\", \"Sentence Distribution\", \"Sentence Distribution\", \"Sentence Distribution\", \"Sentence Distribution\", \"Sentence Distribution\", \"Sentence Distribution\", \"Sentence Distribution\", \"Sentence Distribution\", \"Sentence Distribution\", \"Sentence Distribution\", \"Sentence Distribution\", \"Sentence Distribution\", \"Sentence Distribution\", \"Sentence Distribution\", \"Sentence Distribution\", \"Sentence Distribution\", \"Sentence Distribution\", \"Sentence Distribution\", \"Sentence Distribution\", \"Sentence Distribution\", \"Sentence Distribution\", \"Sentence Distribution\", \"Sentence Distribution\", \"Sentence Distribution\", \"Sentence Distribution\", \"Sentence Distribution\", \"Sentence Distribution\", \"Sentence Distribution\", \"Sentence Distribution\", \"Sentence Distribution\", \"Sentence Distribution\", \"Sentence Distribution\", \"Sentence Distribution\", \"Sentence Distribution\", \"Sentence Distribution\", \"Sentence Distribution\", \"Sentence Distribution\", \"Sentence Distribution\", \"Sentence Distribution\", \"Sentence Distribution\", \"Sentence Distribution\", \"Sentence Distribution\", \"Sentence Distribution\", \"Sentence Distribution\", \"Sentence Distribution\", \"Sentence Distribution\", \"Sentence Distribution\", \"Sentence Distribution\", \"Sentence Distribution\", \"Sentence Distribution\", \"Sentence Distribution\", \"Sentence Distribution\", \"Sentence Distribution\", \"Sentence Distribution\", \"Sentence Distribution\", \"Sentence Distribution\", \"Sentence Distribution\", \"Sentence Distribution\", \"Sentence Distribution\", \"Sentence Distribution\", \"Sentence Distribution\", \"Sentence Distribution\", \"Sentence Distribution\", \"Sentence Distribution\", \"Sentence Distribution\", \"Sentence Distribution\", \"Sentence Distribution\", \"Sentence Distribution\", \"Sentence Distribution\", \"Sentence Distribution\", \"Sentence Distribution\", \"Sentence Distribution\", \"Sentence Distribution\", \"Sentence Distribution\", \"Sentence Distribution\", \"Sentence Distribution\", \"Sentence Distribution\", \"Sentence Distribution\", \"Sentence Distribution\", \"Sentence Distribution\", \"Sentence Distribution\", \"Sentence Distribution\", \"Sentence Distribution\", \"Sentence Distribution\", \"Sentence Distribution\", \"Sentence Distribution\", \"Sentence Distribution\", \"Sentence Distribution\", \"Sentence Distribution\", \"Sentence Distribution\", \"Sentence Distribution\", \"Sentence Distribution\", \"Sentence Distribution\", \"Sentence Distribution\", \"Sentence Distribution\", \"Sentence Distribution\", \"Sentence Distribution\", \"Sentence Distribution\", \"Sentence Distribution\", \"Sentence Distribution\", \"Sentence Distribution\", \"Sentence Distribution\", \"Sentence Distribution\", \"Sentence Distribution\", \"Sentence Distribution\", \"Sentence Distribution\", \"Sentence Distribution\", \"Sentence Distribution\", \"Sentence Distribution\", \"Sentence Distribution\", \"Sentence Distribution\", \"Sentence Distribution\", \"Sentence Distribution\", \"Sentence Distribution\", \"Sentence Distribution\", \"Sentence Distribution\", \"Sentence Distribution\", \"Sentence Distribution\", \"Sentence Distribution\", \"Sentence Distribution\", \"Sentence Distribution\", \"Sentence Distribution\", \"Sentence Distribution\", \"Sentence Distribution\", \"Sentence Distribution\", \"Sentence Distribution\", \"Sentence Distribution\", \"Sentence Distribution\", \"Sentence Distribution\", \"Sentence Distribution\", \"Sentence Distribution\", \"Sentence Distribution\", \"Sentence Distribution\", \"Sentence Distribution\", \"Sentence Distribution\", \"Sentence Distribution\", \"Sentence Distribution\", \"Sentence Distribution\", \"Sentence Distribution\", \"Sentence Distribution\", \"Sentence Distribution\", \"Sentence Distribution\", \"Sentence Distribution\", \"Sentence Distribution\", \"Sentence Distribution\", \"Sentence Distribution\", \"Sentence Distribution\", \"Sentence Distribution\", \"Sentence Distribution\", \"Sentence Distribution\", \"Sentence Distribution\", \"Sentence Distribution\", \"Sentence Distribution\", \"Sentence Distribution\", \"Sentence Distribution\", \"Sentence Distribution\", \"Sentence Distribution\", \"Sentence Distribution\", \"Sentence Distribution\", \"Sentence Distribution\", \"Sentence Distribution\", \"Sentence Distribution\", \"Sentence Distribution\", \"Sentence Distribution\", \"Sentence Distribution\", \"Sentence Distribution\", \"Sentence Distribution\", \"Sentence Distribution\", \"Sentence Distribution\", \"Sentence Distribution\", \"Sentence Distribution\", \"Sentence Distribution\", \"Sentence Distribution\", \"Sentence Distribution\", \"Sentence Distribution\", \"Sentence Distribution\", \"Sentence Distribution\", \"Sentence Distribution\", \"Sentence Distribution\", \"Sentence Distribution\", \"Sentence Distribution\", \"Sentence Distribution\", \"Sentence Distribution\", \"Sentence Distribution\", \"Sentence Distribution\", \"Sentence Distribution\", \"Sentence Distribution\", \"Sentence Distribution\", \"Sentence Distribution\", \"Sentence Distribution\", \"Sentence Distribution\", \"Sentence Distribution\", \"Sentence Distribution\", \"Sentence Distribution\", \"Sentence Distribution\", \"Sentence Distribution\", \"Sentence Distribution\", \"Sentence Distribution\", \"Sentence Distribution\", \"Sentence Distribution\", \"Sentence Distribution\", \"Sentence Distribution\", \"Sentence Distribution\", \"Sentence Distribution\", \"Sentence Distribution\", \"Sentence Distribution\", \"Sentence Distribution\", \"Sentence Distribution\", \"Sentence Distribution\", \"Sentence Distribution\", \"Sentence Distribution\", \"Sentence Distribution\", \"Sentence Distribution\", \"Sentence Distribution\", \"Sentence Distribution\", \"Sentence Distribution\", \"Sentence Distribution\", \"Sentence Distribution\", \"Sentence Distribution\", \"Sentence Distribution\", \"Sentence Distribution\", \"Sentence Distribution\", \"Sentence Distribution\", \"Sentence Distribution\", \"Sentence Distribution\", \"Sentence Distribution\", \"Sentence Distribution\", \"Sentence Distribution\", \"Sentence Distribution\", \"Sentence Distribution\", \"Sentence Distribution\", \"Sentence Distribution\", \"Sentence Distribution\", \"Sentence Distribution\", \"Sentence Distribution\", \"Sentence Distribution\", \"Sentence Distribution\", \"Sentence Distribution\", \"Sentence Distribution\", \"Sentence Distribution\", \"Sentence Distribution\", \"Sentence Distribution\", \"Sentence Distribution\", \"Sentence Distribution\", \"Sentence Distribution\", \"Sentence Distribution\", \"Sentence Distribution\", \"Sentence Distribution\", \"Sentence Distribution\", \"Sentence Distribution\", \"Sentence Distribution\", \"Sentence Distribution\", \"Sentence Distribution\", \"Sentence Distribution\", \"Sentence Distribution\", \"Sentence Distribution\", \"Sentence Distribution\", \"Sentence Distribution\", \"Sentence Distribution\", \"Sentence Distribution\", \"Sentence Distribution\", \"Sentence Distribution\", \"Sentence Distribution\", \"Sentence Distribution\", \"Sentence Distribution\", \"Sentence Distribution\", \"Sentence Distribution\", \"Sentence Distribution\", \"Sentence Distribution\", \"Sentence Distribution\", \"Sentence Distribution\", \"Sentence Distribution\", \"Sentence Distribution\", \"Sentence Distribution\", \"Sentence Distribution\", \"Sentence Distribution\", \"Sentence Distribution\", \"Sentence Distribution\", \"Sentence Distribution\", \"Sentence Distribution\", \"Sentence Distribution\", \"Sentence Distribution\", \"Sentence Distribution\", \"Sentence Distribution\", \"Sentence Distribution\", \"Sentence Distribution\", \"Sentence Distribution\", \"Sentence Distribution\", \"Sentence Distribution\", \"Sentence Distribution\", \"Sentence Distribution\", \"Sentence Distribution\", \"Sentence Distribution\", \"Sentence Distribution\", \"Sentence Distribution\", \"Sentence Distribution\", \"Sentence Distribution\", \"Sentence Distribution\", \"Sentence Distribution\", \"Sentence Distribution\", \"Sentence Distribution\", \"Sentence Distribution\", \"Sentence Distribution\", \"Sentence Distribution\", \"Sentence Distribution\", \"Sentence Distribution\", \"Sentence Distribution\", \"Sentence Distribution\", \"Sentence Distribution\", \"Sentence Distribution\", \"Sentence Distribution\", \"Sentence Distribution\", \"Sentence Distribution\", \"Sentence Distribution\", \"Sentence Distribution\", \"Sentence Distribution\", \"Sentence Distribution\", \"Sentence Distribution\", \"Sentence Distribution\", \"Sentence Distribution\", \"Sentence Distribution\", \"Sentence Distribution\", \"Sentence Distribution\", \"Sentence Distribution\", \"Sentence Distribution\", \"Sentence Distribution\", \"Sentence Distribution\", \"Sentence Distribution\", \"Sentence Distribution\", \"Sentence Distribution\", \"Sentence Distribution\", \"Sentence Distribution\", \"Sentence Distribution\", \"Sentence Distribution\", \"Sentence Distribution\", \"Sentence Distribution\", \"Sentence Distribution\", \"Sentence Distribution\", \"Sentence Distribution\", \"Sentence Distribution\", \"Sentence Distribution\", \"Sentence Distribution\", \"Sentence Distribution\", \"Sentence Distribution\", \"Sentence Distribution\", \"Sentence Distribution\", \"Sentence Distribution\", \"Sentence Distribution\", \"Sentence Distribution\", \"Sentence Distribution\", \"Sentence Distribution\", \"Sentence Distribution\", \"Sentence Distribution\", \"Sentence Distribution\", \"Sentence Distribution\", \"Sentence Distribution\", \"Sentence Distribution\", \"Sentence Distribution\", \"Sentence Distribution\", \"Sentence Distribution\", \"Sentence Distribution\", \"Sentence Distribution\", \"Sentence Distribution\", \"Sentence Distribution\", \"Sentence Distribution\", \"Sentence Distribution\", \"Sentence Distribution\", \"Sentence Distribution\", \"Sentence Distribution\", \"Sentence Distribution\", \"Sentence Distribution\", \"Sentence Distribution\", \"Sentence Distribution\", \"Sentence Distribution\", \"Sentence Distribution\", \"Sentence Distribution\", \"Sentence Distribution\", \"Sentence Distribution\", \"Sentence Distribution\", \"Sentence Distribution\", \"Sentence Distribution\", \"Sentence Distribution\", \"Sentence Distribution\", \"Sentence Distribution\", \"Sentence Distribution\", \"Sentence Distribution\", \"Sentence Distribution\", \"Sentence Distribution\", \"Sentence Distribution\", \"Sentence Distribution\", \"Sentence Distribution\", \"Sentence Distribution\", \"Sentence Distribution\", \"Sentence Distribution\", \"Sentence Distribution\", \"Sentence Distribution\", \"Sentence Distribution\", \"Sentence Distribution\", \"Sentence Distribution\", \"Sentence Distribution\", \"Sentence Distribution\", \"Sentence Distribution\", \"Sentence Distribution\", \"Sentence Distribution\", \"Sentence Distribution\", \"Sentence Distribution\", \"Sentence Distribution\", \"Sentence Distribution\", \"Sentence Distribution\", \"Sentence Distribution\", \"Sentence Distribution\", \"Sentence Distribution\", \"Sentence Distribution\", \"Sentence Distribution\", \"Sentence Distribution\", \"Sentence Distribution\", \"Sentence Distribution\", \"Sentence Distribution\", \"Sentence Distribution\", \"Sentence Distribution\", \"Sentence Distribution\", \"Sentence Distribution\", \"Sentence Distribution\", \"Sentence Distribution\", \"Sentence Distribution\", \"Sentence Distribution\", \"Sentence Distribution\", \"Sentence Distribution\", \"Sentence Distribution\", \"Sentence Distribution\", \"Sentence Distribution\", \"Sentence Distribution\", \"Sentence Distribution\", \"Sentence Distribution\", \"Sentence Distribution\", \"Sentence Distribution\", \"Sentence Distribution\", \"Sentence Distribution\", \"Sentence Distribution\", \"Sentence Distribution\", \"Sentence Distribution\", \"Sentence Distribution\", \"Sentence Distribution\", \"Sentence Distribution\", \"Sentence Distribution\", \"Sentence Distribution\", \"Sentence Distribution\", \"Sentence Distribution\", \"Sentence Distribution\", \"Sentence Distribution\", \"Sentence Distribution\", \"Sentence Distribution\", \"Sentence Distribution\", \"Sentence Distribution\", \"Sentence Distribution\", \"Sentence Distribution\", \"Sentence Distribution\", \"Sentence Distribution\", \"Sentence Distribution\", \"Sentence Distribution\", \"Sentence Distribution\", \"Sentence Distribution\", \"Sentence Distribution\", \"Sentence Distribution\", \"Sentence Distribution\", \"Sentence Distribution\", \"Sentence Distribution\", \"Sentence Distribution\", \"Sentence Distribution\", \"Sentence Distribution\", \"Sentence Distribution\", \"Sentence Distribution\", \"Sentence Distribution\", \"Sentence Distribution\", \"Sentence Distribution\", \"Sentence Distribution\", \"Sentence Distribution\", \"Sentence Distribution\", \"Sentence Distribution\", \"Sentence Distribution\", \"Sentence Distribution\", \"Sentence Distribution\", \"Sentence Distribution\", \"Sentence Distribution\", \"Sentence Distribution\", \"Sentence Distribution\", \"Sentence Distribution\", \"Sentence Distribution\", \"Sentence Distribution\", \"Sentence Distribution\", \"Sentence Distribution\", \"Sentence Distribution\", \"Sentence Distribution\", \"Sentence Distribution\", \"Sentence Distribution\", \"Sentence Distribution\", \"Sentence Distribution\", \"Sentence Distribution\", \"Sentence Distribution\", \"Sentence Distribution\", \"Sentence Distribution\", \"Sentence Distribution\", \"Sentence Distribution\", \"Sentence Distribution\", \"Sentence Distribution\", \"Sentence Distribution\", \"Sentence Distribution\", \"Sentence Distribution\", \"Sentence Distribution\", \"Sentence Distribution\", \"Sentence Distribution\", \"Sentence Distribution\", \"Sentence Distribution\", \"Sentence Distribution\", \"Sentence Distribution\", \"Sentence Distribution\", \"Sentence Distribution\", \"Sentence Distribution\", \"Sentence Distribution\", \"Sentence Distribution\", \"Sentence Distribution\", \"Sentence Distribution\", \"Sentence Distribution\", \"Sentence Distribution\", \"Sentence Distribution\", \"Sentence Distribution\", \"Sentence Distribution\", \"Sentence Distribution\", \"Sentence Distribution\", \"Sentence Distribution\", \"Sentence Distribution\", \"Sentence Distribution\", \"Sentence Distribution\", \"Sentence Distribution\", \"Sentence Distribution\", \"Sentence Distribution\", \"Sentence Distribution\", \"Sentence Distribution\", \"Sentence Distribution\", \"Sentence Distribution\", \"Sentence Distribution\", \"Sentence Distribution\", \"Sentence Distribution\", \"Sentence Distribution\", \"Sentence Distribution\", \"Sentence Distribution\", \"Sentence Distribution\", \"Sentence Distribution\", \"Sentence Distribution\", \"Sentence Distribution\", \"Sentence Distribution\", \"Sentence Distribution\", \"Sentence Distribution\", \"Sentence Distribution\", \"Sentence Distribution\", \"Sentence Distribution\", \"Sentence Distribution\", \"Sentence Distribution\", \"Sentence Distribution\", \"Sentence Distribution\", \"Sentence Distribution\", \"Sentence Distribution\", \"Sentence Distribution\", \"Sentence Distribution\", \"Sentence Distribution\", \"Sentence Distribution\", \"Sentence Distribution\", \"Sentence Distribution\", \"Sentence Distribution\", \"Sentence Distribution\", \"Sentence Distribution\", \"Sentence Distribution\", \"Sentence Distribution\", \"Sentence Distribution\", \"Sentence Distribution\", \"Sentence Distribution\", \"Sentence Distribution\", \"Sentence Distribution\", \"Sentence Distribution\", \"Sentence Distribution\", \"Sentence Distribution\", \"Sentence Distribution\", \"Sentence Distribution\", \"Sentence Distribution\", \"Sentence Distribution\", \"Sentence Distribution\", \"Sentence Distribution\", \"Sentence Distribution\", \"Sentence Distribution\", \"Sentence Distribution\", \"Sentence Distribution\", \"Sentence Distribution\", \"Sentence Distribution\", \"Sentence Distribution\", \"Sentence Distribution\", \"Sentence Distribution\", \"Sentence Distribution\", \"Sentence Distribution\", \"Sentence Distribution\", \"Sentence Distribution\", \"Sentence Distribution\", \"Sentence Distribution\", \"Sentence Distribution\", \"Sentence Distribution\", \"Sentence Distribution\", \"Sentence Distribution\", \"Sentence Distribution\", \"Sentence Distribution\", \"Sentence Distribution\", \"Sentence Distribution\", \"Sentence Distribution\", \"Sentence Distribution\", \"Sentence Distribution\", \"Sentence Distribution\", \"Sentence Distribution\", \"Sentence Distribution\", \"Sentence Distribution\", \"Sentence Distribution\", \"Sentence Distribution\", \"Sentence Distribution\", \"Sentence Distribution\", \"Sentence Distribution\", \"Sentence Distribution\", \"Sentence Distribution\", \"Sentence Distribution\", \"Sentence Distribution\", \"Sentence Distribution\", \"Sentence Distribution\", \"Sentence Distribution\", \"Sentence Distribution\", \"Sentence Distribution\", \"Sentence Distribution\", \"Sentence Distribution\", \"Sentence Distribution\", \"Sentence Distribution\", \"Sentence Distribution\", \"Sentence Distribution\", \"Sentence Distribution\", \"Sentence Distribution\", \"Sentence Distribution\", \"Sentence Distribution\", \"Sentence Distribution\", \"Sentence Distribution\", \"Sentence Distribution\", \"Sentence Distribution\", \"Sentence Distribution\", \"Sentence Distribution\", \"Sentence Distribution\", \"Sentence Distribution\", \"Sentence Distribution\", \"Sentence Distribution\", \"Sentence Distribution\", \"Sentence Distribution\", \"Sentence Distribution\", \"Sentence Distribution\", \"Sentence Distribution\", \"Sentence Distribution\", \"Sentence Distribution\", \"Sentence Distribution\", \"Sentence Distribution\", \"Sentence Distribution\", \"Sentence Distribution\", \"Sentence Distribution\", \"Sentence Distribution\", \"Sentence Distribution\", \"Sentence Distribution\", \"Sentence Distribution\", \"Sentence Distribution\", \"Sentence Distribution\", \"Sentence Distribution\", \"Sentence Distribution\", \"Sentence Distribution\", \"Sentence Distribution\", \"Sentence Distribution\", \"Sentence Distribution\", \"Sentence Distribution\", \"Sentence Distribution\", \"Sentence Distribution\", \"Sentence Distribution\", \"Sentence Distribution\", \"Sentence Distribution\", \"Sentence Distribution\", \"Sentence Distribution\", \"Sentence Distribution\", \"Sentence Distribution\", \"Sentence Distribution\", \"Sentence Distribution\", \"Sentence Distribution\", \"Sentence Distribution\", \"Sentence Distribution\", \"Sentence Distribution\", \"Sentence Distribution\", \"Sentence Distribution\", \"Sentence Distribution\", \"Sentence Distribution\", \"Sentence Distribution\", \"Sentence Distribution\", \"Sentence Distribution\", \"Sentence Distribution\", \"Sentence Distribution\", \"Sentence Distribution\", \"Sentence Distribution\", \"Sentence Distribution\", \"Sentence Distribution\", \"Sentence Distribution\", \"Sentence Distribution\", \"Sentence Distribution\", \"Sentence Distribution\", \"Sentence Distribution\", \"Sentence Distribution\", \"Sentence Distribution\", \"Sentence Distribution\", \"Sentence Distribution\", \"Sentence Distribution\", \"Sentence Distribution\", \"Sentence Distribution\", \"Sentence Distribution\", \"Sentence Distribution\", \"Sentence Distribution\", \"Sentence Distribution\", \"Sentence Distribution\", \"Sentence Distribution\", \"Sentence Distribution\", \"Sentence Distribution\", \"Sentence Distribution\", \"Sentence Distribution\", \"Sentence Distribution\", \"Sentence Distribution\", \"Sentence Distribution\", \"Sentence Distribution\", \"Sentence Distribution\", \"Sentence Distribution\", \"Sentence Distribution\", \"Sentence Distribution\", \"Sentence Distribution\", \"Sentence Distribution\", \"Sentence Distribution\", \"Sentence Distribution\", \"Sentence Distribution\", \"Sentence Distribution\", \"Sentence Distribution\", \"Sentence Distribution\", \"Sentence Distribution\", \"Sentence Distribution\", \"Sentence Distribution\", \"Sentence Distribution\", \"Sentence Distribution\", \"Sentence Distribution\", \"Sentence Distribution\", \"Sentence Distribution\", \"Sentence Distribution\", \"Sentence Distribution\", \"Sentence Distribution\", \"Sentence Distribution\", \"Sentence Distribution\", \"Sentence Distribution\", \"Sentence Distribution\", \"Sentence Distribution\", \"Sentence Distribution\", \"Sentence Distribution\", \"Sentence Distribution\", \"Sentence Distribution\", \"Sentence Distribution\", \"Sentence Distribution\", \"Sentence Distribution\", \"Sentence Distribution\", \"Sentence Distribution\", \"Sentence Distribution\", \"Sentence Distribution\", \"Sentence Distribution\", \"Sentence Distribution\", \"Sentence Distribution\", \"Sentence Distribution\", \"Sentence Distribution\", \"Sentence Distribution\", \"Sentence Distribution\", \"Sentence Distribution\", \"Sentence Distribution\", \"Sentence Distribution\", \"Sentence Distribution\", \"Sentence Distribution\", \"Sentence Distribution\", \"Sentence Distribution\", \"Sentence Distribution\", \"Sentence Distribution\", \"Sentence Distribution\", \"Sentence Distribution\", \"Sentence Distribution\", \"Sentence Distribution\", \"Sentence Distribution\", \"Sentence Distribution\", \"Sentence Distribution\", \"Sentence Distribution\", \"Sentence Distribution\", \"Sentence Distribution\", \"Sentence Distribution\", \"Sentence Distribution\", \"Sentence Distribution\", \"Sentence Distribution\", \"Sentence Distribution\", \"Sentence Distribution\", \"Sentence Distribution\", \"Sentence Distribution\", \"Sentence Distribution\", \"Sentence Distribution\", \"Sentence Distribution\", \"Sentence Distribution\", \"Sentence Distribution\", \"Sentence Distribution\", \"Sentence Distribution\", \"Sentence Distribution\", \"Sentence Distribution\", \"Sentence Distribution\", \"Sentence Distribution\", \"Sentence Distribution\", \"Sentence Distribution\", \"Sentence Distribution\", \"Sentence Distribution\", \"Sentence Distribution\", \"Sentence Distribution\", \"Sentence Distribution\", \"Sentence Distribution\", \"Sentence Distribution\", \"Sentence Distribution\", \"Sentence Distribution\", \"Sentence Distribution\", \"Sentence Distribution\", \"Sentence Distribution\", \"Sentence Distribution\", \"Sentence Distribution\", \"Sentence Distribution\", \"Sentence Distribution\", \"Sentence Distribution\", \"Sentence Distribution\", \"Sentence Distribution\", \"Sentence Distribution\", \"Sentence Distribution\", \"Sentence Distribution\", \"Sentence Distribution\", \"Sentence Distribution\", \"Sentence Distribution\", \"Sentence Distribution\", \"Sentence Distribution\", \"Sentence Distribution\", \"Sentence Distribution\", \"Sentence Distribution\", \"Sentence Distribution\", \"Sentence Distribution\", \"Sentence Distribution\", \"Sentence Distribution\", \"Sentence Distribution\", \"Sentence Distribution\", \"Sentence Distribution\", \"Sentence Distribution\", \"Sentence Distribution\", \"Sentence Distribution\", \"Sentence Distribution\", \"Sentence Distribution\", \"Sentence Distribution\", \"Sentence Distribution\", \"Sentence Distribution\", \"Sentence Distribution\", \"Sentence Distribution\", \"Sentence Distribution\", \"Sentence Distribution\", \"Sentence Distribution\", \"Sentence Distribution\", \"Sentence Distribution\", \"Sentence Distribution\", \"Sentence Distribution\", \"Sentence Distribution\", \"Sentence Distribution\", \"Sentence Distribution\", \"Sentence Distribution\", \"Sentence Distribution\", \"Sentence Distribution\", \"Sentence Distribution\", \"Sentence Distribution\", \"Sentence Distribution\", \"Sentence Distribution\", \"Sentence Distribution\", \"Sentence Distribution\", \"Sentence Distribution\", \"Sentence Distribution\", \"Sentence Distribution\", \"Sentence Distribution\", \"Sentence Distribution\", \"Sentence Distribution\", \"Sentence Distribution\", \"Sentence Distribution\", \"Sentence Distribution\", \"Sentence Distribution\", \"Sentence Distribution\", \"Sentence Distribution\", \"Sentence Distribution\", \"Sentence Distribution\", \"Sentence Distribution\", \"Sentence Distribution\", \"Sentence Distribution\", \"Sentence Distribution\", \"Sentence Distribution\", \"Sentence Distribution\", \"Sentence Distribution\", \"Sentence Distribution\", \"Sentence Distribution\", \"Sentence Distribution\", \"Sentence Distribution\", \"Sentence Distribution\", \"Sentence Distribution\", \"Sentence Distribution\", \"Sentence Distribution\", \"Sentence Distribution\", \"Sentence Distribution\", \"Sentence Distribution\", \"Sentence Distribution\", \"Sentence Distribution\", \"Sentence Distribution\", \"Sentence Distribution\", \"Sentence Distribution\", \"Sentence Distribution\", \"Sentence Distribution\", \"Sentence Distribution\", \"Sentence Distribution\", \"Sentence Distribution\", \"Sentence Distribution\", \"Sentence Distribution\", \"Sentence Distribution\", \"Sentence Distribution\", \"Sentence Distribution\", \"Sentence Distribution\", \"Sentence Distribution\", \"Sentence Distribution\", \"Sentence Distribution\", \"Sentence Distribution\", \"Sentence Distribution\", \"Sentence Distribution\", \"Sentence Distribution\", \"Sentence Distribution\", \"Sentence Distribution\", \"Sentence Distribution\", \"Sentence Distribution\", \"Sentence Distribution\", \"Sentence Distribution\", \"Sentence Distribution\", \"Sentence Distribution\", \"Sentence Distribution\", \"Sentence Distribution\", \"Sentence Distribution\", \"Sentence Distribution\", \"Sentence Distribution\", \"Sentence Distribution\", \"Sentence Distribution\", \"Sentence Distribution\", \"Sentence Distribution\", \"Sentence Distribution\", \"Sentence Distribution\", \"Sentence Distribution\", \"Sentence Distribution\", \"Sentence Distribution\", \"Sentence Distribution\", \"Sentence Distribution\", \"Sentence Distribution\", \"Sentence Distribution\", \"Sentence Distribution\", \"Sentence Distribution\", \"Sentence Distribution\", \"Sentence Distribution\", \"Sentence Distribution\", \"Sentence Distribution\", \"Sentence Distribution\", \"Sentence Distribution\", \"Sentence Distribution\", \"Sentence Distribution\", \"Sentence Distribution\", \"Sentence Distribution\", \"Sentence Distribution\", \"Sentence Distribution\", \"Sentence Distribution\", \"Sentence Distribution\", \"Sentence Distribution\", \"Sentence Distribution\", \"Sentence Distribution\", \"Sentence Distribution\", \"Sentence Distribution\", \"Sentence Distribution\", \"Sentence Distribution\", \"Sentence Distribution\", \"Sentence Distribution\", \"Sentence Distribution\", \"Sentence Distribution\", \"Sentence Distribution\", \"Sentence Distribution\", \"Sentence Distribution\", \"Sentence Distribution\", \"Sentence Distribution\", \"Sentence Distribution\", \"Sentence Distribution\", \"Sentence Distribution\", \"Sentence Distribution\", \"Sentence Distribution\", \"Sentence Distribution\", \"Sentence Distribution\", \"Sentence Distribution\", \"Sentence Distribution\", \"Sentence Distribution\", \"Sentence Distribution\", \"Sentence Distribution\", \"Sentence Distribution\", \"Sentence Distribution\", \"Sentence Distribution\", \"Sentence Distribution\", \"Sentence Distribution\", \"Sentence Distribution\", \"Sentence Distribution\", \"Sentence Distribution\", \"Sentence Distribution\", \"Sentence Distribution\", \"Sentence Distribution\", \"Sentence Distribution\", \"Sentence Distribution\", \"Sentence Distribution\", \"Sentence Distribution\", \"Sentence Distribution\", \"Sentence Distribution\", \"Sentence Distribution\", \"Sentence Distribution\", \"Sentence Distribution\", \"Sentence Distribution\", \"Sentence Distribution\", \"Sentence Distribution\", \"Sentence Distribution\", \"Sentence Distribution\", \"Sentence Distribution\", \"Sentence Distribution\", \"Sentence Distribution\", \"Sentence Distribution\", \"Sentence Distribution\", \"Sentence Distribution\", \"Sentence Distribution\", \"Sentence Distribution\", \"Sentence Distribution\", \"Sentence Distribution\", \"Sentence Distribution\", \"Sentence Distribution\", \"Sentence Distribution\", \"Sentence Distribution\", \"Sentence Distribution\", \"Sentence Distribution\", \"Sentence Distribution\", \"Sentence Distribution\", \"Sentence Distribution\", \"Sentence Distribution\", \"Sentence Distribution\", \"Sentence Distribution\", \"Sentence Distribution\", \"Sentence Distribution\", \"Sentence Distribution\", \"Sentence Distribution\", \"Sentence Distribution\", \"Sentence Distribution\", \"Sentence Distribution\", \"Sentence Distribution\", \"Sentence Distribution\", \"Sentence Distribution\", \"Sentence Distribution\", \"Sentence Distribution\", \"Sentence Distribution\", \"Sentence Distribution\", \"Sentence Distribution\", \"Sentence Distribution\", \"Sentence Distribution\", \"Sentence Distribution\", \"Sentence Distribution\", \"Sentence Distribution\", \"Sentence Distribution\", \"Sentence Distribution\", \"Sentence Distribution\", \"Sentence Distribution\", \"Sentence Distribution\", \"Sentence Distribution\", \"Sentence Distribution\", \"Sentence Distribution\", \"Sentence Distribution\", \"Sentence Distribution\", \"Sentence Distribution\", \"Sentence Distribution\", \"Sentence Distribution\", \"Sentence Distribution\", \"Sentence Distribution\", \"Sentence Distribution\", \"Sentence Distribution\", \"Sentence Distribution\", \"Sentence Distribution\", \"Sentence Distribution\", \"Sentence Distribution\", \"Sentence Distribution\", \"Sentence Distribution\", \"Sentence Distribution\", \"Sentence Distribution\", \"Sentence Distribution\", \"Sentence Distribution\", \"Sentence Distribution\", \"Sentence Distribution\", \"Sentence Distribution\", \"Sentence Distribution\", \"Sentence Distribution\", \"Sentence Distribution\", \"Sentence Distribution\", \"Sentence Distribution\", \"Sentence Distribution\", \"Sentence Distribution\", \"Sentence Distribution\", \"Sentence Distribution\", \"Sentence Distribution\", \"Sentence Distribution\", \"Sentence Distribution\", \"Sentence Distribution\", \"Sentence Distribution\", \"Sentence Distribution\", \"Sentence Distribution\", \"Sentence Distribution\", \"Sentence Distribution\", \"Sentence Distribution\", \"Sentence Distribution\", \"Sentence Distribution\", \"Sentence Distribution\", \"Sentence Distribution\", \"Sentence Distribution\", \"Sentence Distribution\", \"Sentence Distribution\", \"Sentence Distribution\", \"Sentence Distribution\", \"Sentence Distribution\", \"Sentence Distribution\", \"Sentence Distribution\", \"Sentence Distribution\", \"Sentence Distribution\", \"Sentence Distribution\", \"Sentence Distribution\", \"Sentence Distribution\", \"Sentence Distribution\", \"Sentence Distribution\", \"Sentence Distribution\", \"Sentence Distribution\", \"Sentence Distribution\", \"Sentence Distribution\", \"Sentence Distribution\", \"Sentence Distribution\", \"Sentence Distribution\", \"Sentence Distribution\", \"Sentence Distribution\", \"Sentence Distribution\", \"Sentence Distribution\", \"Sentence Distribution\", \"Sentence Distribution\", \"Sentence Distribution\", \"Sentence Distribution\", \"Sentence Distribution\", \"Sentence Distribution\", \"Sentence Distribution\", \"Sentence Distribution\", \"Sentence Distribution\", \"Sentence Distribution\", \"Sentence Distribution\", \"Sentence Distribution\", \"Sentence Distribution\", \"Sentence Distribution\", \"Sentence Distribution\", \"Sentence Distribution\", \"Sentence Distribution\", \"Sentence Distribution\", \"Sentence Distribution\", \"Sentence Distribution\", \"Sentence Distribution\", \"Sentence Distribution\", \"Sentence Distribution\", \"Sentence Distribution\", \"Sentence Distribution\", \"Sentence Distribution\", \"Sentence Distribution\", \"Sentence Distribution\", \"Sentence Distribution\", \"Sentence Distribution\", \"Sentence Distribution\", \"Sentence Distribution\", \"Sentence Distribution\", \"Sentence Distribution\", \"Sentence Distribution\", \"Sentence Distribution\", \"Sentence Distribution\", \"Sentence Distribution\", \"Sentence Distribution\", \"Sentence Distribution\", \"Sentence Distribution\", \"Sentence Distribution\", \"Sentence Distribution\", \"Sentence Distribution\", \"Sentence Distribution\", \"Sentence Distribution\", \"Sentence Distribution\", \"Sentence Distribution\", \"Sentence Distribution\", \"Sentence Distribution\", \"Sentence Distribution\", \"Sentence Distribution\", \"Sentence Distribution\", \"Sentence Distribution\", \"Sentence Distribution\", \"Sentence Distribution\", \"Sentence Distribution\", \"Sentence Distribution\", \"Sentence Distribution\", \"Sentence Distribution\", \"Sentence Distribution\", \"Sentence Distribution\", \"Sentence Distribution\", \"Sentence Distribution\", \"Sentence Distribution\", \"Sentence Distribution\", \"Sentence Distribution\", \"Sentence Distribution\", \"Sentence Distribution\", \"Sentence Distribution\", \"Sentence Distribution\", \"Sentence Distribution\", \"Sentence Distribution\", \"Sentence Distribution\", \"Sentence Distribution\", \"Sentence Distribution\", \"Sentence Distribution\", \"Sentence Distribution\", \"Sentence Distribution\", \"Sentence Distribution\", \"Sentence Distribution\", \"Sentence Distribution\", \"Sentence Distribution\", \"Sentence Distribution\", \"Sentence Distribution\", \"Sentence Distribution\", \"Sentence Distribution\", \"Sentence Distribution\", \"Sentence Distribution\", \"Sentence Distribution\", \"Sentence Distribution\", \"Sentence Distribution\", \"Sentence Distribution\", \"Sentence Distribution\", \"Sentence Distribution\", \"Sentence Distribution\", \"Sentence Distribution\", \"Sentence Distribution\", \"Sentence Distribution\", \"Sentence Distribution\", \"Sentence Distribution\", \"Sentence Distribution\", \"Sentence Distribution\", \"Sentence Distribution\", \"Sentence Distribution\", \"Sentence Distribution\", \"Sentence Distribution\", \"Sentence Distribution\", \"Sentence Distribution\", \"Sentence Distribution\", \"Sentence Distribution\", \"Sentence Distribution\", \"Sentence Distribution\", \"Sentence Distribution\", \"Sentence Distribution\", \"Sentence Distribution\", \"Sentence Distribution\", \"Sentence Distribution\", \"Sentence Distribution\", \"Sentence Distribution\", \"Sentence Distribution\", \"Sentence Distribution\", \"Sentence Distribution\", \"Sentence Distribution\", \"Sentence Distribution\", \"Sentence Distribution\", \"Sentence Distribution\", \"Sentence Distribution\", \"Sentence Distribution\", \"Sentence Distribution\", \"Sentence Distribution\", \"Sentence Distribution\", \"Sentence Distribution\", \"Sentence Distribution\", \"Sentence Distribution\", \"Sentence Distribution\", \"Sentence Distribution\", \"Sentence Distribution\", \"Sentence Distribution\", \"Sentence Distribution\", \"Sentence Distribution\", \"Sentence Distribution\", \"Sentence Distribution\", \"Sentence Distribution\", \"Sentence Distribution\", \"Sentence Distribution\", \"Sentence Distribution\", \"Sentence Distribution\", \"Sentence Distribution\", \"Sentence Distribution\", \"Sentence Distribution\", \"Sentence Distribution\", \"Sentence Distribution\", \"Sentence Distribution\", \"Sentence Distribution\", \"Sentence Distribution\", \"Sentence Distribution\", \"Sentence Distribution\", \"Sentence Distribution\", \"Sentence Distribution\", \"Sentence Distribution\", \"Sentence Distribution\", \"Sentence Distribution\", \"Sentence Distribution\", \"Sentence Distribution\", \"Sentence Distribution\", \"Sentence Distribution\", \"Sentence Distribution\", \"Sentence Distribution\", \"Sentence Distribution\", \"Sentence Distribution\", \"Sentence Distribution\", \"Sentence Distribution\", \"Sentence Distribution\", \"Sentence Distribution\", \"Sentence Distribution\", \"Sentence Distribution\", \"Sentence Distribution\", \"Sentence Distribution\", \"Sentence Distribution\", \"Sentence Distribution\", \"Sentence Distribution\", \"Sentence Distribution\", \"Sentence Distribution\", \"Sentence Distribution\", \"Sentence Distribution\", \"Sentence Distribution\", \"Sentence Distribution\", \"Sentence Distribution\", \"Sentence Distribution\", \"Sentence Distribution\", \"Sentence Distribution\", \"Sentence Distribution\", \"Sentence Distribution\", \"Sentence Distribution\", \"Sentence Distribution\", \"Sentence Distribution\", \"Sentence Distribution\", \"Sentence Distribution\", \"Sentence Distribution\", \"Sentence Distribution\", \"Sentence Distribution\", \"Sentence Distribution\", \"Sentence Distribution\", \"Sentence Distribution\", \"Sentence Distribution\", \"Sentence Distribution\", \"Sentence Distribution\", \"Sentence Distribution\", \"Sentence Distribution\", \"Sentence Distribution\", \"Sentence Distribution\", \"Sentence Distribution\", \"Sentence Distribution\", \"Sentence Distribution\", \"Sentence Distribution\", \"Sentence Distribution\", \"Sentence Distribution\", \"Sentence Distribution\", \"Sentence Distribution\", \"Sentence Distribution\", \"Sentence Distribution\", \"Sentence Distribution\", \"Sentence Distribution\", \"Sentence Distribution\", \"Sentence Distribution\", \"Sentence Distribution\", \"Sentence Distribution\", \"Sentence Distribution\", \"Sentence Distribution\", \"Sentence Distribution\", \"Sentence Distribution\", \"Sentence Distribution\", \"Sentence Distribution\", \"Sentence Distribution\", \"Sentence Distribution\", \"Sentence Distribution\", \"Sentence Distribution\", \"Sentence Distribution\", \"Sentence Distribution\", \"Sentence Distribution\", \"Sentence Distribution\", \"Sentence Distribution\", \"Sentence Distribution\", \"Sentence Distribution\", \"Sentence Distribution\", \"Sentence Distribution\", \"Sentence Distribution\", \"Sentence Distribution\", \"Sentence Distribution\", \"Sentence Distribution\", \"Sentence Distribution\", \"Sentence Distribution\", \"Sentence Distribution\", \"Sentence Distribution\", \"Sentence Distribution\", \"Sentence Distribution\", \"Sentence Distribution\", \"Sentence Distribution\", \"Sentence Distribution\", \"Sentence Distribution\", \"Sentence Distribution\", \"Sentence Distribution\", \"Sentence Distribution\", \"Sentence Distribution\", \"Sentence Distribution\", \"Sentence Distribution\", \"Sentence Distribution\", \"Sentence Distribution\", \"Sentence Distribution\", \"Sentence Distribution\", \"Sentence Distribution\", \"Sentence Distribution\", \"Sentence Distribution\", \"Sentence Distribution\", \"Sentence Distribution\", \"Sentence Distribution\", \"Sentence Distribution\", \"Sentence Distribution\", \"Sentence Distribution\", \"Sentence Distribution\", \"Sentence Distribution\", \"Sentence Distribution\", \"Sentence Distribution\", \"Sentence Distribution\", \"Sentence Distribution\", \"Sentence Distribution\", \"Sentence Distribution\", \"Sentence Distribution\", \"Sentence Distribution\", \"Sentence Distribution\", \"Sentence Distribution\", \"Sentence Distribution\", \"Sentence Distribution\", \"Sentence Distribution\", \"Sentence Distribution\", \"Sentence Distribution\", \"Sentence Distribution\", \"Sentence Distribution\", \"Sentence Distribution\", \"Sentence Distribution\", \"Sentence Distribution\", \"Sentence Distribution\", \"Sentence Distribution\", \"Sentence Distribution\", \"Sentence Distribution\", \"Sentence Distribution\", \"Sentence Distribution\", \"Sentence Distribution\", \"Sentence Distribution\", \"Sentence Distribution\", \"Sentence Distribution\", \"Sentence Distribution\", \"Sentence Distribution\", \"Sentence Distribution\", \"Sentence Distribution\", \"Sentence Distribution\", \"Sentence Distribution\", \"Sentence Distribution\", \"Sentence Distribution\", \"Sentence Distribution\", \"Sentence Distribution\", \"Sentence Distribution\", \"Sentence Distribution\", \"Sentence Distribution\", \"Sentence Distribution\", \"Sentence Distribution\", \"Sentence Distribution\", \"Sentence Distribution\", \"Sentence Distribution\", \"Sentence Distribution\", \"Sentence Distribution\", \"Sentence Distribution\", \"Sentence Distribution\", \"Sentence Distribution\", \"Sentence Distribution\", \"Sentence Distribution\", \"Sentence Distribution\", \"Sentence Distribution\", \"Sentence Distribution\", \"Sentence Distribution\", \"Sentence Distribution\", \"Sentence Distribution\", \"Sentence Distribution\", \"Sentence Distribution\", \"Sentence Distribution\", \"Sentence Distribution\", \"Sentence Distribution\", \"Sentence Distribution\", \"Sentence Distribution\", \"Sentence Distribution\", \"Sentence Distribution\", \"Sentence Distribution\", \"Sentence Distribution\", \"Sentence Distribution\", \"Sentence Distribution\", \"Sentence Distribution\", \"Sentence Distribution\", \"Sentence Distribution\", \"Sentence Distribution\", \"Sentence Distribution\", \"Sentence Distribution\", \"Sentence Distribution\", \"Sentence Distribution\", \"Sentence Distribution\", \"Sentence Distribution\", \"Sentence Distribution\", \"Sentence Distribution\", \"Sentence Distribution\", \"Sentence Distribution\", \"Sentence Distribution\", \"Sentence Distribution\", \"Sentence Distribution\", \"Sentence Distribution\", \"Sentence Distribution\", \"Sentence Distribution\", \"Sentence Distribution\", \"Sentence Distribution\", \"Sentence Distribution\", \"Sentence Distribution\", \"Sentence Distribution\", \"Sentence Distribution\", \"Sentence Distribution\", \"Sentence Distribution\", \"Sentence Distribution\", \"Sentence Distribution\", \"Sentence Distribution\", \"Sentence Distribution\", \"Sentence Distribution\", \"Sentence Distribution\", \"Sentence Distribution\", \"Sentence Distribution\", \"Sentence Distribution\", \"Sentence Distribution\", \"Sentence Distribution\", \"Sentence Distribution\", \"Sentence Distribution\", \"Sentence Distribution\", \"Sentence Distribution\", \"Sentence Distribution\", \"Sentence Distribution\", \"Sentence Distribution\", \"Sentence Distribution\", \"Sentence Distribution\", \"Sentence Distribution\", \"Sentence Distribution\", \"Sentence Distribution\", \"Sentence Distribution\", \"Sentence Distribution\", \"Sentence Distribution\", \"Sentence Distribution\", \"Sentence Distribution\", \"Sentence Distribution\", \"Sentence Distribution\", \"Sentence Distribution\", \"Sentence Distribution\", \"Sentence Distribution\", \"Sentence Distribution\", \"Sentence Distribution\", \"Sentence Distribution\", \"Sentence Distribution\", \"Sentence Distribution\", \"Sentence Distribution\", \"Sentence Distribution\", \"Sentence Distribution\", \"Sentence Distribution\", \"Sentence Distribution\", \"Sentence Distribution\", \"Sentence Distribution\", \"Sentence Distribution\", \"Sentence Distribution\", \"Sentence Distribution\", \"Sentence Distribution\", \"Sentence Distribution\", \"Sentence Distribution\", \"Sentence Distribution\", \"Sentence Distribution\", \"Sentence Distribution\", \"Sentence Distribution\", \"Sentence Distribution\", \"Sentence Distribution\", \"Sentence Distribution\", \"Sentence Distribution\", \"Sentence Distribution\", \"Sentence Distribution\", \"Sentence Distribution\", \"Sentence Distribution\", \"Sentence Distribution\", \"Sentence Distribution\", \"Sentence Distribution\", \"Sentence Distribution\", \"Sentence Distribution\", \"Sentence Distribution\", \"Sentence Distribution\", \"Sentence Distribution\", \"Sentence Distribution\", \"Sentence Distribution\", \"Sentence Distribution\", \"Sentence Distribution\", \"Sentence Distribution\", \"Sentence Distribution\", \"Sentence Distribution\", \"Sentence Distribution\", \"Sentence Distribution\", \"Sentence Distribution\", \"Sentence Distribution\", \"Sentence Distribution\", \"Sentence Distribution\", \"Sentence Distribution\", \"Sentence Distribution\", \"Sentence Distribution\", \"Sentence Distribution\", \"Sentence Distribution\", \"Sentence Distribution\", \"Sentence Distribution\", \"Sentence Distribution\", \"Sentence Distribution\", \"Sentence Distribution\", \"Sentence Distribution\", \"Sentence Distribution\", \"Sentence Distribution\", \"Sentence Distribution\", \"Sentence Distribution\", \"Sentence Distribution\", \"Sentence Distribution\", \"Sentence Distribution\", \"Sentence Distribution\", \"Sentence Distribution\", \"Sentence Distribution\", \"Sentence Distribution\", \"Sentence Distribution\", \"Sentence Distribution\", \"Sentence Distribution\", \"Sentence Distribution\", \"Sentence Distribution\", \"Sentence Distribution\", \"Sentence Distribution\", \"Sentence Distribution\", \"Sentence Distribution\", \"Sentence Distribution\", \"Sentence Distribution\", \"Sentence Distribution\", \"Sentence Distribution\", \"Sentence Distribution\", \"Sentence Distribution\", \"Sentence Distribution\", \"Sentence Distribution\", \"Sentence Distribution\", \"Sentence Distribution\", \"Sentence Distribution\", \"Sentence Distribution\", \"Sentence Distribution\", \"Sentence Distribution\", \"Sentence Distribution\", \"Sentence Distribution\", \"Sentence Distribution\", \"Sentence Distribution\", \"Sentence Distribution\", \"Sentence Distribution\", \"Sentence Distribution\", \"Sentence Distribution\", \"Sentence Distribution\", \"Sentence Distribution\", \"Sentence Distribution\", \"Sentence Distribution\", \"Sentence Distribution\", \"Sentence Distribution\", \"Sentence Distribution\", \"Sentence Distribution\", \"Sentence Distribution\", \"Sentence Distribution\", \"Sentence Distribution\", \"Sentence Distribution\", \"Sentence Distribution\", \"Sentence Distribution\", \"Sentence Distribution\", \"Sentence Distribution\", \"Sentence Distribution\", \"Sentence Distribution\", \"Sentence Distribution\", \"Sentence Distribution\", \"Sentence Distribution\", \"Sentence Distribution\", \"Sentence Distribution\", \"Sentence Distribution\", \"Sentence Distribution\", \"Sentence Distribution\", \"Sentence Distribution\", \"Sentence Distribution\", \"Sentence Distribution\", \"Sentence Distribution\", \"Sentence Distribution\", \"Sentence Distribution\", \"Sentence Distribution\", \"Sentence Distribution\", \"Sentence Distribution\", \"Sentence Distribution\", \"Sentence Distribution\", \"Sentence Distribution\", \"Sentence Distribution\", \"Sentence Distribution\", \"Sentence Distribution\", \"Sentence Distribution\", \"Sentence Distribution\", \"Sentence Distribution\", \"Sentence Distribution\", \"Sentence Distribution\", \"Sentence Distribution\", \"Sentence Distribution\", \"Sentence Distribution\", \"Sentence Distribution\", \"Sentence Distribution\", \"Sentence Distribution\", \"Sentence Distribution\", \"Sentence Distribution\", \"Sentence Distribution\", \"Sentence Distribution\", \"Sentence Distribution\", \"Sentence Distribution\", \"Sentence Distribution\", \"Sentence Distribution\", \"Sentence Distribution\", \"Sentence Distribution\", \"Sentence Distribution\", \"Sentence Distribution\", \"Sentence Distribution\", \"Sentence Distribution\", \"Sentence Distribution\", \"Sentence Distribution\", \"Sentence Distribution\", \"Sentence Distribution\", \"Sentence Distribution\", \"Sentence Distribution\", \"Sentence Distribution\", \"Sentence Distribution\", \"Sentence Distribution\", \"Sentence Distribution\", \"Sentence Distribution\", \"Sentence Distribution\", \"Sentence Distribution\", \"Sentence Distribution\", \"Sentence Distribution\", \"Sentence Distribution\", \"Sentence Distribution\", \"Sentence Distribution\", \"Sentence Distribution\", \"Sentence Distribution\", \"Sentence Distribution\", \"Sentence Distribution\", \"Sentence Distribution\", \"Sentence Distribution\", \"Sentence Distribution\", \"Sentence Distribution\", \"Sentence Distribution\", \"Sentence Distribution\", \"Sentence Distribution\", \"Sentence Distribution\", \"Sentence Distribution\", \"Sentence Distribution\", \"Sentence Distribution\", \"Sentence Distribution\", \"Sentence Distribution\", \"Sentence Distribution\", \"Sentence Distribution\", \"Sentence Distribution\", \"Sentence Distribution\", \"Sentence Distribution\", \"Sentence Distribution\", \"Sentence Distribution\", \"Sentence Distribution\", \"Sentence Distribution\", \"Sentence Distribution\", \"Sentence Distribution\", \"Sentence Distribution\", \"Sentence Distribution\", \"Sentence Distribution\", \"Sentence Distribution\", \"Sentence Distribution\", \"Sentence Distribution\", \"Sentence Distribution\", \"Sentence Distribution\", \"Sentence Distribution\", \"Sentence Distribution\", \"Sentence Distribution\", \"Sentence Distribution\", \"Sentence Distribution\", \"Sentence Distribution\", \"Sentence Distribution\", \"Sentence Distribution\", \"Sentence Distribution\", \"Sentence Distribution\", \"Sentence Distribution\", \"Sentence Distribution\", \"Sentence Distribution\", \"Sentence Distribution\", \"Sentence Distribution\", \"Sentence Distribution\", \"Sentence Distribution\", \"Sentence Distribution\", \"Sentence Distribution\", \"Sentence Distribution\", \"Sentence Distribution\", \"Sentence Distribution\", \"Sentence Distribution\", \"Sentence Distribution\", \"Sentence Distribution\", \"Sentence Distribution\", \"Sentence Distribution\", \"Sentence Distribution\", \"Sentence Distribution\", \"Sentence Distribution\", \"Sentence Distribution\", \"Sentence Distribution\", \"Sentence Distribution\", \"Sentence Distribution\", \"Sentence Distribution\", \"Sentence Distribution\", \"Sentence Distribution\", \"Sentence Distribution\", \"Sentence Distribution\", \"Sentence Distribution\", \"Sentence Distribution\", \"Sentence Distribution\", \"Sentence Distribution\", \"Sentence Distribution\", \"Sentence Distribution\", \"Sentence Distribution\", \"Sentence Distribution\", \"Sentence Distribution\", \"Sentence Distribution\", \"Sentence Distribution\", \"Sentence Distribution\", \"Sentence Distribution\", \"Sentence Distribution\", \"Sentence Distribution\", \"Sentence Distribution\", \"Sentence Distribution\", \"Sentence Distribution\", \"Sentence Distribution\", \"Sentence Distribution\", \"Sentence Distribution\", \"Sentence Distribution\", \"Sentence Distribution\", \"Sentence Distribution\", \"Sentence Distribution\", \"Sentence Distribution\", \"Sentence Distribution\", \"Sentence Distribution\", \"Sentence Distribution\", \"Sentence Distribution\", \"Sentence Distribution\", \"Sentence Distribution\", \"Sentence Distribution\", \"Sentence Distribution\", \"Sentence Distribution\", \"Sentence Distribution\", \"Sentence Distribution\", \"Sentence Distribution\", \"Sentence Distribution\", \"Sentence Distribution\", \"Sentence Distribution\", \"Sentence Distribution\", \"Sentence Distribution\", \"Sentence Distribution\", \"Sentence Distribution\", \"Sentence Distribution\", \"Sentence Distribution\", \"Sentence Distribution\", \"Sentence Distribution\", \"Sentence Distribution\", \"Sentence Distribution\", \"Sentence Distribution\", \"Sentence Distribution\", \"Sentence Distribution\", \"Sentence Distribution\", \"Sentence Distribution\", \"Sentence Distribution\", \"Sentence Distribution\", \"Sentence Distribution\", \"Sentence Distribution\", \"Sentence Distribution\", \"Sentence Distribution\", \"Sentence Distribution\", \"Sentence Distribution\", \"Sentence Distribution\", \"Sentence Distribution\", \"Sentence Distribution\", \"Sentence Distribution\", \"Sentence Distribution\", \"Sentence Distribution\", \"Sentence Distribution\", \"Sentence Distribution\", \"Sentence Distribution\", \"Sentence Distribution\", \"Sentence Distribution\", \"Sentence Distribution\", \"Sentence Distribution\", \"Sentence Distribution\", \"Sentence Distribution\", \"Sentence Distribution\", \"Sentence Distribution\", \"Sentence Distribution\", \"Sentence Distribution\", \"Sentence Distribution\", \"Sentence Distribution\", \"Sentence Distribution\", \"Sentence Distribution\", \"Sentence Distribution\", \"Sentence Distribution\", \"Sentence Distribution\", \"Sentence Distribution\", \"Sentence Distribution\", \"Sentence Distribution\", \"Sentence Distribution\", \"Sentence Distribution\", \"Sentence Distribution\", \"Sentence Distribution\", \"Sentence Distribution\", \"Sentence Distribution\", \"Sentence Distribution\", \"Sentence Distribution\", \"Sentence Distribution\", \"Sentence Distribution\", \"Sentence Distribution\", \"Sentence Distribution\", \"Sentence Distribution\", \"Sentence Distribution\", \"Sentence Distribution\", \"Sentence Distribution\", \"Sentence Distribution\", \"Sentence Distribution\", \"Sentence Distribution\", \"Sentence Distribution\", \"Sentence Distribution\", \"Sentence Distribution\", \"Sentence Distribution\", \"Sentence Distribution\", \"Sentence Distribution\", \"Sentence Distribution\", \"Sentence Distribution\", \"Sentence Distribution\", \"Sentence Distribution\", \"Sentence Distribution\", \"Sentence Distribution\", \"Sentence Distribution\", \"Sentence Distribution\", \"Sentence Distribution\", \"Sentence Distribution\", \"Sentence Distribution\", \"Sentence Distribution\", \"Sentence Distribution\", \"Sentence Distribution\", \"Sentence Distribution\", \"Sentence Distribution\", \"Sentence Distribution\", \"Sentence Distribution\", \"Sentence Distribution\", \"Sentence Distribution\", \"Sentence Distribution\", \"Sentence Distribution\", \"Sentence Distribution\", \"Sentence Distribution\", \"Sentence Distribution\", \"Sentence Distribution\", \"Sentence Distribution\", \"Sentence Distribution\", \"Sentence Distribution\", \"Sentence Distribution\", \"Sentence Distribution\", \"Sentence Distribution\", \"Sentence Distribution\", \"Sentence Distribution\", \"Sentence Distribution\", \"Sentence Distribution\", \"Sentence Distribution\", \"Sentence Distribution\", \"Sentence Distribution\", \"Sentence Distribution\", \"Sentence Distribution\", \"Sentence Distribution\", \"Sentence Distribution\", \"Sentence Distribution\", \"Sentence Distribution\", \"Sentence Distribution\", \"Sentence Distribution\", \"Sentence Distribution\", \"Sentence Distribution\", \"Sentence Distribution\", \"Sentence Distribution\", \"Sentence Distribution\", \"Sentence Distribution\", \"Sentence Distribution\", \"Sentence Distribution\", \"Sentence Distribution\", \"Sentence Distribution\", \"Sentence Distribution\", \"Sentence Distribution\", \"Sentence Distribution\", \"Sentence Distribution\", \"Sentence Distribution\", \"Sentence Distribution\", \"Sentence Distribution\", \"Sentence Distribution\", \"Sentence Distribution\", \"Sentence Distribution\", \"Sentence Distribution\", \"Sentence Distribution\", \"Sentence Distribution\", \"Sentence Distribution\", \"Sentence Distribution\", \"Sentence Distribution\", \"Sentence Distribution\", \"Sentence Distribution\", \"Sentence Distribution\", \"Sentence Distribution\", \"Sentence Distribution\", \"Sentence Distribution\", \"Sentence Distribution\", \"Sentence Distribution\", \"Sentence Distribution\", \"Sentence Distribution\", \"Sentence Distribution\", \"Sentence Distribution\", \"Sentence Distribution\", \"Sentence Distribution\", \"Sentence Distribution\", \"Sentence Distribution\", \"Sentence Distribution\", \"Sentence Distribution\", \"Sentence Distribution\", \"Sentence Distribution\", \"Sentence Distribution\", \"Sentence Distribution\", \"Sentence Distribution\", \"Sentence Distribution\", \"Sentence Distribution\", \"Sentence Distribution\", \"Sentence Distribution\", \"Sentence Distribution\", \"Sentence Distribution\", \"Sentence Distribution\", \"Sentence Distribution\", \"Sentence Distribution\", \"Sentence Distribution\", \"Sentence Distribution\", \"Sentence Distribution\", \"Sentence Distribution\", \"Sentence Distribution\", \"Sentence Distribution\", \"Sentence Distribution\", \"Sentence Distribution\", \"Sentence Distribution\", \"Sentence Distribution\", \"Sentence Distribution\", \"Sentence Distribution\", \"Sentence Distribution\", \"Sentence Distribution\", \"Sentence Distribution\", \"Sentence Distribution\", \"Sentence Distribution\", \"Sentence Distribution\", \"Sentence Distribution\", \"Sentence Distribution\", \"Sentence Distribution\", \"Sentence Distribution\", \"Sentence Distribution\", \"Sentence Distribution\", \"Sentence Distribution\", \"Sentence Distribution\", \"Sentence Distribution\", \"Sentence Distribution\", \"Sentence Distribution\", \"Sentence Distribution\", \"Sentence Distribution\", \"Sentence Distribution\", \"Sentence Distribution\", \"Sentence Distribution\", \"Sentence Distribution\", \"Sentence Distribution\", \"Sentence Distribution\", \"Sentence Distribution\", \"Sentence Distribution\", \"Sentence Distribution\", \"Sentence Distribution\", \"Sentence Distribution\", \"Sentence Distribution\", \"Sentence Distribution\", \"Sentence Distribution\", \"Sentence Distribution\", \"Sentence Distribution\", \"Sentence Distribution\", \"Sentence Distribution\", \"Sentence Distribution\", \"Sentence Distribution\", \"Sentence Distribution\", \"Sentence Distribution\", \"Sentence Distribution\", \"Sentence Distribution\", \"Sentence Distribution\", \"Sentence Distribution\", \"Sentence Distribution\", \"Sentence Distribution\", \"Sentence Distribution\", \"Sentence Distribution\", \"Sentence Distribution\", \"Sentence Distribution\", \"Sentence Distribution\", \"Sentence Distribution\", \"Sentence Distribution\", \"Sentence Distribution\", \"Sentence Distribution\", \"Sentence Distribution\", \"Sentence Distribution\", \"Sentence Distribution\", \"Sentence Distribution\", \"Sentence Distribution\", \"Sentence Distribution\", \"Sentence Distribution\", \"Sentence Distribution\", \"Sentence Distribution\", \"Sentence Distribution\", \"Sentence Distribution\", \"Sentence Distribution\", \"Sentence Distribution\", \"Sentence Distribution\", \"Sentence Distribution\", \"Sentence Distribution\", \"Sentence Distribution\", \"Sentence Distribution\", \"Sentence Distribution\", \"Sentence Distribution\", \"Sentence Distribution\", \"Sentence Distribution\", \"Sentence Distribution\", \"Sentence Distribution\", \"Sentence Distribution\", \"Sentence Distribution\", \"Sentence Distribution\", \"Sentence Distribution\", \"Sentence Distribution\", \"Sentence Distribution\", \"Sentence Distribution\", \"Sentence Distribution\", \"Sentence Distribution\", \"Sentence Distribution\", \"Sentence Distribution\", \"Sentence Distribution\", \"Sentence Distribution\", \"Sentence Distribution\", \"Sentence Distribution\", \"Sentence Distribution\", \"Sentence Distribution\", \"Sentence Distribution\", \"Sentence Distribution\", \"Sentence Distribution\", \"Sentence Distribution\", \"Sentence Distribution\", \"Sentence Distribution\", \"Sentence Distribution\", \"Sentence Distribution\", \"Sentence Distribution\", \"Sentence Distribution\", \"Sentence Distribution\", \"Sentence Distribution\", \"Sentence Distribution\", \"Sentence Distribution\", \"Sentence Distribution\", \"Sentence Distribution\", \"Sentence Distribution\", \"Sentence Distribution\", \"Sentence Distribution\", \"Sentence Distribution\", \"Sentence Distribution\", \"Sentence Distribution\", \"Sentence Distribution\", \"Sentence Distribution\", \"Sentence Distribution\", \"Sentence Distribution\", \"Sentence Distribution\", \"Sentence Distribution\", \"Sentence Distribution\", \"Sentence Distribution\", \"Sentence Distribution\", \"Sentence Distribution\", \"Sentence Distribution\", \"Sentence Distribution\", \"Sentence Distribution\", \"Sentence Distribution\", \"Sentence Distribution\", \"Sentence Distribution\", \"Sentence Distribution\", \"Sentence Distribution\", \"Sentence Distribution\", \"Sentence Distribution\", \"Sentence Distribution\", \"Sentence Distribution\", \"Sentence Distribution\", \"Sentence Distribution\", \"Sentence Distribution\", \"Sentence Distribution\", \"Sentence Distribution\", \"Sentence Distribution\", \"Sentence Distribution\", \"Sentence Distribution\", \"Sentence Distribution\", \"Sentence Distribution\", \"Sentence Distribution\", \"Sentence Distribution\", \"Sentence Distribution\", \"Sentence Distribution\", \"Sentence Distribution\", \"Sentence Distribution\", \"Sentence Distribution\", \"Sentence Distribution\", \"Sentence Distribution\", \"Sentence Distribution\", \"Sentence Distribution\", \"Sentence Distribution\", \"Sentence Distribution\", \"Sentence Distribution\", \"Sentence Distribution\", \"Sentence Distribution\", \"Sentence Distribution\", \"Sentence Distribution\", \"Sentence Distribution\", \"Sentence Distribution\", \"Sentence Distribution\", \"Sentence Distribution\", \"Sentence Distribution\", \"Sentence Distribution\", \"Sentence Distribution\", \"Sentence Distribution\", \"Sentence Distribution\", \"Sentence Distribution\", \"Sentence Distribution\", \"Sentence Distribution\", \"Sentence Distribution\", \"Sentence Distribution\", \"Sentence Distribution\", \"Sentence Distribution\", \"Sentence Distribution\", \"Sentence Distribution\", \"Sentence Distribution\", \"Sentence Distribution\", \"Sentence Distribution\", \"Sentence Distribution\", \"Sentence Distribution\", \"Sentence Distribution\", \"Sentence Distribution\", \"Sentence Distribution\", \"Sentence Distribution\", \"Sentence Distribution\", \"Sentence Distribution\", \"Sentence Distribution\", \"Sentence Distribution\", \"Sentence Distribution\", \"Sentence Distribution\", \"Sentence Distribution\", \"Sentence Distribution\", \"Sentence Distribution\", \"Sentence Distribution\", \"Sentence Distribution\", \"Sentence Distribution\", \"Sentence Distribution\", \"Sentence Distribution\", \"Sentence Distribution\", \"Sentence Distribution\", \"Sentence Distribution\", \"Sentence Distribution\", \"Sentence Distribution\", \"Sentence Distribution\", \"Sentence Distribution\", \"Sentence Distribution\", \"Sentence Distribution\", \"Sentence Distribution\", \"Sentence Distribution\", \"Sentence Distribution\", \"Sentence Distribution\", \"Sentence Distribution\", \"Sentence Distribution\", \"Sentence Distribution\", \"Sentence Distribution\", \"Sentence Distribution\", \"Sentence Distribution\", \"Sentence Distribution\", \"Sentence Distribution\", \"Sentence Distribution\", \"Sentence Distribution\", \"Sentence Distribution\", \"Sentence Distribution\", \"Sentence Distribution\", \"Sentence Distribution\", \"Sentence Distribution\", \"Sentence Distribution\", \"Sentence Distribution\", \"Sentence Distribution\", \"Sentence Distribution\", \"Sentence Distribution\", \"Sentence Distribution\", \"Sentence Distribution\", \"Sentence Distribution\", \"Sentence Distribution\", \"Sentence Distribution\", \"Sentence Distribution\", \"Sentence Distribution\", \"Sentence Distribution\", \"Sentence Distribution\", \"Sentence Distribution\", \"Sentence Distribution\", \"Sentence Distribution\", \"Sentence Distribution\", \"Sentence Distribution\", \"Sentence Distribution\", \"Sentence Distribution\", \"Sentence Distribution\", \"Sentence Distribution\", \"Sentence Distribution\", \"Sentence Distribution\", \"Sentence Distribution\", \"Sentence Distribution\", \"Sentence Distribution\", \"Sentence Distribution\", \"Sentence Distribution\", \"Sentence Distribution\", \"Sentence Distribution\", \"Sentence Distribution\", \"Sentence Distribution\", \"Sentence Distribution\", \"Sentence Distribution\", \"Sentence Distribution\", \"Sentence Distribution\", \"Sentence Distribution\", \"Sentence Distribution\", \"Sentence Distribution\", \"Sentence Distribution\", \"Sentence Distribution\", \"Sentence Distribution\", \"Sentence Distribution\", \"Sentence Distribution\", \"Sentence Distribution\", \"Sentence Distribution\", \"Sentence Distribution\", \"Sentence Distribution\", \"Sentence Distribution\", \"Sentence Distribution\", \"Sentence Distribution\", \"Sentence Distribution\", \"Sentence Distribution\", \"Sentence Distribution\", \"Sentence Distribution\", \"Sentence Distribution\", \"Sentence Distribution\", \"Sentence Distribution\", \"Sentence Distribution\", \"Sentence Distribution\", \"Sentence Distribution\", \"Sentence Distribution\", \"Sentence Distribution\", \"Sentence Distribution\", \"Sentence Distribution\", \"Sentence Distribution\", \"Sentence Distribution\", \"Sentence Distribution\", \"Sentence Distribution\", \"Sentence Distribution\", \"Sentence Distribution\", \"Sentence Distribution\", \"Sentence Distribution\", \"Sentence Distribution\", \"Sentence Distribution\", \"Sentence Distribution\", \"Sentence Distribution\", \"Sentence Distribution\", \"Sentence Distribution\", \"Sentence Distribution\", \"Sentence Distribution\", \"Sentence Distribution\", \"Sentence Distribution\", \"Sentence Distribution\", \"Sentence Distribution\", \"Sentence Distribution\", \"Sentence Distribution\", \"Sentence Distribution\", \"Sentence Distribution\", \"Sentence Distribution\", \"Sentence Distribution\", \"Sentence Distribution\", \"Sentence Distribution\", \"Sentence Distribution\", \"Sentence Distribution\", \"Sentence Distribution\", \"Sentence Distribution\", \"Sentence Distribution\", \"Sentence Distribution\", \"Sentence Distribution\", \"Sentence Distribution\", \"Sentence Distribution\", \"Sentence Distribution\", \"Sentence Distribution\", \"Sentence Distribution\", \"Sentence Distribution\", \"Sentence Distribution\", \"Sentence Distribution\", \"Sentence Distribution\", \"Sentence Distribution\", \"Sentence Distribution\", \"Sentence Distribution\", \"Sentence Distribution\", \"Sentence Distribution\", \"Sentence Distribution\", \"Sentence Distribution\", \"Sentence Distribution\", \"Sentence Distribution\", \"Sentence Distribution\", \"Sentence Distribution\", \"Sentence Distribution\", \"Sentence Distribution\", \"Sentence Distribution\", \"Sentence Distribution\", \"Sentence Distribution\", \"Sentence Distribution\", \"Sentence Distribution\", \"Sentence Distribution\", \"Sentence Distribution\", \"Sentence Distribution\", \"Sentence Distribution\", \"Sentence Distribution\", \"Sentence Distribution\", \"Sentence Distribution\", \"Sentence Distribution\", \"Sentence Distribution\", \"Sentence Distribution\", \"Sentence Distribution\", \"Sentence Distribution\", \"Sentence Distribution\", \"Sentence Distribution\", \"Sentence Distribution\", \"Sentence Distribution\", \"Sentence Distribution\", \"Sentence Distribution\", \"Sentence Distribution\", \"Sentence Distribution\", \"Sentence Distribution\", \"Sentence Distribution\", \"Sentence Distribution\", \"Sentence Distribution\", \"Sentence Distribution\", \"Sentence Distribution\", \"Sentence Distribution\", \"Sentence Distribution\", \"Sentence Distribution\", \"Sentence Distribution\", \"Sentence Distribution\", \"Sentence Distribution\", \"Sentence Distribution\", \"Sentence Distribution\", \"Sentence Distribution\", \"Sentence Distribution\", \"Sentence Distribution\", \"Sentence Distribution\", \"Sentence Distribution\", \"Sentence Distribution\", \"Sentence Distribution\", \"Sentence Distribution\", \"Sentence Distribution\", \"Sentence Distribution\", \"Sentence Distribution\", \"Sentence Distribution\", \"Sentence Distribution\", \"Sentence Distribution\", \"Sentence Distribution\", \"Sentence Distribution\", \"Sentence Distribution\", \"Sentence Distribution\", \"Sentence Distribution\", \"Sentence Distribution\", \"Sentence Distribution\", \"Sentence Distribution\", \"Sentence Distribution\", \"Sentence Distribution\", \"Sentence Distribution\", \"Sentence Distribution\", \"Sentence Distribution\", \"Sentence Distribution\", \"Sentence Distribution\", \"Sentence Distribution\", \"Sentence Distribution\", \"Sentence Distribution\", \"Sentence Distribution\", \"Sentence Distribution\", \"Sentence Distribution\", \"Sentence Distribution\", \"Sentence Distribution\", \"Sentence Distribution\", \"Sentence Distribution\", \"Sentence Distribution\", \"Sentence Distribution\", \"Sentence Distribution\", \"Sentence Distribution\", \"Sentence Distribution\", \"Sentence Distribution\", \"Sentence Distribution\", \"Sentence Distribution\", \"Sentence Distribution\", \"Sentence Distribution\", \"Sentence Distribution\", \"Sentence Distribution\", \"Sentence Distribution\", \"Sentence Distribution\", \"Sentence Distribution\", \"Sentence Distribution\", \"Sentence Distribution\", \"Sentence Distribution\", \"Sentence Distribution\", \"Sentence Distribution\", \"Sentence Distribution\", \"Sentence Distribution\", \"Sentence Distribution\", \"Sentence Distribution\", \"Sentence Distribution\", \"Sentence Distribution\", \"Sentence Distribution\", \"Sentence Distribution\", \"Sentence Distribution\", \"Sentence Distribution\", \"Sentence Distribution\", \"Sentence Distribution\", \"Sentence Distribution\", \"Sentence Distribution\", \"Sentence Distribution\", \"Sentence Distribution\", \"Sentence Distribution\", \"Sentence Distribution\", \"Sentence Distribution\", \"Sentence Distribution\", \"Sentence Distribution\", \"Sentence Distribution\", \"Sentence Distribution\", \"Sentence Distribution\", \"Sentence Distribution\", \"Sentence Distribution\", \"Sentence Distribution\", \"Sentence Distribution\", \"Sentence Distribution\", \"Sentence Distribution\", \"Sentence Distribution\", \"Sentence Distribution\", \"Sentence Distribution\", \"Sentence Distribution\", \"Sentence Distribution\", \"Sentence Distribution\", \"Sentence Distribution\", \"Sentence Distribution\", \"Sentence Distribution\", \"Sentence Distribution\", \"Sentence Distribution\", \"Sentence Distribution\", \"Sentence Distribution\", \"Sentence Distribution\", \"Sentence Distribution\", \"Sentence Distribution\", \"Sentence Distribution\", \"Sentence Distribution\", \"Sentence Distribution\", \"Sentence Distribution\", \"Sentence Distribution\", \"Sentence Distribution\", \"Sentence Distribution\", \"Sentence Distribution\", \"Sentence Distribution\", \"Sentence Distribution\", \"Sentence Distribution\", \"Sentence Distribution\", \"Sentence Distribution\", \"Sentence Distribution\", \"Sentence Distribution\", \"Sentence Distribution\", \"Sentence Distribution\", \"Sentence Distribution\", \"Sentence Distribution\", \"Sentence Distribution\", \"Sentence Distribution\", \"Sentence Distribution\", \"Sentence Distribution\", \"Sentence Distribution\", \"Sentence Distribution\", \"Sentence Distribution\", \"Sentence Distribution\", \"Sentence Distribution\", \"Sentence Distribution\", \"Sentence Distribution\", \"Sentence Distribution\", \"Sentence Distribution\", \"Sentence Distribution\", \"Sentence Distribution\", \"Sentence Distribution\", \"Sentence Distribution\", \"Sentence Distribution\", \"Sentence Distribution\", \"Sentence Distribution\", \"Sentence Distribution\", \"Sentence Distribution\", \"Sentence Distribution\", \"Sentence Distribution\", \"Sentence Distribution\", \"Sentence Distribution\", \"Sentence Distribution\", \"Sentence Distribution\", \"Sentence Distribution\", \"Sentence Distribution\", \"Sentence Distribution\", \"Sentence Distribution\", \"Sentence Distribution\", \"Sentence Distribution\", \"Sentence Distribution\", \"Sentence Distribution\", \"Sentence Distribution\", \"Sentence Distribution\", \"Sentence Distribution\", \"Sentence Distribution\", \"Sentence Distribution\", \"Sentence Distribution\", \"Sentence Distribution\", \"Sentence Distribution\", \"Sentence Distribution\", \"Sentence Distribution\", \"Sentence Distribution\", \"Sentence Distribution\", \"Sentence Distribution\", \"Sentence Distribution\", \"Sentence Distribution\", \"Sentence Distribution\", \"Sentence Distribution\", \"Sentence Distribution\", \"Sentence Distribution\", \"Sentence Distribution\", \"Sentence Distribution\", \"Sentence Distribution\", \"Sentence Distribution\", \"Sentence Distribution\", \"Sentence Distribution\", \"Sentence Distribution\", \"Sentence Distribution\", \"Sentence Distribution\", \"Sentence Distribution\", \"Sentence Distribution\", \"Sentence Distribution\", \"Sentence Distribution\", \"Sentence Distribution\", \"Sentence Distribution\", \"Sentence Distribution\", \"Sentence Distribution\", \"Sentence Distribution\", \"Sentence Distribution\", \"Sentence Distribution\", \"Sentence Distribution\", \"Sentence Distribution\", \"Sentence Distribution\", \"Sentence Distribution\", \"Sentence Distribution\", \"Sentence Distribution\", \"Sentence Distribution\", \"Sentence Distribution\", \"Sentence Distribution\", \"Sentence Distribution\", \"Sentence Distribution\", \"Sentence Distribution\", \"Sentence Distribution\", \"Sentence Distribution\", \"Sentence Distribution\", \"Sentence Distribution\", \"Sentence Distribution\", \"Sentence Distribution\", \"Sentence Distribution\", \"Sentence Distribution\", \"Sentence Distribution\", \"Sentence Distribution\", \"Sentence Distribution\", \"Sentence Distribution\", \"Sentence Distribution\", \"Sentence Distribution\", \"Sentence Distribution\", \"Sentence Distribution\", \"Sentence Distribution\", \"Sentence Distribution\", \"Sentence Distribution\", \"Sentence Distribution\", \"Sentence Distribution\", \"Sentence Distribution\", \"Sentence Distribution\", \"Sentence Distribution\", \"Sentence Distribution\", \"Sentence Distribution\", \"Sentence Distribution\", \"Sentence Distribution\", \"Sentence Distribution\", \"Sentence Distribution\", \"Sentence Distribution\", \"Sentence Distribution\", \"Sentence Distribution\", \"Sentence Distribution\", \"Sentence Distribution\", \"Sentence Distribution\", \"Sentence Distribution\", \"Sentence Distribution\", \"Sentence Distribution\", \"Sentence Distribution\", \"Sentence Distribution\", \"Sentence Distribution\", \"Sentence Distribution\", \"Sentence Distribution\", \"Sentence Distribution\", \"Sentence Distribution\", \"Sentence Distribution\", \"Sentence Distribution\", \"Sentence Distribution\", \"Sentence Distribution\", \"Sentence Distribution\", \"Sentence Distribution\", \"Sentence Distribution\", \"Sentence Distribution\", \"Sentence Distribution\", \"Sentence Distribution\", \"Sentence Distribution\", \"Sentence Distribution\", \"Sentence Distribution\", \"Sentence Distribution\", \"Sentence Distribution\", \"Sentence Distribution\", \"Sentence Distribution\", \"Sentence Distribution\", \"Sentence Distribution\", \"Sentence Distribution\", \"Sentence Distribution\", \"Sentence Distribution\", \"Sentence Distribution\", \"Sentence Distribution\", \"Sentence Distribution\", \"Sentence Distribution\", \"Sentence Distribution\", \"Sentence Distribution\", \"Sentence Distribution\", \"Sentence Distribution\", \"Sentence Distribution\", \"Sentence Distribution\", \"Sentence Distribution\", \"Sentence Distribution\", \"Sentence Distribution\", \"Sentence Distribution\", \"Sentence Distribution\", \"Sentence Distribution\", \"Sentence Distribution\", \"Sentence Distribution\", \"Sentence Distribution\", \"Sentence Distribution\", \"Sentence Distribution\", \"Sentence Distribution\", \"Sentence Distribution\", \"Sentence Distribution\", \"Sentence Distribution\", \"Sentence Distribution\", \"Sentence Distribution\", \"Sentence Distribution\", \"Sentence Distribution\", \"Sentence Distribution\", \"Sentence Distribution\", \"Sentence Distribution\", \"Sentence Distribution\", \"Sentence Distribution\", \"Sentence Distribution\", \"Sentence Distribution\", \"Sentence Distribution\", \"Sentence Distribution\", \"Sentence Distribution\", \"Sentence Distribution\", \"Sentence Distribution\", \"Sentence Distribution\", \"Sentence Distribution\", \"Sentence Distribution\", \"Sentence Distribution\", \"Sentence Distribution\", \"Sentence Distribution\", \"Sentence Distribution\", \"Sentence Distribution\", \"Sentence Distribution\", \"Sentence Distribution\", \"Sentence Distribution\", \"Sentence Distribution\", \"Sentence Distribution\", \"Sentence Distribution\", \"Sentence Distribution\", \"Sentence Distribution\", \"Sentence Distribution\", \"Sentence Distribution\", \"Sentence Distribution\", \"Sentence Distribution\", \"Sentence Distribution\", \"Sentence Distribution\", \"Sentence Distribution\", \"Sentence Distribution\", \"Sentence Distribution\", \"Sentence Distribution\", \"Sentence Distribution\", \"Sentence Distribution\", \"Sentence Distribution\", \"Sentence Distribution\", \"Sentence Distribution\", \"Sentence Distribution\", \"Sentence Distribution\", \"Sentence Distribution\", \"Sentence Distribution\", \"Sentence Distribution\", \"Sentence Distribution\", \"Sentence Distribution\", \"Sentence Distribution\", \"Sentence Distribution\", \"Sentence Distribution\", \"Sentence Distribution\", \"Sentence Distribution\", \"Sentence Distribution\", \"Sentence Distribution\", \"Sentence Distribution\", \"Sentence Distribution\", \"Sentence Distribution\", \"Sentence Distribution\", \"Sentence Distribution\", \"Sentence Distribution\", \"Sentence Distribution\", \"Sentence Distribution\", \"Sentence Distribution\", \"Sentence Distribution\", \"Sentence Distribution\", \"Sentence Distribution\", \"Sentence Distribution\", \"Sentence Distribution\", \"Sentence Distribution\", \"Sentence Distribution\", \"Sentence Distribution\", \"Sentence Distribution\", \"Sentence Distribution\", \"Sentence Distribution\", \"Sentence Distribution\", \"Sentence Distribution\", \"Sentence Distribution\", \"Sentence Distribution\", \"Sentence Distribution\", \"Sentence Distribution\", \"Sentence Distribution\", \"Sentence Distribution\", \"Sentence Distribution\", \"Sentence Distribution\", \"Sentence Distribution\", \"Sentence Distribution\", \"Sentence Distribution\", \"Sentence Distribution\", \"Sentence Distribution\", \"Sentence Distribution\", \"Sentence Distribution\", \"Sentence Distribution\", \"Sentence Distribution\", \"Sentence Distribution\", \"Sentence Distribution\", \"Sentence Distribution\", \"Sentence Distribution\", \"Sentence Distribution\", \"Sentence Distribution\", \"Sentence Distribution\", \"Sentence Distribution\", \"Sentence Distribution\", \"Sentence Distribution\", \"Sentence Distribution\", \"Sentence Distribution\", \"Sentence Distribution\", \"Sentence Distribution\", \"Sentence Distribution\", \"Sentence Distribution\", \"Sentence Distribution\", \"Sentence Distribution\", \"Sentence Distribution\", \"Sentence Distribution\", \"Sentence Distribution\", \"Sentence Distribution\", \"Sentence Distribution\", \"Sentence Distribution\", \"Sentence Distribution\", \"Sentence Distribution\", \"Sentence Distribution\", \"Sentence Distribution\", \"Sentence Distribution\", \"Sentence Distribution\", \"Sentence Distribution\", \"Sentence Distribution\", \"Sentence Distribution\", \"Sentence Distribution\", \"Sentence Distribution\", \"Sentence Distribution\", \"Sentence Distribution\", \"Sentence Distribution\", \"Sentence Distribution\", \"Sentence Distribution\", \"Sentence Distribution\", \"Sentence Distribution\", \"Sentence Distribution\", \"Sentence Distribution\", \"Sentence Distribution\", \"Sentence Distribution\", \"Sentence Distribution\", \"Sentence Distribution\", \"Sentence Distribution\", \"Sentence Distribution\", \"Sentence Distribution\", \"Sentence Distribution\", \"Sentence Distribution\", \"Sentence Distribution\", \"Sentence Distribution\", \"Sentence Distribution\", \"Sentence Distribution\", \"Sentence Distribution\", \"Sentence Distribution\", \"Sentence Distribution\", \"Sentence Distribution\", \"Sentence Distribution\", \"Sentence Distribution\", \"Sentence Distribution\", \"Sentence Distribution\", \"Sentence Distribution\", \"Sentence Distribution\", \"Sentence Distribution\", \"Sentence Distribution\", \"Sentence Distribution\", \"Sentence Distribution\", \"Sentence Distribution\", \"Sentence Distribution\", \"Sentence Distribution\", \"Sentence Distribution\", \"Sentence Distribution\", \"Sentence Distribution\", \"Sentence Distribution\", \"Sentence Distribution\", \"Sentence Distribution\", \"Sentence Distribution\", \"Sentence Distribution\", \"Sentence Distribution\", \"Sentence Distribution\", \"Sentence Distribution\", \"Sentence Distribution\", \"Sentence Distribution\", \"Sentence Distribution\", \"Sentence Distribution\", \"Sentence Distribution\", \"Sentence Distribution\", \"Sentence Distribution\", \"Sentence Distribution\", \"Sentence Distribution\", \"Sentence Distribution\", \"Sentence Distribution\", \"Sentence Distribution\", \"Sentence Distribution\", \"Sentence Distribution\", \"Sentence Distribution\", \"Sentence Distribution\", \"Sentence Distribution\", \"Sentence Distribution\", \"Sentence Distribution\", \"Sentence Distribution\", \"Sentence Distribution\", \"Sentence Distribution\", \"Sentence Distribution\", \"Sentence Distribution\", \"Sentence Distribution\", \"Sentence Distribution\", \"Sentence Distribution\", \"Sentence Distribution\", \"Sentence Distribution\", \"Sentence Distribution\", \"Sentence Distribution\", \"Sentence Distribution\", \"Sentence Distribution\", \"Sentence Distribution\", \"Sentence Distribution\", \"Sentence Distribution\", \"Sentence Distribution\", \"Sentence Distribution\", \"Sentence Distribution\", \"Sentence Distribution\", \"Sentence Distribution\", \"Sentence Distribution\", \"Sentence Distribution\", \"Sentence Distribution\", \"Sentence Distribution\", \"Sentence Distribution\", \"Sentence Distribution\", \"Sentence Distribution\", \"Sentence Distribution\", \"Sentence Distribution\", \"Sentence Distribution\", \"Sentence Distribution\", \"Sentence Distribution\", \"Sentence Distribution\", \"Sentence Distribution\", \"Sentence Distribution\", \"Sentence Distribution\", \"Sentence Distribution\", \"Sentence Distribution\", \"Sentence Distribution\", \"Sentence Distribution\", \"Sentence Distribution\", \"Sentence Distribution\", \"Sentence Distribution\", \"Sentence Distribution\", \"Sentence Distribution\", \"Sentence Distribution\", \"Sentence Distribution\", \"Sentence Distribution\", \"Sentence Distribution\", \"Sentence Distribution\", \"Sentence Distribution\", \"Sentence Distribution\", \"Sentence Distribution\", \"Sentence Distribution\", \"Sentence Distribution\", \"Sentence Distribution\", \"Sentence Distribution\", \"Sentence Distribution\", \"Sentence Distribution\", \"Sentence Distribution\", \"Sentence Distribution\", \"Sentence Distribution\", \"Sentence Distribution\", \"Sentence Distribution\", \"Sentence Distribution\", \"Sentence Distribution\", \"Sentence Distribution\", \"Sentence Distribution\", \"Sentence Distribution\", \"Sentence Distribution\", \"Sentence Distribution\", \"Sentence Distribution\", \"Sentence Distribution\", \"Sentence Distribution\", \"Sentence Distribution\", \"Sentence Distribution\", \"Sentence Distribution\", \"Sentence Distribution\", \"Sentence Distribution\", \"Sentence Distribution\", \"Sentence Distribution\", \"Sentence Distribution\", \"Sentence Distribution\", \"Sentence Distribution\", \"Sentence Distribution\", \"Sentence Distribution\", \"Sentence Distribution\", \"Sentence Distribution\", \"Sentence Distribution\", \"Sentence Distribution\", \"Sentence Distribution\", \"Sentence Distribution\", \"Sentence Distribution\", \"Sentence Distribution\", \"Sentence Distribution\", \"Sentence Distribution\", \"Sentence Distribution\", \"Sentence Distribution\", \"Sentence Distribution\", \"Sentence Distribution\", \"Sentence Distribution\", \"Sentence Distribution\", \"Sentence Distribution\", \"Sentence Distribution\", \"Sentence Distribution\", \"Sentence Distribution\", \"Sentence Distribution\", \"Sentence Distribution\", \"Sentence Distribution\", \"Sentence Distribution\", \"Sentence Distribution\", \"Sentence Distribution\", \"Sentence Distribution\", \"Sentence Distribution\", \"Sentence Distribution\", \"Sentence Distribution\", \"Sentence Distribution\", \"Sentence Distribution\", \"Sentence Distribution\", \"Sentence Distribution\", \"Sentence Distribution\", \"Sentence Distribution\", \"Sentence Distribution\", \"Sentence Distribution\", \"Sentence Distribution\", \"Sentence Distribution\", \"Sentence Distribution\", \"Sentence Distribution\", \"Sentence Distribution\", \"Sentence Distribution\", \"Sentence Distribution\", \"Sentence Distribution\", \"Sentence Distribution\", \"Sentence Distribution\", \"Sentence Distribution\", \"Sentence Distribution\", \"Sentence Distribution\", \"Sentence Distribution\", \"Sentence Distribution\", \"Sentence Distribution\", \"Sentence Distribution\", \"Sentence Distribution\", \"Sentence Distribution\", \"Sentence Distribution\", \"Sentence Distribution\", \"Sentence Distribution\", \"Sentence Distribution\", \"Sentence Distribution\", \"Sentence Distribution\", \"Sentence Distribution\", \"Sentence Distribution\", \"Sentence Distribution\", \"Sentence Distribution\", \"Sentence Distribution\", \"Sentence Distribution\", \"Sentence Distribution\", \"Sentence Distribution\", \"Sentence Distribution\", \"Sentence Distribution\", \"Sentence Distribution\", \"Sentence Distribution\", \"Sentence Distribution\", \"Sentence Distribution\", \"Sentence Distribution\", \"Sentence Distribution\", \"Sentence Distribution\", \"Sentence Distribution\", \"Sentence Distribution\", \"Sentence Distribution\", \"Sentence Distribution\", \"Sentence Distribution\", \"Sentence Distribution\", \"Sentence Distribution\", \"Sentence Distribution\", \"Sentence Distribution\", \"Sentence Distribution\", \"Sentence Distribution\", \"Sentence Distribution\", \"Sentence Distribution\", \"Sentence Distribution\", \"Sentence Distribution\", \"Sentence Distribution\", \"Sentence Distribution\", \"Sentence Distribution\", \"Sentence Distribution\", \"Sentence Distribution\", \"Sentence Distribution\", \"Sentence Distribution\", \"Sentence Distribution\", \"Sentence Distribution\", \"Sentence Distribution\", \"Sentence Distribution\", \"Sentence Distribution\", \"Sentence Distribution\", \"Sentence Distribution\", \"Sentence Distribution\", \"Sentence Distribution\", \"Sentence Distribution\", \"Sentence Distribution\", \"Sentence Distribution\", \"Sentence Distribution\", \"Sentence Distribution\", \"Sentence Distribution\", \"Sentence Distribution\", \"Sentence Distribution\", \"Sentence Distribution\", \"Sentence Distribution\", \"Sentence Distribution\", \"Sentence Distribution\", \"Sentence Distribution\", \"Sentence Distribution\", \"Sentence Distribution\", \"Sentence Distribution\", \"Sentence Distribution\", \"Sentence Distribution\", \"Sentence Distribution\", \"Sentence Distribution\", \"Sentence Distribution\", \"Sentence Distribution\", \"Sentence Distribution\", \"Sentence Distribution\", \"Sentence Distribution\", \"Sentence Distribution\", \"Sentence Distribution\", \"Sentence Distribution\", \"Sentence Distribution\", \"Sentence Distribution\", \"Sentence Distribution\", \"Sentence Distribution\", \"Sentence Distribution\", \"Sentence Distribution\", \"Sentence Distribution\", \"Sentence Distribution\", \"Sentence Distribution\", \"Sentence Distribution\", \"Sentence Distribution\", \"Sentence Distribution\", \"Sentence Distribution\", \"Sentence Distribution\", \"Sentence Distribution\", \"Sentence Distribution\", \"Sentence Distribution\", \"Sentence Distribution\", \"Sentence Distribution\", \"Sentence Distribution\", \"Sentence Distribution\", \"Sentence Distribution\", \"Sentence Distribution\", \"Sentence Distribution\", \"Sentence Distribution\", \"Sentence Distribution\", \"Sentence Distribution\", \"Sentence Distribution\", \"Sentence Distribution\", \"Sentence Distribution\", \"Sentence Distribution\", \"Sentence Distribution\", \"Sentence Distribution\", \"Sentence Distribution\", \"Sentence Distribution\", \"Sentence Distribution\", \"Sentence Distribution\", \"Sentence Distribution\", \"Sentence Distribution\", \"Sentence Distribution\", \"Sentence Distribution\", \"Sentence Distribution\", \"Sentence Distribution\", \"Sentence Distribution\", \"Sentence Distribution\", \"Sentence Distribution\", \"Sentence Distribution\", \"Sentence Distribution\", \"Sentence Distribution\", \"Sentence Distribution\", \"Sentence Distribution\", \"Sentence Distribution\", \"Sentence Distribution\", \"Sentence Distribution\", \"Sentence Distribution\", \"Sentence Distribution\", \"Sentence Distribution\", \"Sentence Distribution\", \"Sentence Distribution\", \"Sentence Distribution\", \"Sentence Distribution\", \"Sentence Distribution\", \"Sentence Distribution\", \"Sentence Distribution\", \"Sentence Distribution\", \"Sentence Distribution\", \"Sentence Distribution\", \"Sentence Distribution\", \"Sentence Distribution\", \"Sentence Distribution\", \"Sentence Distribution\", \"Sentence Distribution\", \"Sentence Distribution\", \"Sentence Distribution\", \"Sentence Distribution\", \"Sentence Distribution\", \"Sentence Distribution\", \"Sentence Distribution\", \"Sentence Distribution\", \"Sentence Distribution\", \"Sentence Distribution\", \"Sentence Distribution\", \"Sentence Distribution\", \"Sentence Distribution\", \"Sentence Distribution\", \"Sentence Distribution\", \"Sentence Distribution\", \"Sentence Distribution\", \"Sentence Distribution\", \"Sentence Distribution\", \"Sentence Distribution\", \"Sentence Distribution\", \"Sentence Distribution\", \"Sentence Distribution\", \"Sentence Distribution\", \"Sentence Distribution\", \"Sentence Distribution\", \"Sentence Distribution\", \"Sentence Distribution\", \"Sentence Distribution\", \"Sentence Distribution\", \"Sentence Distribution\", \"Sentence Distribution\", \"Sentence Distribution\", \"Sentence Distribution\", \"Sentence Distribution\", \"Sentence Distribution\", \"Sentence Distribution\", \"Sentence Distribution\", \"Sentence Distribution\", \"Sentence Distribution\", \"Sentence Distribution\", \"Sentence Distribution\", \"Sentence Distribution\", \"Sentence Distribution\", \"Sentence Distribution\", \"Sentence Distribution\", \"Sentence Distribution\", \"Sentence Distribution\", \"Sentence Distribution\", \"Sentence Distribution\", \"Sentence Distribution\", \"Sentence Distribution\", \"Sentence Distribution\", \"Sentence Distribution\", \"Sentence Distribution\", \"Sentence Distribution\", \"Sentence Distribution\", \"Sentence Distribution\", \"Sentence Distribution\", \"Sentence Distribution\", \"Sentence Distribution\", \"Sentence Distribution\", \"Sentence Distribution\", \"Sentence Distribution\", \"Sentence Distribution\", \"Sentence Distribution\", \"Sentence Distribution\", \"Sentence Distribution\", \"Sentence Distribution\", \"Sentence Distribution\", \"Sentence Distribution\", \"Sentence Distribution\", \"Sentence Distribution\", \"Sentence Distribution\", \"Sentence Distribution\", \"Sentence Distribution\", \"Sentence Distribution\", \"Sentence Distribution\", \"Sentence Distribution\", \"Sentence Distribution\", \"Sentence Distribution\", \"Sentence Distribution\", \"Sentence Distribution\", \"Sentence Distribution\", \"Sentence Distribution\", \"Sentence Distribution\", \"Sentence Distribution\", \"Sentence Distribution\", \"Sentence Distribution\", \"Sentence Distribution\", \"Sentence Distribution\", \"Sentence Distribution\", \"Sentence Distribution\", \"Sentence Distribution\", \"Sentence Distribution\", \"Sentence Distribution\", \"Sentence Distribution\", \"Sentence Distribution\", \"Sentence Distribution\", \"Sentence Distribution\", \"Sentence Distribution\", \"Sentence Distribution\", \"Sentence Distribution\", \"Sentence Distribution\", \"Sentence Distribution\", \"Sentence Distribution\", \"Sentence Distribution\", \"Sentence Distribution\", \"Sentence Distribution\", \"Sentence Distribution\", \"Sentence Distribution\", \"Sentence Distribution\", \"Sentence Distribution\", \"Sentence Distribution\", \"Sentence Distribution\", \"Sentence Distribution\", \"Sentence Distribution\", \"Sentence Distribution\", \"Sentence Distribution\", \"Sentence Distribution\", \"Sentence Distribution\", \"Sentence Distribution\", \"Sentence Distribution\", \"Sentence Distribution\", \"Sentence Distribution\", \"Sentence Distribution\", \"Sentence Distribution\", \"Sentence Distribution\", \"Sentence Distribution\", \"Sentence Distribution\", \"Sentence Distribution\", \"Sentence Distribution\", \"Sentence Distribution\", \"Sentence Distribution\", \"Sentence Distribution\", \"Sentence Distribution\", \"Sentence Distribution\", \"Sentence Distribution\", \"Sentence Distribution\", \"Sentence Distribution\", \"Sentence Distribution\", \"Sentence Distribution\", \"Sentence Distribution\", \"Sentence Distribution\", \"Sentence Distribution\", \"Sentence Distribution\", \"Sentence Distribution\", \"Sentence Distribution\", \"Sentence Distribution\", \"Sentence Distribution\", \"Sentence Distribution\", \"Sentence Distribution\", \"Sentence Distribution\", \"Sentence Distribution\", \"Sentence Distribution\", \"Sentence Distribution\", \"Sentence Distribution\", \"Sentence Distribution\", \"Sentence Distribution\", \"Sentence Distribution\", \"Sentence Distribution\", \"Sentence Distribution\", \"Sentence Distribution\", \"Sentence Distribution\", \"Sentence Distribution\", \"Sentence Distribution\", \"Sentence Distribution\", \"Sentence Distribution\", \"Sentence Distribution\", \"Sentence Distribution\", \"Sentence Distribution\", \"Sentence Distribution\", \"Sentence Distribution\", \"Sentence Distribution\", \"Sentence Distribution\", \"Sentence Distribution\", \"Sentence Distribution\", \"Sentence Distribution\", \"Sentence Distribution\", \"Sentence Distribution\", \"Sentence Distribution\", \"Sentence Distribution\", \"Sentence Distribution\", \"Sentence Distribution\", \"Sentence Distribution\", \"Sentence Distribution\", \"Sentence Distribution\", \"Sentence Distribution\", \"Sentence Distribution\", \"Sentence Distribution\", \"Sentence Distribution\", \"Sentence Distribution\", \"Sentence Distribution\", \"Sentence Distribution\", \"Sentence Distribution\", \"Sentence Distribution\", \"Sentence Distribution\", \"Sentence Distribution\", \"Sentence Distribution\", \"Sentence Distribution\", \"Sentence Distribution\", \"Sentence Distribution\", \"Sentence Distribution\", \"Sentence Distribution\", \"Sentence Distribution\", \"Sentence Distribution\", \"Sentence Distribution\", \"Sentence Distribution\", \"Sentence Distribution\", \"Sentence Distribution\", \"Sentence Distribution\", \"Sentence Distribution\", \"Sentence Distribution\", \"Sentence Distribution\", \"Sentence Distribution\", \"Sentence Distribution\", \"Sentence Distribution\", \"Sentence Distribution\", \"Sentence Distribution\", \"Sentence Distribution\", \"Sentence Distribution\", \"Sentence Distribution\", \"Sentence Distribution\", \"Sentence Distribution\", \"Sentence Distribution\", \"Sentence Distribution\", \"Sentence Distribution\", \"Sentence Distribution\", \"Sentence Distribution\", \"Sentence Distribution\", \"Sentence Distribution\", \"Sentence Distribution\", \"Sentence Distribution\", \"Sentence Distribution\", \"Sentence Distribution\", \"Sentence Distribution\", \"Sentence Distribution\", \"Sentence Distribution\", \"Sentence Distribution\", \"Sentence Distribution\", \"Sentence Distribution\", \"Sentence Distribution\", \"Sentence Distribution\", \"Sentence Distribution\", \"Sentence Distribution\", \"Sentence Distribution\", \"Sentence Distribution\", \"Sentence Distribution\", \"Sentence Distribution\", \"Sentence Distribution\", \"Sentence Distribution\", \"Sentence Distribution\", \"Sentence Distribution\", \"Sentence Distribution\", \"Sentence Distribution\", \"Sentence Distribution\", \"Sentence Distribution\", \"Sentence Distribution\", \"Sentence Distribution\", \"Sentence Distribution\", \"Sentence Distribution\", \"Sentence Distribution\", \"Sentence Distribution\", \"Sentence Distribution\", \"Sentence Distribution\", \"Sentence Distribution\", \"Sentence Distribution\", \"Sentence Distribution\", \"Sentence Distribution\", \"Sentence Distribution\", \"Sentence Distribution\", \"Sentence Distribution\", \"Sentence Distribution\", \"Sentence Distribution\", \"Sentence Distribution\", \"Sentence Distribution\", \"Sentence Distribution\", \"Sentence Distribution\", \"Sentence Distribution\", \"Sentence Distribution\", \"Sentence Distribution\", \"Sentence Distribution\", \"Sentence Distribution\", \"Sentence Distribution\", \"Sentence Distribution\", \"Sentence Distribution\", \"Sentence Distribution\", \"Sentence Distribution\", \"Sentence Distribution\", \"Sentence Distribution\", \"Sentence Distribution\", \"Sentence Distribution\", \"Sentence Distribution\", \"Sentence Distribution\", \"Sentence Distribution\", \"Sentence Distribution\", \"Sentence Distribution\", \"Sentence Distribution\", \"Sentence Distribution\", \"Sentence Distribution\", \"Sentence Distribution\", \"Sentence Distribution\", \"Sentence Distribution\", \"Sentence Distribution\", \"Sentence Distribution\", \"Sentence Distribution\", \"Sentence Distribution\", \"Sentence Distribution\", \"Sentence Distribution\", \"Sentence Distribution\", \"Sentence Distribution\", \"Sentence Distribution\", \"Sentence Distribution\", \"Sentence Distribution\", \"Sentence Distribution\", \"Sentence Distribution\", \"Sentence Distribution\", \"Sentence Distribution\", \"Sentence Distribution\", \"Sentence Distribution\", \"Sentence Distribution\", \"Sentence Distribution\", \"Sentence Distribution\", \"Sentence Distribution\", \"Sentence Distribution\", \"Sentence Distribution\", \"Sentence Distribution\", \"Sentence Distribution\", \"Sentence Distribution\", \"Sentence Distribution\", \"Sentence Distribution\", \"Sentence Distribution\", \"Sentence Distribution\", \"Sentence Distribution\", \"Sentence Distribution\", \"Sentence Distribution\", \"Sentence Distribution\", \"Sentence Distribution\", \"Sentence Distribution\", \"Sentence Distribution\", \"Sentence Distribution\", \"Sentence Distribution\", \"Sentence Distribution\", \"Sentence Distribution\", \"Sentence Distribution\", \"Sentence Distribution\", \"Sentence Distribution\", \"Sentence Distribution\", \"Sentence Distribution\", \"Sentence Distribution\", \"Sentence Distribution\", \"Sentence Distribution\", \"Sentence Distribution\", \"Sentence Distribution\", \"Sentence Distribution\", \"Sentence Distribution\", \"Sentence Distribution\", \"Sentence Distribution\", \"Sentence Distribution\", \"Sentence Distribution\", \"Sentence Distribution\", \"Sentence Distribution\", \"Sentence Distribution\", \"Sentence Distribution\", \"Sentence Distribution\", \"Sentence Distribution\", \"Sentence Distribution\", \"Sentence Distribution\", \"Sentence Distribution\", \"Sentence Distribution\", \"Sentence Distribution\", \"Sentence Distribution\", \"Sentence Distribution\", \"Sentence Distribution\", \"Sentence Distribution\", \"Sentence Distribution\", \"Sentence Distribution\", \"Sentence Distribution\", \"Sentence Distribution\", \"Sentence Distribution\", \"Sentence Distribution\", \"Sentence Distribution\", \"Sentence Distribution\", \"Sentence Distribution\", \"Sentence Distribution\", \"Sentence Distribution\", \"Sentence Distribution\", \"Sentence Distribution\", \"Sentence Distribution\", \"Sentence Distribution\", \"Sentence Distribution\", \"Sentence Distribution\", \"Sentence Distribution\", \"Sentence Distribution\", \"Sentence Distribution\", \"Sentence Distribution\", \"Sentence Distribution\", \"Sentence Distribution\", \"Sentence Distribution\", \"Sentence Distribution\", \"Sentence Distribution\", \"Sentence Distribution\", \"Sentence Distribution\", \"Sentence Distribution\", \"Sentence Distribution\", \"Sentence Distribution\", \"Sentence Distribution\", \"Sentence Distribution\", \"Sentence Distribution\", \"Sentence Distribution\", \"Sentence Distribution\", \"Sentence Distribution\", \"Sentence Distribution\", \"Sentence Distribution\", \"Sentence Distribution\", \"Sentence Distribution\", \"Sentence Distribution\", \"Sentence Distribution\", \"Sentence Distribution\", \"Sentence Distribution\", \"Sentence Distribution\", \"Sentence Distribution\", \"Sentence Distribution\", \"Sentence Distribution\", \"Sentence Distribution\", \"Sentence Distribution\", \"Sentence Distribution\", \"Sentence Distribution\", \"Sentence Distribution\", \"Sentence Distribution\", \"Sentence Distribution\", \"Sentence Distribution\", \"Sentence Distribution\", \"Sentence Distribution\", \"Sentence Distribution\", \"Sentence Distribution\", \"Sentence Distribution\", \"Sentence Distribution\", \"Sentence Distribution\", \"Sentence Distribution\", \"Sentence Distribution\", \"Sentence Distribution\", \"Sentence Distribution\", \"Sentence Distribution\", \"Sentence Distribution\", \"Sentence Distribution\", \"Sentence Distribution\", \"Sentence Distribution\", \"Sentence Distribution\", \"Sentence Distribution\", \"Sentence Distribution\", \"Sentence Distribution\", \"Sentence Distribution\", \"Sentence Distribution\", \"Sentence Distribution\", \"Sentence Distribution\", \"Sentence Distribution\", \"Sentence Distribution\", \"Sentence Distribution\", \"Sentence Distribution\", \"Sentence Distribution\", \"Sentence Distribution\", \"Sentence Distribution\", \"Sentence Distribution\", \"Sentence Distribution\", \"Sentence Distribution\", \"Sentence Distribution\", \"Sentence Distribution\", \"Sentence Distribution\", \"Sentence Distribution\", \"Sentence Distribution\", \"Sentence Distribution\", \"Sentence Distribution\", \"Sentence Distribution\", \"Sentence Distribution\", \"Sentence Distribution\", \"Sentence Distribution\", \"Sentence Distribution\", \"Sentence Distribution\", \"Sentence Distribution\", \"Sentence Distribution\", \"Sentence Distribution\", \"Sentence Distribution\", \"Sentence Distribution\", \"Sentence Distribution\", \"Sentence Distribution\", \"Sentence Distribution\", \"Sentence Distribution\", \"Sentence Distribution\", \"Sentence Distribution\", \"Sentence Distribution\", \"Sentence Distribution\", \"Sentence Distribution\", \"Sentence Distribution\", \"Sentence Distribution\", \"Sentence Distribution\", \"Sentence Distribution\", \"Sentence Distribution\", \"Sentence Distribution\", \"Sentence Distribution\", \"Sentence Distribution\", \"Sentence Distribution\", \"Sentence Distribution\", \"Sentence Distribution\", \"Sentence Distribution\", \"Sentence Distribution\", \"Sentence Distribution\", \"Sentence Distribution\", \"Sentence Distribution\", \"Sentence Distribution\", \"Sentence Distribution\", \"Sentence Distribution\", \"Sentence Distribution\", \"Sentence Distribution\", \"Sentence Distribution\", \"Sentence Distribution\", \"Sentence Distribution\", \"Sentence Distribution\", \"Sentence Distribution\", \"Sentence Distribution\", \"Sentence Distribution\", \"Sentence Distribution\", \"Sentence Distribution\", \"Sentence Distribution\", \"Sentence Distribution\", \"Sentence Distribution\", \"Sentence Distribution\", \"Sentence Distribution\", \"Sentence Distribution\", \"Sentence Distribution\", \"Sentence Distribution\", \"Sentence Distribution\", \"Sentence Distribution\", \"Sentence Distribution\", \"Sentence Distribution\", \"Sentence Distribution\", \"Sentence Distribution\", \"Sentence Distribution\", \"Sentence Distribution\", \"Sentence Distribution\", \"Sentence Distribution\", \"Sentence Distribution\", \"Sentence Distribution\", \"Sentence Distribution\", \"Sentence Distribution\", \"Sentence Distribution\", \"Sentence Distribution\", \"Sentence Distribution\", \"Sentence Distribution\", \"Sentence Distribution\", \"Sentence Distribution\", \"Sentence Distribution\", \"Sentence Distribution\", \"Sentence Distribution\", \"Sentence Distribution\", \"Sentence Distribution\", \"Sentence Distribution\", \"Sentence Distribution\", \"Sentence Distribution\", \"Sentence Distribution\", \"Sentence Distribution\", \"Sentence Distribution\", \"Sentence Distribution\", \"Sentence Distribution\", \"Sentence Distribution\", \"Sentence Distribution\", \"Sentence Distribution\", \"Sentence Distribution\", \"Sentence Distribution\", \"Sentence Distribution\", \"Sentence Distribution\", \"Sentence Distribution\", \"Sentence Distribution\", \"Sentence Distribution\", \"Sentence Distribution\", \"Sentence Distribution\", \"Sentence Distribution\", \"Sentence Distribution\", \"Sentence Distribution\", \"Sentence Distribution\", \"Sentence Distribution\", \"Sentence Distribution\", \"Sentence Distribution\", \"Sentence Distribution\", \"Sentence Distribution\", \"Sentence Distribution\", \"Sentence Distribution\", \"Sentence Distribution\", \"Sentence Distribution\", \"Sentence Distribution\", \"Sentence Distribution\", \"Sentence Distribution\", \"Sentence Distribution\", \"Sentence Distribution\", \"Sentence Distribution\", \"Sentence Distribution\", \"Sentence Distribution\", \"Sentence Distribution\", \"Sentence Distribution\", \"Sentence Distribution\", \"Sentence Distribution\", \"Sentence Distribution\", \"Sentence Distribution\", \"Sentence Distribution\", \"Sentence Distribution\", \"Sentence Distribution\", \"Sentence Distribution\", \"Sentence Distribution\", \"Sentence Distribution\", \"Sentence Distribution\", \"Sentence Distribution\", \"Sentence Distribution\", \"Sentence Distribution\", \"Sentence Distribution\", \"Sentence Distribution\", \"Sentence Distribution\", \"Sentence Distribution\", \"Sentence Distribution\", \"Sentence Distribution\", \"Sentence Distribution\", \"Sentence Distribution\", \"Sentence Distribution\", \"Sentence Distribution\", \"Sentence Distribution\", \"Sentence Distribution\", \"Sentence Distribution\", \"Sentence Distribution\", \"Sentence Distribution\", \"Sentence Distribution\", \"Sentence Distribution\", \"Sentence Distribution\", \"Sentence Distribution\", \"Sentence Distribution\", \"Sentence Distribution\", \"Sentence Distribution\", \"Sentence Distribution\", \"Sentence Distribution\", \"Sentence Distribution\", \"Sentence Distribution\", \"Sentence Distribution\", \"Sentence Distribution\", \"Sentence Distribution\", \"Sentence Distribution\", \"Sentence Distribution\", \"Sentence Distribution\", \"Sentence Distribution\", \"Sentence Distribution\", \"Sentence Distribution\", \"Sentence Distribution\", \"Sentence Distribution\", \"Sentence Distribution\", \"Sentence Distribution\", \"Sentence Distribution\", \"Sentence Distribution\", \"Sentence Distribution\", \"Sentence Distribution\", \"Sentence Distribution\", \"Sentence Distribution\", \"Sentence Distribution\", \"Sentence Distribution\", \"Sentence Distribution\", \"Sentence Distribution\", \"Sentence Distribution\", \"Sentence Distribution\", \"Sentence Distribution\", \"Sentence Distribution\", \"Sentence Distribution\", \"Sentence Distribution\", \"Sentence Distribution\", \"Sentence Distribution\", \"Sentence Distribution\", \"Sentence Distribution\", \"Sentence Distribution\", \"Sentence Distribution\", \"Sentence Distribution\", \"Sentence Distribution\", \"Sentence Distribution\", \"Sentence Distribution\", \"Sentence Distribution\", \"Sentence Distribution\", \"Sentence Distribution\", \"Sentence Distribution\", \"Sentence Distribution\", \"Sentence Distribution\", \"Sentence Distribution\", \"Sentence Distribution\", \"Sentence Distribution\", \"Sentence Distribution\", \"Sentence Distribution\", \"Sentence Distribution\", \"Sentence Distribution\", \"Sentence Distribution\", \"Sentence Distribution\", \"Sentence Distribution\", \"Sentence Distribution\", \"Sentence Distribution\", \"Sentence Distribution\", \"Sentence Distribution\", \"Sentence Distribution\", \"Sentence Distribution\", \"Sentence Distribution\", \"Sentence Distribution\", \"Sentence Distribution\", \"Sentence Distribution\", \"Sentence Distribution\", \"Sentence Distribution\", \"Sentence Distribution\", \"Sentence Distribution\", \"Sentence Distribution\", \"Sentence Distribution\", \"Sentence Distribution\", \"Sentence Distribution\", \"Sentence Distribution\", \"Sentence Distribution\", \"Sentence Distribution\", \"Sentence Distribution\", \"Sentence Distribution\", \"Sentence Distribution\", \"Sentence Distribution\", \"Sentence Distribution\", \"Sentence Distribution\", \"Sentence Distribution\", \"Sentence Distribution\", \"Sentence Distribution\", \"Sentence Distribution\", \"Sentence Distribution\", \"Sentence Distribution\", \"Sentence Distribution\", \"Sentence Distribution\", \"Sentence Distribution\", \"Sentence Distribution\", \"Sentence Distribution\", \"Sentence Distribution\", \"Sentence Distribution\", \"Sentence Distribution\", \"Sentence Distribution\", \"Sentence Distribution\", \"Sentence Distribution\", \"Sentence Distribution\", \"Sentence Distribution\", \"Sentence Distribution\", \"Sentence Distribution\", \"Sentence Distribution\", \"Sentence Distribution\", \"Sentence Distribution\", \"Sentence Distribution\", \"Sentence Distribution\", \"Sentence Distribution\", \"Sentence Distribution\", \"Sentence Distribution\", \"Sentence Distribution\", \"Sentence Distribution\", \"Sentence Distribution\", \"Sentence Distribution\", \"Sentence Distribution\", \"Sentence Distribution\", \"Sentence Distribution\", \"Sentence Distribution\", \"Sentence Distribution\", \"Sentence Distribution\", \"Sentence Distribution\", \"Sentence Distribution\", \"Sentence Distribution\", \"Sentence Distribution\", \"Sentence Distribution\", \"Sentence Distribution\", \"Sentence Distribution\", \"Sentence Distribution\", \"Sentence Distribution\", \"Sentence Distribution\", \"Sentence Distribution\", \"Sentence Distribution\", \"Sentence Distribution\", \"Sentence Distribution\", \"Sentence Distribution\", \"Sentence Distribution\", \"Sentence Distribution\", \"Sentence Distribution\", \"Sentence Distribution\", \"Sentence Distribution\", \"Sentence Distribution\", \"Sentence Distribution\", \"Sentence Distribution\", \"Sentence Distribution\", \"Sentence Distribution\", \"Sentence Distribution\", \"Sentence Distribution\", \"Sentence Distribution\", \"Sentence Distribution\", \"Sentence Distribution\", \"Sentence Distribution\", \"Sentence Distribution\", \"Sentence Distribution\", \"Sentence Distribution\", \"Sentence Distribution\", \"Sentence Distribution\", \"Sentence Distribution\", \"Sentence Distribution\", \"Sentence Distribution\", \"Sentence Distribution\", \"Sentence Distribution\", \"Sentence Distribution\", \"Sentence Distribution\", \"Sentence Distribution\", \"Sentence Distribution\", \"Sentence Distribution\", \"Sentence Distribution\", \"Sentence Distribution\", \"Sentence Distribution\", \"Sentence Distribution\", \"Sentence Distribution\", \"Sentence Distribution\", \"Sentence Distribution\", \"Sentence Distribution\", \"Sentence Distribution\", \"Sentence Distribution\", \"Sentence Distribution\", \"Sentence Distribution\", \"Sentence Distribution\", \"Sentence Distribution\", \"Sentence Distribution\", \"Sentence Distribution\", \"Sentence Distribution\", \"Sentence Distribution\", \"Sentence Distribution\", \"Sentence Distribution\", \"Sentence Distribution\", \"Sentence Distribution\", \"Sentence Distribution\", \"Sentence Distribution\", \"Sentence Distribution\", \"Sentence Distribution\", \"Sentence Distribution\", \"Sentence Distribution\", \"Sentence Distribution\", \"Sentence Distribution\", \"Sentence Distribution\", \"Sentence Distribution\", \"Sentence Distribution\", \"Sentence Distribution\", \"Sentence Distribution\", \"Sentence Distribution\", \"Sentence Distribution\", \"Sentence Distribution\", \"Sentence Distribution\", \"Sentence Distribution\", \"Sentence Distribution\", \"Sentence Distribution\", \"Sentence Distribution\", \"Sentence Distribution\", \"Sentence Distribution\", \"Sentence Distribution\", \"Sentence Distribution\", \"Sentence Distribution\", \"Sentence Distribution\", \"Sentence Distribution\", \"Sentence Distribution\", \"Sentence Distribution\", \"Sentence Distribution\", \"Sentence Distribution\", \"Sentence Distribution\", \"Sentence Distribution\", \"Sentence Distribution\", \"Sentence Distribution\", \"Sentence Distribution\", \"Sentence Distribution\", \"Sentence Distribution\", \"Sentence Distribution\", \"Sentence Distribution\", \"Sentence Distribution\", \"Sentence Distribution\", \"Sentence Distribution\", \"Sentence Distribution\", \"Sentence Distribution\", \"Sentence Distribution\", \"Sentence Distribution\", \"Sentence Distribution\", \"Sentence Distribution\", \"Sentence Distribution\", \"Sentence Distribution\", \"Sentence Distribution\", \"Sentence Distribution\", \"Sentence Distribution\", \"Sentence Distribution\", \"Sentence Distribution\", \"Sentence Distribution\", \"Sentence Distribution\", \"Sentence Distribution\", \"Sentence Distribution\", \"Sentence Distribution\", \"Sentence Distribution\", \"Sentence Distribution\", \"Sentence Distribution\", \"Sentence Distribution\", \"Sentence Distribution\", \"Sentence Distribution\", \"Sentence Distribution\", \"Sentence Distribution\", \"Sentence Distribution\", \"Sentence Distribution\", \"Sentence Distribution\", \"Sentence Distribution\", \"Sentence Distribution\", \"Sentence Distribution\", \"Sentence Distribution\", \"Sentence Distribution\", \"Sentence Distribution\", \"Sentence Distribution\", \"Sentence Distribution\", \"Sentence Distribution\", \"Sentence Distribution\", \"Sentence Distribution\", \"Sentence Distribution\", \"Sentence Distribution\", \"Sentence Distribution\", \"Sentence Distribution\", \"Sentence Distribution\", \"Sentence Distribution\", \"Sentence Distribution\", \"Sentence Distribution\", \"Sentence Distribution\", \"Sentence Distribution\", \"Sentence Distribution\", \"Sentence Distribution\", \"Sentence Distribution\", \"Sentence Distribution\", \"Sentence Distribution\", \"Sentence Distribution\", \"Sentence Distribution\", \"Sentence Distribution\", \"Sentence Distribution\", \"Sentence Distribution\", \"Sentence Distribution\", \"Sentence Distribution\", \"Sentence Distribution\", \"Sentence Distribution\", \"Sentence Distribution\", \"Sentence Distribution\", \"Sentence Distribution\", \"Sentence Distribution\", \"Sentence Distribution\", \"Sentence Distribution\", \"Sentence Distribution\", \"Sentence Distribution\", \"Sentence Distribution\", \"Sentence Distribution\", \"Sentence Distribution\", \"Sentence Distribution\", \"Sentence Distribution\", \"Sentence Distribution\", \"Sentence Distribution\", \"Sentence Distribution\", \"Sentence Distribution\", \"Sentence Distribution\", \"Sentence Distribution\", \"Sentence Distribution\", \"Sentence Distribution\", \"Sentence Distribution\", \"Sentence Distribution\", \"Sentence Distribution\", \"Sentence Distribution\", \"Sentence Distribution\", \"Sentence Distribution\", \"Sentence Distribution\", \"Sentence Distribution\", \"Sentence Distribution\", \"Sentence Distribution\", \"Sentence Distribution\", \"Sentence Distribution\", \"Sentence Distribution\", \"Sentence Distribution\", \"Sentence Distribution\", \"Sentence Distribution\", \"Sentence Distribution\", \"Sentence Distribution\", \"Sentence Distribution\", \"Sentence Distribution\", \"Sentence Distribution\", \"Sentence Distribution\", \"Sentence Distribution\", \"Sentence Distribution\", \"Sentence Distribution\", \"Sentence Distribution\", \"Sentence Distribution\", \"Sentence Distribution\", \"Sentence Distribution\", \"Sentence Distribution\", \"Sentence Distribution\", \"Sentence Distribution\", \"Sentence Distribution\", \"Sentence Distribution\", \"Sentence Distribution\", \"Sentence Distribution\", \"Sentence Distribution\", \"Sentence Distribution\", \"Sentence Distribution\", \"Sentence Distribution\", \"Sentence Distribution\", \"Sentence Distribution\", \"Sentence Distribution\", \"Sentence Distribution\", \"Sentence Distribution\", \"Sentence Distribution\", \"Sentence Distribution\", \"Sentence Distribution\", \"Sentence Distribution\", \"Sentence Distribution\", \"Sentence Distribution\", \"Sentence Distribution\", \"Sentence Distribution\", \"Sentence Distribution\", \"Sentence Distribution\", \"Sentence Distribution\", \"Sentence Distribution\", \"Sentence Distribution\", \"Sentence Distribution\", \"Sentence Distribution\", \"Sentence Distribution\", \"Sentence Distribution\", \"Sentence Distribution\", \"Sentence Distribution\", \"Sentence Distribution\", \"Sentence Distribution\", \"Sentence Distribution\", \"Sentence Distribution\", \"Sentence Distribution\", \"Sentence Distribution\", \"Sentence Distribution\", \"Sentence Distribution\", \"Sentence Distribution\", \"Sentence Distribution\", \"Sentence Distribution\", \"Sentence Distribution\", \"Sentence Distribution\", \"Sentence Distribution\", \"Sentence Distribution\", \"Sentence Distribution\", \"Sentence Distribution\", \"Sentence Distribution\", \"Sentence Distribution\", \"Sentence Distribution\", \"Sentence Distribution\", \"Sentence Distribution\", \"Sentence Distribution\", \"Sentence Distribution\", \"Sentence Distribution\", \"Sentence Distribution\", \"Sentence Distribution\", \"Sentence Distribution\", \"Sentence Distribution\", \"Sentence Distribution\", \"Sentence Distribution\", \"Sentence Distribution\", \"Sentence Distribution\", \"Sentence Distribution\", \"Sentence Distribution\", \"Sentence Distribution\", \"Sentence Distribution\", \"Sentence Distribution\", \"Sentence Distribution\", \"Sentence Distribution\", \"Sentence Distribution\", \"Sentence Distribution\", \"Sentence Distribution\", \"Sentence Distribution\", \"Sentence Distribution\", \"Sentence Distribution\", \"Sentence Distribution\", \"Sentence Distribution\", \"Sentence Distribution\", \"Sentence Distribution\", \"Sentence Distribution\", \"Sentence Distribution\", \"Sentence Distribution\", \"Sentence Distribution\", \"Sentence Distribution\", \"Sentence Distribution\", \"Sentence Distribution\", \"Sentence Distribution\", \"Sentence Distribution\", \"Sentence Distribution\", \"Sentence Distribution\", \"Sentence Distribution\", \"Sentence Distribution\", \"Sentence Distribution\", \"Sentence Distribution\", \"Sentence Distribution\", \"Sentence Distribution\", \"Sentence Distribution\", \"Sentence Distribution\", \"Sentence Distribution\", \"Sentence Distribution\", \"Sentence Distribution\", \"Sentence Distribution\", \"Sentence Distribution\", \"Sentence Distribution\", \"Sentence Distribution\", \"Sentence Distribution\", \"Sentence Distribution\", \"Sentence Distribution\", \"Sentence Distribution\", \"Sentence Distribution\", \"Sentence Distribution\", \"Sentence Distribution\", \"Sentence Distribution\", \"Sentence Distribution\", \"Sentence Distribution\", \"Sentence Distribution\", \"Sentence Distribution\", \"Sentence Distribution\", \"Sentence Distribution\", \"Sentence Distribution\", \"Sentence Distribution\", \"Sentence Distribution\", \"Sentence Distribution\", \"Sentence Distribution\", \"Sentence Distribution\", \"Sentence Distribution\", \"Sentence Distribution\", \"Sentence Distribution\", \"Sentence Distribution\", \"Sentence Distribution\", \"Sentence Distribution\", \"Sentence Distribution\", \"Sentence Distribution\", \"Sentence Distribution\", \"Sentence Distribution\", \"Sentence Distribution\", \"Sentence Distribution\", \"Sentence Distribution\", \"Sentence Distribution\", \"Sentence Distribution\", \"Sentence Distribution\", \"Sentence Distribution\", \"Sentence Distribution\", \"Sentence Distribution\", \"Sentence Distribution\", \"Sentence Distribution\", \"Sentence Distribution\", \"Sentence Distribution\", \"Sentence Distribution\", \"Sentence Distribution\", \"Sentence Distribution\", \"Sentence Distribution\", \"Sentence Distribution\", \"Sentence Distribution\", \"Sentence Distribution\", \"Sentence Distribution\", \"Sentence Distribution\", \"Sentence Distribution\", \"Sentence Distribution\", \"Sentence Distribution\", \"Sentence Distribution\", \"Sentence Distribution\", \"Sentence Distribution\", \"Sentence Distribution\", \"Sentence Distribution\", \"Sentence Distribution\", \"Sentence Distribution\", \"Sentence Distribution\", \"Sentence Distribution\", \"Sentence Distribution\", \"Sentence Distribution\", \"Sentence Distribution\", \"Sentence Distribution\", \"Sentence Distribution\", \"Sentence Distribution\", \"Sentence Distribution\", \"Sentence Distribution\", \"Sentence Distribution\", \"Sentence Distribution\", \"Sentence Distribution\", \"Sentence Distribution\", \"Sentence Distribution\", \"Sentence Distribution\", \"Sentence Distribution\", \"Sentence Distribution\", \"Sentence Distribution\", \"Sentence Distribution\", \"Sentence Distribution\", \"Sentence Distribution\", \"Sentence Distribution\", \"Sentence Distribution\", \"Sentence Distribution\", \"Sentence Distribution\", \"Sentence Distribution\", \"Sentence Distribution\", \"Sentence Distribution\", \"Sentence Distribution\", \"Sentence Distribution\", \"Sentence Distribution\", \"Sentence Distribution\", \"Sentence Distribution\", \"Sentence Distribution\", \"Sentence Distribution\", \"Sentence Distribution\", \"Sentence Distribution\", \"Sentence Distribution\", \"Sentence Distribution\", \"Sentence Distribution\", \"Sentence Distribution\", \"Sentence Distribution\", \"Sentence Distribution\", \"Sentence Distribution\", \"Sentence Distribution\", \"Sentence Distribution\", \"Sentence Distribution\", \"Sentence Distribution\", \"Sentence Distribution\", \"Sentence Distribution\", \"Sentence Distribution\", \"Sentence Distribution\", \"Sentence Distribution\", \"Sentence Distribution\", \"Sentence Distribution\", \"Sentence Distribution\", \"Sentence Distribution\", \"Sentence Distribution\", \"Sentence Distribution\", \"Sentence Distribution\", \"Sentence Distribution\", \"Sentence Distribution\", \"Sentence Distribution\", \"Sentence Distribution\", \"Sentence Distribution\", \"Sentence Distribution\", \"Sentence Distribution\", \"Sentence Distribution\", \"Sentence Distribution\", \"Sentence Distribution\", \"Sentence Distribution\", \"Sentence Distribution\", \"Sentence Distribution\", \"Sentence Distribution\", \"Sentence Distribution\", \"Sentence Distribution\", \"Sentence Distribution\", \"Sentence Distribution\", \"Sentence Distribution\", \"Sentence Distribution\", \"Sentence Distribution\", \"Sentence Distribution\", \"Sentence Distribution\", \"Sentence Distribution\", \"Sentence Distribution\", \"Sentence Distribution\", \"Sentence Distribution\", \"Sentence Distribution\", \"Sentence Distribution\", \"Sentence Distribution\", \"Sentence Distribution\", \"Sentence Distribution\", \"Sentence Distribution\", \"Sentence Distribution\", \"Sentence Distribution\", \"Sentence Distribution\", \"Sentence Distribution\", \"Sentence Distribution\", \"Sentence Distribution\", \"Sentence Distribution\", \"Sentence Distribution\", \"Sentence Distribution\", \"Sentence Distribution\", \"Sentence Distribution\", \"Sentence Distribution\", \"Sentence Distribution\", \"Sentence Distribution\", \"Sentence Distribution\", \"Sentence Distribution\", \"Sentence Distribution\", \"Sentence Distribution\", \"Sentence Distribution\", \"Sentence Distribution\", \"Sentence Distribution\", \"Sentence Distribution\", \"Sentence Distribution\", \"Sentence Distribution\", \"Sentence Distribution\", \"Sentence Distribution\", \"Sentence Distribution\", \"Sentence Distribution\", \"Sentence Distribution\", \"Sentence Distribution\", \"Sentence Distribution\", \"Sentence Distribution\", \"Sentence Distribution\", \"Sentence Distribution\", \"Sentence Distribution\", \"Sentence Distribution\", \"Sentence Distribution\", \"Sentence Distribution\", \"Sentence Distribution\", \"Sentence Distribution\", \"Sentence Distribution\", \"Sentence Distribution\", \"Sentence Distribution\", \"Sentence Distribution\", \"Sentence Distribution\", \"Sentence Distribution\", \"Sentence Distribution\", \"Sentence Distribution\", \"Sentence Distribution\", \"Sentence Distribution\", \"Sentence Distribution\", \"Sentence Distribution\", \"Sentence Distribution\", \"Sentence Distribution\", \"Sentence Distribution\", \"Sentence Distribution\", \"Sentence Distribution\", \"Sentence Distribution\", \"Sentence Distribution\", \"Sentence Distribution\", \"Sentence Distribution\", \"Sentence Distribution\", \"Sentence Distribution\", \"Sentence Distribution\", \"Sentence Distribution\", \"Sentence Distribution\", \"Sentence Distribution\", \"Sentence Distribution\", \"Sentence Distribution\", \"Sentence Distribution\", \"Sentence Distribution\", \"Sentence Distribution\", \"Sentence Distribution\", \"Sentence Distribution\", \"Sentence Distribution\", \"Sentence Distribution\", \"Sentence Distribution\", \"Sentence Distribution\", \"Sentence Distribution\", \"Sentence Distribution\", \"Sentence Distribution\", \"Sentence Distribution\", \"Sentence Distribution\", \"Sentence Distribution\", \"Sentence Distribution\", \"Sentence Distribution\", \"Sentence Distribution\", \"Sentence Distribution\", \"Sentence Distribution\", \"Sentence Distribution\", \"Sentence Distribution\", \"Sentence Distribution\", \"Sentence Distribution\", \"Sentence Distribution\", \"Sentence Distribution\", \"Sentence Distribution\", \"Sentence Distribution\", \"Sentence Distribution\", \"Sentence Distribution\", \"Sentence Distribution\", \"Sentence Distribution\", \"Sentence Distribution\", \"Sentence Distribution\", \"Sentence Distribution\", \"Sentence Distribution\", \"Sentence Distribution\", \"Sentence Distribution\", \"Sentence Distribution\", \"Sentence Distribution\", \"Sentence Distribution\", \"Sentence Distribution\", \"Sentence Distribution\", \"Sentence Distribution\", \"Sentence Distribution\", \"Sentence Distribution\", \"Sentence Distribution\", \"Sentence Distribution\", \"Sentence Distribution\", \"Sentence Distribution\", \"Sentence Distribution\", \"Sentence Distribution\", \"Sentence Distribution\", \"Sentence Distribution\", \"Sentence Distribution\", \"Sentence Distribution\", \"Sentence Distribution\", \"Sentence Distribution\", \"Sentence Distribution\", \"Sentence Distribution\", \"Sentence Distribution\", \"Sentence Distribution\", \"Sentence Distribution\", \"Sentence Distribution\", \"Sentence Distribution\", \"Sentence Distribution\", \"Sentence Distribution\", \"Sentence Distribution\", \"Sentence Distribution\", \"Sentence Distribution\", \"Sentence Distribution\", \"Sentence Distribution\", \"Sentence Distribution\", \"Sentence Distribution\", \"Sentence Distribution\", \"Sentence Distribution\", \"Sentence Distribution\", \"Sentence Distribution\", \"Sentence Distribution\", \"Sentence Distribution\", \"Sentence Distribution\", \"Sentence Distribution\", \"Sentence Distribution\", \"Sentence Distribution\", \"Sentence Distribution\", \"Sentence Distribution\", \"Sentence Distribution\", \"Sentence Distribution\", \"Sentence Distribution\", \"Sentence Distribution\", \"Sentence Distribution\", \"Sentence Distribution\", \"Sentence Distribution\", \"Sentence Distribution\", \"Sentence Distribution\", \"Sentence Distribution\", \"Sentence Distribution\", \"Sentence Distribution\", \"Sentence Distribution\", \"Sentence Distribution\", \"Sentence Distribution\", \"Sentence Distribution\", \"Sentence Distribution\", \"Sentence Distribution\", \"Sentence Distribution\", \"Sentence Distribution\", \"Sentence Distribution\", \"Sentence Distribution\", \"Sentence Distribution\", \"Sentence Distribution\", \"Sentence Distribution\", \"Sentence Distribution\", \"Sentence Distribution\", \"Sentence Distribution\", \"Sentence Distribution\", \"Sentence Distribution\", \"Sentence Distribution\", \"Sentence Distribution\", \"Sentence Distribution\", \"Sentence Distribution\", \"Sentence Distribution\", \"Sentence Distribution\", \"Sentence Distribution\", \"Sentence Distribution\", \"Sentence Distribution\", \"Sentence Distribution\", \"Sentence Distribution\", \"Sentence Distribution\", \"Sentence Distribution\", \"Sentence Distribution\", \"Sentence Distribution\", \"Sentence Distribution\", \"Sentence Distribution\", \"Sentence Distribution\", \"Sentence Distribution\", \"Sentence Distribution\", \"Sentence Distribution\", \"Sentence Distribution\", \"Sentence Distribution\", \"Sentence Distribution\", \"Sentence Distribution\", \"Sentence Distribution\", \"Sentence Distribution\", \"Sentence Distribution\", \"Sentence Distribution\", \"Sentence Distribution\", \"Sentence Distribution\", \"Sentence Distribution\", \"Sentence Distribution\", \"Sentence Distribution\", \"Sentence Distribution\", \"Sentence Distribution\", \"Sentence Distribution\", \"Sentence Distribution\", \"Sentence Distribution\", \"Sentence Distribution\", \"Sentence Distribution\", \"Sentence Distribution\", \"Sentence Distribution\", \"Sentence Distribution\", \"Sentence Distribution\", \"Sentence Distribution\", \"Sentence Distribution\", \"Sentence Distribution\", \"Sentence Distribution\", \"Sentence Distribution\", \"Sentence Distribution\", \"Sentence Distribution\", \"Sentence Distribution\", \"Sentence Distribution\", \"Sentence Distribution\", \"Sentence Distribution\", \"Sentence Distribution\", \"Sentence Distribution\", \"Sentence Distribution\", \"Sentence Distribution\", \"Sentence Distribution\", \"Sentence Distribution\", \"Sentence Distribution\", \"Sentence Distribution\", \"Sentence Distribution\", \"Sentence Distribution\", \"Sentence Distribution\", \"Sentence Distribution\", \"Sentence Distribution\", \"Sentence Distribution\", \"Sentence Distribution\", \"Sentence Distribution\", \"Sentence Distribution\", \"Sentence Distribution\", \"Sentence Distribution\", \"Sentence Distribution\", \"Sentence Distribution\", \"Sentence Distribution\", \"Sentence Distribution\", \"Sentence Distribution\", \"Sentence Distribution\", \"Sentence Distribution\", \"Sentence Distribution\", \"Sentence Distribution\", \"Sentence Distribution\", \"Sentence Distribution\", \"Sentence Distribution\", \"Sentence Distribution\", \"Sentence Distribution\", \"Sentence Distribution\", \"Sentence Distribution\", \"Sentence Distribution\", \"Sentence Distribution\", \"Sentence Distribution\", \"Sentence Distribution\", \"Sentence Distribution\", \"Sentence Distribution\", \"Sentence Distribution\", \"Sentence Distribution\", \"Sentence Distribution\", \"Sentence Distribution\", \"Sentence Distribution\", \"Sentence Distribution\", \"Sentence Distribution\", \"Sentence Distribution\", \"Sentence Distribution\", \"Sentence Distribution\", \"Sentence Distribution\", \"Sentence Distribution\", \"Sentence Distribution\", \"Sentence Distribution\", \"Sentence Distribution\", \"Sentence Distribution\", \"Sentence Distribution\", \"Sentence Distribution\", \"Sentence Distribution\", \"Sentence Distribution\", \"Sentence Distribution\", \"Sentence Distribution\", \"Sentence Distribution\", \"Sentence Distribution\", \"Sentence Distribution\", \"Sentence Distribution\", \"Sentence Distribution\", \"Sentence Distribution\", \"Sentence Distribution\", \"Sentence Distribution\", \"Sentence Distribution\", \"Sentence Distribution\", \"Sentence Distribution\", \"Sentence Distribution\", \"Sentence Distribution\", \"Sentence Distribution\", \"Sentence Distribution\", \"Sentence Distribution\", \"Sentence Distribution\", \"Sentence Distribution\", \"Sentence Distribution\", \"Sentence Distribution\", \"Sentence Distribution\", \"Sentence Distribution\", \"Sentence Distribution\", \"Sentence Distribution\", \"Sentence Distribution\", \"Sentence Distribution\", \"Sentence Distribution\", \"Sentence Distribution\", \"Sentence Distribution\", \"Sentence Distribution\", \"Sentence Distribution\", \"Sentence Distribution\", \"Sentence Distribution\", \"Sentence Distribution\", \"Sentence Distribution\", \"Sentence Distribution\", \"Sentence Distribution\", \"Sentence Distribution\", \"Sentence Distribution\", \"Sentence Distribution\", \"Sentence Distribution\", \"Sentence Distribution\", \"Sentence Distribution\", \"Sentence Distribution\", \"Sentence Distribution\", \"Sentence Distribution\", \"Sentence Distribution\", \"Sentence Distribution\", \"Sentence Distribution\", \"Sentence Distribution\", \"Sentence Distribution\", \"Sentence Distribution\", \"Sentence Distribution\", \"Sentence Distribution\", \"Sentence Distribution\", \"Sentence Distribution\", \"Sentence Distribution\", \"Sentence Distribution\", \"Sentence Distribution\", \"Sentence Distribution\", \"Sentence Distribution\", \"Sentence Distribution\", \"Sentence Distribution\", \"Sentence Distribution\", \"Sentence Distribution\", \"Sentence Distribution\", \"Sentence Distribution\", \"Sentence Distribution\", \"Sentence Distribution\", \"Sentence Distribution\", \"Sentence Distribution\", \"Sentence Distribution\", \"Sentence Distribution\", \"Sentence Distribution\", \"Sentence Distribution\", \"Sentence Distribution\", \"Sentence Distribution\", \"Sentence Distribution\", \"Sentence Distribution\", \"Sentence Distribution\", \"Sentence Distribution\", \"Sentence Distribution\", \"Sentence Distribution\", \"Sentence Distribution\", \"Sentence Distribution\", \"Sentence Distribution\", \"Sentence Distribution\", \"Sentence Distribution\", \"Sentence Distribution\", \"Sentence Distribution\", \"Sentence Distribution\", \"Sentence Distribution\", \"Sentence Distribution\", \"Sentence Distribution\", \"Sentence Distribution\", \"Sentence Distribution\", \"Sentence Distribution\", \"Sentence Distribution\", \"Sentence Distribution\", \"Sentence Distribution\", \"Sentence Distribution\", \"Sentence Distribution\", \"Sentence Distribution\", \"Sentence Distribution\", \"Sentence Distribution\", \"Sentence Distribution\", \"Sentence Distribution\", \"Sentence Distribution\", \"Sentence Distribution\", \"Sentence Distribution\", \"Sentence Distribution\", \"Sentence Distribution\", \"Sentence Distribution\", \"Sentence Distribution\", \"Sentence Distribution\", \"Sentence Distribution\", \"Sentence Distribution\", \"Sentence Distribution\", \"Sentence Distribution\", \"Sentence Distribution\", \"Sentence Distribution\", \"Sentence Distribution\", \"Sentence Distribution\", \"Sentence Distribution\", \"Sentence Distribution\", \"Sentence Distribution\", \"Sentence Distribution\", \"Sentence Distribution\", \"Sentence Distribution\", \"Sentence Distribution\", \"Sentence Distribution\", \"Sentence Distribution\", \"Sentence Distribution\", \"Sentence Distribution\", \"Sentence Distribution\", \"Sentence Distribution\", \"Sentence Distribution\", \"Sentence Distribution\", \"Sentence Distribution\", \"Sentence Distribution\", \"Sentence Distribution\", \"Sentence Distribution\", \"Sentence Distribution\", \"Sentence Distribution\", \"Sentence Distribution\", \"Sentence Distribution\", \"Sentence Distribution\", \"Sentence Distribution\", \"Sentence Distribution\", \"Sentence Distribution\", \"Sentence Distribution\", \"Sentence Distribution\", \"Sentence Distribution\", \"Sentence Distribution\", \"Sentence Distribution\", \"Sentence Distribution\", \"Sentence Distribution\", \"Sentence Distribution\", \"Sentence Distribution\", \"Sentence Distribution\", \"Sentence Distribution\", \"Sentence Distribution\", \"Sentence Distribution\", \"Sentence Distribution\", \"Sentence Distribution\", \"Sentence Distribution\", \"Sentence Distribution\", \"Sentence Distribution\", \"Sentence Distribution\", \"Sentence Distribution\", \"Sentence Distribution\", \"Sentence Distribution\", \"Sentence Distribution\", \"Sentence Distribution\", \"Sentence Distribution\", \"Sentence Distribution\", \"Sentence Distribution\", \"Sentence Distribution\", \"Sentence Distribution\", \"Sentence Distribution\", \"Sentence Distribution\", \"Sentence Distribution\", \"Sentence Distribution\", \"Sentence Distribution\", \"Sentence Distribution\", \"Sentence Distribution\", \"Sentence Distribution\", \"Sentence Distribution\", \"Sentence Distribution\", \"Sentence Distribution\", \"Sentence Distribution\", \"Sentence Distribution\", \"Sentence Distribution\", \"Sentence Distribution\", \"Sentence Distribution\", \"Sentence Distribution\", \"Sentence Distribution\", \"Sentence Distribution\", \"Sentence Distribution\", \"Sentence Distribution\", \"Sentence Distribution\", \"Sentence Distribution\", \"Sentence Distribution\", \"Sentence Distribution\", \"Sentence Distribution\", \"Sentence Distribution\", \"Sentence Distribution\", \"Sentence Distribution\", \"Sentence Distribution\", \"Sentence Distribution\", \"Sentence Distribution\", \"Sentence Distribution\", \"Sentence Distribution\", \"Sentence Distribution\", \"Sentence Distribution\", \"Sentence Distribution\", \"Sentence Distribution\", \"Sentence Distribution\", \"Sentence Distribution\", \"Sentence Distribution\", \"Sentence Distribution\", \"Sentence Distribution\", \"Sentence Distribution\", \"Sentence Distribution\", \"Sentence Distribution\", \"Sentence Distribution\", \"Sentence Distribution\", \"Sentence Distribution\", \"Sentence Distribution\", \"Sentence Distribution\", \"Sentence Distribution\", \"Sentence Distribution\", \"Sentence Distribution\", \"Sentence Distribution\", \"Sentence Distribution\", \"Sentence Distribution\", \"Sentence Distribution\", \"Sentence Distribution\", \"Sentence Distribution\", \"Sentence Distribution\", \"Sentence Distribution\", \"Sentence Distribution\", \"Sentence Distribution\", \"Sentence Distribution\", \"Sentence Distribution\", \"Sentence Distribution\", \"Sentence Distribution\", \"Sentence Distribution\", \"Sentence Distribution\", \"Sentence Distribution\", \"Sentence Distribution\", \"Sentence Distribution\", \"Sentence Distribution\", \"Sentence Distribution\", \"Sentence Distribution\", \"Sentence Distribution\", \"Sentence Distribution\", \"Sentence Distribution\", \"Sentence Distribution\", \"Sentence Distribution\", \"Sentence Distribution\", \"Sentence Distribution\", \"Sentence Distribution\", \"Sentence Distribution\", \"Sentence Distribution\", \"Sentence Distribution\", \"Sentence Distribution\", \"Sentence Distribution\", \"Sentence Distribution\", \"Sentence Distribution\", \"Sentence Distribution\", \"Sentence Distribution\", \"Sentence Distribution\", \"Sentence Distribution\", \"Sentence Distribution\", \"Sentence Distribution\", \"Sentence Distribution\", \"Sentence Distribution\", \"Sentence Distribution\", \"Sentence Distribution\", \"Sentence Distribution\", \"Sentence Distribution\", \"Sentence Distribution\", \"Sentence Distribution\", \"Sentence Distribution\", \"Sentence Distribution\", \"Sentence Distribution\", \"Sentence Distribution\", \"Sentence Distribution\", \"Sentence Distribution\", \"Sentence Distribution\", \"Sentence Distribution\", \"Sentence Distribution\", \"Sentence Distribution\", \"Sentence Distribution\", \"Sentence Distribution\", \"Sentence Distribution\", \"Sentence Distribution\", \"Sentence Distribution\", \"Sentence Distribution\", \"Sentence Distribution\", \"Sentence Distribution\", \"Sentence Distribution\", \"Sentence Distribution\", \"Sentence Distribution\", \"Sentence Distribution\", \"Sentence Distribution\", \"Sentence Distribution\", \"Sentence Distribution\", \"Sentence Distribution\", \"Sentence Distribution\", \"Sentence Distribution\", \"Sentence Distribution\", \"Sentence Distribution\", \"Sentence Distribution\", \"Sentence Distribution\", \"Sentence Distribution\", \"Sentence Distribution\", \"Sentence Distribution\", \"Sentence Distribution\", \"Sentence Distribution\", \"Sentence Distribution\", \"Sentence Distribution\", \"Sentence Distribution\", \"Sentence Distribution\", \"Sentence Distribution\", \"Sentence Distribution\", \"Sentence Distribution\", \"Sentence Distribution\", \"Sentence Distribution\", \"Sentence Distribution\", \"Sentence Distribution\", \"Sentence Distribution\", \"Sentence Distribution\", \"Sentence Distribution\", \"Sentence Distribution\", \"Sentence Distribution\", \"Sentence Distribution\", \"Sentence Distribution\", \"Sentence Distribution\", \"Sentence Distribution\", \"Sentence Distribution\", \"Sentence Distribution\", \"Sentence Distribution\", \"Sentence Distribution\", \"Sentence Distribution\", \"Sentence Distribution\", \"Sentence Distribution\", \"Sentence Distribution\", \"Sentence Distribution\", \"Sentence Distribution\", \"Sentence Distribution\", \"Sentence Distribution\", \"Sentence Distribution\", \"Sentence Distribution\", \"Sentence Distribution\", \"Sentence Distribution\", \"Sentence Distribution\", \"Sentence Distribution\", \"Sentence Distribution\", \"Sentence Distribution\", \"Sentence Distribution\", \"Sentence Distribution\", \"Sentence Distribution\", \"Sentence Distribution\", \"Sentence Distribution\", \"Sentence Distribution\", \"Sentence Distribution\", \"Sentence Distribution\", \"Sentence Distribution\", \"Sentence Distribution\", \"Sentence Distribution\", \"Sentence Distribution\", \"Sentence Distribution\", \"Sentence Distribution\", \"Sentence Distribution\", \"Sentence Distribution\", \"Sentence Distribution\", \"Sentence Distribution\", \"Sentence Distribution\", \"Sentence Distribution\", \"Sentence Distribution\", \"Sentence Distribution\", \"Sentence Distribution\", \"Sentence Distribution\", \"Sentence Distribution\", \"Sentence Distribution\", \"Sentence Distribution\", \"Sentence Distribution\", \"Sentence Distribution\", \"Sentence Distribution\", \"Sentence Distribution\", \"Sentence Distribution\", \"Sentence Distribution\", \"Sentence Distribution\", \"Sentence Distribution\", \"Sentence Distribution\", \"Sentence Distribution\", \"Sentence Distribution\", \"Sentence Distribution\", \"Sentence Distribution\", \"Sentence Distribution\", \"Sentence Distribution\", \"Sentence Distribution\", \"Sentence Distribution\", \"Sentence Distribution\", \"Sentence Distribution\", \"Sentence Distribution\", \"Sentence Distribution\", \"Sentence Distribution\", \"Sentence Distribution\", \"Sentence Distribution\", \"Sentence Distribution\", \"Sentence Distribution\", \"Sentence Distribution\", \"Sentence Distribution\", \"Sentence Distribution\", \"Sentence Distribution\", \"Sentence Distribution\", \"Sentence Distribution\", \"Sentence Distribution\", \"Sentence Distribution\", \"Sentence Distribution\", \"Sentence Distribution\", \"Sentence Distribution\", \"Sentence Distribution\", \"Sentence Distribution\", \"Sentence Distribution\", \"Sentence Distribution\", \"Sentence Distribution\", \"Sentence Distribution\", \"Sentence Distribution\", \"Sentence Distribution\", \"Sentence Distribution\", \"Sentence Distribution\", \"Sentence Distribution\", \"Sentence Distribution\", \"Sentence Distribution\", \"Sentence Distribution\", \"Sentence Distribution\", \"Sentence Distribution\", \"Sentence Distribution\", \"Sentence Distribution\", \"Sentence Distribution\", \"Sentence Distribution\", \"Sentence Distribution\", \"Sentence Distribution\", \"Sentence Distribution\", \"Sentence Distribution\", \"Sentence Distribution\", \"Sentence Distribution\", \"Sentence Distribution\", \"Sentence Distribution\", \"Sentence Distribution\", \"Sentence Distribution\", \"Sentence Distribution\", \"Sentence Distribution\", \"Sentence Distribution\", \"Sentence Distribution\", \"Sentence Distribution\", \"Sentence Distribution\", \"Sentence Distribution\", \"Sentence Distribution\", \"Sentence Distribution\", \"Sentence Distribution\", \"Sentence Distribution\", \"Sentence Distribution\", \"Sentence Distribution\", \"Sentence Distribution\", \"Sentence Distribution\", \"Sentence Distribution\", \"Sentence Distribution\", \"Sentence Distribution\", \"Sentence Distribution\", \"Sentence Distribution\", \"Sentence Distribution\", \"Sentence Distribution\", \"Sentence Distribution\", \"Sentence Distribution\", \"Sentence Distribution\", \"Sentence Distribution\", \"Sentence Distribution\", \"Sentence Distribution\", \"Sentence Distribution\", \"Sentence Distribution\", \"Sentence Distribution\", \"Sentence Distribution\", \"Sentence Distribution\", \"Sentence Distribution\", \"Sentence Distribution\", \"Sentence Distribution\", \"Sentence Distribution\", \"Sentence Distribution\", \"Sentence Distribution\", \"Sentence Distribution\", \"Sentence Distribution\", \"Sentence Distribution\", \"Sentence Distribution\", \"Sentence Distribution\", \"Sentence Distribution\", \"Sentence Distribution\", \"Sentence Distribution\", \"Sentence Distribution\", \"Sentence Distribution\", \"Sentence Distribution\", \"Sentence Distribution\", \"Sentence Distribution\", \"Sentence Distribution\", \"Sentence Distribution\", \"Sentence Distribution\", \"Sentence Distribution\", \"Sentence Distribution\", \"Sentence Distribution\", \"Sentence Distribution\", \"Sentence Distribution\", \"Sentence Distribution\", \"Sentence Distribution\", \"Sentence Distribution\", \"Sentence Distribution\", \"Sentence Distribution\", \"Sentence Distribution\", \"Sentence Distribution\", \"Sentence Distribution\", \"Sentence Distribution\", \"Sentence Distribution\", \"Sentence Distribution\", \"Sentence Distribution\", \"Sentence Distribution\", \"Sentence Distribution\", \"Sentence Distribution\", \"Sentence Distribution\", \"Sentence Distribution\", \"Sentence Distribution\", \"Sentence Distribution\", \"Sentence Distribution\", \"Sentence Distribution\", \"Sentence Distribution\", \"Sentence Distribution\", \"Sentence Distribution\", \"Sentence Distribution\", \"Sentence Distribution\", \"Sentence Distribution\", \"Sentence Distribution\", \"Sentence Distribution\", \"Sentence Distribution\", \"Sentence Distribution\", \"Sentence Distribution\", \"Sentence Distribution\", \"Sentence Distribution\", \"Sentence Distribution\", \"Sentence Distribution\", \"Sentence Distribution\", \"Sentence Distribution\", \"Sentence Distribution\", \"Sentence Distribution\", \"Sentence Distribution\", \"Sentence Distribution\", \"Sentence Distribution\", \"Sentence Distribution\", \"Sentence Distribution\", \"Sentence Distribution\", \"Sentence Distribution\", \"Sentence Distribution\", \"Sentence Distribution\", \"Sentence Distribution\", \"Sentence Distribution\", \"Sentence Distribution\", \"Sentence Distribution\", \"Sentence Distribution\", \"Sentence Distribution\", \"Sentence Distribution\", \"Sentence Distribution\", \"Sentence Distribution\", \"Sentence Distribution\", \"Sentence Distribution\", \"Sentence Distribution\", \"Sentence Distribution\", \"Sentence Distribution\", \"Sentence Distribution\", \"Sentence Distribution\", \"Sentence Distribution\", \"Sentence Distribution\", \"Sentence Distribution\", \"Sentence Distribution\", \"Sentence Distribution\", \"Sentence Distribution\", \"Sentence Distribution\", \"Sentence Distribution\", \"Sentence Distribution\", \"Sentence Distribution\", \"Sentence Distribution\", \"Sentence Distribution\", \"Sentence Distribution\", \"Sentence Distribution\", \"Sentence Distribution\", \"Sentence Distribution\", \"Sentence Distribution\", \"Sentence Distribution\", \"Sentence Distribution\", \"Sentence Distribution\", \"Sentence Distribution\", \"Sentence Distribution\", \"Sentence Distribution\", \"Sentence Distribution\", \"Sentence Distribution\", \"Sentence Distribution\", \"Sentence Distribution\", \"Sentence Distribution\", \"Sentence Distribution\", \"Sentence Distribution\", \"Sentence Distribution\", \"Sentence Distribution\", \"Sentence Distribution\", \"Sentence Distribution\", \"Sentence Distribution\", \"Sentence Distribution\", \"Sentence Distribution\", \"Sentence Distribution\", \"Sentence Distribution\", \"Sentence Distribution\", \"Sentence Distribution\", \"Sentence Distribution\", \"Sentence Distribution\", \"Sentence Distribution\", \"Sentence Distribution\", \"Sentence Distribution\", \"Sentence Distribution\", \"Sentence Distribution\", \"Sentence Distribution\", \"Sentence Distribution\", \"Sentence Distribution\", \"Sentence Distribution\", \"Sentence Distribution\", \"Sentence Distribution\", \"Sentence Distribution\", \"Sentence Distribution\", \"Sentence Distribution\", \"Sentence Distribution\", \"Sentence Distribution\", \"Sentence Distribution\", \"Sentence Distribution\", \"Sentence Distribution\", \"Sentence Distribution\", \"Sentence Distribution\", \"Sentence Distribution\", \"Sentence Distribution\", \"Sentence Distribution\", \"Sentence Distribution\", \"Sentence Distribution\", \"Sentence Distribution\", \"Sentence Distribution\", \"Sentence Distribution\", \"Sentence Distribution\", \"Sentence Distribution\", \"Sentence Distribution\", \"Sentence Distribution\", \"Sentence Distribution\", \"Sentence Distribution\", \"Sentence Distribution\", \"Sentence Distribution\", \"Sentence Distribution\", \"Sentence Distribution\", \"Sentence Distribution\", \"Sentence Distribution\", \"Sentence Distribution\", \"Sentence Distribution\", \"Sentence Distribution\", \"Sentence Distribution\", \"Sentence Distribution\", \"Sentence Distribution\", \"Sentence Distribution\", \"Sentence Distribution\", \"Sentence Distribution\", \"Sentence Distribution\", \"Sentence Distribution\", \"Sentence Distribution\", \"Sentence Distribution\", \"Sentence Distribution\", \"Sentence Distribution\", \"Sentence Distribution\", \"Sentence Distribution\", \"Sentence Distribution\", \"Sentence Distribution\", \"Sentence Distribution\", \"Sentence Distribution\", \"Sentence Distribution\", \"Sentence Distribution\", \"Sentence Distribution\", \"Sentence Distribution\", \"Sentence Distribution\", \"Sentence Distribution\", \"Sentence Distribution\", \"Sentence Distribution\", \"Sentence Distribution\", \"Sentence Distribution\", \"Sentence Distribution\", \"Sentence Distribution\", \"Sentence Distribution\", \"Sentence Distribution\", \"Sentence Distribution\", \"Sentence Distribution\", \"Sentence Distribution\", \"Sentence Distribution\", \"Sentence Distribution\", \"Sentence Distribution\", \"Sentence Distribution\", \"Sentence Distribution\", \"Sentence Distribution\", \"Sentence Distribution\", \"Sentence Distribution\", \"Sentence Distribution\", \"Sentence Distribution\", \"Sentence Distribution\", \"Sentence Distribution\", \"Sentence Distribution\", \"Sentence Distribution\", \"Sentence Distribution\", \"Sentence Distribution\", \"Sentence Distribution\", \"Sentence Distribution\", \"Sentence Distribution\", \"Sentence Distribution\", \"Sentence Distribution\", \"Sentence Distribution\", \"Sentence Distribution\", \"Sentence Distribution\", \"Sentence Distribution\", \"Sentence Distribution\", \"Sentence Distribution\", \"Sentence Distribution\", \"Sentence Distribution\", \"Sentence Distribution\", \"Sentence Distribution\", \"Sentence Distribution\", \"Sentence Distribution\", \"Sentence Distribution\", \"Sentence Distribution\", \"Sentence Distribution\", \"Sentence Distribution\", \"Sentence Distribution\", \"Sentence Distribution\", \"Sentence Distribution\", \"Sentence Distribution\"], \"yaxis\": \"y2\"}],\n",
              "                        {\"barmode\": \"overlay\", \"hovermode\": \"closest\", \"legend\": {\"traceorder\": \"reversed\"}, \"template\": {\"data\": {\"bar\": [{\"error_x\": {\"color\": \"#2a3f5f\"}, \"error_y\": {\"color\": \"#2a3f5f\"}, \"marker\": {\"line\": {\"color\": \"#E5ECF6\", \"width\": 0.5}}, \"type\": \"bar\"}], \"barpolar\": [{\"marker\": {\"line\": {\"color\": \"#E5ECF6\", \"width\": 0.5}}, \"type\": \"barpolar\"}], \"carpet\": [{\"aaxis\": {\"endlinecolor\": \"#2a3f5f\", \"gridcolor\": \"white\", \"linecolor\": \"white\", \"minorgridcolor\": \"white\", \"startlinecolor\": \"#2a3f5f\"}, \"baxis\": {\"endlinecolor\": \"#2a3f5f\", \"gridcolor\": \"white\", \"linecolor\": \"white\", \"minorgridcolor\": \"white\", \"startlinecolor\": \"#2a3f5f\"}, \"type\": \"carpet\"}], \"choropleth\": [{\"colorbar\": {\"outlinewidth\": 0, \"ticks\": \"\"}, \"type\": \"choropleth\"}], \"contour\": [{\"colorbar\": {\"outlinewidth\": 0, \"ticks\": \"\"}, \"colorscale\": [[0.0, \"#0d0887\"], [0.1111111111111111, \"#46039f\"], [0.2222222222222222, \"#7201a8\"], [0.3333333333333333, \"#9c179e\"], [0.4444444444444444, \"#bd3786\"], [0.5555555555555556, \"#d8576b\"], [0.6666666666666666, \"#ed7953\"], [0.7777777777777778, \"#fb9f3a\"], [0.8888888888888888, \"#fdca26\"], [1.0, \"#f0f921\"]], \"type\": \"contour\"}], \"contourcarpet\": [{\"colorbar\": {\"outlinewidth\": 0, \"ticks\": \"\"}, \"type\": \"contourcarpet\"}], \"heatmap\": [{\"colorbar\": {\"outlinewidth\": 0, \"ticks\": \"\"}, \"colorscale\": [[0.0, \"#0d0887\"], [0.1111111111111111, \"#46039f\"], [0.2222222222222222, \"#7201a8\"], [0.3333333333333333, \"#9c179e\"], [0.4444444444444444, \"#bd3786\"], [0.5555555555555556, \"#d8576b\"], [0.6666666666666666, \"#ed7953\"], [0.7777777777777778, \"#fb9f3a\"], [0.8888888888888888, \"#fdca26\"], [1.0, \"#f0f921\"]], \"type\": \"heatmap\"}], \"heatmapgl\": [{\"colorbar\": {\"outlinewidth\": 0, \"ticks\": \"\"}, \"colorscale\": [[0.0, \"#0d0887\"], [0.1111111111111111, \"#46039f\"], [0.2222222222222222, \"#7201a8\"], [0.3333333333333333, \"#9c179e\"], [0.4444444444444444, \"#bd3786\"], [0.5555555555555556, \"#d8576b\"], [0.6666666666666666, \"#ed7953\"], [0.7777777777777778, \"#fb9f3a\"], [0.8888888888888888, \"#fdca26\"], [1.0, \"#f0f921\"]], \"type\": \"heatmapgl\"}], \"histogram\": [{\"marker\": {\"colorbar\": {\"outlinewidth\": 0, \"ticks\": \"\"}}, \"type\": \"histogram\"}], \"histogram2d\": [{\"colorbar\": {\"outlinewidth\": 0, \"ticks\": \"\"}, \"colorscale\": [[0.0, \"#0d0887\"], [0.1111111111111111, \"#46039f\"], [0.2222222222222222, \"#7201a8\"], [0.3333333333333333, \"#9c179e\"], [0.4444444444444444, \"#bd3786\"], [0.5555555555555556, \"#d8576b\"], [0.6666666666666666, \"#ed7953\"], [0.7777777777777778, \"#fb9f3a\"], [0.8888888888888888, \"#fdca26\"], [1.0, \"#f0f921\"]], \"type\": \"histogram2d\"}], \"histogram2dcontour\": [{\"colorbar\": {\"outlinewidth\": 0, \"ticks\": \"\"}, \"colorscale\": [[0.0, \"#0d0887\"], [0.1111111111111111, \"#46039f\"], [0.2222222222222222, \"#7201a8\"], [0.3333333333333333, \"#9c179e\"], [0.4444444444444444, \"#bd3786\"], [0.5555555555555556, \"#d8576b\"], [0.6666666666666666, \"#ed7953\"], [0.7777777777777778, \"#fb9f3a\"], [0.8888888888888888, \"#fdca26\"], [1.0, \"#f0f921\"]], \"type\": \"histogram2dcontour\"}], \"mesh3d\": [{\"colorbar\": {\"outlinewidth\": 0, \"ticks\": \"\"}, \"type\": \"mesh3d\"}], \"parcoords\": [{\"line\": {\"colorbar\": {\"outlinewidth\": 0, \"ticks\": \"\"}}, \"type\": \"parcoords\"}], \"pie\": [{\"automargin\": true, \"type\": \"pie\"}], \"scatter\": [{\"marker\": {\"colorbar\": {\"outlinewidth\": 0, \"ticks\": \"\"}}, \"type\": \"scatter\"}], \"scatter3d\": [{\"line\": {\"colorbar\": {\"outlinewidth\": 0, \"ticks\": \"\"}}, \"marker\": {\"colorbar\": {\"outlinewidth\": 0, \"ticks\": \"\"}}, \"type\": \"scatter3d\"}], \"scattercarpet\": [{\"marker\": {\"colorbar\": {\"outlinewidth\": 0, \"ticks\": \"\"}}, \"type\": \"scattercarpet\"}], \"scattergeo\": [{\"marker\": {\"colorbar\": {\"outlinewidth\": 0, \"ticks\": \"\"}}, \"type\": \"scattergeo\"}], \"scattergl\": [{\"marker\": {\"colorbar\": {\"outlinewidth\": 0, \"ticks\": \"\"}}, \"type\": \"scattergl\"}], \"scattermapbox\": [{\"marker\": {\"colorbar\": {\"outlinewidth\": 0, \"ticks\": \"\"}}, \"type\": \"scattermapbox\"}], \"scatterpolar\": [{\"marker\": {\"colorbar\": {\"outlinewidth\": 0, \"ticks\": \"\"}}, \"type\": \"scatterpolar\"}], \"scatterpolargl\": [{\"marker\": {\"colorbar\": {\"outlinewidth\": 0, \"ticks\": \"\"}}, \"type\": \"scatterpolargl\"}], \"scatterternary\": [{\"marker\": {\"colorbar\": {\"outlinewidth\": 0, \"ticks\": \"\"}}, \"type\": \"scatterternary\"}], \"surface\": [{\"colorbar\": {\"outlinewidth\": 0, \"ticks\": \"\"}, \"colorscale\": [[0.0, \"#0d0887\"], [0.1111111111111111, \"#46039f\"], [0.2222222222222222, \"#7201a8\"], [0.3333333333333333, \"#9c179e\"], [0.4444444444444444, \"#bd3786\"], [0.5555555555555556, \"#d8576b\"], [0.6666666666666666, \"#ed7953\"], [0.7777777777777778, \"#fb9f3a\"], [0.8888888888888888, \"#fdca26\"], [1.0, \"#f0f921\"]], \"type\": \"surface\"}], \"table\": [{\"cells\": {\"fill\": {\"color\": \"#EBF0F8\"}, \"line\": {\"color\": \"white\"}}, \"header\": {\"fill\": {\"color\": \"#C8D4E3\"}, \"line\": {\"color\": \"white\"}}, \"type\": \"table\"}]}, \"layout\": {\"annotationdefaults\": {\"arrowcolor\": \"#2a3f5f\", \"arrowhead\": 0, \"arrowwidth\": 1}, \"coloraxis\": {\"colorbar\": {\"outlinewidth\": 0, \"ticks\": \"\"}}, \"colorscale\": {\"diverging\": [[0, \"#8e0152\"], [0.1, \"#c51b7d\"], [0.2, \"#de77ae\"], [0.3, \"#f1b6da\"], [0.4, \"#fde0ef\"], [0.5, \"#f7f7f7\"], [0.6, \"#e6f5d0\"], [0.7, \"#b8e186\"], [0.8, \"#7fbc41\"], [0.9, \"#4d9221\"], [1, \"#276419\"]], \"sequential\": [[0.0, \"#0d0887\"], [0.1111111111111111, \"#46039f\"], [0.2222222222222222, \"#7201a8\"], [0.3333333333333333, \"#9c179e\"], [0.4444444444444444, \"#bd3786\"], [0.5555555555555556, \"#d8576b\"], [0.6666666666666666, \"#ed7953\"], [0.7777777777777778, \"#fb9f3a\"], [0.8888888888888888, \"#fdca26\"], [1.0, \"#f0f921\"]], \"sequentialminus\": [[0.0, \"#0d0887\"], [0.1111111111111111, \"#46039f\"], [0.2222222222222222, \"#7201a8\"], [0.3333333333333333, \"#9c179e\"], [0.4444444444444444, \"#bd3786\"], [0.5555555555555556, \"#d8576b\"], [0.6666666666666666, \"#ed7953\"], [0.7777777777777778, \"#fb9f3a\"], [0.8888888888888888, \"#fdca26\"], [1.0, \"#f0f921\"]]}, \"colorway\": [\"#636efa\", \"#EF553B\", \"#00cc96\", \"#ab63fa\", \"#FFA15A\", \"#19d3f3\", \"#FF6692\", \"#B6E880\", \"#FF97FF\", \"#FECB52\"], \"font\": {\"color\": \"#2a3f5f\"}, \"geo\": {\"bgcolor\": \"white\", \"lakecolor\": \"white\", \"landcolor\": \"#E5ECF6\", \"showlakes\": true, \"showland\": true, \"subunitcolor\": \"white\"}, \"hoverlabel\": {\"align\": \"left\"}, \"hovermode\": \"closest\", \"mapbox\": {\"style\": \"light\"}, \"paper_bgcolor\": \"white\", \"plot_bgcolor\": \"#E5ECF6\", \"polar\": {\"angularaxis\": {\"gridcolor\": \"white\", \"linecolor\": \"white\", \"ticks\": \"\"}, \"bgcolor\": \"#E5ECF6\", \"radialaxis\": {\"gridcolor\": \"white\", \"linecolor\": \"white\", \"ticks\": \"\"}}, \"scene\": {\"xaxis\": {\"backgroundcolor\": \"#E5ECF6\", \"gridcolor\": \"white\", \"gridwidth\": 2, \"linecolor\": \"white\", \"showbackground\": true, \"ticks\": \"\", \"zerolinecolor\": \"white\"}, \"yaxis\": {\"backgroundcolor\": \"#E5ECF6\", \"gridcolor\": \"white\", \"gridwidth\": 2, \"linecolor\": \"white\", \"showbackground\": true, \"ticks\": \"\", \"zerolinecolor\": \"white\"}, \"zaxis\": {\"backgroundcolor\": \"#E5ECF6\", \"gridcolor\": \"white\", \"gridwidth\": 2, \"linecolor\": \"white\", \"showbackground\": true, \"ticks\": \"\", \"zerolinecolor\": \"white\"}}, \"shapedefaults\": {\"line\": {\"color\": \"#2a3f5f\"}}, \"ternary\": {\"aaxis\": {\"gridcolor\": \"white\", \"linecolor\": \"white\", \"ticks\": \"\"}, \"baxis\": {\"gridcolor\": \"white\", \"linecolor\": \"white\", \"ticks\": \"\"}, \"bgcolor\": \"#E5ECF6\", \"caxis\": {\"gridcolor\": \"white\", \"linecolor\": \"white\", \"ticks\": \"\"}}, \"title\": {\"x\": 0.05}, \"xaxis\": {\"automargin\": true, \"gridcolor\": \"white\", \"linecolor\": \"white\", \"ticks\": \"\", \"title\": {\"standoff\": 15}, \"zerolinecolor\": \"white\", \"zerolinewidth\": 2}, \"yaxis\": {\"automargin\": true, \"gridcolor\": \"white\", \"linecolor\": \"white\", \"ticks\": \"\", \"title\": {\"standoff\": 15}, \"zerolinecolor\": \"white\", \"zerolinewidth\": 2}}}, \"xaxis\": {\"anchor\": \"y2\", \"domain\": [0.0, 1.0], \"zeroline\": false}, \"yaxis\": {\"anchor\": \"free\", \"domain\": [0.35, 1], \"position\": 0.0}, \"yaxis2\": {\"anchor\": \"x\", \"domain\": [0, 0.25], \"dtick\": 1, \"showticklabels\": false}},\n",
              "                        {\"responsive\": true}\n",
              "                    ).then(function(){\n",
              "                            \n",
              "var gd = document.getElementById('87252681-c335-4210-898f-8fe741822f64');\n",
              "var x = new MutationObserver(function (mutations, observer) {{\n",
              "        var display = window.getComputedStyle(gd).display;\n",
              "        if (!display || display === 'none') {{\n",
              "            console.log([gd, 'removed!']);\n",
              "            Plotly.purge(gd);\n",
              "            observer.disconnect();\n",
              "        }}\n",
              "}});\n",
              "\n",
              "// Listen for the removal of the full notebook cells\n",
              "var notebookContainer = gd.closest('#notebook-container');\n",
              "if (notebookContainer) {{\n",
              "    x.observe(notebookContainer, {childList: true});\n",
              "}}\n",
              "\n",
              "// Listen for the clearing of the current output cell\n",
              "var outputEl = gd.closest('.output');\n",
              "if (outputEl) {{\n",
              "    x.observe(outputEl, {childList: true});\n",
              "}}\n",
              "\n",
              "                        })\n",
              "                };\n",
              "                \n",
              "            </script>\n",
              "        </div>\n",
              "</body>\n",
              "</html>"
            ]
          },
          "metadata": {
            "tags": []
          }
        }
      ]
    },
    {
      "cell_type": "markdown",
      "metadata": {
        "id": "-iBMmux3bxs1"
      },
      "source": [
        "<img src=\"https://github.com/abkedar/Hands-on-ml-projects/blob/master/sentiment_analysis/images/Sentiment_Analysis_1.png\" alt=\"Measuring the Skewness distribution of Sentiment \" />\n",
        "%%html\n",
        "<a href=\"https://github.com/abkedar/Hands-on-ml-projects/blob/master/sentiment_analysis/images/Sentiment_Analysis_1.png\">Measuring the Skewness distribution of Sentiment</a>"
      ]
    },
    {
      "cell_type": "code",
      "metadata": {
        "colab": {
          "base_uri": "https://localhost:8080/"
        },
        "id": "9bSKRtnobxs2",
        "outputId": "c01f9fd6-9877-4822-aabd-812806a54381"
      },
      "source": [
        "list(df['Sentiment'].value_counts())"
      ],
      "execution_count": 22,
      "outputs": [
        {
          "output_type": "execute_result",
          "data": {
            "text/plain": [
              "[79582, 32927, 27273, 9206, 7072]"
            ]
          },
          "metadata": {
            "tags": []
          },
          "execution_count": 22
        }
      ]
    },
    {
      "cell_type": "code",
      "metadata": {
        "colab": {
          "base_uri": "https://localhost:8080/"
        },
        "id": "7mvkN0iabxs2",
        "outputId": "c4ae5a83-1d8a-4286-8a26-ef7086af71c4"
      },
      "source": [
        "list(df['Sentiment'].unique())"
      ],
      "execution_count": 23,
      "outputs": [
        {
          "output_type": "execute_result",
          "data": {
            "text/plain": [
              "[1, 2, 3, 4, 0]"
            ]
          },
          "metadata": {
            "tags": []
          },
          "execution_count": 23
        }
      ]
    },
    {
      "cell_type": "code",
      "metadata": {
        "colab": {
          "base_uri": "https://localhost:8080/",
          "height": 542
        },
        "id": "PT9tNAuHbxs2",
        "outputId": "1443149e-733c-4f6b-e05a-3a0710c4298b"
      },
      "source": [
        "import plotly.graph_objects as go\n",
        "\n",
        "\n",
        "fig = go.Figure(data=[go.Pie(labels=df.Sentiment.value_counts().index, values=df['Sentiment'].value_counts())])\n",
        "fig.show()"
      ],
      "execution_count": 24,
      "outputs": [
        {
          "output_type": "display_data",
          "data": {
            "text/html": [
              "<html>\n",
              "<head><meta charset=\"utf-8\" /></head>\n",
              "<body>\n",
              "    <div>\n",
              "            <script src=\"https://cdnjs.cloudflare.com/ajax/libs/mathjax/2.7.5/MathJax.js?config=TeX-AMS-MML_SVG\"></script><script type=\"text/javascript\">if (window.MathJax) {MathJax.Hub.Config({SVG: {font: \"STIX-Web\"}});}</script>\n",
              "                <script type=\"text/javascript\">window.PlotlyConfig = {MathJaxConfig: 'local'};</script>\n",
              "        <script src=\"https://cdn.plot.ly/plotly-latest.min.js\"></script>    \n",
              "            <div id=\"4c4c46fa-bc12-482d-9a2f-8d6e0237b167\" class=\"plotly-graph-div\" style=\"height:525px; width:100%;\"></div>\n",
              "            <script type=\"text/javascript\">\n",
              "                \n",
              "                    window.PLOTLYENV=window.PLOTLYENV || {};\n",
              "                    \n",
              "                if (document.getElementById(\"4c4c46fa-bc12-482d-9a2f-8d6e0237b167\")) {\n",
              "                    Plotly.newPlot(\n",
              "                        '4c4c46fa-bc12-482d-9a2f-8d6e0237b167',\n",
              "                        [{\"labels\": [2, 3, 1, 4, 0], \"type\": \"pie\", \"values\": [79582, 32927, 27273, 9206, 7072]}],\n",
              "                        {\"template\": {\"data\": {\"bar\": [{\"error_x\": {\"color\": \"#2a3f5f\"}, \"error_y\": {\"color\": \"#2a3f5f\"}, \"marker\": {\"line\": {\"color\": \"#E5ECF6\", \"width\": 0.5}}, \"type\": \"bar\"}], \"barpolar\": [{\"marker\": {\"line\": {\"color\": \"#E5ECF6\", \"width\": 0.5}}, \"type\": \"barpolar\"}], \"carpet\": [{\"aaxis\": {\"endlinecolor\": \"#2a3f5f\", \"gridcolor\": \"white\", \"linecolor\": \"white\", \"minorgridcolor\": \"white\", \"startlinecolor\": \"#2a3f5f\"}, \"baxis\": {\"endlinecolor\": \"#2a3f5f\", \"gridcolor\": \"white\", \"linecolor\": \"white\", \"minorgridcolor\": \"white\", \"startlinecolor\": \"#2a3f5f\"}, \"type\": \"carpet\"}], \"choropleth\": [{\"colorbar\": {\"outlinewidth\": 0, \"ticks\": \"\"}, \"type\": \"choropleth\"}], \"contour\": [{\"colorbar\": {\"outlinewidth\": 0, \"ticks\": \"\"}, \"colorscale\": [[0.0, \"#0d0887\"], [0.1111111111111111, \"#46039f\"], [0.2222222222222222, \"#7201a8\"], [0.3333333333333333, \"#9c179e\"], [0.4444444444444444, \"#bd3786\"], [0.5555555555555556, \"#d8576b\"], [0.6666666666666666, \"#ed7953\"], [0.7777777777777778, \"#fb9f3a\"], [0.8888888888888888, \"#fdca26\"], [1.0, \"#f0f921\"]], \"type\": \"contour\"}], \"contourcarpet\": [{\"colorbar\": {\"outlinewidth\": 0, \"ticks\": \"\"}, \"type\": \"contourcarpet\"}], \"heatmap\": [{\"colorbar\": {\"outlinewidth\": 0, \"ticks\": \"\"}, \"colorscale\": [[0.0, \"#0d0887\"], [0.1111111111111111, \"#46039f\"], [0.2222222222222222, \"#7201a8\"], [0.3333333333333333, \"#9c179e\"], [0.4444444444444444, \"#bd3786\"], [0.5555555555555556, \"#d8576b\"], [0.6666666666666666, \"#ed7953\"], [0.7777777777777778, \"#fb9f3a\"], [0.8888888888888888, \"#fdca26\"], [1.0, \"#f0f921\"]], \"type\": \"heatmap\"}], \"heatmapgl\": [{\"colorbar\": {\"outlinewidth\": 0, \"ticks\": \"\"}, \"colorscale\": [[0.0, \"#0d0887\"], [0.1111111111111111, \"#46039f\"], [0.2222222222222222, \"#7201a8\"], [0.3333333333333333, \"#9c179e\"], [0.4444444444444444, \"#bd3786\"], [0.5555555555555556, \"#d8576b\"], [0.6666666666666666, \"#ed7953\"], [0.7777777777777778, \"#fb9f3a\"], [0.8888888888888888, \"#fdca26\"], [1.0, \"#f0f921\"]], \"type\": \"heatmapgl\"}], \"histogram\": [{\"marker\": {\"colorbar\": {\"outlinewidth\": 0, \"ticks\": \"\"}}, \"type\": \"histogram\"}], \"histogram2d\": [{\"colorbar\": {\"outlinewidth\": 0, \"ticks\": \"\"}, \"colorscale\": [[0.0, \"#0d0887\"], [0.1111111111111111, \"#46039f\"], [0.2222222222222222, \"#7201a8\"], [0.3333333333333333, \"#9c179e\"], [0.4444444444444444, \"#bd3786\"], [0.5555555555555556, \"#d8576b\"], [0.6666666666666666, \"#ed7953\"], [0.7777777777777778, \"#fb9f3a\"], [0.8888888888888888, \"#fdca26\"], [1.0, \"#f0f921\"]], \"type\": \"histogram2d\"}], \"histogram2dcontour\": [{\"colorbar\": {\"outlinewidth\": 0, \"ticks\": \"\"}, \"colorscale\": [[0.0, \"#0d0887\"], [0.1111111111111111, \"#46039f\"], [0.2222222222222222, \"#7201a8\"], [0.3333333333333333, \"#9c179e\"], [0.4444444444444444, \"#bd3786\"], [0.5555555555555556, \"#d8576b\"], [0.6666666666666666, \"#ed7953\"], [0.7777777777777778, \"#fb9f3a\"], [0.8888888888888888, \"#fdca26\"], [1.0, \"#f0f921\"]], \"type\": \"histogram2dcontour\"}], \"mesh3d\": [{\"colorbar\": {\"outlinewidth\": 0, \"ticks\": \"\"}, \"type\": \"mesh3d\"}], \"parcoords\": [{\"line\": {\"colorbar\": {\"outlinewidth\": 0, \"ticks\": \"\"}}, \"type\": \"parcoords\"}], \"pie\": [{\"automargin\": true, \"type\": \"pie\"}], \"scatter\": [{\"marker\": {\"colorbar\": {\"outlinewidth\": 0, \"ticks\": \"\"}}, \"type\": \"scatter\"}], \"scatter3d\": [{\"line\": {\"colorbar\": {\"outlinewidth\": 0, \"ticks\": \"\"}}, \"marker\": {\"colorbar\": {\"outlinewidth\": 0, \"ticks\": \"\"}}, \"type\": \"scatter3d\"}], \"scattercarpet\": [{\"marker\": {\"colorbar\": {\"outlinewidth\": 0, \"ticks\": \"\"}}, \"type\": \"scattercarpet\"}], \"scattergeo\": [{\"marker\": {\"colorbar\": {\"outlinewidth\": 0, \"ticks\": \"\"}}, \"type\": \"scattergeo\"}], \"scattergl\": [{\"marker\": {\"colorbar\": {\"outlinewidth\": 0, \"ticks\": \"\"}}, \"type\": \"scattergl\"}], \"scattermapbox\": [{\"marker\": {\"colorbar\": {\"outlinewidth\": 0, \"ticks\": \"\"}}, \"type\": \"scattermapbox\"}], \"scatterpolar\": [{\"marker\": {\"colorbar\": {\"outlinewidth\": 0, \"ticks\": \"\"}}, \"type\": \"scatterpolar\"}], \"scatterpolargl\": [{\"marker\": {\"colorbar\": {\"outlinewidth\": 0, \"ticks\": \"\"}}, \"type\": \"scatterpolargl\"}], \"scatterternary\": [{\"marker\": {\"colorbar\": {\"outlinewidth\": 0, \"ticks\": \"\"}}, \"type\": \"scatterternary\"}], \"surface\": [{\"colorbar\": {\"outlinewidth\": 0, \"ticks\": \"\"}, \"colorscale\": [[0.0, \"#0d0887\"], [0.1111111111111111, \"#46039f\"], [0.2222222222222222, \"#7201a8\"], [0.3333333333333333, \"#9c179e\"], [0.4444444444444444, \"#bd3786\"], [0.5555555555555556, \"#d8576b\"], [0.6666666666666666, \"#ed7953\"], [0.7777777777777778, \"#fb9f3a\"], [0.8888888888888888, \"#fdca26\"], [1.0, \"#f0f921\"]], \"type\": \"surface\"}], \"table\": [{\"cells\": {\"fill\": {\"color\": \"#EBF0F8\"}, \"line\": {\"color\": \"white\"}}, \"header\": {\"fill\": {\"color\": \"#C8D4E3\"}, \"line\": {\"color\": \"white\"}}, \"type\": \"table\"}]}, \"layout\": {\"annotationdefaults\": {\"arrowcolor\": \"#2a3f5f\", \"arrowhead\": 0, \"arrowwidth\": 1}, \"coloraxis\": {\"colorbar\": {\"outlinewidth\": 0, \"ticks\": \"\"}}, \"colorscale\": {\"diverging\": [[0, \"#8e0152\"], [0.1, \"#c51b7d\"], [0.2, \"#de77ae\"], [0.3, \"#f1b6da\"], [0.4, \"#fde0ef\"], [0.5, \"#f7f7f7\"], [0.6, \"#e6f5d0\"], [0.7, \"#b8e186\"], [0.8, \"#7fbc41\"], [0.9, \"#4d9221\"], [1, \"#276419\"]], \"sequential\": [[0.0, \"#0d0887\"], [0.1111111111111111, \"#46039f\"], [0.2222222222222222, \"#7201a8\"], [0.3333333333333333, \"#9c179e\"], [0.4444444444444444, \"#bd3786\"], [0.5555555555555556, \"#d8576b\"], [0.6666666666666666, \"#ed7953\"], [0.7777777777777778, \"#fb9f3a\"], [0.8888888888888888, \"#fdca26\"], [1.0, \"#f0f921\"]], \"sequentialminus\": [[0.0, \"#0d0887\"], [0.1111111111111111, \"#46039f\"], [0.2222222222222222, \"#7201a8\"], [0.3333333333333333, \"#9c179e\"], [0.4444444444444444, \"#bd3786\"], [0.5555555555555556, \"#d8576b\"], [0.6666666666666666, \"#ed7953\"], [0.7777777777777778, \"#fb9f3a\"], [0.8888888888888888, \"#fdca26\"], [1.0, \"#f0f921\"]]}, \"colorway\": [\"#636efa\", \"#EF553B\", \"#00cc96\", \"#ab63fa\", \"#FFA15A\", \"#19d3f3\", \"#FF6692\", \"#B6E880\", \"#FF97FF\", \"#FECB52\"], \"font\": {\"color\": \"#2a3f5f\"}, \"geo\": {\"bgcolor\": \"white\", \"lakecolor\": \"white\", \"landcolor\": \"#E5ECF6\", \"showlakes\": true, \"showland\": true, \"subunitcolor\": \"white\"}, \"hoverlabel\": {\"align\": \"left\"}, \"hovermode\": \"closest\", \"mapbox\": {\"style\": \"light\"}, \"paper_bgcolor\": \"white\", \"plot_bgcolor\": \"#E5ECF6\", \"polar\": {\"angularaxis\": {\"gridcolor\": \"white\", \"linecolor\": \"white\", \"ticks\": \"\"}, \"bgcolor\": \"#E5ECF6\", \"radialaxis\": {\"gridcolor\": \"white\", \"linecolor\": \"white\", \"ticks\": \"\"}}, \"scene\": {\"xaxis\": {\"backgroundcolor\": \"#E5ECF6\", \"gridcolor\": \"white\", \"gridwidth\": 2, \"linecolor\": \"white\", \"showbackground\": true, \"ticks\": \"\", \"zerolinecolor\": \"white\"}, \"yaxis\": {\"backgroundcolor\": \"#E5ECF6\", \"gridcolor\": \"white\", \"gridwidth\": 2, \"linecolor\": \"white\", \"showbackground\": true, \"ticks\": \"\", \"zerolinecolor\": \"white\"}, \"zaxis\": {\"backgroundcolor\": \"#E5ECF6\", \"gridcolor\": \"white\", \"gridwidth\": 2, \"linecolor\": \"white\", \"showbackground\": true, \"ticks\": \"\", \"zerolinecolor\": \"white\"}}, \"shapedefaults\": {\"line\": {\"color\": \"#2a3f5f\"}}, \"ternary\": {\"aaxis\": {\"gridcolor\": \"white\", \"linecolor\": \"white\", \"ticks\": \"\"}, \"baxis\": {\"gridcolor\": \"white\", \"linecolor\": \"white\", \"ticks\": \"\"}, \"bgcolor\": \"#E5ECF6\", \"caxis\": {\"gridcolor\": \"white\", \"linecolor\": \"white\", \"ticks\": \"\"}}, \"title\": {\"x\": 0.05}, \"xaxis\": {\"automargin\": true, \"gridcolor\": \"white\", \"linecolor\": \"white\", \"ticks\": \"\", \"title\": {\"standoff\": 15}, \"zerolinecolor\": \"white\", \"zerolinewidth\": 2}, \"yaxis\": {\"automargin\": true, \"gridcolor\": \"white\", \"linecolor\": \"white\", \"ticks\": \"\", \"title\": {\"standoff\": 15}, \"zerolinecolor\": \"white\", \"zerolinewidth\": 2}}}},\n",
              "                        {\"responsive\": true}\n",
              "                    ).then(function(){\n",
              "                            \n",
              "var gd = document.getElementById('4c4c46fa-bc12-482d-9a2f-8d6e0237b167');\n",
              "var x = new MutationObserver(function (mutations, observer) {{\n",
              "        var display = window.getComputedStyle(gd).display;\n",
              "        if (!display || display === 'none') {{\n",
              "            console.log([gd, 'removed!']);\n",
              "            Plotly.purge(gd);\n",
              "            observer.disconnect();\n",
              "        }}\n",
              "}});\n",
              "\n",
              "// Listen for the removal of the full notebook cells\n",
              "var notebookContainer = gd.closest('#notebook-container');\n",
              "if (notebookContainer) {{\n",
              "    x.observe(notebookContainer, {childList: true});\n",
              "}}\n",
              "\n",
              "// Listen for the clearing of the current output cell\n",
              "var outputEl = gd.closest('.output');\n",
              "if (outputEl) {{\n",
              "    x.observe(outputEl, {childList: true});\n",
              "}}\n",
              "\n",
              "                        })\n",
              "                };\n",
              "                \n",
              "            </script>\n",
              "        </div>\n",
              "</body>\n",
              "</html>"
            ]
          },
          "metadata": {
            "tags": []
          }
        }
      ]
    },
    {
      "cell_type": "markdown",
      "metadata": {
        "id": "9Mx_Md6Abxs3"
      },
      "source": [
        "<img src=\"https://github.com/abkedar/Hands-on-ml-projects/blob/master/sentiment_analysis/images/Sentiment_Analysis_2.png\" alt=\"Percentage wise distribution of Sentiments\" />\n",
        "%%html\n",
        "<a href=\"https://github.com/abkedar/Hands-on-ml-projects/blob/master/sentiment_analysis/images/Sentiment_Analysis_2.png\">Percentage wise distribution of Sentiments</a>"
      ]
    },
    {
      "cell_type": "code",
      "metadata": {
        "colab": {
          "base_uri": "https://localhost:8080/",
          "height": 421
        },
        "id": "x5G_hI6Hbxs3",
        "outputId": "2fe3c68a-02cd-4592-8b0d-c252f43545a2"
      },
      "source": [
        "fig,[ax1,ax2]=plt.subplots(nrows=1,ncols=2,figsize=(15,6))\n",
        "\n",
        "for i in df.Sentiment.unique():\n",
        "    a=df.loc[df.Sentiment==i][\"SentenceId\"].value_counts()\n",
        "    sns.kdeplot(a,label=\"sentiment_\"+str(i),ax=ax1)\n",
        "    sns.kdeplot(a,label=\"sentiment_\"+str(i),ax=ax2,cumulative=True)\n",
        "ax1.set_title(\"PDF\")\n",
        "ax2.set_title(\"CDF\")"
      ],
      "execution_count": 25,
      "outputs": [
        {
          "output_type": "execute_result",
          "data": {
            "text/plain": [
              "Text(0.5, 1.0, 'CDF')"
            ]
          },
          "metadata": {
            "tags": []
          },
          "execution_count": 25
        },
        {
          "output_type": "display_data",
          "data": {
            "image/png": "[encoded data removed]",
            "text/plain": [
              "<Figure size 1080x432 with 2 Axes>"
            ]
          },
          "metadata": {
            "tags": [],
            "needs_background": "light"
          }
        }
      ]
    },
    {
      "cell_type": "code",
      "metadata": {
        "id": "BW9BEob1bxs4"
      },
      "source": [
        "# Mean value of pharases\n",
        "means_phrase=[]\n",
        "sentiment=[]\n",
        "for i in df.Sentiment.unique():\n",
        "    sentiment.append(i)\n",
        "    means_phrase.append(df.loc[df.Sentiment==i][\"SentenceId\"].value_counts().mean())\n"
      ],
      "execution_count": 26,
      "outputs": []
    },
    {
      "cell_type": "code",
      "metadata": {
        "colab": {
          "base_uri": "https://localhost:8080/",
          "height": 542
        },
        "id": "T35oxRdpbxs4",
        "outputId": "6470b22a-28b6-4c6e-9ea6-1fff758e80e7"
      },
      "source": [
        "import plotly.graph_objects as go\n",
        "\n",
        "x = ['Product A', 'Product B', 'Product C']\n",
        "y = [0, 1, 2, 3, 4]\n",
        "\n",
        "# Use textposition='auto' for direct text\n",
        "fig = go.Figure(data=[go.Bar(\n",
        "            x=df['Sentiment'].unique(), y=means_phrase,\n",
        "            text=y,\n",
        "            textposition='auto',\n",
        "        )])\n",
        "\n",
        "fig.show()"
      ],
      "execution_count": 27,
      "outputs": [
        {
          "output_type": "display_data",
          "data": {
            "text/html": [
              "<html>\n",
              "<head><meta charset=\"utf-8\" /></head>\n",
              "<body>\n",
              "    <div>\n",
              "            <script src=\"https://cdnjs.cloudflare.com/ajax/libs/mathjax/2.7.5/MathJax.js?config=TeX-AMS-MML_SVG\"></script><script type=\"text/javascript\">if (window.MathJax) {MathJax.Hub.Config({SVG: {font: \"STIX-Web\"}});}</script>\n",
              "                <script type=\"text/javascript\">window.PlotlyConfig = {MathJaxConfig: 'local'};</script>\n",
              "        <script src=\"https://cdn.plot.ly/plotly-latest.min.js\"></script>    \n",
              "            <div id=\"ebbb94f3-41cb-459e-a165-d38612776047\" class=\"plotly-graph-div\" style=\"height:525px; width:100%;\"></div>\n",
              "            <script type=\"text/javascript\">\n",
              "                \n",
              "                    window.PLOTLYENV=window.PLOTLYENV || {};\n",
              "                    \n",
              "                if (document.getElementById(\"ebbb94f3-41cb-459e-a165-d38612776047\")) {\n",
              "                    Plotly.newPlot(\n",
              "                        'ebbb94f3-41cb-459e-a165-d38612776047',\n",
              "                        [{\"text\": [\"0\", \"1\", \"2\", \"3\", \"4\"], \"textposition\": \"auto\", \"type\": \"bar\", \"x\": [1, 2, 3, 4, 0], \"y\": [4.544742542909515, 9.806777572396797, 4.915211225556053, 2.947806596221582, 2.7106170946722883]}],\n",
              "                        {\"template\": {\"data\": {\"bar\": [{\"error_x\": {\"color\": \"#2a3f5f\"}, \"error_y\": {\"color\": \"#2a3f5f\"}, \"marker\": {\"line\": {\"color\": \"#E5ECF6\", \"width\": 0.5}}, \"type\": \"bar\"}], \"barpolar\": [{\"marker\": {\"line\": {\"color\": \"#E5ECF6\", \"width\": 0.5}}, \"type\": \"barpolar\"}], \"carpet\": [{\"aaxis\": {\"endlinecolor\": \"#2a3f5f\", \"gridcolor\": \"white\", \"linecolor\": \"white\", \"minorgridcolor\": \"white\", \"startlinecolor\": \"#2a3f5f\"}, \"baxis\": {\"endlinecolor\": \"#2a3f5f\", \"gridcolor\": \"white\", \"linecolor\": \"white\", \"minorgridcolor\": \"white\", \"startlinecolor\": \"#2a3f5f\"}, \"type\": \"carpet\"}], \"choropleth\": [{\"colorbar\": {\"outlinewidth\": 0, \"ticks\": \"\"}, \"type\": \"choropleth\"}], \"contour\": [{\"colorbar\": {\"outlinewidth\": 0, \"ticks\": \"\"}, \"colorscale\": [[0.0, \"#0d0887\"], [0.1111111111111111, \"#46039f\"], [0.2222222222222222, \"#7201a8\"], [0.3333333333333333, \"#9c179e\"], [0.4444444444444444, \"#bd3786\"], [0.5555555555555556, \"#d8576b\"], [0.6666666666666666, \"#ed7953\"], [0.7777777777777778, \"#fb9f3a\"], [0.8888888888888888, \"#fdca26\"], [1.0, \"#f0f921\"]], \"type\": \"contour\"}], \"contourcarpet\": [{\"colorbar\": {\"outlinewidth\": 0, \"ticks\": \"\"}, \"type\": \"contourcarpet\"}], \"heatmap\": [{\"colorbar\": {\"outlinewidth\": 0, \"ticks\": \"\"}, \"colorscale\": [[0.0, \"#0d0887\"], [0.1111111111111111, \"#46039f\"], [0.2222222222222222, \"#7201a8\"], [0.3333333333333333, \"#9c179e\"], [0.4444444444444444, \"#bd3786\"], [0.5555555555555556, \"#d8576b\"], [0.6666666666666666, \"#ed7953\"], [0.7777777777777778, \"#fb9f3a\"], [0.8888888888888888, \"#fdca26\"], [1.0, \"#f0f921\"]], \"type\": \"heatmap\"}], \"heatmapgl\": [{\"colorbar\": {\"outlinewidth\": 0, \"ticks\": \"\"}, \"colorscale\": [[0.0, \"#0d0887\"], [0.1111111111111111, \"#46039f\"], [0.2222222222222222, \"#7201a8\"], [0.3333333333333333, \"#9c179e\"], [0.4444444444444444, \"#bd3786\"], [0.5555555555555556, \"#d8576b\"], [0.6666666666666666, \"#ed7953\"], [0.7777777777777778, \"#fb9f3a\"], [0.8888888888888888, \"#fdca26\"], [1.0, \"#f0f921\"]], \"type\": \"heatmapgl\"}], \"histogram\": [{\"marker\": {\"colorbar\": {\"outlinewidth\": 0, \"ticks\": \"\"}}, \"type\": \"histogram\"}], \"histogram2d\": [{\"colorbar\": {\"outlinewidth\": 0, \"ticks\": \"\"}, \"colorscale\": [[0.0, \"#0d0887\"], [0.1111111111111111, \"#46039f\"], [0.2222222222222222, \"#7201a8\"], [0.3333333333333333, \"#9c179e\"], [0.4444444444444444, \"#bd3786\"], [0.5555555555555556, \"#d8576b\"], [0.6666666666666666, \"#ed7953\"], [0.7777777777777778, \"#fb9f3a\"], [0.8888888888888888, \"#fdca26\"], [1.0, \"#f0f921\"]], \"type\": \"histogram2d\"}], \"histogram2dcontour\": [{\"colorbar\": {\"outlinewidth\": 0, \"ticks\": \"\"}, \"colorscale\": [[0.0, \"#0d0887\"], [0.1111111111111111, \"#46039f\"], [0.2222222222222222, \"#7201a8\"], [0.3333333333333333, \"#9c179e\"], [0.4444444444444444, \"#bd3786\"], [0.5555555555555556, \"#d8576b\"], [0.6666666666666666, \"#ed7953\"], [0.7777777777777778, \"#fb9f3a\"], [0.8888888888888888, \"#fdca26\"], [1.0, \"#f0f921\"]], \"type\": \"histogram2dcontour\"}], \"mesh3d\": [{\"colorbar\": {\"outlinewidth\": 0, \"ticks\": \"\"}, \"type\": \"mesh3d\"}], \"parcoords\": [{\"line\": {\"colorbar\": {\"outlinewidth\": 0, \"ticks\": \"\"}}, \"type\": \"parcoords\"}], \"pie\": [{\"automargin\": true, \"type\": \"pie\"}], \"scatter\": [{\"marker\": {\"colorbar\": {\"outlinewidth\": 0, \"ticks\": \"\"}}, \"type\": \"scatter\"}], \"scatter3d\": [{\"line\": {\"colorbar\": {\"outlinewidth\": 0, \"ticks\": \"\"}}, \"marker\": {\"colorbar\": {\"outlinewidth\": 0, \"ticks\": \"\"}}, \"type\": \"scatter3d\"}], \"scattercarpet\": [{\"marker\": {\"colorbar\": {\"outlinewidth\": 0, \"ticks\": \"\"}}, \"type\": \"scattercarpet\"}], \"scattergeo\": [{\"marker\": {\"colorbar\": {\"outlinewidth\": 0, \"ticks\": \"\"}}, \"type\": \"scattergeo\"}], \"scattergl\": [{\"marker\": {\"colorbar\": {\"outlinewidth\": 0, \"ticks\": \"\"}}, \"type\": \"scattergl\"}], \"scattermapbox\": [{\"marker\": {\"colorbar\": {\"outlinewidth\": 0, \"ticks\": \"\"}}, \"type\": \"scattermapbox\"}], \"scatterpolar\": [{\"marker\": {\"colorbar\": {\"outlinewidth\": 0, \"ticks\": \"\"}}, \"type\": \"scatterpolar\"}], \"scatterpolargl\": [{\"marker\": {\"colorbar\": {\"outlinewidth\": 0, \"ticks\": \"\"}}, \"type\": \"scatterpolargl\"}], \"scatterternary\": [{\"marker\": {\"colorbar\": {\"outlinewidth\": 0, \"ticks\": \"\"}}, \"type\": \"scatterternary\"}], \"surface\": [{\"colorbar\": {\"outlinewidth\": 0, \"ticks\": \"\"}, \"colorscale\": [[0.0, \"#0d0887\"], [0.1111111111111111, \"#46039f\"], [0.2222222222222222, \"#7201a8\"], [0.3333333333333333, \"#9c179e\"], [0.4444444444444444, \"#bd3786\"], [0.5555555555555556, \"#d8576b\"], [0.6666666666666666, \"#ed7953\"], [0.7777777777777778, \"#fb9f3a\"], [0.8888888888888888, \"#fdca26\"], [1.0, \"#f0f921\"]], \"type\": \"surface\"}], \"table\": [{\"cells\": {\"fill\": {\"color\": \"#EBF0F8\"}, \"line\": {\"color\": \"white\"}}, \"header\": {\"fill\": {\"color\": \"#C8D4E3\"}, \"line\": {\"color\": \"white\"}}, \"type\": \"table\"}]}, \"layout\": {\"annotationdefaults\": {\"arrowcolor\": \"#2a3f5f\", \"arrowhead\": 0, \"arrowwidth\": 1}, \"coloraxis\": {\"colorbar\": {\"outlinewidth\": 0, \"ticks\": \"\"}}, \"colorscale\": {\"diverging\": [[0, \"#8e0152\"], [0.1, \"#c51b7d\"], [0.2, \"#de77ae\"], [0.3, \"#f1b6da\"], [0.4, \"#fde0ef\"], [0.5, \"#f7f7f7\"], [0.6, \"#e6f5d0\"], [0.7, \"#b8e186\"], [0.8, \"#7fbc41\"], [0.9, \"#4d9221\"], [1, \"#276419\"]], \"sequential\": [[0.0, \"#0d0887\"], [0.1111111111111111, \"#46039f\"], [0.2222222222222222, \"#7201a8\"], [0.3333333333333333, \"#9c179e\"], [0.4444444444444444, \"#bd3786\"], [0.5555555555555556, \"#d8576b\"], [0.6666666666666666, \"#ed7953\"], [0.7777777777777778, \"#fb9f3a\"], [0.8888888888888888, \"#fdca26\"], [1.0, \"#f0f921\"]], \"sequentialminus\": [[0.0, \"#0d0887\"], [0.1111111111111111, \"#46039f\"], [0.2222222222222222, \"#7201a8\"], [0.3333333333333333, \"#9c179e\"], [0.4444444444444444, \"#bd3786\"], [0.5555555555555556, \"#d8576b\"], [0.6666666666666666, \"#ed7953\"], [0.7777777777777778, \"#fb9f3a\"], [0.8888888888888888, \"#fdca26\"], [1.0, \"#f0f921\"]]}, \"colorway\": [\"#636efa\", \"#EF553B\", \"#00cc96\", \"#ab63fa\", \"#FFA15A\", \"#19d3f3\", \"#FF6692\", \"#B6E880\", \"#FF97FF\", \"#FECB52\"], \"font\": {\"color\": \"#2a3f5f\"}, \"geo\": {\"bgcolor\": \"white\", \"lakecolor\": \"white\", \"landcolor\": \"#E5ECF6\", \"showlakes\": true, \"showland\": true, \"subunitcolor\": \"white\"}, \"hoverlabel\": {\"align\": \"left\"}, \"hovermode\": \"closest\", \"mapbox\": {\"style\": \"light\"}, \"paper_bgcolor\": \"white\", \"plot_bgcolor\": \"#E5ECF6\", \"polar\": {\"angularaxis\": {\"gridcolor\": \"white\", \"linecolor\": \"white\", \"ticks\": \"\"}, \"bgcolor\": \"#E5ECF6\", \"radialaxis\": {\"gridcolor\": \"white\", \"linecolor\": \"white\", \"ticks\": \"\"}}, \"scene\": {\"xaxis\": {\"backgroundcolor\": \"#E5ECF6\", \"gridcolor\": \"white\", \"gridwidth\": 2, \"linecolor\": \"white\", \"showbackground\": true, \"ticks\": \"\", \"zerolinecolor\": \"white\"}, \"yaxis\": {\"backgroundcolor\": \"#E5ECF6\", \"gridcolor\": \"white\", \"gridwidth\": 2, \"linecolor\": \"white\", \"showbackground\": true, \"ticks\": \"\", \"zerolinecolor\": \"white\"}, \"zaxis\": {\"backgroundcolor\": \"#E5ECF6\", \"gridcolor\": \"white\", \"gridwidth\": 2, \"linecolor\": \"white\", \"showbackground\": true, \"ticks\": \"\", \"zerolinecolor\": \"white\"}}, \"shapedefaults\": {\"line\": {\"color\": \"#2a3f5f\"}}, \"ternary\": {\"aaxis\": {\"gridcolor\": \"white\", \"linecolor\": \"white\", \"ticks\": \"\"}, \"baxis\": {\"gridcolor\": \"white\", \"linecolor\": \"white\", \"ticks\": \"\"}, \"bgcolor\": \"#E5ECF6\", \"caxis\": {\"gridcolor\": \"white\", \"linecolor\": \"white\", \"ticks\": \"\"}}, \"title\": {\"x\": 0.05}, \"xaxis\": {\"automargin\": true, \"gridcolor\": \"white\", \"linecolor\": \"white\", \"ticks\": \"\", \"title\": {\"standoff\": 15}, \"zerolinecolor\": \"white\", \"zerolinewidth\": 2}, \"yaxis\": {\"automargin\": true, \"gridcolor\": \"white\", \"linecolor\": \"white\", \"ticks\": \"\", \"title\": {\"standoff\": 15}, \"zerolinecolor\": \"white\", \"zerolinewidth\": 2}}}},\n",
              "                        {\"responsive\": true}\n",
              "                    ).then(function(){\n",
              "                            \n",
              "var gd = document.getElementById('ebbb94f3-41cb-459e-a165-d38612776047');\n",
              "var x = new MutationObserver(function (mutations, observer) {{\n",
              "        var display = window.getComputedStyle(gd).display;\n",
              "        if (!display || display === 'none') {{\n",
              "            console.log([gd, 'removed!']);\n",
              "            Plotly.purge(gd);\n",
              "            observer.disconnect();\n",
              "        }}\n",
              "}});\n",
              "\n",
              "// Listen for the removal of the full notebook cells\n",
              "var notebookContainer = gd.closest('#notebook-container');\n",
              "if (notebookContainer) {{\n",
              "    x.observe(notebookContainer, {childList: true});\n",
              "}}\n",
              "\n",
              "// Listen for the clearing of the current output cell\n",
              "var outputEl = gd.closest('.output');\n",
              "if (outputEl) {{\n",
              "    x.observe(outputEl, {childList: true});\n",
              "}}\n",
              "\n",
              "                        })\n",
              "                };\n",
              "                \n",
              "            </script>\n",
              "        </div>\n",
              "</body>\n",
              "</html>"
            ]
          },
          "metadata": {
            "tags": []
          }
        }
      ]
    },
    {
      "cell_type": "markdown",
      "metadata": {
        "id": "xHc_uKydbxs5"
      },
      "source": [
        "<img src=\"https://github.com/abkedar/Hands-on-ml-projects/blob/master/sentiment_analysis/images/Sentiment_Analysis_3.png\" alt=\"image info\" />\n",
        "%%html\n",
        "<a href=\"https://github.com/abkedar/Hands-on-ml-projects/blob/master/sentiment_analysis/images/Sentiment_Analysis_3.png\">number of Unique Sentiment dictribution of Phrase</a>"
      ]
    },
    {
      "cell_type": "markdown",
      "metadata": {
        "id": "eJzpbKbcbxs6"
      },
      "source": [
        "## Feature Engineering"
      ]
    },
    {
      "cell_type": "code",
      "metadata": {
        "colab": {
          "base_uri": "https://localhost:8080/"
        },
        "id": "pJdCzeHUbxs6",
        "outputId": "48343fa6-07d6-41d6-9e23-a416bd58b4b9"
      },
      "source": [
        "import nltk\n",
        "import string\n",
        "import warnings\n",
        "nltk.download('stopwords')\n",
        "nltk.download('punkt')\n",
        "from nltk.corpus import stopwords\n",
        "from nltk.tokenize import word_tokenize\n",
        "from nltk.stem import PorterStemmer\n",
        "\n",
        "\n",
        "stem=PorterStemmer()\n",
        "stop_words=set(stopwords.words('english'))\n",
        "warnings.filterwarnings(\"ignore\")"
      ],
      "execution_count": 28,
      "outputs": [
        {
          "output_type": "stream",
          "text": [
            "[nltk_data] Downloading package stopwords to /root/nltk_data...\n",
            "[nltk_data]   Package stopwords is already up-to-date!\n",
            "[nltk_data] Downloading package punkt to /root/nltk_data...\n",
            "[nltk_data]   Package punkt is already up-to-date!\n"
          ],
          "name": "stdout"
        }
      ]
    },
    {
      "cell_type": "code",
      "metadata": {
        "id": "iBcIPct5bxs6"
      },
      "source": [
        "def Feature_engineering_1(text_data):\n",
        "    f1=[len(text) for text in text_data]\n",
        "    f2=[len(text.split()) for text in text_data]\n",
        "    f3=[]\n",
        "    for text in text_data:\n",
        "        words=[word in stop_words for word in text.split()]\n",
        "        f3.append(sum(words))\n",
        "    f4=[]    \n",
        "    for text in text_data:\n",
        "        words=[word in string.punctuation for word in word_tokenize(text)]\n",
        "        f4.append(sum(words))\n",
        "    return f1,f2,f3,f4\n",
        "\n",
        "def Feature_engineering_2(text_data):\n",
        "    f1=[len(text) for text in text_data]\n",
        "    f2=[len(text.split()) for text in text_data]\n",
        "    return f1, f2"
      ],
      "execution_count": 29,
      "outputs": []
    },
    {
      "cell_type": "code",
      "metadata": {
        "id": "sPk6HQi5bxs7"
      },
      "source": [
        "f1,f2,f3,f4=Feature_engineering_1(df.Phrase)\n",
        "df[\"len\"]=f1\n",
        "df[\"num_words\"]=f2\n",
        "df[\"num_stopwords\"]=f3\n",
        "df[\"num_pun\"]=f4"
      ],
      "execution_count": 30,
      "outputs": []
    },
    {
      "cell_type": "code",
      "metadata": {
        "colab": {
          "base_uri": "https://localhost:8080/",
          "height": 195
        },
        "id": "XoEWnczlbxs7",
        "outputId": "3da8f2e5-33d6-46f5-e76d-e7b6e024c301"
      },
      "source": [
        "df.head()"
      ],
      "execution_count": 31,
      "outputs": [
        {
          "output_type": "execute_result",
          "data": {
            "text/html": [
              "<div>\n",
              "<style scoped>\n",
              "    .dataframe tbody tr th:only-of-type {\n",
              "        vertical-align: middle;\n",
              "    }\n",
              "\n",
              "    .dataframe tbody tr th {\n",
              "        vertical-align: top;\n",
              "    }\n",
              "\n",
              "    .dataframe thead th {\n",
              "        text-align: right;\n",
              "    }\n",
              "</style>\n",
              "<table border=\"1\" class=\"dataframe\">\n",
              "  <thead>\n",
              "    <tr style=\"text-align: right;\">\n",
              "      <th></th>\n",
              "      <th>PhraseId</th>\n",
              "      <th>SentenceId</th>\n",
              "      <th>Phrase</th>\n",
              "      <th>Sentiment</th>\n",
              "      <th>len</th>\n",
              "      <th>num_words</th>\n",
              "      <th>num_stopwords</th>\n",
              "      <th>num_pun</th>\n",
              "    </tr>\n",
              "  </thead>\n",
              "  <tbody>\n",
              "    <tr>\n",
              "      <th>0</th>\n",
              "      <td>1</td>\n",
              "      <td>1</td>\n",
              "      <td>A series of escapades demonstrating the adage ...</td>\n",
              "      <td>1</td>\n",
              "      <td>188</td>\n",
              "      <td>37</td>\n",
              "      <td>19</td>\n",
              "      <td>2</td>\n",
              "    </tr>\n",
              "    <tr>\n",
              "      <th>1</th>\n",
              "      <td>2</td>\n",
              "      <td>1</td>\n",
              "      <td>A series of escapades demonstrating the adage ...</td>\n",
              "      <td>2</td>\n",
              "      <td>77</td>\n",
              "      <td>14</td>\n",
              "      <td>7</td>\n",
              "      <td>0</td>\n",
              "    </tr>\n",
              "    <tr>\n",
              "      <th>2</th>\n",
              "      <td>3</td>\n",
              "      <td>1</td>\n",
              "      <td>A series</td>\n",
              "      <td>2</td>\n",
              "      <td>8</td>\n",
              "      <td>2</td>\n",
              "      <td>0</td>\n",
              "      <td>0</td>\n",
              "    </tr>\n",
              "    <tr>\n",
              "      <th>3</th>\n",
              "      <td>4</td>\n",
              "      <td>1</td>\n",
              "      <td>A</td>\n",
              "      <td>2</td>\n",
              "      <td>1</td>\n",
              "      <td>1</td>\n",
              "      <td>0</td>\n",
              "      <td>0</td>\n",
              "    </tr>\n",
              "    <tr>\n",
              "      <th>4</th>\n",
              "      <td>5</td>\n",
              "      <td>1</td>\n",
              "      <td>series</td>\n",
              "      <td>2</td>\n",
              "      <td>6</td>\n",
              "      <td>1</td>\n",
              "      <td>0</td>\n",
              "      <td>0</td>\n",
              "    </tr>\n",
              "  </tbody>\n",
              "</table>\n",
              "</div>"
            ],
            "text/plain": [
              "   PhraseId  SentenceId  ... num_stopwords  num_pun\n",
              "0         1           1  ...            19        2\n",
              "1         2           1  ...             7        0\n",
              "2         3           1  ...             0        0\n",
              "3         4           1  ...             0        0\n",
              "4         5           1  ...             0        0\n",
              "\n",
              "[5 rows x 8 columns]"
            ]
          },
          "metadata": {
            "tags": []
          },
          "execution_count": 31
        }
      ]
    },
    {
      "cell_type": "code",
      "metadata": {
        "id": "eTXdftcHbxs8"
      },
      "source": [
        "def Preprocess(phrase):\n",
        "    #removing the spaces\n",
        "    corpus=[]\n",
        "    for text in phrase:\n",
        "        text=text.lower()\n",
        "        text=text.strip()\n",
        "      #  text=re.sub(r\"n't\",\" not\",text)\n",
        "      #  text=re.sub(r\"n,t\",\" not\",text)\n",
        "        text=\" \".join([stem.stem(i) for i in text.split()])\n",
        "        corpus.append(text)\n",
        "    return corpus"
      ],
      "execution_count": 32,
      "outputs": []
    },
    {
      "cell_type": "markdown",
      "metadata": {
        "id": "aSpLNPeJbxs8"
      },
      "source": [
        "## Predictive Modeling:"
      ]
    },
    {
      "cell_type": "markdown",
      "metadata": {
        "id": "S8PNuSV-bxs9"
      },
      "source": [
        "### CountVectorizer & RandomForest"
      ]
    },
    {
      "cell_type": "code",
      "metadata": {
        "id": "ZdCnmyBIbxs9"
      },
      "source": [
        "from sklearn.model_selection import train_test_split\n",
        "\n",
        "from sklearn.feature_extraction.text import CountVectorizer\n",
        "from sklearn.ensemble import RandomForestClassifier"
      ],
      "execution_count": 33,
      "outputs": []
    },
    {
      "cell_type": "code",
      "metadata": {
        "id": "T-fUaEBZbxs9"
      },
      "source": [
        "X = df.drop(['SentenceId'], axis=1)\n",
        "y = df['Sentiment']\n",
        "X_train, X_test, y_train, y_test = train_test_split(X, y,stratify=y)"
      ],
      "execution_count": 34,
      "outputs": []
    },
    {
      "cell_type": "code",
      "metadata": {
        "colab": {
          "base_uri": "https://localhost:8080/",
          "height": 195
        },
        "id": "eUvrWFlmbxs-",
        "outputId": "c8d368b3-6d31-4db9-bc47-0f784fb97cd6"
      },
      "source": [
        "X_train.head()"
      ],
      "execution_count": 35,
      "outputs": [
        {
          "output_type": "execute_result",
          "data": {
            "text/html": [
              "<div>\n",
              "<style scoped>\n",
              "    .dataframe tbody tr th:only-of-type {\n",
              "        vertical-align: middle;\n",
              "    }\n",
              "\n",
              "    .dataframe tbody tr th {\n",
              "        vertical-align: top;\n",
              "    }\n",
              "\n",
              "    .dataframe thead th {\n",
              "        text-align: right;\n",
              "    }\n",
              "</style>\n",
              "<table border=\"1\" class=\"dataframe\">\n",
              "  <thead>\n",
              "    <tr style=\"text-align: right;\">\n",
              "      <th></th>\n",
              "      <th>PhraseId</th>\n",
              "      <th>Phrase</th>\n",
              "      <th>Sentiment</th>\n",
              "      <th>len</th>\n",
              "      <th>num_words</th>\n",
              "      <th>num_stopwords</th>\n",
              "      <th>num_pun</th>\n",
              "    </tr>\n",
              "  </thead>\n",
              "  <tbody>\n",
              "    <tr>\n",
              "      <th>94556</th>\n",
              "      <td>94557</td>\n",
              "      <td>gabbiest</td>\n",
              "      <td>2</td>\n",
              "      <td>8</td>\n",
              "      <td>1</td>\n",
              "      <td>0</td>\n",
              "      <td>0</td>\n",
              "    </tr>\n",
              "    <tr>\n",
              "      <th>30749</th>\n",
              "      <td>30750</td>\n",
              "      <td>... a sour little movie at its core ; an explo...</td>\n",
              "      <td>1</td>\n",
              "      <td>124</td>\n",
              "      <td>24</td>\n",
              "      <td>10</td>\n",
              "      <td>1</td>\n",
              "    </tr>\n",
              "    <tr>\n",
              "      <th>75613</th>\n",
              "      <td>75614</td>\n",
              "      <td>infusing into the story</td>\n",
              "      <td>2</td>\n",
              "      <td>23</td>\n",
              "      <td>4</td>\n",
              "      <td>2</td>\n",
              "      <td>0</td>\n",
              "    </tr>\n",
              "    <tr>\n",
              "      <th>127844</th>\n",
              "      <td>127845</td>\n",
              "      <td>The Komediant is a tale worth catching .</td>\n",
              "      <td>3</td>\n",
              "      <td>40</td>\n",
              "      <td>8</td>\n",
              "      <td>2</td>\n",
              "      <td>1</td>\n",
              "    </tr>\n",
              "    <tr>\n",
              "      <th>45225</th>\n",
              "      <td>45226</td>\n",
              "      <td>win many fans over the age of 12</td>\n",
              "      <td>2</td>\n",
              "      <td>32</td>\n",
              "      <td>8</td>\n",
              "      <td>3</td>\n",
              "      <td>0</td>\n",
              "    </tr>\n",
              "  </tbody>\n",
              "</table>\n",
              "</div>"
            ],
            "text/plain": [
              "        PhraseId  ... num_pun\n",
              "94556      94557  ...       0\n",
              "30749      30750  ...       1\n",
              "75613      75614  ...       0\n",
              "127844    127845  ...       1\n",
              "45225      45226  ...       0\n",
              "\n",
              "[5 rows x 7 columns]"
            ]
          },
          "metadata": {
            "tags": []
          },
          "execution_count": 35
        }
      ]
    },
    {
      "cell_type": "code",
      "metadata": {
        "colab": {
          "base_uri": "https://localhost:8080/"
        },
        "id": "1xrTkFfYbxs_",
        "outputId": "1bb4e41c-51c5-4416-f04d-c87daff7b115"
      },
      "source": [
        "print(\"The shape of the Training set :\",X_train.shape,y_train.shape)\n",
        "print(\"The shape of the Validation set :\",X_test.shape,y_test.shape)"
      ],
      "execution_count": 36,
      "outputs": [
        {
          "output_type": "stream",
          "text": [
            "The shape of the Training set : (117045, 7) (117045,)\n",
            "The shape of the Validation set : (39015, 7) (39015,)\n"
          ],
          "name": "stdout"
        }
      ]
    },
    {
      "cell_type": "code",
      "metadata": {
        "id": "jIF2BI2Jbxs_"
      },
      "source": [
        "train_text = Preprocess(X_train.Phrase)\n",
        "test_text = Preprocess(X_test.Phrase)"
      ],
      "execution_count": 37,
      "outputs": []
    },
    {
      "cell_type": "code",
      "metadata": {
        "id": "pOCa0cYVbxtA"
      },
      "source": [
        "f1,f2=Feature_engineering_2(train_text)\n",
        "f11,f22=Feature_engineering_2(test_text)\n",
        "X_train[\"f1\"]=f1\n",
        "X_train[\"f2\"]=f2\n",
        "X_test['f1']=f11\n",
        "X_test['f2']=f22"
      ],
      "execution_count": 38,
      "outputs": []
    },
    {
      "cell_type": "markdown",
      "metadata": {
        "id": "OY-YMcdkbxtB"
      },
      "source": [
        "### TfidfVectorizer on Text data"
      ]
    },
    {
      "cell_type": "code",
      "metadata": {
        "id": "EygebhIkbxtB"
      },
      "source": [
        "vectorizer=TfidfVectorizer(stop_words=None,ngram_range=(2,2),max_features=20000)"
      ],
      "execution_count": 39,
      "outputs": []
    },
    {
      "cell_type": "code",
      "metadata": {
        "colab": {
          "base_uri": "https://localhost:8080/"
        },
        "id": "8MhsOugdbxtC",
        "outputId": "a35e0449-5691-4b76-e649-cc1c2f9dfcd1"
      },
      "source": [
        "vectorizer.fit(train_text)"
      ],
      "execution_count": 40,
      "outputs": [
        {
          "output_type": "execute_result",
          "data": {
            "text/plain": [
              "TfidfVectorizer(analyzer='word', binary=False, decode_error='strict',\n",
              "                dtype=<class 'numpy.float64'>, encoding='utf-8',\n",
              "                input='content', lowercase=True, max_df=1.0, max_features=20000,\n",
              "                min_df=1, ngram_range=(1, 3), norm='l2', preprocessor=None,\n",
              "                smooth_idf=True, stop_words=None, strip_accents=None,\n",
              "                sublinear_tf=False, token_pattern='(?u)\\\\b\\\\w\\\\w+\\\\b',\n",
              "                tokenizer=None, use_idf=True, vocabulary=None)"
            ]
          },
          "metadata": {
            "tags": []
          },
          "execution_count": 40
        }
      ]
    },
    {
      "cell_type": "code",
      "metadata": {
        "id": "Ne3foI1UbxtC"
      },
      "source": [
        "train_tf_idf=vectorizer.transform(train_text)\n",
        "test_tf_idf=vectorizer.transform(test_text)"
      ],
      "execution_count": 41,
      "outputs": []
    },
    {
      "cell_type": "markdown",
      "metadata": {
        "id": "aM7GoAZ9bxtD"
      },
      "source": [
        "### stacking the features with the dataset"
      ]
    },
    {
      "cell_type": "code",
      "metadata": {
        "id": "2R9tHmkNbxtD"
      },
      "source": [
        "train_tf_idf=hstack([train_tf_idf,X_train.iloc[:,[-6,-5,-2,-1]].values])\n",
        "test_tf_idf=hstack([test_tf_idf,X_test.iloc[:,[-6,-5,-2,-1]].values])"
      ],
      "execution_count": 42,
      "outputs": []
    },
    {
      "cell_type": "code",
      "metadata": {
        "colab": {
          "base_uri": "https://localhost:8080/"
        },
        "id": "X07lY-gMbxtE",
        "outputId": "64ecd4cd-1900-427d-c47f-d58b4a6255fc"
      },
      "source": [
        "train_tf_idf"
      ],
      "execution_count": 43,
      "outputs": [
        {
          "output_type": "execute_result",
          "data": {
            "text/plain": [
              "<117045x20004 sparse matrix of type '<class 'numpy.float64'>'\n",
              "\twith 1533282 stored elements in COOrdinate format>"
            ]
          },
          "metadata": {
            "tags": []
          },
          "execution_count": 43
        }
      ]
    },
    {
      "cell_type": "code",
      "metadata": {
        "colab": {
          "base_uri": "https://localhost:8080/"
        },
        "id": "iQeAPXisbxtE",
        "outputId": "5e154a83-94b5-4e85-d3dd-ec268ffa2111"
      },
      "source": [
        "model_nb=MultinomialNB()\n",
        "model_nb.fit(train_tf_idf,y_train)\n",
        "y_test_pre=model_nb.predict(test_tf_idf)\n",
        "y_train_pre=model_nb.predict(train_tf_idf)\n",
        "\n",
        "print(\"The accuracy of Training Data :\",accuracy_score(y_train,y_train_pre))\n",
        "print(\"The accuracy of Testing Data :\",accuracy_score(y_test,y_test_pre))"
      ],
      "execution_count": 44,
      "outputs": [
        {
          "output_type": "stream",
          "text": [
            "The accuracy of Training Data : 0.6435046349694562\n",
            "The accuracy of Testing Data : 0.6010252466999871\n"
          ],
          "name": "stdout"
        }
      ]
    },
    {
      "cell_type": "markdown",
      "metadata": {
        "id": "gljBtWCbbxtF"
      },
      "source": [
        "### Prediction using RandomClassifier"
      ]
    },
    {
      "cell_type": "code",
      "metadata": {
        "id": "FAeqFiOqbxtF"
      },
      "source": [
        "from sklearn.ensemble import RandomForestClassifier"
      ],
      "execution_count": 45,
      "outputs": []
    },
    {
      "cell_type": "code",
      "metadata": {
        "id": "HdxawlljbxtF"
      },
      "source": [
        "# implememt BAG OF WORDS\n",
        "countVector = CountVectorizer(ngram_range=(2,2), max_features=100009)\n",
        "#ngram(2,2) means it will combine the 2 words together and assign the value\n",
        "\n",
        "\n",
        "trainDataset = countVector.fit_transform(train_text)"
      ],
      "execution_count": 50,
      "outputs": []
    },
    {
      "cell_type": "code",
      "metadata": {
        "id": "wu_I1G6EbxtG",
        "colab": {
          "base_uri": "https://localhost:8080/"
        },
        "outputId": "760d3e1a-630f-458d-fd02-b3c5074c1073"
      },
      "source": [
        "randomClassifier = RandomForestClassifier(n_estimators=20, criterion='entropy')\n",
        "randomClassifier.fit(trainDataset, y_train)"
      ],
      "execution_count": 51,
      "outputs": [
        {
          "output_type": "execute_result",
          "data": {
            "text/plain": [
              "RandomForestClassifier(bootstrap=True, ccp_alpha=0.0, class_weight=None,\n",
              "                       criterion='entropy', max_depth=None, max_features='auto',\n",
              "                       max_leaf_nodes=None, max_samples=None,\n",
              "                       min_impurity_decrease=0.0, min_impurity_split=None,\n",
              "                       min_samples_leaf=1, min_samples_split=2,\n",
              "                       min_weight_fraction_leaf=0.0, n_estimators=20,\n",
              "                       n_jobs=None, oob_score=False, random_state=None,\n",
              "                       verbose=0, warm_start=False)"
            ]
          },
          "metadata": {
            "tags": []
          },
          "execution_count": 51
        }
      ]
    },
    {
      "cell_type": "code",
      "metadata": {
        "id": "g-cZNaYvbxtG"
      },
      "source": [
        "test_dataset = countVector.transform(test_text)\n",
        "predictions = randomClassifier.predict(test_dataset)"
      ],
      "execution_count": 52,
      "outputs": []
    },
    {
      "cell_type": "code",
      "metadata": {
        "id": "i6RBoEvYbxtG",
        "colab": {
          "base_uri": "https://localhost:8080/"
        },
        "outputId": "ba02eaac-0cb8-4935-e7ac-35848b3232dc"
      },
      "source": [
        "from sklearn.metrics import classification_report, confusion_matrix, accuracy_score\n",
        "\n",
        "matrix = confusion_matrix(y_test, predictions)\n",
        "print(matrix)\n",
        "score = accuracy_score(y_test, predictions)\n",
        "print(score)\n",
        "report = classification_report(y_test, predictions)\n",
        "print(report)"
      ],
      "execution_count": 53,
      "outputs": [
        {
          "output_type": "stream",
          "text": [
            "[[  667   712   370    17     2]\n",
            " [  659  2829  3087   230    13]\n",
            " [  153  1682 16076  1859   125]\n",
            " [   17   218  3650  3513   834]\n",
            " [    3    15   412   972   900]]\n",
            "0.6147635524798154\n",
            "              precision    recall  f1-score   support\n",
            "\n",
            "           0       0.44      0.38      0.41      1768\n",
            "           1       0.52      0.41      0.46      6818\n",
            "           2       0.68      0.81      0.74     19895\n",
            "           3       0.53      0.43      0.47      8232\n",
            "           4       0.48      0.39      0.43      2302\n",
            "\n",
            "    accuracy                           0.61     39015\n",
            "   macro avg       0.53      0.48      0.50     39015\n",
            "weighted avg       0.60      0.61      0.60     39015\n",
            "\n"
          ],
          "name": "stdout"
        }
      ]
    },
    {
      "cell_type": "markdown",
      "metadata": {
        "id": "BEak5-hiRWNu"
      },
      "source": [
        "## Predcitive Modeling using XGBBlassifier and CatBoosClassifier"
      ]
    },
    {
      "cell_type": "code",
      "metadata": {
        "id": "1k3SHrFtbxtH"
      },
      "source": [
        "from xgboost import XGBClassifier\r\n",
        "#from catboost import CatBoostClassifier"
      ],
      "execution_count": 55,
      "outputs": []
    },
    {
      "cell_type": "code",
      "metadata": {
        "colab": {
          "base_uri": "https://localhost:8080/"
        },
        "id": "p2ssKWBQRyRf",
        "outputId": "1b2071f7-07c3-4ece-d451-1a77c89afb6d"
      },
      "source": [
        "max_features_num = [800]\r\n",
        "ngram = [1,2,3,4,5]\r\n",
        "for i in max_features_num:\r\n",
        "    for j in ngram:\r\n",
        "        countvector=CountVectorizer(ngram_range=(j,j),max_features=i)\r\n",
        "        traindataset=countvector.fit_transform(train_text)\r\n",
        "        test_dataset = countvector.transform(test_text)\r\n",
        "\r\n",
        "        xgb = XGBClassifier(random_state =1)\r\n",
        "        xgb.fit(pd.DataFrame(traindataset.todense(), columns=countvector.get_feature_names()),y_train)\r\n",
        "        predictions = xgb.predict(pd.DataFrame(test_dataset.todense(), columns=countvector.get_feature_names()))\r\n",
        "        score=accuracy_score(y_test,predictions)\r\n",
        "        print('max number of features used : {}'.format(i))\r\n",
        "        print('ngram_range ({},{})'.format(j,j))\r\n",
        "        print(score)\r\n",
        "        matrix=confusion_matrix(y_test,predictions)\r\n",
        "        print('confusion matrix : {}'.format(matrix))\r\n",
        "        print('===============================')"
      ],
      "execution_count": 61,
      "outputs": [
        {
          "output_type": "stream",
          "text": [
            "max number of features used : 800\n",
            "ngram_range (1,1)\n",
            "0.5367166474432911\n",
            "confusion matrix : [[   73   214  1320   158     3]\n",
            " [   35   493  5898   385     7]\n",
            " [   12   203 19174   494    12]\n",
            " [    1    94  7008  1080    49]\n",
            " [    0    35  1557   590   120]]\n",
            "===============================\n",
            "max number of features used : 800\n",
            "ngram_range (2,2)\n",
            "0.5159810329360502\n",
            "confusion matrix : [[   29    24  1707     5     3]\n",
            " [    8    82  6703    21     4]\n",
            " [    0    19 19828    39     9]\n",
            " [    0     8  8075   117    32]\n",
            " [    0     2  2174    51    75]]\n",
            "===============================\n",
            "max number of features used : 800\n",
            "ngram_range (3,3)\n",
            "0.5123926694860951\n",
            "confusion matrix : [[   11     6  1744     2     5]\n",
            " [    3    19  6776     6    14]\n",
            " [    0     7 19847    22    19]\n",
            " [    0     0  8150    44    38]\n",
            " [    0     0  2224     8    70]]\n",
            "===============================\n",
            "max number of features used : 800\n",
            "ngram_range (4,4)\n",
            "0.5114699474561066\n",
            "confusion matrix : [[   13     2  1748     2     3]\n",
            " [    3    14  6798     3     0]\n",
            " [    0    15 19867    10     3]\n",
            " [    0     4  8197    21    10]\n",
            " [    0     0  2239    23    40]]\n",
            "===============================\n",
            "max number of features used : 800\n",
            "ngram_range (5,5)\n",
            "0.5108547994361143\n",
            "confusion matrix : [[    7     5  1756     0     0]\n",
            " [    2     6  6810     0     0]\n",
            " [    1     4 19882     7     1]\n",
            " [    0     0  8199    18    15]\n",
            " [    0     0  2275     9    18]]\n",
            "===============================\n"
          ],
          "name": "stdout"
        }
      ]
    },
    {
      "cell_type": "code",
      "metadata": {
        "id": "BNwIWuPPWjM1"
      },
      "source": [
        ""
      ],
      "execution_count": null,
      "outputs": []
    }
  ]
}